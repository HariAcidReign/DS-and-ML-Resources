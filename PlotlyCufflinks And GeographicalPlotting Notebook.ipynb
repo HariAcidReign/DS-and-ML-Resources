{
 "cells": [
  {
   "cell_type": "markdown",
   "metadata": {},
   "source": [
    "* PLOTLY AND CUFFLINKS"
   ]
  },
  {
   "cell_type": "code",
   "execution_count": 28,
   "metadata": {},
   "outputs": [],
   "source": [
    "import pandas as pd\n",
    "import numpy as np\n",
    "%matplotlib inline"
   ]
  },
  {
   "cell_type": "code",
   "execution_count": 29,
   "metadata": {},
   "outputs": [],
   "source": [
    "from plotly import __version__\n",
    "#Plotly is used to create 3D models"
   ]
  },
  {
   "cell_type": "code",
   "execution_count": 30,
   "metadata": {},
   "outputs": [
    {
     "name": "stdout",
     "output_type": "stream",
     "text": [
      "4.4.1\n"
     ]
    }
   ],
   "source": [
    "print(__version__)"
   ]
  },
  {
   "cell_type": "code",
   "execution_count": 31,
   "metadata": {},
   "outputs": [],
   "source": [
    "import cufflinks as cf \n",
    "#Connects plotly to Pandas"
   ]
  },
  {
   "cell_type": "code",
   "execution_count": 32,
   "metadata": {},
   "outputs": [],
   "source": [
    "from plotly.offline import download_plotlyjs,init_notebook_mode,plot,iplot\n",
    "#To use plotly enterprise software offline as localhost"
   ]
  },
  {
   "cell_type": "code",
   "execution_count": 33,
   "metadata": {},
   "outputs": [
    {
     "data": {
      "text/html": [
       "        <script type=\"text/javascript\">\n",
       "        window.PlotlyConfig = {MathJaxConfig: 'local'};\n",
       "        if (window.MathJax) {MathJax.Hub.Config({SVG: {font: \"STIX-Web\"}});}\n",
       "        if (typeof require !== 'undefined') {\n",
       "        require.undef(\"plotly\");\n",
       "        requirejs.config({\n",
       "            paths: {\n",
       "                'plotly': ['https://cdn.plot.ly/plotly-latest.min']\n",
       "            }\n",
       "        });\n",
       "        require(['plotly'], function(Plotly) {\n",
       "            window._Plotly = Plotly;\n",
       "        });\n",
       "        }\n",
       "        </script>\n",
       "        "
      ]
     },
     "metadata": {},
     "output_type": "display_data"
    }
   ],
   "source": [
    "init_notebook_mode(connected = True) #Connects notebook to Javascript"
   ]
  },
  {
   "cell_type": "code",
   "execution_count": 34,
   "metadata": {},
   "outputs": [
    {
     "data": {
      "text/html": [
       "        <script type=\"text/javascript\">\n",
       "        window.PlotlyConfig = {MathJaxConfig: 'local'};\n",
       "        if (window.MathJax) {MathJax.Hub.Config({SVG: {font: \"STIX-Web\"}});}\n",
       "        if (typeof require !== 'undefined') {\n",
       "        require.undef(\"plotly\");\n",
       "        requirejs.config({\n",
       "            paths: {\n",
       "                'plotly': ['https://cdn.plot.ly/plotly-latest.min']\n",
       "            }\n",
       "        });\n",
       "        require(['plotly'], function(Plotly) {\n",
       "            window._Plotly = Plotly;\n",
       "        });\n",
       "        }\n",
       "        </script>\n",
       "        "
      ]
     },
     "metadata": {},
     "output_type": "display_data"
    }
   ],
   "source": [
    "cf.go_offline() #Use cufflinks offline"
   ]
  },
  {
   "cell_type": "code",
   "execution_count": 35,
   "metadata": {},
   "outputs": [],
   "source": [
    "df = pd.DataFrame(np.random.randn(100,4),columns='A B C D'.split()) #Create 100rows x 4cols with random numbers"
   ]
  },
  {
   "cell_type": "code",
   "execution_count": 36,
   "metadata": {},
   "outputs": [
    {
     "data": {
      "text/html": [
       "<div>\n",
       "<style scoped>\n",
       "    .dataframe tbody tr th:only-of-type {\n",
       "        vertical-align: middle;\n",
       "    }\n",
       "\n",
       "    .dataframe tbody tr th {\n",
       "        vertical-align: top;\n",
       "    }\n",
       "\n",
       "    .dataframe thead th {\n",
       "        text-align: right;\n",
       "    }\n",
       "</style>\n",
       "<table border=\"1\" class=\"dataframe\">\n",
       "  <thead>\n",
       "    <tr style=\"text-align: right;\">\n",
       "      <th></th>\n",
       "      <th>A</th>\n",
       "      <th>B</th>\n",
       "      <th>C</th>\n",
       "      <th>D</th>\n",
       "    </tr>\n",
       "  </thead>\n",
       "  <tbody>\n",
       "    <tr>\n",
       "      <td>0</td>\n",
       "      <td>1.416594</td>\n",
       "      <td>-1.784099</td>\n",
       "      <td>-0.596712</td>\n",
       "      <td>0.607925</td>\n",
       "    </tr>\n",
       "    <tr>\n",
       "      <td>1</td>\n",
       "      <td>-0.147384</td>\n",
       "      <td>2.171245</td>\n",
       "      <td>0.853239</td>\n",
       "      <td>-0.767309</td>\n",
       "    </tr>\n",
       "    <tr>\n",
       "      <td>2</td>\n",
       "      <td>-1.784480</td>\n",
       "      <td>0.681435</td>\n",
       "      <td>1.667209</td>\n",
       "      <td>2.791800</td>\n",
       "    </tr>\n",
       "    <tr>\n",
       "      <td>3</td>\n",
       "      <td>1.091694</td>\n",
       "      <td>1.691505</td>\n",
       "      <td>-0.003760</td>\n",
       "      <td>1.531391</td>\n",
       "    </tr>\n",
       "    <tr>\n",
       "      <td>4</td>\n",
       "      <td>0.869031</td>\n",
       "      <td>0.184816</td>\n",
       "      <td>-0.907183</td>\n",
       "      <td>-1.434545</td>\n",
       "    </tr>\n",
       "  </tbody>\n",
       "</table>\n",
       "</div>"
      ],
      "text/plain": [
       "          A         B         C         D\n",
       "0  1.416594 -1.784099 -0.596712  0.607925\n",
       "1 -0.147384  2.171245  0.853239 -0.767309\n",
       "2 -1.784480  0.681435  1.667209  2.791800\n",
       "3  1.091694  1.691505 -0.003760  1.531391\n",
       "4  0.869031  0.184816 -0.907183 -1.434545"
      ]
     },
     "execution_count": 36,
     "metadata": {},
     "output_type": "execute_result"
    }
   ],
   "source": [
    "df.head()"
   ]
  },
  {
   "cell_type": "code",
   "execution_count": 37,
   "metadata": {},
   "outputs": [],
   "source": [
    "df2 = pd.DataFrame({'Category':['A','B','C'],'Values':[32,43,50]})"
   ]
  },
  {
   "cell_type": "code",
   "execution_count": 38,
   "metadata": {},
   "outputs": [
    {
     "data": {
      "text/html": [
       "<div>\n",
       "<style scoped>\n",
       "    .dataframe tbody tr th:only-of-type {\n",
       "        vertical-align: middle;\n",
       "    }\n",
       "\n",
       "    .dataframe tbody tr th {\n",
       "        vertical-align: top;\n",
       "    }\n",
       "\n",
       "    .dataframe thead th {\n",
       "        text-align: right;\n",
       "    }\n",
       "</style>\n",
       "<table border=\"1\" class=\"dataframe\">\n",
       "  <thead>\n",
       "    <tr style=\"text-align: right;\">\n",
       "      <th></th>\n",
       "      <th>Category</th>\n",
       "      <th>Values</th>\n",
       "    </tr>\n",
       "  </thead>\n",
       "  <tbody>\n",
       "    <tr>\n",
       "      <td>0</td>\n",
       "      <td>A</td>\n",
       "      <td>32</td>\n",
       "    </tr>\n",
       "    <tr>\n",
       "      <td>1</td>\n",
       "      <td>B</td>\n",
       "      <td>43</td>\n",
       "    </tr>\n",
       "    <tr>\n",
       "      <td>2</td>\n",
       "      <td>C</td>\n",
       "      <td>50</td>\n",
       "    </tr>\n",
       "  </tbody>\n",
       "</table>\n",
       "</div>"
      ],
      "text/plain": [
       "  Category  Values\n",
       "0        A      32\n",
       "1        B      43\n",
       "2        C      50"
      ]
     },
     "execution_count": 38,
     "metadata": {},
     "output_type": "execute_result"
    }
   ],
   "source": [
    "df2"
   ]
  },
  {
   "cell_type": "code",
   "execution_count": 39,
   "metadata": {},
   "outputs": [
    {
     "data": {
      "text/plain": [
       "<matplotlib.axes._subplots.AxesSubplot at 0x2562e628148>"
      ]
     },
     "execution_count": 39,
     "metadata": {},
     "output_type": "execute_result"
    },
    {
     "data": {
      "image/png": "[encoded data removed]",
      "text/plain": [
       "<Figure size 432x288 with 1 Axes>"
      ]
     },
     "metadata": {
      "needs_background": "light"
     },
     "output_type": "display_data"
    }
   ],
   "source": [
    "df.plot()"
   ]
  },
  {
   "cell_type": "code",
   "execution_count": 40,
   "metadata": {},
   "outputs": [
    {
     "data": {
      "application/vnd.plotly.v1+json": {
       "config": {
        "linkText": "Export to plot.ly",
        "plotlyServerURL": "https://plot.ly",
        "showLink": true
       },
       "data": [
        {
         "line": {
          "color": "rgba(255, 153, 51, 1.0)",
          "dash": "solid",
          "shape": "linear",
          "width": 1.3
         },
         "mode": "lines",
         "name": "A",
         "text": "",
         "type": "scatter",
         "x": [
          0,
          1,
          2,
          3,
          4,
          5,
          6,
          7,
          8,
          9,
          10,
          11,
          12,
          13,
          14,
          15,
          16,
          17,
          18,
          19,
          20,
          21,
          22,
          23,
          24,
          25,
          26,
          27,
          28,
          29,
          30,
          31,
          32,
          33,
          34,
          35,
          36,
          37,
          38,
          39,
          40,
          41,
          42,
          43,
          44,
          45,
          46,
          47,
          48,
          49,
          50,
          51,
          52,
          53,
          54,
          55,
          56,
          57,
          58,
          59,
          60,
          61,
          62,
          63,
          64,
          65,
          66,
          67,
          68,
          69,
          70,
          71,
          72,
          73,
          74,
          75,
          76,
          77,
          78,
          79,
          80,
          81,
          82,
          83,
          84,
          85,
          86,
          87,
          88,
          89,
          90,
          91,
          92,
          93,
          94,
          95,
          96,
          97,
          98,
          99
         ],
         "y": [
          1.416593517660878,
          -0.14738395566749896,
          -1.7844796810424377,
          1.0916939562052876,
          0.8690310862451806,
          -0.9130881968676815,
          0.999815987739978,
          0.20249872319987558,
          0.6651541347542538,
          1.5904328259462475,
          0.9224191664291218,
          -0.18016206629497075,
          1.134944336265271,
          -0.19204911602866678,
          -0.7725701660993973,
          0.10063744605008441,
          0.10714591412949345,
          -0.42221541400028717,
          -0.8403776497203891,
          -0.34062561748689635,
          -0.9319306418128855,
          -2.7047515845412606,
          0.008464414016829484,
          -0.24679681716914537,
          -0.8891064856373092,
          -0.0976902393419508,
          2.0554795131481236,
          1.140205355254008,
          -1.3222237382657935,
          1.2972526054749431,
          1.2723501043391907,
          -1.0402921253786834,
          0.08975397544334109,
          -0.7211196617732506,
          0.46079850518443477,
          -0.0035295707984208287,
          -1.6680052301548915,
          0.39593916411591684,
          -0.036736725525066675,
          -0.18708565303207123,
          0.4090337394442913,
          -0.11516336115305838,
          -2.1023287946207225,
          0.7145964193033464,
          0.8992939935517598,
          -1.1066813776882152,
          -0.8429684555863061,
          0.8641921006942638,
          -0.5073841845450361,
          -0.8566073764635567,
          -0.26835127760692934,
          -1.2592951714357608,
          -0.880020854779105,
          1.3836949417430615,
          -0.8108977849120101,
          0.4561661807281345,
          0.004415115029279976,
          0.03828165518747515,
          -0.10676227658460166,
          1.028572156444397,
          -0.28421897250220285,
          0.8849806821994682,
          1.4380095987100332,
          -0.8877395811176105,
          1.228816832515203,
          0.7564202279095027,
          -0.2625169494179067,
          1.013996267722401,
          -0.4081800018537628,
          1.0211977886508627,
          0.7767951727052528,
          0.2911188894392512,
          -1.730474681675736,
          0.32841643489202166,
          0.07140028981004318,
          1.0689025968967223,
          -1.9049709066817657,
          -0.5405171578578922,
          -0.47397936749667924,
          -0.7220304917111585,
          -0.43499570927661463,
          -1.076760505534362,
          -2.851530141907224,
          -0.3583158919767544,
          -1.5432561099522224,
          -0.8784881122522841,
          -1.9603084686379697,
          -0.5885186370713009,
          1.5997148736849103,
          0.024734175690217294,
          0.07809005053066699,
          1.667352773288952,
          -1.287735836010282,
          -0.5990499600750134,
          0.10309793710856048,
          0.6049082987598869,
          0.22668443288025425,
          -0.4085805437783098,
          0.7047569911056685,
          -0.0058223868182907396
         ]
        },
        {
         "line": {
          "color": "rgba(55, 128, 191, 1.0)",
          "dash": "solid",
          "shape": "linear",
          "width": 1.3
         },
         "mode": "lines",
         "name": "B",
         "text": "",
         "type": "scatter",
         "x": [
          0,
          1,
          2,
          3,
          4,
          5,
          6,
          7,
          8,
          9,
          10,
          11,
          12,
          13,
          14,
          15,
          16,
          17,
          18,
          19,
          20,
          21,
          22,
          23,
          24,
          25,
          26,
          27,
          28,
          29,
          30,
          31,
          32,
          33,
          34,
          35,
          36,
          37,
          38,
          39,
          40,
          41,
          42,
          43,
          44,
          45,
          46,
          47,
          48,
          49,
          50,
          51,
          52,
          53,
          54,
          55,
          56,
          57,
          58,
          59,
          60,
          61,
          62,
          63,
          64,
          65,
          66,
          67,
          68,
          69,
          70,
          71,
          72,
          73,
          74,
          75,
          76,
          77,
          78,
          79,
          80,
          81,
          82,
          83,
          84,
          85,
          86,
          87,
          88,
          89,
          90,
          91,
          92,
          93,
          94,
          95,
          96,
          97,
          98,
          99
         ],
         "y": [
          -1.784098720340015,
          2.171244510657171,
          0.6814350497909425,
          1.6915046033363401,
          0.18481649594853616,
          1.3717132391682432,
          -1.2275847765325325,
          0.1377905244967582,
          -1.1480009457520386,
          0.26162442648712664,
          -0.3949869957178582,
          -1.4968385199265781,
          -1.2882205677288796,
          0.734932556612695,
          1.2232971975351834,
          -0.593392211027469,
          -1.0654669938822041,
          -0.3571674089948739,
          -0.13876162829474128,
          -0.2895293494986774,
          -0.48357022428835184,
          -1.3885923462518266,
          -0.5237646877578167,
          1.3060138012560842,
          0.25660307311615027,
          -0.8203047424592492,
          -0.4923162655865527,
          -0.4845844995598301,
          1.1978422826877433,
          2.0998690486150426,
          1.01936669685555,
          -0.3386138535811944,
          -1.482145713226032,
          2.2072307943488627,
          0.7211135696527582,
          -1.8947101869608063,
          -1.6555186146259382,
          0.6664471016106729,
          0.6579972725992663,
          0.26733180131832407,
          0.8914121897579306,
          -0.5502327140222424,
          -0.7035046554239406,
          -0.9461377411810604,
          -0.6001142874070964,
          0.02870046019532282,
          -1.7907167802754105,
          1.3897741383929765,
          -0.016268510422112355,
          0.5663514625633824,
          1.9999017682580833,
          1.6601667123454453,
          0.6815372328213235,
          -0.8400593255846813,
          1.11322310825198,
          0.6606722621695404,
          0.4375288477222289,
          -0.23405318147746282,
          0.5886108970417825,
          -0.33299951352436286,
          -0.40185930102225387,
          -0.6635188196620705,
          0.07704697176714438,
          -0.9213946986355144,
          -0.9831820012034149,
          0.7946699447595283,
          -0.9991701796154964,
          0.2815538007953517,
          0.174998690858209,
          0.8837798626530278,
          0.9032875954210857,
          0.24055208121983598,
          0.5922894036824274,
          -1.2661514687988389,
          -0.8809610852153962,
          -0.12528969601901807,
          0.6211367105295839,
          0.13636933563037099,
          0.5931900126435424,
          -1.4967044610569924,
          0.5340581219643343,
          0.3514056027479767,
          0.4863662132233159,
          0.24581933733395622,
          -2.059486231643359,
          -0.6300296950748387,
          0.44013425063156586,
          0.4473713899152323,
          -0.00047627043586563036,
          0.2657031815297724,
          2.201413247661273,
          -0.9173536467289062,
          -0.8332408625755586,
          -1.0151245854973656,
          0.14016786526148148,
          0.5585536889690439,
          -0.44476215618074133,
          -0.4413464723748191,
          -0.3494357165693916,
          -1.0018284495680674
         ]
        },
        {
         "line": {
          "color": "rgba(50, 171, 96, 1.0)",
          "dash": "solid",
          "shape": "linear",
          "width": 1.3
         },
         "mode": "lines",
         "name": "C",
         "text": "",
         "type": "scatter",
         "x": [
          0,
          1,
          2,
          3,
          4,
          5,
          6,
          7,
          8,
          9,
          10,
          11,
          12,
          13,
          14,
          15,
          16,
          17,
          18,
          19,
          20,
          21,
          22,
          23,
          24,
          25,
          26,
          27,
          28,
          29,
          30,
          31,
          32,
          33,
          34,
          35,
          36,
          37,
          38,
          39,
          40,
          41,
          42,
          43,
          44,
          45,
          46,
          47,
          48,
          49,
          50,
          51,
          52,
          53,
          54,
          55,
          56,
          57,
          58,
          59,
          60,
          61,
          62,
          63,
          64,
          65,
          66,
          67,
          68,
          69,
          70,
          71,
          72,
          73,
          74,
          75,
          76,
          77,
          78,
          79,
          80,
          81,
          82,
          83,
          84,
          85,
          86,
          87,
          88,
          89,
          90,
          91,
          92,
          93,
          94,
          95,
          96,
          97,
          98,
          99
         ],
         "y": [
          -0.5967119098197226,
          0.853238764026366,
          1.6672094843438492,
          -0.0037601992873524037,
          -0.9071834782154601,
          1.883690558450849,
          -2.106354563045812,
          -1.2168484036552596,
          0.17255626813792466,
          1.0582852945687178,
          1.3952429242549573,
          0.07227254577092632,
          -0.4195317892628768,
          0.3148586861350653,
          0.17138607027311709,
          0.979523061893303,
          1.0170253940983998,
          -0.31540535624226623,
          -0.1771259277074585,
          1.0509795019188313,
          0.4027836644340148,
          -0.10335933258826242,
          -0.7935237694439741,
          0.2929342298614919,
          2.156830774988516,
          0.30115733682483886,
          2.0883112687994463,
          -0.9278018279636102,
          0.1274690526763963,
          -0.7019996573220373,
          0.1499739530535481,
          -1.0036591424346843,
          -2.800423325047921,
          1.3353677753307296,
          0.5034117514155685,
          0.2570665310706626,
          -1.1518065065844245,
          -0.4729507221586094,
          1.672213002084143,
          -1.2363872849124302,
          0.012105592964178779,
          -1.493747478456467,
          0.1952640284715851,
          -0.7848860869658573,
          0.02009202740699355,
          0.07135868247529763,
          -0.7884840153246424,
          0.01814514012957843,
          0.2146823765491746,
          -1.0675674116210412,
          0.8544589019211002,
          -0.5989615235683363,
          -0.46581180378221787,
          0.6152601748855848,
          0.7692237912289807,
          -0.4420183379256885,
          -1.6959042945833291,
          0.08343248358165806,
          -0.2945583821376016,
          0.6063342583506851,
          -0.5887858952909739,
          0.13694788409010514,
          -1.2424969811602868,
          -0.5239490868519974,
          1.1956002105011092,
          1.084099517593647,
          0.7610297699914984,
          0.15656489162299303,
          -1.3256041858993401,
          0.6332892520923301,
          -0.9439011838970643,
          0.19397551161246512,
          -0.564838581449026,
          0.6443860682633141,
          -0.00950007628578957,
          1.059583505527082,
          1.3659520311143776,
          -1.7341794280109315,
          0.3817222401871636,
          0.20508286240366627,
          -0.30652983613662893,
          1.1586328857965569,
          -0.24000038468347007,
          0.5057631958197074,
          -0.6101763309802465,
          0.7182084359558547,
          0.1162004892642478,
          0.20904716578240504,
          -2.1276348152551523,
          -0.20780572655946458,
          -0.260592364108929,
          -0.580124951761244,
          1.8107866238776256,
          1.2067337473203945,
          0.9661438170829647,
          0.778797568299232,
          -1.4437124946541433,
          1.4058055726143668,
          1.6464512148069346,
          1.5567465741174473
         ]
        },
        {
         "line": {
          "color": "rgba(128, 0, 128, 1.0)",
          "dash": "solid",
          "shape": "linear",
          "width": 1.3
         },
         "mode": "lines",
         "name": "D",
         "text": "",
         "type": "scatter",
         "x": [
          0,
          1,
          2,
          3,
          4,
          5,
          6,
          7,
          8,
          9,
          10,
          11,
          12,
          13,
          14,
          15,
          16,
          17,
          18,
          19,
          20,
          21,
          22,
          23,
          24,
          25,
          26,
          27,
          28,
          29,
          30,
          31,
          32,
          33,
          34,
          35,
          36,
          37,
          38,
          39,
          40,
          41,
          42,
          43,
          44,
          45,
          46,
          47,
          48,
          49,
          50,
          51,
          52,
          53,
          54,
          55,
          56,
          57,
          58,
          59,
          60,
          61,
          62,
          63,
          64,
          65,
          66,
          67,
          68,
          69,
          70,
          71,
          72,
          73,
          74,
          75,
          76,
          77,
          78,
          79,
          80,
          81,
          82,
          83,
          84,
          85,
          86,
          87,
          88,
          89,
          90,
          91,
          92,
          93,
          94,
          95,
          96,
          97,
          98,
          99
         ],
         "y": [
          0.6079252288271123,
          -0.7673086708362776,
          2.7918004888249155,
          1.5313914625222045,
          -1.4345453782854332,
          -1.0437865151846786,
          0.19847176529920577,
          1.3862446579489935,
          -0.35138062753487304,
          0.03719432201318422,
          -1.7616253778540005,
          2.3407054624379846,
          -0.2000097595989267,
          0.7669854014325037,
          0.11298294909977,
          0.046858080065504425,
          -0.18120895485222938,
          0.7695550229775915,
          0.15511077522056577,
          -0.9108953777606292,
          0.6377005270907216,
          -1.6068124460140327,
          1.845840177929854,
          -1.1052126634256259,
          -1.6451598313262024,
          1.0953926667391707,
          -2.6811855828962696,
          -0.24426026935419365,
          -0.6820128828581605,
          0.3608787094224027,
          -0.0764345595001479,
          0.3088811741935369,
          -0.329408490492265,
          1.4464185545662458,
          -2.0128086971620927,
          0.08825858728083487,
          -0.168682137332262,
          2.065928188589186,
          -1.6017962278561868,
          -1.5312993522830245,
          -0.03945107251970846,
          -0.6733129013460523,
          -0.6076787744094737,
          1.6360672041399968,
          0.48494877078027687,
          0.01323259657886119,
          1.4328584127569208,
          -1.6683257498452444,
          -0.8829926821113253,
          -0.09166483027086167,
          -3.080415218787863,
          -0.8472046953264905,
          -0.049951322488767644,
          -0.6759172855350523,
          0.2810806490503662,
          0.07703330630025013,
          1.7316185845049246,
          0.5755896592654809,
          0.7732777600729397,
          -0.5761818253061513,
          -0.5662697882027303,
          -1.284520760769256,
          0.41915185995351933,
          0.4516275355752908,
          0.10016374487909058,
          -0.589883708770861,
          -0.425278673747093,
          -0.7888957909839527,
          0.5080520587703382,
          -0.14777685657714393,
          0.19389746683109096,
          -0.1863775839392197,
          3.826662212990111,
          1.7942084045458413,
          -1.346814767384748,
          -1.1375499897392416,
          0.48098246076773254,
          -1.2442890043073742,
          0.006054537387323956,
          0.7079016296857916,
          0.9850833750736986,
          -0.3163365229351439,
          -0.4816814896722392,
          -0.04785840952576833,
          -0.5514694996254651,
          1.0549941504273481,
          1.1669241949067033,
          -0.29010413031084936,
          -0.5107131029812131,
          -0.9299722618442059,
          0.40261878264672124,
          -1.1679406337745477,
          0.5435855253429999,
          -1.19777229520187,
          1.3514454837032996,
          -0.3965259735689329,
          0.17952127104730956,
          -0.3082954895460292,
          0.2721710338721595,
          -1.1620535089156803
         ]
        }
       ],
       "layout": {
        "legend": {
         "bgcolor": "#F5F6F9",
         "font": {
          "color": "#4D5663"
         }
        },
        "paper_bgcolor": "#F5F6F9",
        "plot_bgcolor": "#F5F6F9",
        "template": {
         "data": {
          "bar": [
           {
            "error_x": {
             "color": "#2a3f5f"
            },
            "error_y": {
             "color": "#2a3f5f"
            },
            "marker": {
             "line": {
              "color": "#E5ECF6",
              "width": 0.5
             }
            },
            "type": "bar"
           }
          ],
          "barpolar": [
           {
            "marker": {
             "line": {
              "color": "#E5ECF6",
              "width": 0.5
             }
            },
            "type": "barpolar"
           }
          ],
          "carpet": [
           {
            "aaxis": {
             "endlinecolor": "#2a3f5f",
             "gridcolor": "white",
             "linecolor": "white",
             "minorgridcolor": "white",
             "startlinecolor": "#2a3f5f"
            },
            "baxis": {
             "endlinecolor": "#2a3f5f",
             "gridcolor": "white",
             "linecolor": "white",
             "minorgridcolor": "white",
             "startlinecolor": "#2a3f5f"
            },
            "type": "carpet"
           }
          ],
          "choropleth": [
           {
            "colorbar": {
             "outlinewidth": 0,
             "ticks": ""
            },
            "type": "choropleth"
           }
          ],
          "contour": [
           {
            "colorbar": {
             "outlinewidth": 0,
             "ticks": ""
            },
            "colorscale": [
             [
              0,
              "#0d0887"
             ],
             [
              0.1111111111111111,
              "#46039f"
             ],
             [
              0.2222222222222222,
              "#7201a8"
             ],
             [
              0.3333333333333333,
              "#9c179e"
             ],
             [
              0.4444444444444444,
              "#bd3786"
             ],
             [
              0.5555555555555556,
              "#d8576b"
             ],
             [
              0.6666666666666666,
              "#ed7953"
             ],
             [
              0.7777777777777778,
              "#fb9f3a"
             ],
             [
              0.8888888888888888,
              "#fdca26"
             ],
             [
              1,
              "#f0f921"
             ]
            ],
            "type": "contour"
           }
          ],
          "contourcarpet": [
           {
            "colorbar": {
             "outlinewidth": 0,
             "ticks": ""
            },
            "type": "contourcarpet"
           }
          ],
          "heatmap": [
           {
            "colorbar": {
             "outlinewidth": 0,
             "ticks": ""
            },
            "colorscale": [
             [
              0,
              "#0d0887"
             ],
             [
              0.1111111111111111,
              "#46039f"
             ],
             [
              0.2222222222222222,
              "#7201a8"
             ],
             [
              0.3333333333333333,
              "#9c179e"
             ],
             [
              0.4444444444444444,
              "#bd3786"
             ],
             [
              0.5555555555555556,
              "#d8576b"
             ],
             [
              0.6666666666666666,
              "#ed7953"
             ],
             [
              0.7777777777777778,
              "#fb9f3a"
             ],
             [
              0.8888888888888888,
              "#fdca26"
             ],
             [
              1,
              "#f0f921"
             ]
            ],
            "type": "heatmap"
           }
          ],
          "heatmapgl": [
           {
            "colorbar": {
             "outlinewidth": 0,
             "ticks": ""
            },
            "colorscale": [
             [
              0,
              "#0d0887"
             ],
             [
              0.1111111111111111,
              "#46039f"
             ],
             [
              0.2222222222222222,
              "#7201a8"
             ],
             [
              0.3333333333333333,
              "#9c179e"
             ],
             [
              0.4444444444444444,
              "#bd3786"
             ],
             [
              0.5555555555555556,
              "#d8576b"
             ],
             [
              0.6666666666666666,
              "#ed7953"
             ],
             [
              0.7777777777777778,
              "#fb9f3a"
             ],
             [
              0.8888888888888888,
              "#fdca26"
             ],
             [
              1,
              "#f0f921"
             ]
            ],
            "type": "heatmapgl"
           }
          ],
          "histogram": [
           {
            "marker": {
             "colorbar": {
              "outlinewidth": 0,
              "ticks": ""
             }
            },
            "type": "histogram"
           }
          ],
          "histogram2d": [
           {
            "colorbar": {
             "outlinewidth": 0,
             "ticks": ""
            },
            "colorscale": [
             [
              0,
              "#0d0887"
             ],
             [
              0.1111111111111111,
              "#46039f"
             ],
             [
              0.2222222222222222,
              "#7201a8"
             ],
             [
              0.3333333333333333,
              "#9c179e"
             ],
             [
              0.4444444444444444,
              "#bd3786"
             ],
             [
              0.5555555555555556,
              "#d8576b"
             ],
             [
              0.6666666666666666,
              "#ed7953"
             ],
             [
              0.7777777777777778,
              "#fb9f3a"
             ],
             [
              0.8888888888888888,
              "#fdca26"
             ],
             [
              1,
              "#f0f921"
             ]
            ],
            "type": "histogram2d"
           }
          ],
          "histogram2dcontour": [
           {
            "colorbar": {
             "outlinewidth": 0,
             "ticks": ""
            },
            "colorscale": [
             [
              0,
              "#0d0887"
             ],
             [
              0.1111111111111111,
              "#46039f"
             ],
             [
              0.2222222222222222,
              "#7201a8"
             ],
             [
              0.3333333333333333,
              "#9c179e"
             ],
             [
              0.4444444444444444,
              "#bd3786"
             ],
             [
              0.5555555555555556,
              "#d8576b"
             ],
             [
              0.6666666666666666,
              "#ed7953"
             ],
             [
              0.7777777777777778,
              "#fb9f3a"
             ],
             [
              0.8888888888888888,
              "#fdca26"
             ],
             [
              1,
              "#f0f921"
             ]
            ],
            "type": "histogram2dcontour"
           }
          ],
          "mesh3d": [
           {
            "colorbar": {
             "outlinewidth": 0,
             "ticks": ""
            },
            "type": "mesh3d"
           }
          ],
          "parcoords": [
           {
            "line": {
             "colorbar": {
              "outlinewidth": 0,
              "ticks": ""
             }
            },
            "type": "parcoords"
           }
          ],
          "pie": [
           {
            "automargin": true,
            "type": "pie"
           }
          ],
          "scatter": [
           {
            "marker": {
             "colorbar": {
              "outlinewidth": 0,
              "ticks": ""
             }
            },
            "type": "scatter"
           }
          ],
          "scatter3d": [
           {
            "line": {
             "colorbar": {
              "outlinewidth": 0,
              "ticks": ""
             }
            },
            "marker": {
             "colorbar": {
              "outlinewidth": 0,
              "ticks": ""
             }
            },
            "type": "scatter3d"
           }
          ],
          "scattercarpet": [
           {
            "marker": {
             "colorbar": {
              "outlinewidth": 0,
              "ticks": ""
             }
            },
            "type": "scattercarpet"
           }
          ],
          "scattergeo": [
           {
            "marker": {
             "colorbar": {
              "outlinewidth": 0,
              "ticks": ""
             }
            },
            "type": "scattergeo"
           }
          ],
          "scattergl": [
           {
            "marker": {
             "colorbar": {
              "outlinewidth": 0,
              "ticks": ""
             }
            },
            "type": "scattergl"
           }
          ],
          "scattermapbox": [
           {
            "marker": {
             "colorbar": {
              "outlinewidth": 0,
              "ticks": ""
             }
            },
            "type": "scattermapbox"
           }
          ],
          "scatterpolar": [
           {
            "marker": {
             "colorbar": {
              "outlinewidth": 0,
              "ticks": ""
             }
            },
            "type": "scatterpolar"
           }
          ],
          "scatterpolargl": [
           {
            "marker": {
             "colorbar": {
              "outlinewidth": 0,
              "ticks": ""
             }
            },
            "type": "scatterpolargl"
           }
          ],
          "scatterternary": [
           {
            "marker": {
             "colorbar": {
              "outlinewidth": 0,
              "ticks": ""
             }
            },
            "type": "scatterternary"
           }
          ],
          "surface": [
           {
            "colorbar": {
             "outlinewidth": 0,
             "ticks": ""
            },
            "colorscale": [
             [
              0,
              "#0d0887"
             ],
             [
              0.1111111111111111,
              "#46039f"
             ],
             [
              0.2222222222222222,
              "#7201a8"
             ],
             [
              0.3333333333333333,
              "#9c179e"
             ],
             [
              0.4444444444444444,
              "#bd3786"
             ],
             [
              0.5555555555555556,
              "#d8576b"
             ],
             [
              0.6666666666666666,
              "#ed7953"
             ],
             [
              0.7777777777777778,
              "#fb9f3a"
             ],
             [
              0.8888888888888888,
              "#fdca26"
             ],
             [
              1,
              "#f0f921"
             ]
            ],
            "type": "surface"
           }
          ],
          "table": [
           {
            "cells": {
             "fill": {
              "color": "#EBF0F8"
             },
             "line": {
              "color": "white"
             }
            },
            "header": {
             "fill": {
              "color": "#C8D4E3"
             },
             "line": {
              "color": "white"
             }
            },
            "type": "table"
           }
          ]
         },
         "layout": {
          "annotationdefaults": {
           "arrowcolor": "#2a3f5f",
           "arrowhead": 0,
           "arrowwidth": 1
          },
          "coloraxis": {
           "colorbar": {
            "outlinewidth": 0,
            "ticks": ""
           }
          },
          "colorscale": {
           "diverging": [
            [
             0,
             "#8e0152"
            ],
            [
             0.1,
             "#c51b7d"
            ],
            [
             0.2,
             "#de77ae"
            ],
            [
             0.3,
             "#f1b6da"
            ],
            [
             0.4,
             "#fde0ef"
            ],
            [
             0.5,
             "#f7f7f7"
            ],
            [
             0.6,
             "#e6f5d0"
            ],
            [
             0.7,
             "#b8e186"
            ],
            [
             0.8,
             "#7fbc41"
            ],
            [
             0.9,
             "#4d9221"
            ],
            [
             1,
             "#276419"
            ]
           ],
           "sequential": [
            [
             0,
             "#0d0887"
            ],
            [
             0.1111111111111111,
             "#46039f"
            ],
            [
             0.2222222222222222,
             "#7201a8"
            ],
            [
             0.3333333333333333,
             "#9c179e"
            ],
            [
             0.4444444444444444,
             "#bd3786"
            ],
            [
             0.5555555555555556,
             "#d8576b"
            ],
            [
             0.6666666666666666,
             "#ed7953"
            ],
            [
             0.7777777777777778,
             "#fb9f3a"
            ],
            [
             0.8888888888888888,
             "#fdca26"
            ],
            [
             1,
             "#f0f921"
            ]
           ],
           "sequentialminus": [
            [
             0,
             "#0d0887"
            ],
            [
             0.1111111111111111,
             "#46039f"
            ],
            [
             0.2222222222222222,
             "#7201a8"
            ],
            [
             0.3333333333333333,
             "#9c179e"
            ],
            [
             0.4444444444444444,
             "#bd3786"
            ],
            [
             0.5555555555555556,
             "#d8576b"
            ],
            [
             0.6666666666666666,
             "#ed7953"
            ],
            [
             0.7777777777777778,
             "#fb9f3a"
            ],
            [
             0.8888888888888888,
             "#fdca26"
            ],
            [
             1,
             "#f0f921"
            ]
           ]
          },
          "colorway": [
           "#636efa",
           "#EF553B",
           "#00cc96",
           "#ab63fa",
           "#FFA15A",
           "#19d3f3",
           "#FF6692",
           "#B6E880",
           "#FF97FF",
           "#FECB52"
          ],
          "font": {
           "color": "#2a3f5f"
          },
          "geo": {
           "bgcolor": "white",
           "lakecolor": "white",
           "landcolor": "#E5ECF6",
           "showlakes": true,
           "showland": true,
           "subunitcolor": "white"
          },
          "hoverlabel": {
           "align": "left"
          },
          "hovermode": "closest",
          "mapbox": {
           "style": "light"
          },
          "paper_bgcolor": "white",
          "plot_bgcolor": "#E5ECF6",
          "polar": {
           "angularaxis": {
            "gridcolor": "white",
            "linecolor": "white",
            "ticks": ""
           },
           "bgcolor": "#E5ECF6",
           "radialaxis": {
            "gridcolor": "white",
            "linecolor": "white",
            "ticks": ""
           }
          },
          "scene": {
           "xaxis": {
            "backgroundcolor": "#E5ECF6",
            "gridcolor": "white",
            "gridwidth": 2,
            "linecolor": "white",
            "showbackground": true,
            "ticks": "",
            "zerolinecolor": "white"
           },
           "yaxis": {
            "backgroundcolor": "#E5ECF6",
            "gridcolor": "white",
            "gridwidth": 2,
            "linecolor": "white",
            "showbackground": true,
            "ticks": "",
            "zerolinecolor": "white"
           },
           "zaxis": {
            "backgroundcolor": "#E5ECF6",
            "gridcolor": "white",
            "gridwidth": 2,
            "linecolor": "white",
            "showbackground": true,
            "ticks": "",
            "zerolinecolor": "white"
           }
          },
          "shapedefaults": {
           "line": {
            "color": "#2a3f5f"
           }
          },
          "ternary": {
           "aaxis": {
            "gridcolor": "white",
            "linecolor": "white",
            "ticks": ""
           },
           "baxis": {
            "gridcolor": "white",
            "linecolor": "white",
            "ticks": ""
           },
           "bgcolor": "#E5ECF6",
           "caxis": {
            "gridcolor": "white",
            "linecolor": "white",
            "ticks": ""
           }
          },
          "title": {
           "x": 0.05
          },
          "xaxis": {
           "automargin": true,
           "gridcolor": "white",
           "linecolor": "white",
           "ticks": "",
           "title": {
            "standoff": 15
           },
           "zerolinecolor": "white",
           "zerolinewidth": 2
          },
          "yaxis": {
           "automargin": true,
           "gridcolor": "white",
           "linecolor": "white",
           "ticks": "",
           "title": {
            "standoff": 15
           },
           "zerolinecolor": "white",
           "zerolinewidth": 2
          }
         }
        },
        "title": {
         "font": {
          "color": "#4D5663"
         }
        },
        "xaxis": {
         "gridcolor": "#E1E5ED",
         "showgrid": true,
         "tickfont": {
          "color": "#4D5663"
         },
         "title": {
          "font": {
           "color": "#4D5663"
          },
          "text": ""
         },
         "zerolinecolor": "#E1E5ED"
        },
        "yaxis": {
         "gridcolor": "#E1E5ED",
         "showgrid": true,
         "tickfont": {
          "color": "#4D5663"
         },
         "title": {
          "font": {
           "color": "#4D5663"
          },
          "text": ""
         },
         "zerolinecolor": "#E1E5ED"
        }
       }
      },
      "text/html": [
       "<div>\n",
       "        \n",
       "        \n",
       "            <div id=\"392196da-b311-4da2-a017-34bd946becc1\" class=\"plotly-graph-div\" style=\"height:525px; width:100%;\"></div>\n",
       "            <script type=\"text/javascript\">\n",
       "                require([\"plotly\"], function(Plotly) {\n",
       "                    window.PLOTLYENV=window.PLOTLYENV || {};\n",
       "                    window.PLOTLYENV.BASE_URL='https://plot.ly';\n",
       "                    \n",
       "                if (document.getElementById(\"392196da-b311-4da2-a017-34bd946becc1\")) {\n",
       "                    Plotly.newPlot(\n",
       "                        '392196da-b311-4da2-a017-34bd946becc1',\n",
       "                        [{\"line\": {\"color\": \"rgba(255, 153, 51, 1.0)\", \"dash\": \"solid\", \"shape\": \"linear\", \"width\": 1.3}, \"mode\": \"lines\", \"name\": \"A\", \"text\": \"\", \"type\": \"scatter\", \"x\": [0, 1, 2, 3, 4, 5, 6, 7, 8, 9, 10, 11, 12, 13, 14, 15, 16, 17, 18, 19, 20, 21, 22, 23, 24, 25, 26, 27, 28, 29, 30, 31, 32, 33, 34, 35, 36, 37, 38, 39, 40, 41, 42, 43, 44, 45, 46, 47, 48, 49, 50, 51, 52, 53, 54, 55, 56, 57, 58, 59, 60, 61, 62, 63, 64, 65, 66, 67, 68, 69, 70, 71, 72, 73, 74, 75, 76, 77, 78, 79, 80, 81, 82, 83, 84, 85, 86, 87, 88, 89, 90, 91, 92, 93, 94, 95, 96, 97, 98, 99], \"y\": [1.416593517660878, -0.14738395566749896, -1.7844796810424377, 1.0916939562052876, 0.8690310862451806, -0.9130881968676815, 0.999815987739978, 0.20249872319987558, 0.6651541347542538, 1.5904328259462475, 0.9224191664291218, -0.18016206629497075, 1.134944336265271, -0.19204911602866678, -0.7725701660993973, 0.10063744605008441, 0.10714591412949345, -0.42221541400028717, -0.8403776497203891, -0.34062561748689635, -0.9319306418128855, -2.7047515845412606, 0.008464414016829484, -0.24679681716914537, -0.8891064856373092, -0.0976902393419508, 2.0554795131481236, 1.140205355254008, -1.3222237382657935, 1.2972526054749431, 1.2723501043391907, -1.0402921253786834, 0.08975397544334109, -0.7211196617732506, 0.46079850518443477, -0.0035295707984208287, -1.6680052301548915, 0.39593916411591684, -0.036736725525066675, -0.18708565303207123, 0.4090337394442913, -0.11516336115305838, -2.1023287946207225, 0.7145964193033464, 0.8992939935517598, -1.1066813776882152, -0.8429684555863061, 0.8641921006942638, -0.5073841845450361, -0.8566073764635567, -0.26835127760692934, -1.2592951714357608, -0.880020854779105, 1.3836949417430615, -0.8108977849120101, 0.4561661807281345, 0.004415115029279976, 0.03828165518747515, -0.10676227658460166, 1.028572156444397, -0.28421897250220285, 0.8849806821994682, 1.4380095987100332, -0.8877395811176105, 1.228816832515203, 0.7564202279095027, -0.2625169494179067, 1.013996267722401, -0.4081800018537628, 1.0211977886508627, 0.7767951727052528, 0.2911188894392512, -1.730474681675736, 0.32841643489202166, 0.07140028981004318, 1.0689025968967223, -1.9049709066817657, -0.5405171578578922, -0.47397936749667924, -0.7220304917111585, -0.43499570927661463, -1.076760505534362, -2.851530141907224, -0.3583158919767544, -1.5432561099522224, -0.8784881122522841, -1.9603084686379697, -0.5885186370713009, 1.5997148736849103, 0.024734175690217294, 0.07809005053066699, 1.667352773288952, -1.287735836010282, -0.5990499600750134, 0.10309793710856048, 0.6049082987598869, 0.22668443288025425, -0.4085805437783098, 0.7047569911056685, -0.0058223868182907396]}, {\"line\": {\"color\": \"rgba(55, 128, 191, 1.0)\", \"dash\": \"solid\", \"shape\": \"linear\", \"width\": 1.3}, \"mode\": \"lines\", \"name\": \"B\", \"text\": \"\", \"type\": \"scatter\", \"x\": [0, 1, 2, 3, 4, 5, 6, 7, 8, 9, 10, 11, 12, 13, 14, 15, 16, 17, 18, 19, 20, 21, 22, 23, 24, 25, 26, 27, 28, 29, 30, 31, 32, 33, 34, 35, 36, 37, 38, 39, 40, 41, 42, 43, 44, 45, 46, 47, 48, 49, 50, 51, 52, 53, 54, 55, 56, 57, 58, 59, 60, 61, 62, 63, 64, 65, 66, 67, 68, 69, 70, 71, 72, 73, 74, 75, 76, 77, 78, 79, 80, 81, 82, 83, 84, 85, 86, 87, 88, 89, 90, 91, 92, 93, 94, 95, 96, 97, 98, 99], \"y\": [-1.784098720340015, 2.171244510657171, 0.6814350497909425, 1.6915046033363401, 0.18481649594853616, 1.3717132391682432, -1.2275847765325325, 0.1377905244967582, -1.1480009457520386, 0.26162442648712664, -0.3949869957178582, -1.4968385199265781, -1.2882205677288796, 0.734932556612695, 1.2232971975351834, -0.593392211027469, -1.0654669938822041, -0.3571674089948739, -0.13876162829474128, -0.2895293494986774, -0.48357022428835184, -1.3885923462518266, -0.5237646877578167, 1.3060138012560842, 0.25660307311615027, -0.8203047424592492, -0.4923162655865527, -0.4845844995598301, 1.1978422826877433, 2.0998690486150426, 1.01936669685555, -0.3386138535811944, -1.482145713226032, 2.2072307943488627, 0.7211135696527582, -1.8947101869608063, -1.6555186146259382, 0.6664471016106729, 0.6579972725992663, 0.26733180131832407, 0.8914121897579306, -0.5502327140222424, -0.7035046554239406, -0.9461377411810604, -0.6001142874070964, 0.02870046019532282, -1.7907167802754105, 1.3897741383929765, -0.016268510422112355, 0.5663514625633824, 1.9999017682580833, 1.6601667123454453, 0.6815372328213235, -0.8400593255846813, 1.11322310825198, 0.6606722621695404, 0.4375288477222289, -0.23405318147746282, 0.5886108970417825, -0.33299951352436286, -0.40185930102225387, -0.6635188196620705, 0.07704697176714438, -0.9213946986355144, -0.9831820012034149, 0.7946699447595283, -0.9991701796154964, 0.2815538007953517, 0.174998690858209, 0.8837798626530278, 0.9032875954210857, 0.24055208121983598, 0.5922894036824274, -1.2661514687988389, -0.8809610852153962, -0.12528969601901807, 0.6211367105295839, 0.13636933563037099, 0.5931900126435424, -1.4967044610569924, 0.5340581219643343, 0.3514056027479767, 0.4863662132233159, 0.24581933733395622, -2.059486231643359, -0.6300296950748387, 0.44013425063156586, 0.4473713899152323, -0.00047627043586563036, 0.2657031815297724, 2.201413247661273, -0.9173536467289062, -0.8332408625755586, -1.0151245854973656, 0.14016786526148148, 0.5585536889690439, -0.44476215618074133, -0.4413464723748191, -0.3494357165693916, -1.0018284495680674]}, {\"line\": {\"color\": \"rgba(50, 171, 96, 1.0)\", \"dash\": \"solid\", \"shape\": \"linear\", \"width\": 1.3}, \"mode\": \"lines\", \"name\": \"C\", \"text\": \"\", \"type\": \"scatter\", \"x\": [0, 1, 2, 3, 4, 5, 6, 7, 8, 9, 10, 11, 12, 13, 14, 15, 16, 17, 18, 19, 20, 21, 22, 23, 24, 25, 26, 27, 28, 29, 30, 31, 32, 33, 34, 35, 36, 37, 38, 39, 40, 41, 42, 43, 44, 45, 46, 47, 48, 49, 50, 51, 52, 53, 54, 55, 56, 57, 58, 59, 60, 61, 62, 63, 64, 65, 66, 67, 68, 69, 70, 71, 72, 73, 74, 75, 76, 77, 78, 79, 80, 81, 82, 83, 84, 85, 86, 87, 88, 89, 90, 91, 92, 93, 94, 95, 96, 97, 98, 99], \"y\": [-0.5967119098197226, 0.853238764026366, 1.6672094843438492, -0.0037601992873524037, -0.9071834782154601, 1.883690558450849, -2.106354563045812, -1.2168484036552596, 0.17255626813792466, 1.0582852945687178, 1.3952429242549573, 0.07227254577092632, -0.4195317892628768, 0.3148586861350653, 0.17138607027311709, 0.979523061893303, 1.0170253940983998, -0.31540535624226623, -0.1771259277074585, 1.0509795019188313, 0.4027836644340148, -0.10335933258826242, -0.7935237694439741, 0.2929342298614919, 2.156830774988516, 0.30115733682483886, 2.0883112687994463, -0.9278018279636102, 0.1274690526763963, -0.7019996573220373, 0.1499739530535481, -1.0036591424346843, -2.800423325047921, 1.3353677753307296, 0.5034117514155685, 0.2570665310706626, -1.1518065065844245, -0.4729507221586094, 1.672213002084143, -1.2363872849124302, 0.012105592964178779, -1.493747478456467, 0.1952640284715851, -0.7848860869658573, 0.02009202740699355, 0.07135868247529763, -0.7884840153246424, 0.01814514012957843, 0.2146823765491746, -1.0675674116210412, 0.8544589019211002, -0.5989615235683363, -0.46581180378221787, 0.6152601748855848, 0.7692237912289807, -0.4420183379256885, -1.6959042945833291, 0.08343248358165806, -0.2945583821376016, 0.6063342583506851, -0.5887858952909739, 0.13694788409010514, -1.2424969811602868, -0.5239490868519974, 1.1956002105011092, 1.084099517593647, 0.7610297699914984, 0.15656489162299303, -1.3256041858993401, 0.6332892520923301, -0.9439011838970643, 0.19397551161246512, -0.564838581449026, 0.6443860682633141, -0.00950007628578957, 1.059583505527082, 1.3659520311143776, -1.7341794280109315, 0.3817222401871636, 0.20508286240366627, -0.30652983613662893, 1.1586328857965569, -0.24000038468347007, 0.5057631958197074, -0.6101763309802465, 0.7182084359558547, 0.1162004892642478, 0.20904716578240504, -2.1276348152551523, -0.20780572655946458, -0.260592364108929, -0.580124951761244, 1.8107866238776256, 1.2067337473203945, 0.9661438170829647, 0.778797568299232, -1.4437124946541433, 1.4058055726143668, 1.6464512148069346, 1.5567465741174473]}, {\"line\": {\"color\": \"rgba(128, 0, 128, 1.0)\", \"dash\": \"solid\", \"shape\": \"linear\", \"width\": 1.3}, \"mode\": \"lines\", \"name\": \"D\", \"text\": \"\", \"type\": \"scatter\", \"x\": [0, 1, 2, 3, 4, 5, 6, 7, 8, 9, 10, 11, 12, 13, 14, 15, 16, 17, 18, 19, 20, 21, 22, 23, 24, 25, 26, 27, 28, 29, 30, 31, 32, 33, 34, 35, 36, 37, 38, 39, 40, 41, 42, 43, 44, 45, 46, 47, 48, 49, 50, 51, 52, 53, 54, 55, 56, 57, 58, 59, 60, 61, 62, 63, 64, 65, 66, 67, 68, 69, 70, 71, 72, 73, 74, 75, 76, 77, 78, 79, 80, 81, 82, 83, 84, 85, 86, 87, 88, 89, 90, 91, 92, 93, 94, 95, 96, 97, 98, 99], \"y\": [0.6079252288271123, -0.7673086708362776, 2.7918004888249155, 1.5313914625222045, -1.4345453782854332, -1.0437865151846786, 0.19847176529920577, 1.3862446579489935, -0.35138062753487304, 0.03719432201318422, -1.7616253778540005, 2.3407054624379846, -0.2000097595989267, 0.7669854014325037, 0.11298294909977, 0.046858080065504425, -0.18120895485222938, 0.7695550229775915, 0.15511077522056577, -0.9108953777606292, 0.6377005270907216, -1.6068124460140327, 1.845840177929854, -1.1052126634256259, -1.6451598313262024, 1.0953926667391707, -2.6811855828962696, -0.24426026935419365, -0.6820128828581605, 0.3608787094224027, -0.0764345595001479, 0.3088811741935369, -0.329408490492265, 1.4464185545662458, -2.0128086971620927, 0.08825858728083487, -0.168682137332262, 2.065928188589186, -1.6017962278561868, -1.5312993522830245, -0.03945107251970846, -0.6733129013460523, -0.6076787744094737, 1.6360672041399968, 0.48494877078027687, 0.01323259657886119, 1.4328584127569208, -1.6683257498452444, -0.8829926821113253, -0.09166483027086167, -3.080415218787863, -0.8472046953264905, -0.049951322488767644, -0.6759172855350523, 0.2810806490503662, 0.07703330630025013, 1.7316185845049246, 0.5755896592654809, 0.7732777600729397, -0.5761818253061513, -0.5662697882027303, -1.284520760769256, 0.41915185995351933, 0.4516275355752908, 0.10016374487909058, -0.589883708770861, -0.425278673747093, -0.7888957909839527, 0.5080520587703382, -0.14777685657714393, 0.19389746683109096, -0.1863775839392197, 3.826662212990111, 1.7942084045458413, -1.346814767384748, -1.1375499897392416, 0.48098246076773254, -1.2442890043073742, 0.006054537387323956, 0.7079016296857916, 0.9850833750736986, -0.3163365229351439, -0.4816814896722392, -0.04785840952576833, -0.5514694996254651, 1.0549941504273481, 1.1669241949067033, -0.29010413031084936, -0.5107131029812131, -0.9299722618442059, 0.40261878264672124, -1.1679406337745477, 0.5435855253429999, -1.19777229520187, 1.3514454837032996, -0.3965259735689329, 0.17952127104730956, -0.3082954895460292, 0.2721710338721595, -1.1620535089156803]}],\n",
       "                        {\"legend\": {\"bgcolor\": \"#F5F6F9\", \"font\": {\"color\": \"#4D5663\"}}, \"paper_bgcolor\": \"#F5F6F9\", \"plot_bgcolor\": \"#F5F6F9\", \"template\": {\"data\": {\"bar\": [{\"error_x\": {\"color\": \"#2a3f5f\"}, \"error_y\": {\"color\": \"#2a3f5f\"}, \"marker\": {\"line\": {\"color\": \"#E5ECF6\", \"width\": 0.5}}, \"type\": \"bar\"}], \"barpolar\": [{\"marker\": {\"line\": {\"color\": \"#E5ECF6\", \"width\": 0.5}}, \"type\": \"barpolar\"}], \"carpet\": [{\"aaxis\": {\"endlinecolor\": \"#2a3f5f\", \"gridcolor\": \"white\", \"linecolor\": \"white\", \"minorgridcolor\": \"white\", \"startlinecolor\": \"#2a3f5f\"}, \"baxis\": {\"endlinecolor\": \"#2a3f5f\", \"gridcolor\": \"white\", \"linecolor\": \"white\", \"minorgridcolor\": \"white\", \"startlinecolor\": \"#2a3f5f\"}, \"type\": \"carpet\"}], \"choropleth\": [{\"colorbar\": {\"outlinewidth\": 0, \"ticks\": \"\"}, \"type\": \"choropleth\"}], \"contour\": [{\"colorbar\": {\"outlinewidth\": 0, \"ticks\": \"\"}, \"colorscale\": [[0.0, \"#0d0887\"], [0.1111111111111111, \"#46039f\"], [0.2222222222222222, \"#7201a8\"], [0.3333333333333333, \"#9c179e\"], [0.4444444444444444, \"#bd3786\"], [0.5555555555555556, \"#d8576b\"], [0.6666666666666666, \"#ed7953\"], [0.7777777777777778, \"#fb9f3a\"], [0.8888888888888888, \"#fdca26\"], [1.0, \"#f0f921\"]], \"type\": \"contour\"}], \"contourcarpet\": [{\"colorbar\": {\"outlinewidth\": 0, \"ticks\": \"\"}, \"type\": \"contourcarpet\"}], \"heatmap\": [{\"colorbar\": {\"outlinewidth\": 0, \"ticks\": \"\"}, \"colorscale\": [[0.0, \"#0d0887\"], [0.1111111111111111, \"#46039f\"], [0.2222222222222222, \"#7201a8\"], [0.3333333333333333, \"#9c179e\"], [0.4444444444444444, \"#bd3786\"], [0.5555555555555556, \"#d8576b\"], [0.6666666666666666, \"#ed7953\"], [0.7777777777777778, \"#fb9f3a\"], [0.8888888888888888, \"#fdca26\"], [1.0, \"#f0f921\"]], \"type\": \"heatmap\"}], \"heatmapgl\": [{\"colorbar\": {\"outlinewidth\": 0, \"ticks\": \"\"}, \"colorscale\": [[0.0, \"#0d0887\"], [0.1111111111111111, \"#46039f\"], [0.2222222222222222, \"#7201a8\"], [0.3333333333333333, \"#9c179e\"], [0.4444444444444444, \"#bd3786\"], [0.5555555555555556, \"#d8576b\"], [0.6666666666666666, \"#ed7953\"], [0.7777777777777778, \"#fb9f3a\"], [0.8888888888888888, \"#fdca26\"], [1.0, \"#f0f921\"]], \"type\": \"heatmapgl\"}], \"histogram\": [{\"marker\": {\"colorbar\": {\"outlinewidth\": 0, \"ticks\": \"\"}}, \"type\": \"histogram\"}], \"histogram2d\": [{\"colorbar\": {\"outlinewidth\": 0, \"ticks\": \"\"}, \"colorscale\": [[0.0, \"#0d0887\"], [0.1111111111111111, \"#46039f\"], [0.2222222222222222, \"#7201a8\"], [0.3333333333333333, \"#9c179e\"], [0.4444444444444444, \"#bd3786\"], [0.5555555555555556, \"#d8576b\"], [0.6666666666666666, \"#ed7953\"], [0.7777777777777778, \"#fb9f3a\"], [0.8888888888888888, \"#fdca26\"], [1.0, \"#f0f921\"]], \"type\": \"histogram2d\"}], \"histogram2dcontour\": [{\"colorbar\": {\"outlinewidth\": 0, \"ticks\": \"\"}, \"colorscale\": [[0.0, \"#0d0887\"], [0.1111111111111111, \"#46039f\"], [0.2222222222222222, \"#7201a8\"], [0.3333333333333333, \"#9c179e\"], [0.4444444444444444, \"#bd3786\"], [0.5555555555555556, \"#d8576b\"], [0.6666666666666666, \"#ed7953\"], [0.7777777777777778, \"#fb9f3a\"], [0.8888888888888888, \"#fdca26\"], [1.0, \"#f0f921\"]], \"type\": \"histogram2dcontour\"}], \"mesh3d\": [{\"colorbar\": {\"outlinewidth\": 0, \"ticks\": \"\"}, \"type\": \"mesh3d\"}], \"parcoords\": [{\"line\": {\"colorbar\": {\"outlinewidth\": 0, \"ticks\": \"\"}}, \"type\": \"parcoords\"}], \"pie\": [{\"automargin\": true, \"type\": \"pie\"}], \"scatter\": [{\"marker\": {\"colorbar\": {\"outlinewidth\": 0, \"ticks\": \"\"}}, \"type\": \"scatter\"}], \"scatter3d\": [{\"line\": {\"colorbar\": {\"outlinewidth\": 0, \"ticks\": \"\"}}, \"marker\": {\"colorbar\": {\"outlinewidth\": 0, \"ticks\": \"\"}}, \"type\": \"scatter3d\"}], \"scattercarpet\": [{\"marker\": {\"colorbar\": {\"outlinewidth\": 0, \"ticks\": \"\"}}, \"type\": \"scattercarpet\"}], \"scattergeo\": [{\"marker\": {\"colorbar\": {\"outlinewidth\": 0, \"ticks\": \"\"}}, \"type\": \"scattergeo\"}], \"scattergl\": [{\"marker\": {\"colorbar\": {\"outlinewidth\": 0, \"ticks\": \"\"}}, \"type\": \"scattergl\"}], \"scattermapbox\": [{\"marker\": {\"colorbar\": {\"outlinewidth\": 0, \"ticks\": \"\"}}, \"type\": \"scattermapbox\"}], \"scatterpolar\": [{\"marker\": {\"colorbar\": {\"outlinewidth\": 0, \"ticks\": \"\"}}, \"type\": \"scatterpolar\"}], \"scatterpolargl\": [{\"marker\": {\"colorbar\": {\"outlinewidth\": 0, \"ticks\": \"\"}}, \"type\": \"scatterpolargl\"}], \"scatterternary\": [{\"marker\": {\"colorbar\": {\"outlinewidth\": 0, \"ticks\": \"\"}}, \"type\": \"scatterternary\"}], \"surface\": [{\"colorbar\": {\"outlinewidth\": 0, \"ticks\": \"\"}, \"colorscale\": [[0.0, \"#0d0887\"], [0.1111111111111111, \"#46039f\"], [0.2222222222222222, \"#7201a8\"], [0.3333333333333333, \"#9c179e\"], [0.4444444444444444, \"#bd3786\"], [0.5555555555555556, \"#d8576b\"], [0.6666666666666666, \"#ed7953\"], [0.7777777777777778, \"#fb9f3a\"], [0.8888888888888888, \"#fdca26\"], [1.0, \"#f0f921\"]], \"type\": \"surface\"}], \"table\": [{\"cells\": {\"fill\": {\"color\": \"#EBF0F8\"}, \"line\": {\"color\": \"white\"}}, \"header\": {\"fill\": {\"color\": \"#C8D4E3\"}, \"line\": {\"color\": \"white\"}}, \"type\": \"table\"}]}, \"layout\": {\"annotationdefaults\": {\"arrowcolor\": \"#2a3f5f\", \"arrowhead\": 0, \"arrowwidth\": 1}, \"coloraxis\": {\"colorbar\": {\"outlinewidth\": 0, \"ticks\": \"\"}}, \"colorscale\": {\"diverging\": [[0, \"#8e0152\"], [0.1, \"#c51b7d\"], [0.2, \"#de77ae\"], [0.3, \"#f1b6da\"], [0.4, \"#fde0ef\"], [0.5, \"#f7f7f7\"], [0.6, \"#e6f5d0\"], [0.7, \"#b8e186\"], [0.8, \"#7fbc41\"], [0.9, \"#4d9221\"], [1, \"#276419\"]], \"sequential\": [[0.0, \"#0d0887\"], [0.1111111111111111, \"#46039f\"], [0.2222222222222222, \"#7201a8\"], [0.3333333333333333, \"#9c179e\"], [0.4444444444444444, \"#bd3786\"], [0.5555555555555556, \"#d8576b\"], [0.6666666666666666, \"#ed7953\"], [0.7777777777777778, \"#fb9f3a\"], [0.8888888888888888, \"#fdca26\"], [1.0, \"#f0f921\"]], \"sequentialminus\": [[0.0, \"#0d0887\"], [0.1111111111111111, \"#46039f\"], [0.2222222222222222, \"#7201a8\"], [0.3333333333333333, \"#9c179e\"], [0.4444444444444444, \"#bd3786\"], [0.5555555555555556, \"#d8576b\"], [0.6666666666666666, \"#ed7953\"], [0.7777777777777778, \"#fb9f3a\"], [0.8888888888888888, \"#fdca26\"], [1.0, \"#f0f921\"]]}, \"colorway\": [\"#636efa\", \"#EF553B\", \"#00cc96\", \"#ab63fa\", \"#FFA15A\", \"#19d3f3\", \"#FF6692\", \"#B6E880\", \"#FF97FF\", \"#FECB52\"], \"font\": {\"color\": \"#2a3f5f\"}, \"geo\": {\"bgcolor\": \"white\", \"lakecolor\": \"white\", \"landcolor\": \"#E5ECF6\", \"showlakes\": true, \"showland\": true, \"subunitcolor\": \"white\"}, \"hoverlabel\": {\"align\": \"left\"}, \"hovermode\": \"closest\", \"mapbox\": {\"style\": \"light\"}, \"paper_bgcolor\": \"white\", \"plot_bgcolor\": \"#E5ECF6\", \"polar\": {\"angularaxis\": {\"gridcolor\": \"white\", \"linecolor\": \"white\", \"ticks\": \"\"}, \"bgcolor\": \"#E5ECF6\", \"radialaxis\": {\"gridcolor\": \"white\", \"linecolor\": \"white\", \"ticks\": \"\"}}, \"scene\": {\"xaxis\": {\"backgroundcolor\": \"#E5ECF6\", \"gridcolor\": \"white\", \"gridwidth\": 2, \"linecolor\": \"white\", \"showbackground\": true, \"ticks\": \"\", \"zerolinecolor\": \"white\"}, \"yaxis\": {\"backgroundcolor\": \"#E5ECF6\", \"gridcolor\": \"white\", \"gridwidth\": 2, \"linecolor\": \"white\", \"showbackground\": true, \"ticks\": \"\", \"zerolinecolor\": \"white\"}, \"zaxis\": {\"backgroundcolor\": \"#E5ECF6\", \"gridcolor\": \"white\", \"gridwidth\": 2, \"linecolor\": \"white\", \"showbackground\": true, \"ticks\": \"\", \"zerolinecolor\": \"white\"}}, \"shapedefaults\": {\"line\": {\"color\": \"#2a3f5f\"}}, \"ternary\": {\"aaxis\": {\"gridcolor\": \"white\", \"linecolor\": \"white\", \"ticks\": \"\"}, \"baxis\": {\"gridcolor\": \"white\", \"linecolor\": \"white\", \"ticks\": \"\"}, \"bgcolor\": \"#E5ECF6\", \"caxis\": {\"gridcolor\": \"white\", \"linecolor\": \"white\", \"ticks\": \"\"}}, \"title\": {\"x\": 0.05}, \"xaxis\": {\"automargin\": true, \"gridcolor\": \"white\", \"linecolor\": \"white\", \"ticks\": \"\", \"title\": {\"standoff\": 15}, \"zerolinecolor\": \"white\", \"zerolinewidth\": 2}, \"yaxis\": {\"automargin\": true, \"gridcolor\": \"white\", \"linecolor\": \"white\", \"ticks\": \"\", \"title\": {\"standoff\": 15}, \"zerolinecolor\": \"white\", \"zerolinewidth\": 2}}}, \"title\": {\"font\": {\"color\": \"#4D5663\"}}, \"xaxis\": {\"gridcolor\": \"#E1E5ED\", \"showgrid\": true, \"tickfont\": {\"color\": \"#4D5663\"}, \"title\": {\"font\": {\"color\": \"#4D5663\"}, \"text\": \"\"}, \"zerolinecolor\": \"#E1E5ED\"}, \"yaxis\": {\"gridcolor\": \"#E1E5ED\", \"showgrid\": true, \"tickfont\": {\"color\": \"#4D5663\"}, \"title\": {\"font\": {\"color\": \"#4D5663\"}, \"text\": \"\"}, \"zerolinecolor\": \"#E1E5ED\"}},\n",
       "                        {\"showLink\": true, \"linkText\": \"Export to plot.ly\", \"plotlyServerURL\": \"https://plot.ly\", \"responsive\": true}\n",
       "                    ).then(function(){\n",
       "                            \n",
       "var gd = document.getElementById('392196da-b311-4da2-a017-34bd946becc1');\n",
       "var x = new MutationObserver(function (mutations, observer) {{\n",
       "        var display = window.getComputedStyle(gd).display;\n",
       "        if (!display || display === 'none') {{\n",
       "            console.log([gd, 'removed!']);\n",
       "            Plotly.purge(gd);\n",
       "            observer.disconnect();\n",
       "        }}\n",
       "}});\n",
       "\n",
       "// Listen for the removal of the full notebook cells\n",
       "var notebookContainer = gd.closest('#notebook-container');\n",
       "if (notebookContainer) {{\n",
       "    x.observe(notebookContainer, {childList: true});\n",
       "}}\n",
       "\n",
       "// Listen for the clearing of the current output cell\n",
       "var outputEl = gd.closest('.output');\n",
       "if (outputEl) {{\n",
       "    x.observe(outputEl, {childList: true});\n",
       "}}\n",
       "\n",
       "                        })\n",
       "                };\n",
       "                });\n",
       "            </script>\n",
       "        </div>"
      ]
     },
     "metadata": {},
     "output_type": "display_data"
    }
   ],
   "source": [
    "#TO GET AN INTERACTIVE PLOT( I- PLOT)!\n",
    "df.iplot()"
   ]
  },
  {
   "cell_type": "code",
   "execution_count": 41,
   "metadata": {},
   "outputs": [
    {
     "data": {
      "application/vnd.plotly.v1+json": {
       "config": {
        "linkText": "Export to plot.ly",
        "plotlyServerURL": "https://plot.ly",
        "showLink": true
       },
       "data": [
        {
         "line": {
          "color": "rgba(255, 153, 51, 1.0)",
          "dash": "solid",
          "shape": "linear",
          "width": 1.3
         },
         "mode": "lines",
         "name": "B",
         "text": "",
         "type": "scatter",
         "x": [
          1.416593517660878,
          -0.14738395566749896,
          -1.7844796810424377,
          1.0916939562052876,
          0.8690310862451806,
          -0.9130881968676815,
          0.999815987739978,
          0.20249872319987558,
          0.6651541347542538,
          1.5904328259462475,
          0.9224191664291218,
          -0.18016206629497075,
          1.134944336265271,
          -0.19204911602866678,
          -0.7725701660993973,
          0.10063744605008441,
          0.10714591412949345,
          -0.42221541400028717,
          -0.8403776497203891,
          -0.34062561748689635,
          -0.9319306418128855,
          -2.7047515845412606,
          0.008464414016829484,
          -0.24679681716914537,
          -0.8891064856373092,
          -0.0976902393419508,
          2.0554795131481236,
          1.140205355254008,
          -1.3222237382657935,
          1.2972526054749431,
          1.2723501043391907,
          -1.0402921253786834,
          0.08975397544334109,
          -0.7211196617732506,
          0.46079850518443477,
          -0.0035295707984208287,
          -1.6680052301548915,
          0.39593916411591684,
          -0.036736725525066675,
          -0.18708565303207123,
          0.4090337394442913,
          -0.11516336115305838,
          -2.1023287946207225,
          0.7145964193033464,
          0.8992939935517598,
          -1.1066813776882152,
          -0.8429684555863061,
          0.8641921006942638,
          -0.5073841845450361,
          -0.8566073764635567,
          -0.26835127760692934,
          -1.2592951714357608,
          -0.880020854779105,
          1.3836949417430615,
          -0.8108977849120101,
          0.4561661807281345,
          0.004415115029279976,
          0.03828165518747515,
          -0.10676227658460166,
          1.028572156444397,
          -0.28421897250220285,
          0.8849806821994682,
          1.4380095987100332,
          -0.8877395811176105,
          1.228816832515203,
          0.7564202279095027,
          -0.2625169494179067,
          1.013996267722401,
          -0.4081800018537628,
          1.0211977886508627,
          0.7767951727052528,
          0.2911188894392512,
          -1.730474681675736,
          0.32841643489202166,
          0.07140028981004318,
          1.0689025968967223,
          -1.9049709066817657,
          -0.5405171578578922,
          -0.47397936749667924,
          -0.7220304917111585,
          -0.43499570927661463,
          -1.076760505534362,
          -2.851530141907224,
          -0.3583158919767544,
          -1.5432561099522224,
          -0.8784881122522841,
          -1.9603084686379697,
          -0.5885186370713009,
          1.5997148736849103,
          0.024734175690217294,
          0.07809005053066699,
          1.667352773288952,
          -1.287735836010282,
          -0.5990499600750134,
          0.10309793710856048,
          0.6049082987598869,
          0.22668443288025425,
          -0.4085805437783098,
          0.7047569911056685,
          -0.0058223868182907396
         ],
         "y": [
          -1.784098720340015,
          2.171244510657171,
          0.6814350497909425,
          1.6915046033363401,
          0.18481649594853616,
          1.3717132391682432,
          -1.2275847765325325,
          0.1377905244967582,
          -1.1480009457520386,
          0.26162442648712664,
          -0.3949869957178582,
          -1.4968385199265781,
          -1.2882205677288796,
          0.734932556612695,
          1.2232971975351834,
          -0.593392211027469,
          -1.0654669938822041,
          -0.3571674089948739,
          -0.13876162829474128,
          -0.2895293494986774,
          -0.48357022428835184,
          -1.3885923462518266,
          -0.5237646877578167,
          1.3060138012560842,
          0.25660307311615027,
          -0.8203047424592492,
          -0.4923162655865527,
          -0.4845844995598301,
          1.1978422826877433,
          2.0998690486150426,
          1.01936669685555,
          -0.3386138535811944,
          -1.482145713226032,
          2.2072307943488627,
          0.7211135696527582,
          -1.8947101869608063,
          -1.6555186146259382,
          0.6664471016106729,
          0.6579972725992663,
          0.26733180131832407,
          0.8914121897579306,
          -0.5502327140222424,
          -0.7035046554239406,
          -0.9461377411810604,
          -0.6001142874070964,
          0.02870046019532282,
          -1.7907167802754105,
          1.3897741383929765,
          -0.016268510422112355,
          0.5663514625633824,
          1.9999017682580833,
          1.6601667123454453,
          0.6815372328213235,
          -0.8400593255846813,
          1.11322310825198,
          0.6606722621695404,
          0.4375288477222289,
          -0.23405318147746282,
          0.5886108970417825,
          -0.33299951352436286,
          -0.40185930102225387,
          -0.6635188196620705,
          0.07704697176714438,
          -0.9213946986355144,
          -0.9831820012034149,
          0.7946699447595283,
          -0.9991701796154964,
          0.2815538007953517,
          0.174998690858209,
          0.8837798626530278,
          0.9032875954210857,
          0.24055208121983598,
          0.5922894036824274,
          -1.2661514687988389,
          -0.8809610852153962,
          -0.12528969601901807,
          0.6211367105295839,
          0.13636933563037099,
          0.5931900126435424,
          -1.4967044610569924,
          0.5340581219643343,
          0.3514056027479767,
          0.4863662132233159,
          0.24581933733395622,
          -2.059486231643359,
          -0.6300296950748387,
          0.44013425063156586,
          0.4473713899152323,
          -0.00047627043586563036,
          0.2657031815297724,
          2.201413247661273,
          -0.9173536467289062,
          -0.8332408625755586,
          -1.0151245854973656,
          0.14016786526148148,
          0.5585536889690439,
          -0.44476215618074133,
          -0.4413464723748191,
          -0.3494357165693916,
          -1.0018284495680674
         ]
        }
       ],
       "layout": {
        "legend": {
         "bgcolor": "#F5F6F9",
         "font": {
          "color": "#4D5663"
         }
        },
        "paper_bgcolor": "#F5F6F9",
        "plot_bgcolor": "#F5F6F9",
        "template": {
         "data": {
          "bar": [
           {
            "error_x": {
             "color": "#2a3f5f"
            },
            "error_y": {
             "color": "#2a3f5f"
            },
            "marker": {
             "line": {
              "color": "#E5ECF6",
              "width": 0.5
             }
            },
            "type": "bar"
           }
          ],
          "barpolar": [
           {
            "marker": {
             "line": {
              "color": "#E5ECF6",
              "width": 0.5
             }
            },
            "type": "barpolar"
           }
          ],
          "carpet": [
           {
            "aaxis": {
             "endlinecolor": "#2a3f5f",
             "gridcolor": "white",
             "linecolor": "white",
             "minorgridcolor": "white",
             "startlinecolor": "#2a3f5f"
            },
            "baxis": {
             "endlinecolor": "#2a3f5f",
             "gridcolor": "white",
             "linecolor": "white",
             "minorgridcolor": "white",
             "startlinecolor": "#2a3f5f"
            },
            "type": "carpet"
           }
          ],
          "choropleth": [
           {
            "colorbar": {
             "outlinewidth": 0,
             "ticks": ""
            },
            "type": "choropleth"
           }
          ],
          "contour": [
           {
            "colorbar": {
             "outlinewidth": 0,
             "ticks": ""
            },
            "colorscale": [
             [
              0,
              "#0d0887"
             ],
             [
              0.1111111111111111,
              "#46039f"
             ],
             [
              0.2222222222222222,
              "#7201a8"
             ],
             [
              0.3333333333333333,
              "#9c179e"
             ],
             [
              0.4444444444444444,
              "#bd3786"
             ],
             [
              0.5555555555555556,
              "#d8576b"
             ],
             [
              0.6666666666666666,
              "#ed7953"
             ],
             [
              0.7777777777777778,
              "#fb9f3a"
             ],
             [
              0.8888888888888888,
              "#fdca26"
             ],
             [
              1,
              "#f0f921"
             ]
            ],
            "type": "contour"
           }
          ],
          "contourcarpet": [
           {
            "colorbar": {
             "outlinewidth": 0,
             "ticks": ""
            },
            "type": "contourcarpet"
           }
          ],
          "heatmap": [
           {
            "colorbar": {
             "outlinewidth": 0,
             "ticks": ""
            },
            "colorscale": [
             [
              0,
              "#0d0887"
             ],
             [
              0.1111111111111111,
              "#46039f"
             ],
             [
              0.2222222222222222,
              "#7201a8"
             ],
             [
              0.3333333333333333,
              "#9c179e"
             ],
             [
              0.4444444444444444,
              "#bd3786"
             ],
             [
              0.5555555555555556,
              "#d8576b"
             ],
             [
              0.6666666666666666,
              "#ed7953"
             ],
             [
              0.7777777777777778,
              "#fb9f3a"
             ],
             [
              0.8888888888888888,
              "#fdca26"
             ],
             [
              1,
              "#f0f921"
             ]
            ],
            "type": "heatmap"
           }
          ],
          "heatmapgl": [
           {
            "colorbar": {
             "outlinewidth": 0,
             "ticks": ""
            },
            "colorscale": [
             [
              0,
              "#0d0887"
             ],
             [
              0.1111111111111111,
              "#46039f"
             ],
             [
              0.2222222222222222,
              "#7201a8"
             ],
             [
              0.3333333333333333,
              "#9c179e"
             ],
             [
              0.4444444444444444,
              "#bd3786"
             ],
             [
              0.5555555555555556,
              "#d8576b"
             ],
             [
              0.6666666666666666,
              "#ed7953"
             ],
             [
              0.7777777777777778,
              "#fb9f3a"
             ],
             [
              0.8888888888888888,
              "#fdca26"
             ],
             [
              1,
              "#f0f921"
             ]
            ],
            "type": "heatmapgl"
           }
          ],
          "histogram": [
           {
            "marker": {
             "colorbar": {
              "outlinewidth": 0,
              "ticks": ""
             }
            },
            "type": "histogram"
           }
          ],
          "histogram2d": [
           {
            "colorbar": {
             "outlinewidth": 0,
             "ticks": ""
            },
            "colorscale": [
             [
              0,
              "#0d0887"
             ],
             [
              0.1111111111111111,
              "#46039f"
             ],
             [
              0.2222222222222222,
              "#7201a8"
             ],
             [
              0.3333333333333333,
              "#9c179e"
             ],
             [
              0.4444444444444444,
              "#bd3786"
             ],
             [
              0.5555555555555556,
              "#d8576b"
             ],
             [
              0.6666666666666666,
              "#ed7953"
             ],
             [
              0.7777777777777778,
              "#fb9f3a"
             ],
             [
              0.8888888888888888,
              "#fdca26"
             ],
             [
              1,
              "#f0f921"
             ]
            ],
            "type": "histogram2d"
           }
          ],
          "histogram2dcontour": [
           {
            "colorbar": {
             "outlinewidth": 0,
             "ticks": ""
            },
            "colorscale": [
             [
              0,
              "#0d0887"
             ],
             [
              0.1111111111111111,
              "#46039f"
             ],
             [
              0.2222222222222222,
              "#7201a8"
             ],
             [
              0.3333333333333333,
              "#9c179e"
             ],
             [
              0.4444444444444444,
              "#bd3786"
             ],
             [
              0.5555555555555556,
              "#d8576b"
             ],
             [
              0.6666666666666666,
              "#ed7953"
             ],
             [
              0.7777777777777778,
              "#fb9f3a"
             ],
             [
              0.8888888888888888,
              "#fdca26"
             ],
             [
              1,
              "#f0f921"
             ]
            ],
            "type": "histogram2dcontour"
           }
          ],
          "mesh3d": [
           {
            "colorbar": {
             "outlinewidth": 0,
             "ticks": ""
            },
            "type": "mesh3d"
           }
          ],
          "parcoords": [
           {
            "line": {
             "colorbar": {
              "outlinewidth": 0,
              "ticks": ""
             }
            },
            "type": "parcoords"
           }
          ],
          "pie": [
           {
            "automargin": true,
            "type": "pie"
           }
          ],
          "scatter": [
           {
            "marker": {
             "colorbar": {
              "outlinewidth": 0,
              "ticks": ""
             }
            },
            "type": "scatter"
           }
          ],
          "scatter3d": [
           {
            "line": {
             "colorbar": {
              "outlinewidth": 0,
              "ticks": ""
             }
            },
            "marker": {
             "colorbar": {
              "outlinewidth": 0,
              "ticks": ""
             }
            },
            "type": "scatter3d"
           }
          ],
          "scattercarpet": [
           {
            "marker": {
             "colorbar": {
              "outlinewidth": 0,
              "ticks": ""
             }
            },
            "type": "scattercarpet"
           }
          ],
          "scattergeo": [
           {
            "marker": {
             "colorbar": {
              "outlinewidth": 0,
              "ticks": ""
             }
            },
            "type": "scattergeo"
           }
          ],
          "scattergl": [
           {
            "marker": {
             "colorbar": {
              "outlinewidth": 0,
              "ticks": ""
             }
            },
            "type": "scattergl"
           }
          ],
          "scattermapbox": [
           {
            "marker": {
             "colorbar": {
              "outlinewidth": 0,
              "ticks": ""
             }
            },
            "type": "scattermapbox"
           }
          ],
          "scatterpolar": [
           {
            "marker": {
             "colorbar": {
              "outlinewidth": 0,
              "ticks": ""
             }
            },
            "type": "scatterpolar"
           }
          ],
          "scatterpolargl": [
           {
            "marker": {
             "colorbar": {
              "outlinewidth": 0,
              "ticks": ""
             }
            },
            "type": "scatterpolargl"
           }
          ],
          "scatterternary": [
           {
            "marker": {
             "colorbar": {
              "outlinewidth": 0,
              "ticks": ""
             }
            },
            "type": "scatterternary"
           }
          ],
          "surface": [
           {
            "colorbar": {
             "outlinewidth": 0,
             "ticks": ""
            },
            "colorscale": [
             [
              0,
              "#0d0887"
             ],
             [
              0.1111111111111111,
              "#46039f"
             ],
             [
              0.2222222222222222,
              "#7201a8"
             ],
             [
              0.3333333333333333,
              "#9c179e"
             ],
             [
              0.4444444444444444,
              "#bd3786"
             ],
             [
              0.5555555555555556,
              "#d8576b"
             ],
             [
              0.6666666666666666,
              "#ed7953"
             ],
             [
              0.7777777777777778,
              "#fb9f3a"
             ],
             [
              0.8888888888888888,
              "#fdca26"
             ],
             [
              1,
              "#f0f921"
             ]
            ],
            "type": "surface"
           }
          ],
          "table": [
           {
            "cells": {
             "fill": {
              "color": "#EBF0F8"
             },
             "line": {
              "color": "white"
             }
            },
            "header": {
             "fill": {
              "color": "#C8D4E3"
             },
             "line": {
              "color": "white"
             }
            },
            "type": "table"
           }
          ]
         },
         "layout": {
          "annotationdefaults": {
           "arrowcolor": "#2a3f5f",
           "arrowhead": 0,
           "arrowwidth": 1
          },
          "coloraxis": {
           "colorbar": {
            "outlinewidth": 0,
            "ticks": ""
           }
          },
          "colorscale": {
           "diverging": [
            [
             0,
             "#8e0152"
            ],
            [
             0.1,
             "#c51b7d"
            ],
            [
             0.2,
             "#de77ae"
            ],
            [
             0.3,
             "#f1b6da"
            ],
            [
             0.4,
             "#fde0ef"
            ],
            [
             0.5,
             "#f7f7f7"
            ],
            [
             0.6,
             "#e6f5d0"
            ],
            [
             0.7,
             "#b8e186"
            ],
            [
             0.8,
             "#7fbc41"
            ],
            [
             0.9,
             "#4d9221"
            ],
            [
             1,
             "#276419"
            ]
           ],
           "sequential": [
            [
             0,
             "#0d0887"
            ],
            [
             0.1111111111111111,
             "#46039f"
            ],
            [
             0.2222222222222222,
             "#7201a8"
            ],
            [
             0.3333333333333333,
             "#9c179e"
            ],
            [
             0.4444444444444444,
             "#bd3786"
            ],
            [
             0.5555555555555556,
             "#d8576b"
            ],
            [
             0.6666666666666666,
             "#ed7953"
            ],
            [
             0.7777777777777778,
             "#fb9f3a"
            ],
            [
             0.8888888888888888,
             "#fdca26"
            ],
            [
             1,
             "#f0f921"
            ]
           ],
           "sequentialminus": [
            [
             0,
             "#0d0887"
            ],
            [
             0.1111111111111111,
             "#46039f"
            ],
            [
             0.2222222222222222,
             "#7201a8"
            ],
            [
             0.3333333333333333,
             "#9c179e"
            ],
            [
             0.4444444444444444,
             "#bd3786"
            ],
            [
             0.5555555555555556,
             "#d8576b"
            ],
            [
             0.6666666666666666,
             "#ed7953"
            ],
            [
             0.7777777777777778,
             "#fb9f3a"
            ],
            [
             0.8888888888888888,
             "#fdca26"
            ],
            [
             1,
             "#f0f921"
            ]
           ]
          },
          "colorway": [
           "#636efa",
           "#EF553B",
           "#00cc96",
           "#ab63fa",
           "#FFA15A",
           "#19d3f3",
           "#FF6692",
           "#B6E880",
           "#FF97FF",
           "#FECB52"
          ],
          "font": {
           "color": "#2a3f5f"
          },
          "geo": {
           "bgcolor": "white",
           "lakecolor": "white",
           "landcolor": "#E5ECF6",
           "showlakes": true,
           "showland": true,
           "subunitcolor": "white"
          },
          "hoverlabel": {
           "align": "left"
          },
          "hovermode": "closest",
          "mapbox": {
           "style": "light"
          },
          "paper_bgcolor": "white",
          "plot_bgcolor": "#E5ECF6",
          "polar": {
           "angularaxis": {
            "gridcolor": "white",
            "linecolor": "white",
            "ticks": ""
           },
           "bgcolor": "#E5ECF6",
           "radialaxis": {
            "gridcolor": "white",
            "linecolor": "white",
            "ticks": ""
           }
          },
          "scene": {
           "xaxis": {
            "backgroundcolor": "#E5ECF6",
            "gridcolor": "white",
            "gridwidth": 2,
            "linecolor": "white",
            "showbackground": true,
            "ticks": "",
            "zerolinecolor": "white"
           },
           "yaxis": {
            "backgroundcolor": "#E5ECF6",
            "gridcolor": "white",
            "gridwidth": 2,
            "linecolor": "white",
            "showbackground": true,
            "ticks": "",
            "zerolinecolor": "white"
           },
           "zaxis": {
            "backgroundcolor": "#E5ECF6",
            "gridcolor": "white",
            "gridwidth": 2,
            "linecolor": "white",
            "showbackground": true,
            "ticks": "",
            "zerolinecolor": "white"
           }
          },
          "shapedefaults": {
           "line": {
            "color": "#2a3f5f"
           }
          },
          "ternary": {
           "aaxis": {
            "gridcolor": "white",
            "linecolor": "white",
            "ticks": ""
           },
           "baxis": {
            "gridcolor": "white",
            "linecolor": "white",
            "ticks": ""
           },
           "bgcolor": "#E5ECF6",
           "caxis": {
            "gridcolor": "white",
            "linecolor": "white",
            "ticks": ""
           }
          },
          "title": {
           "x": 0.05
          },
          "xaxis": {
           "automargin": true,
           "gridcolor": "white",
           "linecolor": "white",
           "ticks": "",
           "title": {
            "standoff": 15
           },
           "zerolinecolor": "white",
           "zerolinewidth": 2
          },
          "yaxis": {
           "automargin": true,
           "gridcolor": "white",
           "linecolor": "white",
           "ticks": "",
           "title": {
            "standoff": 15
           },
           "zerolinecolor": "white",
           "zerolinewidth": 2
          }
         }
        },
        "title": {
         "font": {
          "color": "#4D5663"
         }
        },
        "xaxis": {
         "gridcolor": "#E1E5ED",
         "showgrid": true,
         "tickfont": {
          "color": "#4D5663"
         },
         "title": {
          "font": {
           "color": "#4D5663"
          },
          "text": ""
         },
         "zerolinecolor": "#E1E5ED"
        },
        "yaxis": {
         "gridcolor": "#E1E5ED",
         "showgrid": true,
         "tickfont": {
          "color": "#4D5663"
         },
         "title": {
          "font": {
           "color": "#4D5663"
          },
          "text": ""
         },
         "zerolinecolor": "#E1E5ED"
        }
       }
      },
      "text/html": [
       "<div>\n",
       "        \n",
       "        \n",
       "            <div id=\"ed93e323-28f4-4862-8c65-d86756d7e542\" class=\"plotly-graph-div\" style=\"height:525px; width:100%;\"></div>\n",
       "            <script type=\"text/javascript\">\n",
       "                require([\"plotly\"], function(Plotly) {\n",
       "                    window.PLOTLYENV=window.PLOTLYENV || {};\n",
       "                    window.PLOTLYENV.BASE_URL='https://plot.ly';\n",
       "                    \n",
       "                if (document.getElementById(\"ed93e323-28f4-4862-8c65-d86756d7e542\")) {\n",
       "                    Plotly.newPlot(\n",
       "                        'ed93e323-28f4-4862-8c65-d86756d7e542',\n",
       "                        [{\"line\": {\"color\": \"rgba(255, 153, 51, 1.0)\", \"dash\": \"solid\", \"shape\": \"linear\", \"width\": 1.3}, \"mode\": \"lines\", \"name\": \"B\", \"text\": \"\", \"type\": \"scatter\", \"x\": [1.416593517660878, -0.14738395566749896, -1.7844796810424377, 1.0916939562052876, 0.8690310862451806, -0.9130881968676815, 0.999815987739978, 0.20249872319987558, 0.6651541347542538, 1.5904328259462475, 0.9224191664291218, -0.18016206629497075, 1.134944336265271, -0.19204911602866678, -0.7725701660993973, 0.10063744605008441, 0.10714591412949345, -0.42221541400028717, -0.8403776497203891, -0.34062561748689635, -0.9319306418128855, -2.7047515845412606, 0.008464414016829484, -0.24679681716914537, -0.8891064856373092, -0.0976902393419508, 2.0554795131481236, 1.140205355254008, -1.3222237382657935, 1.2972526054749431, 1.2723501043391907, -1.0402921253786834, 0.08975397544334109, -0.7211196617732506, 0.46079850518443477, -0.0035295707984208287, -1.6680052301548915, 0.39593916411591684, -0.036736725525066675, -0.18708565303207123, 0.4090337394442913, -0.11516336115305838, -2.1023287946207225, 0.7145964193033464, 0.8992939935517598, -1.1066813776882152, -0.8429684555863061, 0.8641921006942638, -0.5073841845450361, -0.8566073764635567, -0.26835127760692934, -1.2592951714357608, -0.880020854779105, 1.3836949417430615, -0.8108977849120101, 0.4561661807281345, 0.004415115029279976, 0.03828165518747515, -0.10676227658460166, 1.028572156444397, -0.28421897250220285, 0.8849806821994682, 1.4380095987100332, -0.8877395811176105, 1.228816832515203, 0.7564202279095027, -0.2625169494179067, 1.013996267722401, -0.4081800018537628, 1.0211977886508627, 0.7767951727052528, 0.2911188894392512, -1.730474681675736, 0.32841643489202166, 0.07140028981004318, 1.0689025968967223, -1.9049709066817657, -0.5405171578578922, -0.47397936749667924, -0.7220304917111585, -0.43499570927661463, -1.076760505534362, -2.851530141907224, -0.3583158919767544, -1.5432561099522224, -0.8784881122522841, -1.9603084686379697, -0.5885186370713009, 1.5997148736849103, 0.024734175690217294, 0.07809005053066699, 1.667352773288952, -1.287735836010282, -0.5990499600750134, 0.10309793710856048, 0.6049082987598869, 0.22668443288025425, -0.4085805437783098, 0.7047569911056685, -0.0058223868182907396], \"y\": [-1.784098720340015, 2.171244510657171, 0.6814350497909425, 1.6915046033363401, 0.18481649594853616, 1.3717132391682432, -1.2275847765325325, 0.1377905244967582, -1.1480009457520386, 0.26162442648712664, -0.3949869957178582, -1.4968385199265781, -1.2882205677288796, 0.734932556612695, 1.2232971975351834, -0.593392211027469, -1.0654669938822041, -0.3571674089948739, -0.13876162829474128, -0.2895293494986774, -0.48357022428835184, -1.3885923462518266, -0.5237646877578167, 1.3060138012560842, 0.25660307311615027, -0.8203047424592492, -0.4923162655865527, -0.4845844995598301, 1.1978422826877433, 2.0998690486150426, 1.01936669685555, -0.3386138535811944, -1.482145713226032, 2.2072307943488627, 0.7211135696527582, -1.8947101869608063, -1.6555186146259382, 0.6664471016106729, 0.6579972725992663, 0.26733180131832407, 0.8914121897579306, -0.5502327140222424, -0.7035046554239406, -0.9461377411810604, -0.6001142874070964, 0.02870046019532282, -1.7907167802754105, 1.3897741383929765, -0.016268510422112355, 0.5663514625633824, 1.9999017682580833, 1.6601667123454453, 0.6815372328213235, -0.8400593255846813, 1.11322310825198, 0.6606722621695404, 0.4375288477222289, -0.23405318147746282, 0.5886108970417825, -0.33299951352436286, -0.40185930102225387, -0.6635188196620705, 0.07704697176714438, -0.9213946986355144, -0.9831820012034149, 0.7946699447595283, -0.9991701796154964, 0.2815538007953517, 0.174998690858209, 0.8837798626530278, 0.9032875954210857, 0.24055208121983598, 0.5922894036824274, -1.2661514687988389, -0.8809610852153962, -0.12528969601901807, 0.6211367105295839, 0.13636933563037099, 0.5931900126435424, -1.4967044610569924, 0.5340581219643343, 0.3514056027479767, 0.4863662132233159, 0.24581933733395622, -2.059486231643359, -0.6300296950748387, 0.44013425063156586, 0.4473713899152323, -0.00047627043586563036, 0.2657031815297724, 2.201413247661273, -0.9173536467289062, -0.8332408625755586, -1.0151245854973656, 0.14016786526148148, 0.5585536889690439, -0.44476215618074133, -0.4413464723748191, -0.3494357165693916, -1.0018284495680674]}],\n",
       "                        {\"legend\": {\"bgcolor\": \"#F5F6F9\", \"font\": {\"color\": \"#4D5663\"}}, \"paper_bgcolor\": \"#F5F6F9\", \"plot_bgcolor\": \"#F5F6F9\", \"template\": {\"data\": {\"bar\": [{\"error_x\": {\"color\": \"#2a3f5f\"}, \"error_y\": {\"color\": \"#2a3f5f\"}, \"marker\": {\"line\": {\"color\": \"#E5ECF6\", \"width\": 0.5}}, \"type\": \"bar\"}], \"barpolar\": [{\"marker\": {\"line\": {\"color\": \"#E5ECF6\", \"width\": 0.5}}, \"type\": \"barpolar\"}], \"carpet\": [{\"aaxis\": {\"endlinecolor\": \"#2a3f5f\", \"gridcolor\": \"white\", \"linecolor\": \"white\", \"minorgridcolor\": \"white\", \"startlinecolor\": \"#2a3f5f\"}, \"baxis\": {\"endlinecolor\": \"#2a3f5f\", \"gridcolor\": \"white\", \"linecolor\": \"white\", \"minorgridcolor\": \"white\", \"startlinecolor\": \"#2a3f5f\"}, \"type\": \"carpet\"}], \"choropleth\": [{\"colorbar\": {\"outlinewidth\": 0, \"ticks\": \"\"}, \"type\": \"choropleth\"}], \"contour\": [{\"colorbar\": {\"outlinewidth\": 0, \"ticks\": \"\"}, \"colorscale\": [[0.0, \"#0d0887\"], [0.1111111111111111, \"#46039f\"], [0.2222222222222222, \"#7201a8\"], [0.3333333333333333, \"#9c179e\"], [0.4444444444444444, \"#bd3786\"], [0.5555555555555556, \"#d8576b\"], [0.6666666666666666, \"#ed7953\"], [0.7777777777777778, \"#fb9f3a\"], [0.8888888888888888, \"#fdca26\"], [1.0, \"#f0f921\"]], \"type\": \"contour\"}], \"contourcarpet\": [{\"colorbar\": {\"outlinewidth\": 0, \"ticks\": \"\"}, \"type\": \"contourcarpet\"}], \"heatmap\": [{\"colorbar\": {\"outlinewidth\": 0, \"ticks\": \"\"}, \"colorscale\": [[0.0, \"#0d0887\"], [0.1111111111111111, \"#46039f\"], [0.2222222222222222, \"#7201a8\"], [0.3333333333333333, \"#9c179e\"], [0.4444444444444444, \"#bd3786\"], [0.5555555555555556, \"#d8576b\"], [0.6666666666666666, \"#ed7953\"], [0.7777777777777778, \"#fb9f3a\"], [0.8888888888888888, \"#fdca26\"], [1.0, \"#f0f921\"]], \"type\": \"heatmap\"}], \"heatmapgl\": [{\"colorbar\": {\"outlinewidth\": 0, \"ticks\": \"\"}, \"colorscale\": [[0.0, \"#0d0887\"], [0.1111111111111111, \"#46039f\"], [0.2222222222222222, \"#7201a8\"], [0.3333333333333333, \"#9c179e\"], [0.4444444444444444, \"#bd3786\"], [0.5555555555555556, \"#d8576b\"], [0.6666666666666666, \"#ed7953\"], [0.7777777777777778, \"#fb9f3a\"], [0.8888888888888888, \"#fdca26\"], [1.0, \"#f0f921\"]], \"type\": \"heatmapgl\"}], \"histogram\": [{\"marker\": {\"colorbar\": {\"outlinewidth\": 0, \"ticks\": \"\"}}, \"type\": \"histogram\"}], \"histogram2d\": [{\"colorbar\": {\"outlinewidth\": 0, \"ticks\": \"\"}, \"colorscale\": [[0.0, \"#0d0887\"], [0.1111111111111111, \"#46039f\"], [0.2222222222222222, \"#7201a8\"], [0.3333333333333333, \"#9c179e\"], [0.4444444444444444, \"#bd3786\"], [0.5555555555555556, \"#d8576b\"], [0.6666666666666666, \"#ed7953\"], [0.7777777777777778, \"#fb9f3a\"], [0.8888888888888888, \"#fdca26\"], [1.0, \"#f0f921\"]], \"type\": \"histogram2d\"}], \"histogram2dcontour\": [{\"colorbar\": {\"outlinewidth\": 0, \"ticks\": \"\"}, \"colorscale\": [[0.0, \"#0d0887\"], [0.1111111111111111, \"#46039f\"], [0.2222222222222222, \"#7201a8\"], [0.3333333333333333, \"#9c179e\"], [0.4444444444444444, \"#bd3786\"], [0.5555555555555556, \"#d8576b\"], [0.6666666666666666, \"#ed7953\"], [0.7777777777777778, \"#fb9f3a\"], [0.8888888888888888, \"#fdca26\"], [1.0, \"#f0f921\"]], \"type\": \"histogram2dcontour\"}], \"mesh3d\": [{\"colorbar\": {\"outlinewidth\": 0, \"ticks\": \"\"}, \"type\": \"mesh3d\"}], \"parcoords\": [{\"line\": {\"colorbar\": {\"outlinewidth\": 0, \"ticks\": \"\"}}, \"type\": \"parcoords\"}], \"pie\": [{\"automargin\": true, \"type\": \"pie\"}], \"scatter\": [{\"marker\": {\"colorbar\": {\"outlinewidth\": 0, \"ticks\": \"\"}}, \"type\": \"scatter\"}], \"scatter3d\": [{\"line\": {\"colorbar\": {\"outlinewidth\": 0, \"ticks\": \"\"}}, \"marker\": {\"colorbar\": {\"outlinewidth\": 0, \"ticks\": \"\"}}, \"type\": \"scatter3d\"}], \"scattercarpet\": [{\"marker\": {\"colorbar\": {\"outlinewidth\": 0, \"ticks\": \"\"}}, \"type\": \"scattercarpet\"}], \"scattergeo\": [{\"marker\": {\"colorbar\": {\"outlinewidth\": 0, \"ticks\": \"\"}}, \"type\": \"scattergeo\"}], \"scattergl\": [{\"marker\": {\"colorbar\": {\"outlinewidth\": 0, \"ticks\": \"\"}}, \"type\": \"scattergl\"}], \"scattermapbox\": [{\"marker\": {\"colorbar\": {\"outlinewidth\": 0, \"ticks\": \"\"}}, \"type\": \"scattermapbox\"}], \"scatterpolar\": [{\"marker\": {\"colorbar\": {\"outlinewidth\": 0, \"ticks\": \"\"}}, \"type\": \"scatterpolar\"}], \"scatterpolargl\": [{\"marker\": {\"colorbar\": {\"outlinewidth\": 0, \"ticks\": \"\"}}, \"type\": \"scatterpolargl\"}], \"scatterternary\": [{\"marker\": {\"colorbar\": {\"outlinewidth\": 0, \"ticks\": \"\"}}, \"type\": \"scatterternary\"}], \"surface\": [{\"colorbar\": {\"outlinewidth\": 0, \"ticks\": \"\"}, \"colorscale\": [[0.0, \"#0d0887\"], [0.1111111111111111, \"#46039f\"], [0.2222222222222222, \"#7201a8\"], [0.3333333333333333, \"#9c179e\"], [0.4444444444444444, \"#bd3786\"], [0.5555555555555556, \"#d8576b\"], [0.6666666666666666, \"#ed7953\"], [0.7777777777777778, \"#fb9f3a\"], [0.8888888888888888, \"#fdca26\"], [1.0, \"#f0f921\"]], \"type\": \"surface\"}], \"table\": [{\"cells\": {\"fill\": {\"color\": \"#EBF0F8\"}, \"line\": {\"color\": \"white\"}}, \"header\": {\"fill\": {\"color\": \"#C8D4E3\"}, \"line\": {\"color\": \"white\"}}, \"type\": \"table\"}]}, \"layout\": {\"annotationdefaults\": {\"arrowcolor\": \"#2a3f5f\", \"arrowhead\": 0, \"arrowwidth\": 1}, \"coloraxis\": {\"colorbar\": {\"outlinewidth\": 0, \"ticks\": \"\"}}, \"colorscale\": {\"diverging\": [[0, \"#8e0152\"], [0.1, \"#c51b7d\"], [0.2, \"#de77ae\"], [0.3, \"#f1b6da\"], [0.4, \"#fde0ef\"], [0.5, \"#f7f7f7\"], [0.6, \"#e6f5d0\"], [0.7, \"#b8e186\"], [0.8, \"#7fbc41\"], [0.9, \"#4d9221\"], [1, \"#276419\"]], \"sequential\": [[0.0, \"#0d0887\"], [0.1111111111111111, \"#46039f\"], [0.2222222222222222, \"#7201a8\"], [0.3333333333333333, \"#9c179e\"], [0.4444444444444444, \"#bd3786\"], [0.5555555555555556, \"#d8576b\"], [0.6666666666666666, \"#ed7953\"], [0.7777777777777778, \"#fb9f3a\"], [0.8888888888888888, \"#fdca26\"], [1.0, \"#f0f921\"]], \"sequentialminus\": [[0.0, \"#0d0887\"], [0.1111111111111111, \"#46039f\"], [0.2222222222222222, \"#7201a8\"], [0.3333333333333333, \"#9c179e\"], [0.4444444444444444, \"#bd3786\"], [0.5555555555555556, \"#d8576b\"], [0.6666666666666666, \"#ed7953\"], [0.7777777777777778, \"#fb9f3a\"], [0.8888888888888888, \"#fdca26\"], [1.0, \"#f0f921\"]]}, \"colorway\": [\"#636efa\", \"#EF553B\", \"#00cc96\", \"#ab63fa\", \"#FFA15A\", \"#19d3f3\", \"#FF6692\", \"#B6E880\", \"#FF97FF\", \"#FECB52\"], \"font\": {\"color\": \"#2a3f5f\"}, \"geo\": {\"bgcolor\": \"white\", \"lakecolor\": \"white\", \"landcolor\": \"#E5ECF6\", \"showlakes\": true, \"showland\": true, \"subunitcolor\": \"white\"}, \"hoverlabel\": {\"align\": \"left\"}, \"hovermode\": \"closest\", \"mapbox\": {\"style\": \"light\"}, \"paper_bgcolor\": \"white\", \"plot_bgcolor\": \"#E5ECF6\", \"polar\": {\"angularaxis\": {\"gridcolor\": \"white\", \"linecolor\": \"white\", \"ticks\": \"\"}, \"bgcolor\": \"#E5ECF6\", \"radialaxis\": {\"gridcolor\": \"white\", \"linecolor\": \"white\", \"ticks\": \"\"}}, \"scene\": {\"xaxis\": {\"backgroundcolor\": \"#E5ECF6\", \"gridcolor\": \"white\", \"gridwidth\": 2, \"linecolor\": \"white\", \"showbackground\": true, \"ticks\": \"\", \"zerolinecolor\": \"white\"}, \"yaxis\": {\"backgroundcolor\": \"#E5ECF6\", \"gridcolor\": \"white\", \"gridwidth\": 2, \"linecolor\": \"white\", \"showbackground\": true, \"ticks\": \"\", \"zerolinecolor\": \"white\"}, \"zaxis\": {\"backgroundcolor\": \"#E5ECF6\", \"gridcolor\": \"white\", \"gridwidth\": 2, \"linecolor\": \"white\", \"showbackground\": true, \"ticks\": \"\", \"zerolinecolor\": \"white\"}}, \"shapedefaults\": {\"line\": {\"color\": \"#2a3f5f\"}}, \"ternary\": {\"aaxis\": {\"gridcolor\": \"white\", \"linecolor\": \"white\", \"ticks\": \"\"}, \"baxis\": {\"gridcolor\": \"white\", \"linecolor\": \"white\", \"ticks\": \"\"}, \"bgcolor\": \"#E5ECF6\", \"caxis\": {\"gridcolor\": \"white\", \"linecolor\": \"white\", \"ticks\": \"\"}}, \"title\": {\"x\": 0.05}, \"xaxis\": {\"automargin\": true, \"gridcolor\": \"white\", \"linecolor\": \"white\", \"ticks\": \"\", \"title\": {\"standoff\": 15}, \"zerolinecolor\": \"white\", \"zerolinewidth\": 2}, \"yaxis\": {\"automargin\": true, \"gridcolor\": \"white\", \"linecolor\": \"white\", \"ticks\": \"\", \"title\": {\"standoff\": 15}, \"zerolinecolor\": \"white\", \"zerolinewidth\": 2}}}, \"title\": {\"font\": {\"color\": \"#4D5663\"}}, \"xaxis\": {\"gridcolor\": \"#E1E5ED\", \"showgrid\": true, \"tickfont\": {\"color\": \"#4D5663\"}, \"title\": {\"font\": {\"color\": \"#4D5663\"}, \"text\": \"\"}, \"zerolinecolor\": \"#E1E5ED\"}, \"yaxis\": {\"gridcolor\": \"#E1E5ED\", \"showgrid\": true, \"tickfont\": {\"color\": \"#4D5663\"}, \"title\": {\"font\": {\"color\": \"#4D5663\"}, \"text\": \"\"}, \"zerolinecolor\": \"#E1E5ED\"}},\n",
       "                        {\"showLink\": true, \"linkText\": \"Export to plot.ly\", \"plotlyServerURL\": \"https://plot.ly\", \"responsive\": true}\n",
       "                    ).then(function(){\n",
       "                            \n",
       "var gd = document.getElementById('ed93e323-28f4-4862-8c65-d86756d7e542');\n",
       "var x = new MutationObserver(function (mutations, observer) {{\n",
       "        var display = window.getComputedStyle(gd).display;\n",
       "        if (!display || display === 'none') {{\n",
       "            console.log([gd, 'removed!']);\n",
       "            Plotly.purge(gd);\n",
       "            observer.disconnect();\n",
       "        }}\n",
       "}});\n",
       "\n",
       "// Listen for the removal of the full notebook cells\n",
       "var notebookContainer = gd.closest('#notebook-container');\n",
       "if (notebookContainer) {{\n",
       "    x.observe(notebookContainer, {childList: true});\n",
       "}}\n",
       "\n",
       "// Listen for the clearing of the current output cell\n",
       "var outputEl = gd.closest('.output');\n",
       "if (outputEl) {{\n",
       "    x.observe(outputEl, {childList: true});\n",
       "}}\n",
       "\n",
       "                        })\n",
       "                };\n",
       "                });\n",
       "            </script>\n",
       "        </div>"
      ]
     },
     "metadata": {},
     "output_type": "display_data"
    }
   ],
   "source": [
    "#Scatter i plot\n",
    "df.iplot(kind = 'scatter', x = 'A',y = 'B') #Funny,but of no use"
   ]
  },
  {
   "cell_type": "code",
   "execution_count": 42,
   "metadata": {},
   "outputs": [
    {
     "data": {
      "application/vnd.plotly.v1+json": {
       "config": {
        "linkText": "Export to plot.ly",
        "plotlyServerURL": "https://plot.ly",
        "showLink": true
       },
       "data": [
        {
         "line": {
          "color": "rgba(255, 153, 51, 1.0)",
          "dash": "solid",
          "shape": "linear",
          "width": 1.3
         },
         "marker": {
          "size": 12,
          "symbol": "circle"
         },
         "mode": "markers",
         "name": "B",
         "text": "",
         "type": "scatter",
         "x": [
          1.416593517660878,
          -0.14738395566749896,
          -1.7844796810424377,
          1.0916939562052876,
          0.8690310862451806,
          -0.9130881968676815,
          0.999815987739978,
          0.20249872319987558,
          0.6651541347542538,
          1.5904328259462475,
          0.9224191664291218,
          -0.18016206629497075,
          1.134944336265271,
          -0.19204911602866678,
          -0.7725701660993973,
          0.10063744605008441,
          0.10714591412949345,
          -0.42221541400028717,
          -0.8403776497203891,
          -0.34062561748689635,
          -0.9319306418128855,
          -2.7047515845412606,
          0.008464414016829484,
          -0.24679681716914537,
          -0.8891064856373092,
          -0.0976902393419508,
          2.0554795131481236,
          1.140205355254008,
          -1.3222237382657935,
          1.2972526054749431,
          1.2723501043391907,
          -1.0402921253786834,
          0.08975397544334109,
          -0.7211196617732506,
          0.46079850518443477,
          -0.0035295707984208287,
          -1.6680052301548915,
          0.39593916411591684,
          -0.036736725525066675,
          -0.18708565303207123,
          0.4090337394442913,
          -0.11516336115305838,
          -2.1023287946207225,
          0.7145964193033464,
          0.8992939935517598,
          -1.1066813776882152,
          -0.8429684555863061,
          0.8641921006942638,
          -0.5073841845450361,
          -0.8566073764635567,
          -0.26835127760692934,
          -1.2592951714357608,
          -0.880020854779105,
          1.3836949417430615,
          -0.8108977849120101,
          0.4561661807281345,
          0.004415115029279976,
          0.03828165518747515,
          -0.10676227658460166,
          1.028572156444397,
          -0.28421897250220285,
          0.8849806821994682,
          1.4380095987100332,
          -0.8877395811176105,
          1.228816832515203,
          0.7564202279095027,
          -0.2625169494179067,
          1.013996267722401,
          -0.4081800018537628,
          1.0211977886508627,
          0.7767951727052528,
          0.2911188894392512,
          -1.730474681675736,
          0.32841643489202166,
          0.07140028981004318,
          1.0689025968967223,
          -1.9049709066817657,
          -0.5405171578578922,
          -0.47397936749667924,
          -0.7220304917111585,
          -0.43499570927661463,
          -1.076760505534362,
          -2.851530141907224,
          -0.3583158919767544,
          -1.5432561099522224,
          -0.8784881122522841,
          -1.9603084686379697,
          -0.5885186370713009,
          1.5997148736849103,
          0.024734175690217294,
          0.07809005053066699,
          1.667352773288952,
          -1.287735836010282,
          -0.5990499600750134,
          0.10309793710856048,
          0.6049082987598869,
          0.22668443288025425,
          -0.4085805437783098,
          0.7047569911056685,
          -0.0058223868182907396
         ],
         "y": [
          -1.784098720340015,
          2.171244510657171,
          0.6814350497909425,
          1.6915046033363401,
          0.18481649594853616,
          1.3717132391682432,
          -1.2275847765325325,
          0.1377905244967582,
          -1.1480009457520386,
          0.26162442648712664,
          -0.3949869957178582,
          -1.4968385199265781,
          -1.2882205677288796,
          0.734932556612695,
          1.2232971975351834,
          -0.593392211027469,
          -1.0654669938822041,
          -0.3571674089948739,
          -0.13876162829474128,
          -0.2895293494986774,
          -0.48357022428835184,
          -1.3885923462518266,
          -0.5237646877578167,
          1.3060138012560842,
          0.25660307311615027,
          -0.8203047424592492,
          -0.4923162655865527,
          -0.4845844995598301,
          1.1978422826877433,
          2.0998690486150426,
          1.01936669685555,
          -0.3386138535811944,
          -1.482145713226032,
          2.2072307943488627,
          0.7211135696527582,
          -1.8947101869608063,
          -1.6555186146259382,
          0.6664471016106729,
          0.6579972725992663,
          0.26733180131832407,
          0.8914121897579306,
          -0.5502327140222424,
          -0.7035046554239406,
          -0.9461377411810604,
          -0.6001142874070964,
          0.02870046019532282,
          -1.7907167802754105,
          1.3897741383929765,
          -0.016268510422112355,
          0.5663514625633824,
          1.9999017682580833,
          1.6601667123454453,
          0.6815372328213235,
          -0.8400593255846813,
          1.11322310825198,
          0.6606722621695404,
          0.4375288477222289,
          -0.23405318147746282,
          0.5886108970417825,
          -0.33299951352436286,
          -0.40185930102225387,
          -0.6635188196620705,
          0.07704697176714438,
          -0.9213946986355144,
          -0.9831820012034149,
          0.7946699447595283,
          -0.9991701796154964,
          0.2815538007953517,
          0.174998690858209,
          0.8837798626530278,
          0.9032875954210857,
          0.24055208121983598,
          0.5922894036824274,
          -1.2661514687988389,
          -0.8809610852153962,
          -0.12528969601901807,
          0.6211367105295839,
          0.13636933563037099,
          0.5931900126435424,
          -1.4967044610569924,
          0.5340581219643343,
          0.3514056027479767,
          0.4863662132233159,
          0.24581933733395622,
          -2.059486231643359,
          -0.6300296950748387,
          0.44013425063156586,
          0.4473713899152323,
          -0.00047627043586563036,
          0.2657031815297724,
          2.201413247661273,
          -0.9173536467289062,
          -0.8332408625755586,
          -1.0151245854973656,
          0.14016786526148148,
          0.5585536889690439,
          -0.44476215618074133,
          -0.4413464723748191,
          -0.3494357165693916,
          -1.0018284495680674
         ]
        }
       ],
       "layout": {
        "legend": {
         "bgcolor": "#F5F6F9",
         "font": {
          "color": "#4D5663"
         }
        },
        "paper_bgcolor": "#F5F6F9",
        "plot_bgcolor": "#F5F6F9",
        "template": {
         "data": {
          "bar": [
           {
            "error_x": {
             "color": "#2a3f5f"
            },
            "error_y": {
             "color": "#2a3f5f"
            },
            "marker": {
             "line": {
              "color": "#E5ECF6",
              "width": 0.5
             }
            },
            "type": "bar"
           }
          ],
          "barpolar": [
           {
            "marker": {
             "line": {
              "color": "#E5ECF6",
              "width": 0.5
             }
            },
            "type": "barpolar"
           }
          ],
          "carpet": [
           {
            "aaxis": {
             "endlinecolor": "#2a3f5f",
             "gridcolor": "white",
             "linecolor": "white",
             "minorgridcolor": "white",
             "startlinecolor": "#2a3f5f"
            },
            "baxis": {
             "endlinecolor": "#2a3f5f",
             "gridcolor": "white",
             "linecolor": "white",
             "minorgridcolor": "white",
             "startlinecolor": "#2a3f5f"
            },
            "type": "carpet"
           }
          ],
          "choropleth": [
           {
            "colorbar": {
             "outlinewidth": 0,
             "ticks": ""
            },
            "type": "choropleth"
           }
          ],
          "contour": [
           {
            "colorbar": {
             "outlinewidth": 0,
             "ticks": ""
            },
            "colorscale": [
             [
              0,
              "#0d0887"
             ],
             [
              0.1111111111111111,
              "#46039f"
             ],
             [
              0.2222222222222222,
              "#7201a8"
             ],
             [
              0.3333333333333333,
              "#9c179e"
             ],
             [
              0.4444444444444444,
              "#bd3786"
             ],
             [
              0.5555555555555556,
              "#d8576b"
             ],
             [
              0.6666666666666666,
              "#ed7953"
             ],
             [
              0.7777777777777778,
              "#fb9f3a"
             ],
             [
              0.8888888888888888,
              "#fdca26"
             ],
             [
              1,
              "#f0f921"
             ]
            ],
            "type": "contour"
           }
          ],
          "contourcarpet": [
           {
            "colorbar": {
             "outlinewidth": 0,
             "ticks": ""
            },
            "type": "contourcarpet"
           }
          ],
          "heatmap": [
           {
            "colorbar": {
             "outlinewidth": 0,
             "ticks": ""
            },
            "colorscale": [
             [
              0,
              "#0d0887"
             ],
             [
              0.1111111111111111,
              "#46039f"
             ],
             [
              0.2222222222222222,
              "#7201a8"
             ],
             [
              0.3333333333333333,
              "#9c179e"
             ],
             [
              0.4444444444444444,
              "#bd3786"
             ],
             [
              0.5555555555555556,
              "#d8576b"
             ],
             [
              0.6666666666666666,
              "#ed7953"
             ],
             [
              0.7777777777777778,
              "#fb9f3a"
             ],
             [
              0.8888888888888888,
              "#fdca26"
             ],
             [
              1,
              "#f0f921"
             ]
            ],
            "type": "heatmap"
           }
          ],
          "heatmapgl": [
           {
            "colorbar": {
             "outlinewidth": 0,
             "ticks": ""
            },
            "colorscale": [
             [
              0,
              "#0d0887"
             ],
             [
              0.1111111111111111,
              "#46039f"
             ],
             [
              0.2222222222222222,
              "#7201a8"
             ],
             [
              0.3333333333333333,
              "#9c179e"
             ],
             [
              0.4444444444444444,
              "#bd3786"
             ],
             [
              0.5555555555555556,
              "#d8576b"
             ],
             [
              0.6666666666666666,
              "#ed7953"
             ],
             [
              0.7777777777777778,
              "#fb9f3a"
             ],
             [
              0.8888888888888888,
              "#fdca26"
             ],
             [
              1,
              "#f0f921"
             ]
            ],
            "type": "heatmapgl"
           }
          ],
          "histogram": [
           {
            "marker": {
             "colorbar": {
              "outlinewidth": 0,
              "ticks": ""
             }
            },
            "type": "histogram"
           }
          ],
          "histogram2d": [
           {
            "colorbar": {
             "outlinewidth": 0,
             "ticks": ""
            },
            "colorscale": [
             [
              0,
              "#0d0887"
             ],
             [
              0.1111111111111111,
              "#46039f"
             ],
             [
              0.2222222222222222,
              "#7201a8"
             ],
             [
              0.3333333333333333,
              "#9c179e"
             ],
             [
              0.4444444444444444,
              "#bd3786"
             ],
             [
              0.5555555555555556,
              "#d8576b"
             ],
             [
              0.6666666666666666,
              "#ed7953"
             ],
             [
              0.7777777777777778,
              "#fb9f3a"
             ],
             [
              0.8888888888888888,
              "#fdca26"
             ],
             [
              1,
              "#f0f921"
             ]
            ],
            "type": "histogram2d"
           }
          ],
          "histogram2dcontour": [
           {
            "colorbar": {
             "outlinewidth": 0,
             "ticks": ""
            },
            "colorscale": [
             [
              0,
              "#0d0887"
             ],
             [
              0.1111111111111111,
              "#46039f"
             ],
             [
              0.2222222222222222,
              "#7201a8"
             ],
             [
              0.3333333333333333,
              "#9c179e"
             ],
             [
              0.4444444444444444,
              "#bd3786"
             ],
             [
              0.5555555555555556,
              "#d8576b"
             ],
             [
              0.6666666666666666,
              "#ed7953"
             ],
             [
              0.7777777777777778,
              "#fb9f3a"
             ],
             [
              0.8888888888888888,
              "#fdca26"
             ],
             [
              1,
              "#f0f921"
             ]
            ],
            "type": "histogram2dcontour"
           }
          ],
          "mesh3d": [
           {
            "colorbar": {
             "outlinewidth": 0,
             "ticks": ""
            },
            "type": "mesh3d"
           }
          ],
          "parcoords": [
           {
            "line": {
             "colorbar": {
              "outlinewidth": 0,
              "ticks": ""
             }
            },
            "type": "parcoords"
           }
          ],
          "pie": [
           {
            "automargin": true,
            "type": "pie"
           }
          ],
          "scatter": [
           {
            "marker": {
             "colorbar": {
              "outlinewidth": 0,
              "ticks": ""
             }
            },
            "type": "scatter"
           }
          ],
          "scatter3d": [
           {
            "line": {
             "colorbar": {
              "outlinewidth": 0,
              "ticks": ""
             }
            },
            "marker": {
             "colorbar": {
              "outlinewidth": 0,
              "ticks": ""
             }
            },
            "type": "scatter3d"
           }
          ],
          "scattercarpet": [
           {
            "marker": {
             "colorbar": {
              "outlinewidth": 0,
              "ticks": ""
             }
            },
            "type": "scattercarpet"
           }
          ],
          "scattergeo": [
           {
            "marker": {
             "colorbar": {
              "outlinewidth": 0,
              "ticks": ""
             }
            },
            "type": "scattergeo"
           }
          ],
          "scattergl": [
           {
            "marker": {
             "colorbar": {
              "outlinewidth": 0,
              "ticks": ""
             }
            },
            "type": "scattergl"
           }
          ],
          "scattermapbox": [
           {
            "marker": {
             "colorbar": {
              "outlinewidth": 0,
              "ticks": ""
             }
            },
            "type": "scattermapbox"
           }
          ],
          "scatterpolar": [
           {
            "marker": {
             "colorbar": {
              "outlinewidth": 0,
              "ticks": ""
             }
            },
            "type": "scatterpolar"
           }
          ],
          "scatterpolargl": [
           {
            "marker": {
             "colorbar": {
              "outlinewidth": 0,
              "ticks": ""
             }
            },
            "type": "scatterpolargl"
           }
          ],
          "scatterternary": [
           {
            "marker": {
             "colorbar": {
              "outlinewidth": 0,
              "ticks": ""
             }
            },
            "type": "scatterternary"
           }
          ],
          "surface": [
           {
            "colorbar": {
             "outlinewidth": 0,
             "ticks": ""
            },
            "colorscale": [
             [
              0,
              "#0d0887"
             ],
             [
              0.1111111111111111,
              "#46039f"
             ],
             [
              0.2222222222222222,
              "#7201a8"
             ],
             [
              0.3333333333333333,
              "#9c179e"
             ],
             [
              0.4444444444444444,
              "#bd3786"
             ],
             [
              0.5555555555555556,
              "#d8576b"
             ],
             [
              0.6666666666666666,
              "#ed7953"
             ],
             [
              0.7777777777777778,
              "#fb9f3a"
             ],
             [
              0.8888888888888888,
              "#fdca26"
             ],
             [
              1,
              "#f0f921"
             ]
            ],
            "type": "surface"
           }
          ],
          "table": [
           {
            "cells": {
             "fill": {
              "color": "#EBF0F8"
             },
             "line": {
              "color": "white"
             }
            },
            "header": {
             "fill": {
              "color": "#C8D4E3"
             },
             "line": {
              "color": "white"
             }
            },
            "type": "table"
           }
          ]
         },
         "layout": {
          "annotationdefaults": {
           "arrowcolor": "#2a3f5f",
           "arrowhead": 0,
           "arrowwidth": 1
          },
          "coloraxis": {
           "colorbar": {
            "outlinewidth": 0,
            "ticks": ""
           }
          },
          "colorscale": {
           "diverging": [
            [
             0,
             "#8e0152"
            ],
            [
             0.1,
             "#c51b7d"
            ],
            [
             0.2,
             "#de77ae"
            ],
            [
             0.3,
             "#f1b6da"
            ],
            [
             0.4,
             "#fde0ef"
            ],
            [
             0.5,
             "#f7f7f7"
            ],
            [
             0.6,
             "#e6f5d0"
            ],
            [
             0.7,
             "#b8e186"
            ],
            [
             0.8,
             "#7fbc41"
            ],
            [
             0.9,
             "#4d9221"
            ],
            [
             1,
             "#276419"
            ]
           ],
           "sequential": [
            [
             0,
             "#0d0887"
            ],
            [
             0.1111111111111111,
             "#46039f"
            ],
            [
             0.2222222222222222,
             "#7201a8"
            ],
            [
             0.3333333333333333,
             "#9c179e"
            ],
            [
             0.4444444444444444,
             "#bd3786"
            ],
            [
             0.5555555555555556,
             "#d8576b"
            ],
            [
             0.6666666666666666,
             "#ed7953"
            ],
            [
             0.7777777777777778,
             "#fb9f3a"
            ],
            [
             0.8888888888888888,
             "#fdca26"
            ],
            [
             1,
             "#f0f921"
            ]
           ],
           "sequentialminus": [
            [
             0,
             "#0d0887"
            ],
            [
             0.1111111111111111,
             "#46039f"
            ],
            [
             0.2222222222222222,
             "#7201a8"
            ],
            [
             0.3333333333333333,
             "#9c179e"
            ],
            [
             0.4444444444444444,
             "#bd3786"
            ],
            [
             0.5555555555555556,
             "#d8576b"
            ],
            [
             0.6666666666666666,
             "#ed7953"
            ],
            [
             0.7777777777777778,
             "#fb9f3a"
            ],
            [
             0.8888888888888888,
             "#fdca26"
            ],
            [
             1,
             "#f0f921"
            ]
           ]
          },
          "colorway": [
           "#636efa",
           "#EF553B",
           "#00cc96",
           "#ab63fa",
           "#FFA15A",
           "#19d3f3",
           "#FF6692",
           "#B6E880",
           "#FF97FF",
           "#FECB52"
          ],
          "font": {
           "color": "#2a3f5f"
          },
          "geo": {
           "bgcolor": "white",
           "lakecolor": "white",
           "landcolor": "#E5ECF6",
           "showlakes": true,
           "showland": true,
           "subunitcolor": "white"
          },
          "hoverlabel": {
           "align": "left"
          },
          "hovermode": "closest",
          "mapbox": {
           "style": "light"
          },
          "paper_bgcolor": "white",
          "plot_bgcolor": "#E5ECF6",
          "polar": {
           "angularaxis": {
            "gridcolor": "white",
            "linecolor": "white",
            "ticks": ""
           },
           "bgcolor": "#E5ECF6",
           "radialaxis": {
            "gridcolor": "white",
            "linecolor": "white",
            "ticks": ""
           }
          },
          "scene": {
           "xaxis": {
            "backgroundcolor": "#E5ECF6",
            "gridcolor": "white",
            "gridwidth": 2,
            "linecolor": "white",
            "showbackground": true,
            "ticks": "",
            "zerolinecolor": "white"
           },
           "yaxis": {
            "backgroundcolor": "#E5ECF6",
            "gridcolor": "white",
            "gridwidth": 2,
            "linecolor": "white",
            "showbackground": true,
            "ticks": "",
            "zerolinecolor": "white"
           },
           "zaxis": {
            "backgroundcolor": "#E5ECF6",
            "gridcolor": "white",
            "gridwidth": 2,
            "linecolor": "white",
            "showbackground": true,
            "ticks": "",
            "zerolinecolor": "white"
           }
          },
          "shapedefaults": {
           "line": {
            "color": "#2a3f5f"
           }
          },
          "ternary": {
           "aaxis": {
            "gridcolor": "white",
            "linecolor": "white",
            "ticks": ""
           },
           "baxis": {
            "gridcolor": "white",
            "linecolor": "white",
            "ticks": ""
           },
           "bgcolor": "#E5ECF6",
           "caxis": {
            "gridcolor": "white",
            "linecolor": "white",
            "ticks": ""
           }
          },
          "title": {
           "x": 0.05
          },
          "xaxis": {
           "automargin": true,
           "gridcolor": "white",
           "linecolor": "white",
           "ticks": "",
           "title": {
            "standoff": 15
           },
           "zerolinecolor": "white",
           "zerolinewidth": 2
          },
          "yaxis": {
           "automargin": true,
           "gridcolor": "white",
           "linecolor": "white",
           "ticks": "",
           "title": {
            "standoff": 15
           },
           "zerolinecolor": "white",
           "zerolinewidth": 2
          }
         }
        },
        "title": {
         "font": {
          "color": "#4D5663"
         }
        },
        "xaxis": {
         "gridcolor": "#E1E5ED",
         "showgrid": true,
         "tickfont": {
          "color": "#4D5663"
         },
         "title": {
          "font": {
           "color": "#4D5663"
          },
          "text": ""
         },
         "zerolinecolor": "#E1E5ED"
        },
        "yaxis": {
         "gridcolor": "#E1E5ED",
         "showgrid": true,
         "tickfont": {
          "color": "#4D5663"
         },
         "title": {
          "font": {
           "color": "#4D5663"
          },
          "text": ""
         },
         "zerolinecolor": "#E1E5ED"
        }
       }
      },
      "text/html": [
       "<div>\n",
       "        \n",
       "        \n",
       "            <div id=\"1368b3ee-c427-4289-85a4-ac87807bfb06\" class=\"plotly-graph-div\" style=\"height:525px; width:100%;\"></div>\n",
       "            <script type=\"text/javascript\">\n",
       "                require([\"plotly\"], function(Plotly) {\n",
       "                    window.PLOTLYENV=window.PLOTLYENV || {};\n",
       "                    window.PLOTLYENV.BASE_URL='https://plot.ly';\n",
       "                    \n",
       "                if (document.getElementById(\"1368b3ee-c427-4289-85a4-ac87807bfb06\")) {\n",
       "                    Plotly.newPlot(\n",
       "                        '1368b3ee-c427-4289-85a4-ac87807bfb06',\n",
       "                        [{\"line\": {\"color\": \"rgba(255, 153, 51, 1.0)\", \"dash\": \"solid\", \"shape\": \"linear\", \"width\": 1.3}, \"marker\": {\"size\": 12, \"symbol\": \"circle\"}, \"mode\": \"markers\", \"name\": \"B\", \"text\": \"\", \"type\": \"scatter\", \"x\": [1.416593517660878, -0.14738395566749896, -1.7844796810424377, 1.0916939562052876, 0.8690310862451806, -0.9130881968676815, 0.999815987739978, 0.20249872319987558, 0.6651541347542538, 1.5904328259462475, 0.9224191664291218, -0.18016206629497075, 1.134944336265271, -0.19204911602866678, -0.7725701660993973, 0.10063744605008441, 0.10714591412949345, -0.42221541400028717, -0.8403776497203891, -0.34062561748689635, -0.9319306418128855, -2.7047515845412606, 0.008464414016829484, -0.24679681716914537, -0.8891064856373092, -0.0976902393419508, 2.0554795131481236, 1.140205355254008, -1.3222237382657935, 1.2972526054749431, 1.2723501043391907, -1.0402921253786834, 0.08975397544334109, -0.7211196617732506, 0.46079850518443477, -0.0035295707984208287, -1.6680052301548915, 0.39593916411591684, -0.036736725525066675, -0.18708565303207123, 0.4090337394442913, -0.11516336115305838, -2.1023287946207225, 0.7145964193033464, 0.8992939935517598, -1.1066813776882152, -0.8429684555863061, 0.8641921006942638, -0.5073841845450361, -0.8566073764635567, -0.26835127760692934, -1.2592951714357608, -0.880020854779105, 1.3836949417430615, -0.8108977849120101, 0.4561661807281345, 0.004415115029279976, 0.03828165518747515, -0.10676227658460166, 1.028572156444397, -0.28421897250220285, 0.8849806821994682, 1.4380095987100332, -0.8877395811176105, 1.228816832515203, 0.7564202279095027, -0.2625169494179067, 1.013996267722401, -0.4081800018537628, 1.0211977886508627, 0.7767951727052528, 0.2911188894392512, -1.730474681675736, 0.32841643489202166, 0.07140028981004318, 1.0689025968967223, -1.9049709066817657, -0.5405171578578922, -0.47397936749667924, -0.7220304917111585, -0.43499570927661463, -1.076760505534362, -2.851530141907224, -0.3583158919767544, -1.5432561099522224, -0.8784881122522841, -1.9603084686379697, -0.5885186370713009, 1.5997148736849103, 0.024734175690217294, 0.07809005053066699, 1.667352773288952, -1.287735836010282, -0.5990499600750134, 0.10309793710856048, 0.6049082987598869, 0.22668443288025425, -0.4085805437783098, 0.7047569911056685, -0.0058223868182907396], \"y\": [-1.784098720340015, 2.171244510657171, 0.6814350497909425, 1.6915046033363401, 0.18481649594853616, 1.3717132391682432, -1.2275847765325325, 0.1377905244967582, -1.1480009457520386, 0.26162442648712664, -0.3949869957178582, -1.4968385199265781, -1.2882205677288796, 0.734932556612695, 1.2232971975351834, -0.593392211027469, -1.0654669938822041, -0.3571674089948739, -0.13876162829474128, -0.2895293494986774, -0.48357022428835184, -1.3885923462518266, -0.5237646877578167, 1.3060138012560842, 0.25660307311615027, -0.8203047424592492, -0.4923162655865527, -0.4845844995598301, 1.1978422826877433, 2.0998690486150426, 1.01936669685555, -0.3386138535811944, -1.482145713226032, 2.2072307943488627, 0.7211135696527582, -1.8947101869608063, -1.6555186146259382, 0.6664471016106729, 0.6579972725992663, 0.26733180131832407, 0.8914121897579306, -0.5502327140222424, -0.7035046554239406, -0.9461377411810604, -0.6001142874070964, 0.02870046019532282, -1.7907167802754105, 1.3897741383929765, -0.016268510422112355, 0.5663514625633824, 1.9999017682580833, 1.6601667123454453, 0.6815372328213235, -0.8400593255846813, 1.11322310825198, 0.6606722621695404, 0.4375288477222289, -0.23405318147746282, 0.5886108970417825, -0.33299951352436286, -0.40185930102225387, -0.6635188196620705, 0.07704697176714438, -0.9213946986355144, -0.9831820012034149, 0.7946699447595283, -0.9991701796154964, 0.2815538007953517, 0.174998690858209, 0.8837798626530278, 0.9032875954210857, 0.24055208121983598, 0.5922894036824274, -1.2661514687988389, -0.8809610852153962, -0.12528969601901807, 0.6211367105295839, 0.13636933563037099, 0.5931900126435424, -1.4967044610569924, 0.5340581219643343, 0.3514056027479767, 0.4863662132233159, 0.24581933733395622, -2.059486231643359, -0.6300296950748387, 0.44013425063156586, 0.4473713899152323, -0.00047627043586563036, 0.2657031815297724, 2.201413247661273, -0.9173536467289062, -0.8332408625755586, -1.0151245854973656, 0.14016786526148148, 0.5585536889690439, -0.44476215618074133, -0.4413464723748191, -0.3494357165693916, -1.0018284495680674]}],\n",
       "                        {\"legend\": {\"bgcolor\": \"#F5F6F9\", \"font\": {\"color\": \"#4D5663\"}}, \"paper_bgcolor\": \"#F5F6F9\", \"plot_bgcolor\": \"#F5F6F9\", \"template\": {\"data\": {\"bar\": [{\"error_x\": {\"color\": \"#2a3f5f\"}, \"error_y\": {\"color\": \"#2a3f5f\"}, \"marker\": {\"line\": {\"color\": \"#E5ECF6\", \"width\": 0.5}}, \"type\": \"bar\"}], \"barpolar\": [{\"marker\": {\"line\": {\"color\": \"#E5ECF6\", \"width\": 0.5}}, \"type\": \"barpolar\"}], \"carpet\": [{\"aaxis\": {\"endlinecolor\": \"#2a3f5f\", \"gridcolor\": \"white\", \"linecolor\": \"white\", \"minorgridcolor\": \"white\", \"startlinecolor\": \"#2a3f5f\"}, \"baxis\": {\"endlinecolor\": \"#2a3f5f\", \"gridcolor\": \"white\", \"linecolor\": \"white\", \"minorgridcolor\": \"white\", \"startlinecolor\": \"#2a3f5f\"}, \"type\": \"carpet\"}], \"choropleth\": [{\"colorbar\": {\"outlinewidth\": 0, \"ticks\": \"\"}, \"type\": \"choropleth\"}], \"contour\": [{\"colorbar\": {\"outlinewidth\": 0, \"ticks\": \"\"}, \"colorscale\": [[0.0, \"#0d0887\"], [0.1111111111111111, \"#46039f\"], [0.2222222222222222, \"#7201a8\"], [0.3333333333333333, \"#9c179e\"], [0.4444444444444444, \"#bd3786\"], [0.5555555555555556, \"#d8576b\"], [0.6666666666666666, \"#ed7953\"], [0.7777777777777778, \"#fb9f3a\"], [0.8888888888888888, \"#fdca26\"], [1.0, \"#f0f921\"]], \"type\": \"contour\"}], \"contourcarpet\": [{\"colorbar\": {\"outlinewidth\": 0, \"ticks\": \"\"}, \"type\": \"contourcarpet\"}], \"heatmap\": [{\"colorbar\": {\"outlinewidth\": 0, \"ticks\": \"\"}, \"colorscale\": [[0.0, \"#0d0887\"], [0.1111111111111111, \"#46039f\"], [0.2222222222222222, \"#7201a8\"], [0.3333333333333333, \"#9c179e\"], [0.4444444444444444, \"#bd3786\"], [0.5555555555555556, \"#d8576b\"], [0.6666666666666666, \"#ed7953\"], [0.7777777777777778, \"#fb9f3a\"], [0.8888888888888888, \"#fdca26\"], [1.0, \"#f0f921\"]], \"type\": \"heatmap\"}], \"heatmapgl\": [{\"colorbar\": {\"outlinewidth\": 0, \"ticks\": \"\"}, \"colorscale\": [[0.0, \"#0d0887\"], [0.1111111111111111, \"#46039f\"], [0.2222222222222222, \"#7201a8\"], [0.3333333333333333, \"#9c179e\"], [0.4444444444444444, \"#bd3786\"], [0.5555555555555556, \"#d8576b\"], [0.6666666666666666, \"#ed7953\"], [0.7777777777777778, \"#fb9f3a\"], [0.8888888888888888, \"#fdca26\"], [1.0, \"#f0f921\"]], \"type\": \"heatmapgl\"}], \"histogram\": [{\"marker\": {\"colorbar\": {\"outlinewidth\": 0, \"ticks\": \"\"}}, \"type\": \"histogram\"}], \"histogram2d\": [{\"colorbar\": {\"outlinewidth\": 0, \"ticks\": \"\"}, \"colorscale\": [[0.0, \"#0d0887\"], [0.1111111111111111, \"#46039f\"], [0.2222222222222222, \"#7201a8\"], [0.3333333333333333, \"#9c179e\"], [0.4444444444444444, \"#bd3786\"], [0.5555555555555556, \"#d8576b\"], [0.6666666666666666, \"#ed7953\"], [0.7777777777777778, \"#fb9f3a\"], [0.8888888888888888, \"#fdca26\"], [1.0, \"#f0f921\"]], \"type\": \"histogram2d\"}], \"histogram2dcontour\": [{\"colorbar\": {\"outlinewidth\": 0, \"ticks\": \"\"}, \"colorscale\": [[0.0, \"#0d0887\"], [0.1111111111111111, \"#46039f\"], [0.2222222222222222, \"#7201a8\"], [0.3333333333333333, \"#9c179e\"], [0.4444444444444444, \"#bd3786\"], [0.5555555555555556, \"#d8576b\"], [0.6666666666666666, \"#ed7953\"], [0.7777777777777778, \"#fb9f3a\"], [0.8888888888888888, \"#fdca26\"], [1.0, \"#f0f921\"]], \"type\": \"histogram2dcontour\"}], \"mesh3d\": [{\"colorbar\": {\"outlinewidth\": 0, \"ticks\": \"\"}, \"type\": \"mesh3d\"}], \"parcoords\": [{\"line\": {\"colorbar\": {\"outlinewidth\": 0, \"ticks\": \"\"}}, \"type\": \"parcoords\"}], \"pie\": [{\"automargin\": true, \"type\": \"pie\"}], \"scatter\": [{\"marker\": {\"colorbar\": {\"outlinewidth\": 0, \"ticks\": \"\"}}, \"type\": \"scatter\"}], \"scatter3d\": [{\"line\": {\"colorbar\": {\"outlinewidth\": 0, \"ticks\": \"\"}}, \"marker\": {\"colorbar\": {\"outlinewidth\": 0, \"ticks\": \"\"}}, \"type\": \"scatter3d\"}], \"scattercarpet\": [{\"marker\": {\"colorbar\": {\"outlinewidth\": 0, \"ticks\": \"\"}}, \"type\": \"scattercarpet\"}], \"scattergeo\": [{\"marker\": {\"colorbar\": {\"outlinewidth\": 0, \"ticks\": \"\"}}, \"type\": \"scattergeo\"}], \"scattergl\": [{\"marker\": {\"colorbar\": {\"outlinewidth\": 0, \"ticks\": \"\"}}, \"type\": \"scattergl\"}], \"scattermapbox\": [{\"marker\": {\"colorbar\": {\"outlinewidth\": 0, \"ticks\": \"\"}}, \"type\": \"scattermapbox\"}], \"scatterpolar\": [{\"marker\": {\"colorbar\": {\"outlinewidth\": 0, \"ticks\": \"\"}}, \"type\": \"scatterpolar\"}], \"scatterpolargl\": [{\"marker\": {\"colorbar\": {\"outlinewidth\": 0, \"ticks\": \"\"}}, \"type\": \"scatterpolargl\"}], \"scatterternary\": [{\"marker\": {\"colorbar\": {\"outlinewidth\": 0, \"ticks\": \"\"}}, \"type\": \"scatterternary\"}], \"surface\": [{\"colorbar\": {\"outlinewidth\": 0, \"ticks\": \"\"}, \"colorscale\": [[0.0, \"#0d0887\"], [0.1111111111111111, \"#46039f\"], [0.2222222222222222, \"#7201a8\"], [0.3333333333333333, \"#9c179e\"], [0.4444444444444444, \"#bd3786\"], [0.5555555555555556, \"#d8576b\"], [0.6666666666666666, \"#ed7953\"], [0.7777777777777778, \"#fb9f3a\"], [0.8888888888888888, \"#fdca26\"], [1.0, \"#f0f921\"]], \"type\": \"surface\"}], \"table\": [{\"cells\": {\"fill\": {\"color\": \"#EBF0F8\"}, \"line\": {\"color\": \"white\"}}, \"header\": {\"fill\": {\"color\": \"#C8D4E3\"}, \"line\": {\"color\": \"white\"}}, \"type\": \"table\"}]}, \"layout\": {\"annotationdefaults\": {\"arrowcolor\": \"#2a3f5f\", \"arrowhead\": 0, \"arrowwidth\": 1}, \"coloraxis\": {\"colorbar\": {\"outlinewidth\": 0, \"ticks\": \"\"}}, \"colorscale\": {\"diverging\": [[0, \"#8e0152\"], [0.1, \"#c51b7d\"], [0.2, \"#de77ae\"], [0.3, \"#f1b6da\"], [0.4, \"#fde0ef\"], [0.5, \"#f7f7f7\"], [0.6, \"#e6f5d0\"], [0.7, \"#b8e186\"], [0.8, \"#7fbc41\"], [0.9, \"#4d9221\"], [1, \"#276419\"]], \"sequential\": [[0.0, \"#0d0887\"], [0.1111111111111111, \"#46039f\"], [0.2222222222222222, \"#7201a8\"], [0.3333333333333333, \"#9c179e\"], [0.4444444444444444, \"#bd3786\"], [0.5555555555555556, \"#d8576b\"], [0.6666666666666666, \"#ed7953\"], [0.7777777777777778, \"#fb9f3a\"], [0.8888888888888888, \"#fdca26\"], [1.0, \"#f0f921\"]], \"sequentialminus\": [[0.0, \"#0d0887\"], [0.1111111111111111, \"#46039f\"], [0.2222222222222222, \"#7201a8\"], [0.3333333333333333, \"#9c179e\"], [0.4444444444444444, \"#bd3786\"], [0.5555555555555556, \"#d8576b\"], [0.6666666666666666, \"#ed7953\"], [0.7777777777777778, \"#fb9f3a\"], [0.8888888888888888, \"#fdca26\"], [1.0, \"#f0f921\"]]}, \"colorway\": [\"#636efa\", \"#EF553B\", \"#00cc96\", \"#ab63fa\", \"#FFA15A\", \"#19d3f3\", \"#FF6692\", \"#B6E880\", \"#FF97FF\", \"#FECB52\"], \"font\": {\"color\": \"#2a3f5f\"}, \"geo\": {\"bgcolor\": \"white\", \"lakecolor\": \"white\", \"landcolor\": \"#E5ECF6\", \"showlakes\": true, \"showland\": true, \"subunitcolor\": \"white\"}, \"hoverlabel\": {\"align\": \"left\"}, \"hovermode\": \"closest\", \"mapbox\": {\"style\": \"light\"}, \"paper_bgcolor\": \"white\", \"plot_bgcolor\": \"#E5ECF6\", \"polar\": {\"angularaxis\": {\"gridcolor\": \"white\", \"linecolor\": \"white\", \"ticks\": \"\"}, \"bgcolor\": \"#E5ECF6\", \"radialaxis\": {\"gridcolor\": \"white\", \"linecolor\": \"white\", \"ticks\": \"\"}}, \"scene\": {\"xaxis\": {\"backgroundcolor\": \"#E5ECF6\", \"gridcolor\": \"white\", \"gridwidth\": 2, \"linecolor\": \"white\", \"showbackground\": true, \"ticks\": \"\", \"zerolinecolor\": \"white\"}, \"yaxis\": {\"backgroundcolor\": \"#E5ECF6\", \"gridcolor\": \"white\", \"gridwidth\": 2, \"linecolor\": \"white\", \"showbackground\": true, \"ticks\": \"\", \"zerolinecolor\": \"white\"}, \"zaxis\": {\"backgroundcolor\": \"#E5ECF6\", \"gridcolor\": \"white\", \"gridwidth\": 2, \"linecolor\": \"white\", \"showbackground\": true, \"ticks\": \"\", \"zerolinecolor\": \"white\"}}, \"shapedefaults\": {\"line\": {\"color\": \"#2a3f5f\"}}, \"ternary\": {\"aaxis\": {\"gridcolor\": \"white\", \"linecolor\": \"white\", \"ticks\": \"\"}, \"baxis\": {\"gridcolor\": \"white\", \"linecolor\": \"white\", \"ticks\": \"\"}, \"bgcolor\": \"#E5ECF6\", \"caxis\": {\"gridcolor\": \"white\", \"linecolor\": \"white\", \"ticks\": \"\"}}, \"title\": {\"x\": 0.05}, \"xaxis\": {\"automargin\": true, \"gridcolor\": \"white\", \"linecolor\": \"white\", \"ticks\": \"\", \"title\": {\"standoff\": 15}, \"zerolinecolor\": \"white\", \"zerolinewidth\": 2}, \"yaxis\": {\"automargin\": true, \"gridcolor\": \"white\", \"linecolor\": \"white\", \"ticks\": \"\", \"title\": {\"standoff\": 15}, \"zerolinecolor\": \"white\", \"zerolinewidth\": 2}}}, \"title\": {\"font\": {\"color\": \"#4D5663\"}}, \"xaxis\": {\"gridcolor\": \"#E1E5ED\", \"showgrid\": true, \"tickfont\": {\"color\": \"#4D5663\"}, \"title\": {\"font\": {\"color\": \"#4D5663\"}, \"text\": \"\"}, \"zerolinecolor\": \"#E1E5ED\"}, \"yaxis\": {\"gridcolor\": \"#E1E5ED\", \"showgrid\": true, \"tickfont\": {\"color\": \"#4D5663\"}, \"title\": {\"font\": {\"color\": \"#4D5663\"}, \"text\": \"\"}, \"zerolinecolor\": \"#E1E5ED\"}},\n",
       "                        {\"showLink\": true, \"linkText\": \"Export to plot.ly\", \"plotlyServerURL\": \"https://plot.ly\", \"responsive\": true}\n",
       "                    ).then(function(){\n",
       "                            \n",
       "var gd = document.getElementById('1368b3ee-c427-4289-85a4-ac87807bfb06');\n",
       "var x = new MutationObserver(function (mutations, observer) {{\n",
       "        var display = window.getComputedStyle(gd).display;\n",
       "        if (!display || display === 'none') {{\n",
       "            console.log([gd, 'removed!']);\n",
       "            Plotly.purge(gd);\n",
       "            observer.disconnect();\n",
       "        }}\n",
       "}});\n",
       "\n",
       "// Listen for the removal of the full notebook cells\n",
       "var notebookContainer = gd.closest('#notebook-container');\n",
       "if (notebookContainer) {{\n",
       "    x.observe(notebookContainer, {childList: true});\n",
       "}}\n",
       "\n",
       "// Listen for the clearing of the current output cell\n",
       "var outputEl = gd.closest('.output');\n",
       "if (outputEl) {{\n",
       "    x.observe(outputEl, {childList: true});\n",
       "}}\n",
       "\n",
       "                        })\n",
       "                };\n",
       "                });\n",
       "            </script>\n",
       "        </div>"
      ]
     },
     "metadata": {},
     "output_type": "display_data"
    }
   ],
   "source": [
    "df.iplot(kind = 'scatter', x = 'A',y = 'B',mode='markers')"
   ]
  },
  {
   "cell_type": "code",
   "execution_count": 43,
   "metadata": {},
   "outputs": [
    {
     "data": {
      "application/vnd.plotly.v1+json": {
       "config": {
        "linkText": "Export to plot.ly",
        "plotlyServerURL": "https://plot.ly",
        "showLink": true
       },
       "data": [
        {
         "marker": {
          "color": "rgba(255, 153, 51, 0.6)",
          "line": {
           "color": "rgba(255, 153, 51, 1.0)",
           "width": 1
          }
         },
         "name": "Values",
         "orientation": "v",
         "text": "",
         "type": "bar",
         "x": [
          "A",
          "B",
          "C"
         ],
         "y": [
          32,
          43,
          50
         ]
        }
       ],
       "layout": {
        "legend": {
         "bgcolor": "#F5F6F9",
         "font": {
          "color": "#4D5663"
         }
        },
        "paper_bgcolor": "#F5F6F9",
        "plot_bgcolor": "#F5F6F9",
        "template": {
         "data": {
          "bar": [
           {
            "error_x": {
             "color": "#2a3f5f"
            },
            "error_y": {
             "color": "#2a3f5f"
            },
            "marker": {
             "line": {
              "color": "#E5ECF6",
              "width": 0.5
             }
            },
            "type": "bar"
           }
          ],
          "barpolar": [
           {
            "marker": {
             "line": {
              "color": "#E5ECF6",
              "width": 0.5
             }
            },
            "type": "barpolar"
           }
          ],
          "carpet": [
           {
            "aaxis": {
             "endlinecolor": "#2a3f5f",
             "gridcolor": "white",
             "linecolor": "white",
             "minorgridcolor": "white",
             "startlinecolor": "#2a3f5f"
            },
            "baxis": {
             "endlinecolor": "#2a3f5f",
             "gridcolor": "white",
             "linecolor": "white",
             "minorgridcolor": "white",
             "startlinecolor": "#2a3f5f"
            },
            "type": "carpet"
           }
          ],
          "choropleth": [
           {
            "colorbar": {
             "outlinewidth": 0,
             "ticks": ""
            },
            "type": "choropleth"
           }
          ],
          "contour": [
           {
            "colorbar": {
             "outlinewidth": 0,
             "ticks": ""
            },
            "colorscale": [
             [
              0,
              "#0d0887"
             ],
             [
              0.1111111111111111,
              "#46039f"
             ],
             [
              0.2222222222222222,
              "#7201a8"
             ],
             [
              0.3333333333333333,
              "#9c179e"
             ],
             [
              0.4444444444444444,
              "#bd3786"
             ],
             [
              0.5555555555555556,
              "#d8576b"
             ],
             [
              0.6666666666666666,
              "#ed7953"
             ],
             [
              0.7777777777777778,
              "#fb9f3a"
             ],
             [
              0.8888888888888888,
              "#fdca26"
             ],
             [
              1,
              "#f0f921"
             ]
            ],
            "type": "contour"
           }
          ],
          "contourcarpet": [
           {
            "colorbar": {
             "outlinewidth": 0,
             "ticks": ""
            },
            "type": "contourcarpet"
           }
          ],
          "heatmap": [
           {
            "colorbar": {
             "outlinewidth": 0,
             "ticks": ""
            },
            "colorscale": [
             [
              0,
              "#0d0887"
             ],
             [
              0.1111111111111111,
              "#46039f"
             ],
             [
              0.2222222222222222,
              "#7201a8"
             ],
             [
              0.3333333333333333,
              "#9c179e"
             ],
             [
              0.4444444444444444,
              "#bd3786"
             ],
             [
              0.5555555555555556,
              "#d8576b"
             ],
             [
              0.6666666666666666,
              "#ed7953"
             ],
             [
              0.7777777777777778,
              "#fb9f3a"
             ],
             [
              0.8888888888888888,
              "#fdca26"
             ],
             [
              1,
              "#f0f921"
             ]
            ],
            "type": "heatmap"
           }
          ],
          "heatmapgl": [
           {
            "colorbar": {
             "outlinewidth": 0,
             "ticks": ""
            },
            "colorscale": [
             [
              0,
              "#0d0887"
             ],
             [
              0.1111111111111111,
              "#46039f"
             ],
             [
              0.2222222222222222,
              "#7201a8"
             ],
             [
              0.3333333333333333,
              "#9c179e"
             ],
             [
              0.4444444444444444,
              "#bd3786"
             ],
             [
              0.5555555555555556,
              "#d8576b"
             ],
             [
              0.6666666666666666,
              "#ed7953"
             ],
             [
              0.7777777777777778,
              "#fb9f3a"
             ],
             [
              0.8888888888888888,
              "#fdca26"
             ],
             [
              1,
              "#f0f921"
             ]
            ],
            "type": "heatmapgl"
           }
          ],
          "histogram": [
           {
            "marker": {
             "colorbar": {
              "outlinewidth": 0,
              "ticks": ""
             }
            },
            "type": "histogram"
           }
          ],
          "histogram2d": [
           {
            "colorbar": {
             "outlinewidth": 0,
             "ticks": ""
            },
            "colorscale": [
             [
              0,
              "#0d0887"
             ],
             [
              0.1111111111111111,
              "#46039f"
             ],
             [
              0.2222222222222222,
              "#7201a8"
             ],
             [
              0.3333333333333333,
              "#9c179e"
             ],
             [
              0.4444444444444444,
              "#bd3786"
             ],
             [
              0.5555555555555556,
              "#d8576b"
             ],
             [
              0.6666666666666666,
              "#ed7953"
             ],
             [
              0.7777777777777778,
              "#fb9f3a"
             ],
             [
              0.8888888888888888,
              "#fdca26"
             ],
             [
              1,
              "#f0f921"
             ]
            ],
            "type": "histogram2d"
           }
          ],
          "histogram2dcontour": [
           {
            "colorbar": {
             "outlinewidth": 0,
             "ticks": ""
            },
            "colorscale": [
             [
              0,
              "#0d0887"
             ],
             [
              0.1111111111111111,
              "#46039f"
             ],
             [
              0.2222222222222222,
              "#7201a8"
             ],
             [
              0.3333333333333333,
              "#9c179e"
             ],
             [
              0.4444444444444444,
              "#bd3786"
             ],
             [
              0.5555555555555556,
              "#d8576b"
             ],
             [
              0.6666666666666666,
              "#ed7953"
             ],
             [
              0.7777777777777778,
              "#fb9f3a"
             ],
             [
              0.8888888888888888,
              "#fdca26"
             ],
             [
              1,
              "#f0f921"
             ]
            ],
            "type": "histogram2dcontour"
           }
          ],
          "mesh3d": [
           {
            "colorbar": {
             "outlinewidth": 0,
             "ticks": ""
            },
            "type": "mesh3d"
           }
          ],
          "parcoords": [
           {
            "line": {
             "colorbar": {
              "outlinewidth": 0,
              "ticks": ""
             }
            },
            "type": "parcoords"
           }
          ],
          "pie": [
           {
            "automargin": true,
            "type": "pie"
           }
          ],
          "scatter": [
           {
            "marker": {
             "colorbar": {
              "outlinewidth": 0,
              "ticks": ""
             }
            },
            "type": "scatter"
           }
          ],
          "scatter3d": [
           {
            "line": {
             "colorbar": {
              "outlinewidth": 0,
              "ticks": ""
             }
            },
            "marker": {
             "colorbar": {
              "outlinewidth": 0,
              "ticks": ""
             }
            },
            "type": "scatter3d"
           }
          ],
          "scattercarpet": [
           {
            "marker": {
             "colorbar": {
              "outlinewidth": 0,
              "ticks": ""
             }
            },
            "type": "scattercarpet"
           }
          ],
          "scattergeo": [
           {
            "marker": {
             "colorbar": {
              "outlinewidth": 0,
              "ticks": ""
             }
            },
            "type": "scattergeo"
           }
          ],
          "scattergl": [
           {
            "marker": {
             "colorbar": {
              "outlinewidth": 0,
              "ticks": ""
             }
            },
            "type": "scattergl"
           }
          ],
          "scattermapbox": [
           {
            "marker": {
             "colorbar": {
              "outlinewidth": 0,
              "ticks": ""
             }
            },
            "type": "scattermapbox"
           }
          ],
          "scatterpolar": [
           {
            "marker": {
             "colorbar": {
              "outlinewidth": 0,
              "ticks": ""
             }
            },
            "type": "scatterpolar"
           }
          ],
          "scatterpolargl": [
           {
            "marker": {
             "colorbar": {
              "outlinewidth": 0,
              "ticks": ""
             }
            },
            "type": "scatterpolargl"
           }
          ],
          "scatterternary": [
           {
            "marker": {
             "colorbar": {
              "outlinewidth": 0,
              "ticks": ""
             }
            },
            "type": "scatterternary"
           }
          ],
          "surface": [
           {
            "colorbar": {
             "outlinewidth": 0,
             "ticks": ""
            },
            "colorscale": [
             [
              0,
              "#0d0887"
             ],
             [
              0.1111111111111111,
              "#46039f"
             ],
             [
              0.2222222222222222,
              "#7201a8"
             ],
             [
              0.3333333333333333,
              "#9c179e"
             ],
             [
              0.4444444444444444,
              "#bd3786"
             ],
             [
              0.5555555555555556,
              "#d8576b"
             ],
             [
              0.6666666666666666,
              "#ed7953"
             ],
             [
              0.7777777777777778,
              "#fb9f3a"
             ],
             [
              0.8888888888888888,
              "#fdca26"
             ],
             [
              1,
              "#f0f921"
             ]
            ],
            "type": "surface"
           }
          ],
          "table": [
           {
            "cells": {
             "fill": {
              "color": "#EBF0F8"
             },
             "line": {
              "color": "white"
             }
            },
            "header": {
             "fill": {
              "color": "#C8D4E3"
             },
             "line": {
              "color": "white"
             }
            },
            "type": "table"
           }
          ]
         },
         "layout": {
          "annotationdefaults": {
           "arrowcolor": "#2a3f5f",
           "arrowhead": 0,
           "arrowwidth": 1
          },
          "coloraxis": {
           "colorbar": {
            "outlinewidth": 0,
            "ticks": ""
           }
          },
          "colorscale": {
           "diverging": [
            [
             0,
             "#8e0152"
            ],
            [
             0.1,
             "#c51b7d"
            ],
            [
             0.2,
             "#de77ae"
            ],
            [
             0.3,
             "#f1b6da"
            ],
            [
             0.4,
             "#fde0ef"
            ],
            [
             0.5,
             "#f7f7f7"
            ],
            [
             0.6,
             "#e6f5d0"
            ],
            [
             0.7,
             "#b8e186"
            ],
            [
             0.8,
             "#7fbc41"
            ],
            [
             0.9,
             "#4d9221"
            ],
            [
             1,
             "#276419"
            ]
           ],
           "sequential": [
            [
             0,
             "#0d0887"
            ],
            [
             0.1111111111111111,
             "#46039f"
            ],
            [
             0.2222222222222222,
             "#7201a8"
            ],
            [
             0.3333333333333333,
             "#9c179e"
            ],
            [
             0.4444444444444444,
             "#bd3786"
            ],
            [
             0.5555555555555556,
             "#d8576b"
            ],
            [
             0.6666666666666666,
             "#ed7953"
            ],
            [
             0.7777777777777778,
             "#fb9f3a"
            ],
            [
             0.8888888888888888,
             "#fdca26"
            ],
            [
             1,
             "#f0f921"
            ]
           ],
           "sequentialminus": [
            [
             0,
             "#0d0887"
            ],
            [
             0.1111111111111111,
             "#46039f"
            ],
            [
             0.2222222222222222,
             "#7201a8"
            ],
            [
             0.3333333333333333,
             "#9c179e"
            ],
            [
             0.4444444444444444,
             "#bd3786"
            ],
            [
             0.5555555555555556,
             "#d8576b"
            ],
            [
             0.6666666666666666,
             "#ed7953"
            ],
            [
             0.7777777777777778,
             "#fb9f3a"
            ],
            [
             0.8888888888888888,
             "#fdca26"
            ],
            [
             1,
             "#f0f921"
            ]
           ]
          },
          "colorway": [
           "#636efa",
           "#EF553B",
           "#00cc96",
           "#ab63fa",
           "#FFA15A",
           "#19d3f3",
           "#FF6692",
           "#B6E880",
           "#FF97FF",
           "#FECB52"
          ],
          "font": {
           "color": "#2a3f5f"
          },
          "geo": {
           "bgcolor": "white",
           "lakecolor": "white",
           "landcolor": "#E5ECF6",
           "showlakes": true,
           "showland": true,
           "subunitcolor": "white"
          },
          "hoverlabel": {
           "align": "left"
          },
          "hovermode": "closest",
          "mapbox": {
           "style": "light"
          },
          "paper_bgcolor": "white",
          "plot_bgcolor": "#E5ECF6",
          "polar": {
           "angularaxis": {
            "gridcolor": "white",
            "linecolor": "white",
            "ticks": ""
           },
           "bgcolor": "#E5ECF6",
           "radialaxis": {
            "gridcolor": "white",
            "linecolor": "white",
            "ticks": ""
           }
          },
          "scene": {
           "xaxis": {
            "backgroundcolor": "#E5ECF6",
            "gridcolor": "white",
            "gridwidth": 2,
            "linecolor": "white",
            "showbackground": true,
            "ticks": "",
            "zerolinecolor": "white"
           },
           "yaxis": {
            "backgroundcolor": "#E5ECF6",
            "gridcolor": "white",
            "gridwidth": 2,
            "linecolor": "white",
            "showbackground": true,
            "ticks": "",
            "zerolinecolor": "white"
           },
           "zaxis": {
            "backgroundcolor": "#E5ECF6",
            "gridcolor": "white",
            "gridwidth": 2,
            "linecolor": "white",
            "showbackground": true,
            "ticks": "",
            "zerolinecolor": "white"
           }
          },
          "shapedefaults": {
           "line": {
            "color": "#2a3f5f"
           }
          },
          "ternary": {
           "aaxis": {
            "gridcolor": "white",
            "linecolor": "white",
            "ticks": ""
           },
           "baxis": {
            "gridcolor": "white",
            "linecolor": "white",
            "ticks": ""
           },
           "bgcolor": "#E5ECF6",
           "caxis": {
            "gridcolor": "white",
            "linecolor": "white",
            "ticks": ""
           }
          },
          "title": {
           "x": 0.05
          },
          "xaxis": {
           "automargin": true,
           "gridcolor": "white",
           "linecolor": "white",
           "ticks": "",
           "title": {
            "standoff": 15
           },
           "zerolinecolor": "white",
           "zerolinewidth": 2
          },
          "yaxis": {
           "automargin": true,
           "gridcolor": "white",
           "linecolor": "white",
           "ticks": "",
           "title": {
            "standoff": 15
           },
           "zerolinecolor": "white",
           "zerolinewidth": 2
          }
         }
        },
        "title": {
         "font": {
          "color": "#4D5663"
         }
        },
        "xaxis": {
         "gridcolor": "#E1E5ED",
         "showgrid": true,
         "tickfont": {
          "color": "#4D5663"
         },
         "title": {
          "font": {
           "color": "#4D5663"
          },
          "text": ""
         },
         "zerolinecolor": "#E1E5ED"
        },
        "yaxis": {
         "gridcolor": "#E1E5ED",
         "showgrid": true,
         "tickfont": {
          "color": "#4D5663"
         },
         "title": {
          "font": {
           "color": "#4D5663"
          },
          "text": ""
         },
         "zerolinecolor": "#E1E5ED"
        }
       }
      },
      "text/html": [
       "<div>\n",
       "        \n",
       "        \n",
       "            <div id=\"0a6db76d-b3ee-404b-bc71-8eb9552529a2\" class=\"plotly-graph-div\" style=\"height:525px; width:100%;\"></div>\n",
       "            <script type=\"text/javascript\">\n",
       "                require([\"plotly\"], function(Plotly) {\n",
       "                    window.PLOTLYENV=window.PLOTLYENV || {};\n",
       "                    window.PLOTLYENV.BASE_URL='https://plot.ly';\n",
       "                    \n",
       "                if (document.getElementById(\"0a6db76d-b3ee-404b-bc71-8eb9552529a2\")) {\n",
       "                    Plotly.newPlot(\n",
       "                        '0a6db76d-b3ee-404b-bc71-8eb9552529a2',\n",
       "                        [{\"marker\": {\"color\": \"rgba(255, 153, 51, 0.6)\", \"line\": {\"color\": \"rgba(255, 153, 51, 1.0)\", \"width\": 1}}, \"name\": \"Values\", \"orientation\": \"v\", \"text\": \"\", \"type\": \"bar\", \"x\": [\"A\", \"B\", \"C\"], \"y\": [32, 43, 50]}],\n",
       "                        {\"legend\": {\"bgcolor\": \"#F5F6F9\", \"font\": {\"color\": \"#4D5663\"}}, \"paper_bgcolor\": \"#F5F6F9\", \"plot_bgcolor\": \"#F5F6F9\", \"template\": {\"data\": {\"bar\": [{\"error_x\": {\"color\": \"#2a3f5f\"}, \"error_y\": {\"color\": \"#2a3f5f\"}, \"marker\": {\"line\": {\"color\": \"#E5ECF6\", \"width\": 0.5}}, \"type\": \"bar\"}], \"barpolar\": [{\"marker\": {\"line\": {\"color\": \"#E5ECF6\", \"width\": 0.5}}, \"type\": \"barpolar\"}], \"carpet\": [{\"aaxis\": {\"endlinecolor\": \"#2a3f5f\", \"gridcolor\": \"white\", \"linecolor\": \"white\", \"minorgridcolor\": \"white\", \"startlinecolor\": \"#2a3f5f\"}, \"baxis\": {\"endlinecolor\": \"#2a3f5f\", \"gridcolor\": \"white\", \"linecolor\": \"white\", \"minorgridcolor\": \"white\", \"startlinecolor\": \"#2a3f5f\"}, \"type\": \"carpet\"}], \"choropleth\": [{\"colorbar\": {\"outlinewidth\": 0, \"ticks\": \"\"}, \"type\": \"choropleth\"}], \"contour\": [{\"colorbar\": {\"outlinewidth\": 0, \"ticks\": \"\"}, \"colorscale\": [[0.0, \"#0d0887\"], [0.1111111111111111, \"#46039f\"], [0.2222222222222222, \"#7201a8\"], [0.3333333333333333, \"#9c179e\"], [0.4444444444444444, \"#bd3786\"], [0.5555555555555556, \"#d8576b\"], [0.6666666666666666, \"#ed7953\"], [0.7777777777777778, \"#fb9f3a\"], [0.8888888888888888, \"#fdca26\"], [1.0, \"#f0f921\"]], \"type\": \"contour\"}], \"contourcarpet\": [{\"colorbar\": {\"outlinewidth\": 0, \"ticks\": \"\"}, \"type\": \"contourcarpet\"}], \"heatmap\": [{\"colorbar\": {\"outlinewidth\": 0, \"ticks\": \"\"}, \"colorscale\": [[0.0, \"#0d0887\"], [0.1111111111111111, \"#46039f\"], [0.2222222222222222, \"#7201a8\"], [0.3333333333333333, \"#9c179e\"], [0.4444444444444444, \"#bd3786\"], [0.5555555555555556, \"#d8576b\"], [0.6666666666666666, \"#ed7953\"], [0.7777777777777778, \"#fb9f3a\"], [0.8888888888888888, \"#fdca26\"], [1.0, \"#f0f921\"]], \"type\": \"heatmap\"}], \"heatmapgl\": [{\"colorbar\": {\"outlinewidth\": 0, \"ticks\": \"\"}, \"colorscale\": [[0.0, \"#0d0887\"], [0.1111111111111111, \"#46039f\"], [0.2222222222222222, \"#7201a8\"], [0.3333333333333333, \"#9c179e\"], [0.4444444444444444, \"#bd3786\"], [0.5555555555555556, \"#d8576b\"], [0.6666666666666666, \"#ed7953\"], [0.7777777777777778, \"#fb9f3a\"], [0.8888888888888888, \"#fdca26\"], [1.0, \"#f0f921\"]], \"type\": \"heatmapgl\"}], \"histogram\": [{\"marker\": {\"colorbar\": {\"outlinewidth\": 0, \"ticks\": \"\"}}, \"type\": \"histogram\"}], \"histogram2d\": [{\"colorbar\": {\"outlinewidth\": 0, \"ticks\": \"\"}, \"colorscale\": [[0.0, \"#0d0887\"], [0.1111111111111111, \"#46039f\"], [0.2222222222222222, \"#7201a8\"], [0.3333333333333333, \"#9c179e\"], [0.4444444444444444, \"#bd3786\"], [0.5555555555555556, \"#d8576b\"], [0.6666666666666666, \"#ed7953\"], [0.7777777777777778, \"#fb9f3a\"], [0.8888888888888888, \"#fdca26\"], [1.0, \"#f0f921\"]], \"type\": \"histogram2d\"}], \"histogram2dcontour\": [{\"colorbar\": {\"outlinewidth\": 0, \"ticks\": \"\"}, \"colorscale\": [[0.0, \"#0d0887\"], [0.1111111111111111, \"#46039f\"], [0.2222222222222222, \"#7201a8\"], [0.3333333333333333, \"#9c179e\"], [0.4444444444444444, \"#bd3786\"], [0.5555555555555556, \"#d8576b\"], [0.6666666666666666, \"#ed7953\"], [0.7777777777777778, \"#fb9f3a\"], [0.8888888888888888, \"#fdca26\"], [1.0, \"#f0f921\"]], \"type\": \"histogram2dcontour\"}], \"mesh3d\": [{\"colorbar\": {\"outlinewidth\": 0, \"ticks\": \"\"}, \"type\": \"mesh3d\"}], \"parcoords\": [{\"line\": {\"colorbar\": {\"outlinewidth\": 0, \"ticks\": \"\"}}, \"type\": \"parcoords\"}], \"pie\": [{\"automargin\": true, \"type\": \"pie\"}], \"scatter\": [{\"marker\": {\"colorbar\": {\"outlinewidth\": 0, \"ticks\": \"\"}}, \"type\": \"scatter\"}], \"scatter3d\": [{\"line\": {\"colorbar\": {\"outlinewidth\": 0, \"ticks\": \"\"}}, \"marker\": {\"colorbar\": {\"outlinewidth\": 0, \"ticks\": \"\"}}, \"type\": \"scatter3d\"}], \"scattercarpet\": [{\"marker\": {\"colorbar\": {\"outlinewidth\": 0, \"ticks\": \"\"}}, \"type\": \"scattercarpet\"}], \"scattergeo\": [{\"marker\": {\"colorbar\": {\"outlinewidth\": 0, \"ticks\": \"\"}}, \"type\": \"scattergeo\"}], \"scattergl\": [{\"marker\": {\"colorbar\": {\"outlinewidth\": 0, \"ticks\": \"\"}}, \"type\": \"scattergl\"}], \"scattermapbox\": [{\"marker\": {\"colorbar\": {\"outlinewidth\": 0, \"ticks\": \"\"}}, \"type\": \"scattermapbox\"}], \"scatterpolar\": [{\"marker\": {\"colorbar\": {\"outlinewidth\": 0, \"ticks\": \"\"}}, \"type\": \"scatterpolar\"}], \"scatterpolargl\": [{\"marker\": {\"colorbar\": {\"outlinewidth\": 0, \"ticks\": \"\"}}, \"type\": \"scatterpolargl\"}], \"scatterternary\": [{\"marker\": {\"colorbar\": {\"outlinewidth\": 0, \"ticks\": \"\"}}, \"type\": \"scatterternary\"}], \"surface\": [{\"colorbar\": {\"outlinewidth\": 0, \"ticks\": \"\"}, \"colorscale\": [[0.0, \"#0d0887\"], [0.1111111111111111, \"#46039f\"], [0.2222222222222222, \"#7201a8\"], [0.3333333333333333, \"#9c179e\"], [0.4444444444444444, \"#bd3786\"], [0.5555555555555556, \"#d8576b\"], [0.6666666666666666, \"#ed7953\"], [0.7777777777777778, \"#fb9f3a\"], [0.8888888888888888, \"#fdca26\"], [1.0, \"#f0f921\"]], \"type\": \"surface\"}], \"table\": [{\"cells\": {\"fill\": {\"color\": \"#EBF0F8\"}, \"line\": {\"color\": \"white\"}}, \"header\": {\"fill\": {\"color\": \"#C8D4E3\"}, \"line\": {\"color\": \"white\"}}, \"type\": \"table\"}]}, \"layout\": {\"annotationdefaults\": {\"arrowcolor\": \"#2a3f5f\", \"arrowhead\": 0, \"arrowwidth\": 1}, \"coloraxis\": {\"colorbar\": {\"outlinewidth\": 0, \"ticks\": \"\"}}, \"colorscale\": {\"diverging\": [[0, \"#8e0152\"], [0.1, \"#c51b7d\"], [0.2, \"#de77ae\"], [0.3, \"#f1b6da\"], [0.4, \"#fde0ef\"], [0.5, \"#f7f7f7\"], [0.6, \"#e6f5d0\"], [0.7, \"#b8e186\"], [0.8, \"#7fbc41\"], [0.9, \"#4d9221\"], [1, \"#276419\"]], \"sequential\": [[0.0, \"#0d0887\"], [0.1111111111111111, \"#46039f\"], [0.2222222222222222, \"#7201a8\"], [0.3333333333333333, \"#9c179e\"], [0.4444444444444444, \"#bd3786\"], [0.5555555555555556, \"#d8576b\"], [0.6666666666666666, \"#ed7953\"], [0.7777777777777778, \"#fb9f3a\"], [0.8888888888888888, \"#fdca26\"], [1.0, \"#f0f921\"]], \"sequentialminus\": [[0.0, \"#0d0887\"], [0.1111111111111111, \"#46039f\"], [0.2222222222222222, \"#7201a8\"], [0.3333333333333333, \"#9c179e\"], [0.4444444444444444, \"#bd3786\"], [0.5555555555555556, \"#d8576b\"], [0.6666666666666666, \"#ed7953\"], [0.7777777777777778, \"#fb9f3a\"], [0.8888888888888888, \"#fdca26\"], [1.0, \"#f0f921\"]]}, \"colorway\": [\"#636efa\", \"#EF553B\", \"#00cc96\", \"#ab63fa\", \"#FFA15A\", \"#19d3f3\", \"#FF6692\", \"#B6E880\", \"#FF97FF\", \"#FECB52\"], \"font\": {\"color\": \"#2a3f5f\"}, \"geo\": {\"bgcolor\": \"white\", \"lakecolor\": \"white\", \"landcolor\": \"#E5ECF6\", \"showlakes\": true, \"showland\": true, \"subunitcolor\": \"white\"}, \"hoverlabel\": {\"align\": \"left\"}, \"hovermode\": \"closest\", \"mapbox\": {\"style\": \"light\"}, \"paper_bgcolor\": \"white\", \"plot_bgcolor\": \"#E5ECF6\", \"polar\": {\"angularaxis\": {\"gridcolor\": \"white\", \"linecolor\": \"white\", \"ticks\": \"\"}, \"bgcolor\": \"#E5ECF6\", \"radialaxis\": {\"gridcolor\": \"white\", \"linecolor\": \"white\", \"ticks\": \"\"}}, \"scene\": {\"xaxis\": {\"backgroundcolor\": \"#E5ECF6\", \"gridcolor\": \"white\", \"gridwidth\": 2, \"linecolor\": \"white\", \"showbackground\": true, \"ticks\": \"\", \"zerolinecolor\": \"white\"}, \"yaxis\": {\"backgroundcolor\": \"#E5ECF6\", \"gridcolor\": \"white\", \"gridwidth\": 2, \"linecolor\": \"white\", \"showbackground\": true, \"ticks\": \"\", \"zerolinecolor\": \"white\"}, \"zaxis\": {\"backgroundcolor\": \"#E5ECF6\", \"gridcolor\": \"white\", \"gridwidth\": 2, \"linecolor\": \"white\", \"showbackground\": true, \"ticks\": \"\", \"zerolinecolor\": \"white\"}}, \"shapedefaults\": {\"line\": {\"color\": \"#2a3f5f\"}}, \"ternary\": {\"aaxis\": {\"gridcolor\": \"white\", \"linecolor\": \"white\", \"ticks\": \"\"}, \"baxis\": {\"gridcolor\": \"white\", \"linecolor\": \"white\", \"ticks\": \"\"}, \"bgcolor\": \"#E5ECF6\", \"caxis\": {\"gridcolor\": \"white\", \"linecolor\": \"white\", \"ticks\": \"\"}}, \"title\": {\"x\": 0.05}, \"xaxis\": {\"automargin\": true, \"gridcolor\": \"white\", \"linecolor\": \"white\", \"ticks\": \"\", \"title\": {\"standoff\": 15}, \"zerolinecolor\": \"white\", \"zerolinewidth\": 2}, \"yaxis\": {\"automargin\": true, \"gridcolor\": \"white\", \"linecolor\": \"white\", \"ticks\": \"\", \"title\": {\"standoff\": 15}, \"zerolinecolor\": \"white\", \"zerolinewidth\": 2}}}, \"title\": {\"font\": {\"color\": \"#4D5663\"}}, \"xaxis\": {\"gridcolor\": \"#E1E5ED\", \"showgrid\": true, \"tickfont\": {\"color\": \"#4D5663\"}, \"title\": {\"font\": {\"color\": \"#4D5663\"}, \"text\": \"\"}, \"zerolinecolor\": \"#E1E5ED\"}, \"yaxis\": {\"gridcolor\": \"#E1E5ED\", \"showgrid\": true, \"tickfont\": {\"color\": \"#4D5663\"}, \"title\": {\"font\": {\"color\": \"#4D5663\"}, \"text\": \"\"}, \"zerolinecolor\": \"#E1E5ED\"}},\n",
       "                        {\"showLink\": true, \"linkText\": \"Export to plot.ly\", \"plotlyServerURL\": \"https://plot.ly\", \"responsive\": true}\n",
       "                    ).then(function(){\n",
       "                            \n",
       "var gd = document.getElementById('0a6db76d-b3ee-404b-bc71-8eb9552529a2');\n",
       "var x = new MutationObserver(function (mutations, observer) {{\n",
       "        var display = window.getComputedStyle(gd).display;\n",
       "        if (!display || display === 'none') {{\n",
       "            console.log([gd, 'removed!']);\n",
       "            Plotly.purge(gd);\n",
       "            observer.disconnect();\n",
       "        }}\n",
       "}});\n",
       "\n",
       "// Listen for the removal of the full notebook cells\n",
       "var notebookContainer = gd.closest('#notebook-container');\n",
       "if (notebookContainer) {{\n",
       "    x.observe(notebookContainer, {childList: true});\n",
       "}}\n",
       "\n",
       "// Listen for the clearing of the current output cell\n",
       "var outputEl = gd.closest('.output');\n",
       "if (outputEl) {{\n",
       "    x.observe(outputEl, {childList: true});\n",
       "}}\n",
       "\n",
       "                        })\n",
       "                };\n",
       "                });\n",
       "            </script>\n",
       "        </div>"
      ]
     },
     "metadata": {},
     "output_type": "display_data"
    }
   ],
   "source": [
    "# Bar i plot\n",
    "df2.iplot(kind = 'bar',x = 'Category',y = 'Values')"
   ]
  },
  {
   "cell_type": "code",
   "execution_count": 44,
   "metadata": {},
   "outputs": [
    {
     "data": {
      "application/vnd.plotly.v1+json": {
       "config": {
        "linkText": "Export to plot.ly",
        "plotlyServerURL": "https://plot.ly",
        "showLink": true
       },
       "data": [
        {
         "marker": {
          "color": "rgba(255, 153, 51, 0.6)",
          "line": {
           "color": "rgba(255, 153, 51, 1.0)",
           "width": 1
          }
         },
         "name": "A",
         "orientation": "v",
         "text": "",
         "type": "bar",
         "x": [
          0,
          1,
          2,
          3,
          4,
          5,
          6,
          7,
          8,
          9,
          10,
          11,
          12,
          13,
          14,
          15,
          16,
          17,
          18,
          19,
          20,
          21,
          22,
          23,
          24,
          25,
          26,
          27,
          28,
          29,
          30,
          31,
          32,
          33,
          34,
          35,
          36,
          37,
          38,
          39,
          40,
          41,
          42,
          43,
          44,
          45,
          46,
          47,
          48,
          49,
          50,
          51,
          52,
          53,
          54,
          55,
          56,
          57,
          58,
          59,
          60,
          61,
          62,
          63,
          64,
          65,
          66,
          67,
          68,
          69,
          70,
          71,
          72,
          73,
          74,
          75,
          76,
          77,
          78,
          79,
          80,
          81,
          82,
          83,
          84,
          85,
          86,
          87,
          88,
          89,
          90,
          91,
          92,
          93,
          94,
          95,
          96,
          97,
          98,
          99
         ],
         "y": [
          1.416593517660878,
          -0.14738395566749896,
          -1.7844796810424377,
          1.0916939562052876,
          0.8690310862451806,
          -0.9130881968676815,
          0.999815987739978,
          0.20249872319987558,
          0.6651541347542538,
          1.5904328259462475,
          0.9224191664291218,
          -0.18016206629497075,
          1.134944336265271,
          -0.19204911602866678,
          -0.7725701660993973,
          0.10063744605008441,
          0.10714591412949345,
          -0.42221541400028717,
          -0.8403776497203891,
          -0.34062561748689635,
          -0.9319306418128855,
          -2.7047515845412606,
          0.008464414016829484,
          -0.24679681716914537,
          -0.8891064856373092,
          -0.0976902393419508,
          2.0554795131481236,
          1.140205355254008,
          -1.3222237382657935,
          1.2972526054749431,
          1.2723501043391907,
          -1.0402921253786834,
          0.08975397544334109,
          -0.7211196617732506,
          0.46079850518443477,
          -0.0035295707984208287,
          -1.6680052301548915,
          0.39593916411591684,
          -0.036736725525066675,
          -0.18708565303207123,
          0.4090337394442913,
          -0.11516336115305838,
          -2.1023287946207225,
          0.7145964193033464,
          0.8992939935517598,
          -1.1066813776882152,
          -0.8429684555863061,
          0.8641921006942638,
          -0.5073841845450361,
          -0.8566073764635567,
          -0.26835127760692934,
          -1.2592951714357608,
          -0.880020854779105,
          1.3836949417430615,
          -0.8108977849120101,
          0.4561661807281345,
          0.004415115029279976,
          0.03828165518747515,
          -0.10676227658460166,
          1.028572156444397,
          -0.28421897250220285,
          0.8849806821994682,
          1.4380095987100332,
          -0.8877395811176105,
          1.228816832515203,
          0.7564202279095027,
          -0.2625169494179067,
          1.013996267722401,
          -0.4081800018537628,
          1.0211977886508627,
          0.7767951727052528,
          0.2911188894392512,
          -1.730474681675736,
          0.32841643489202166,
          0.07140028981004318,
          1.0689025968967223,
          -1.9049709066817657,
          -0.5405171578578922,
          -0.47397936749667924,
          -0.7220304917111585,
          -0.43499570927661463,
          -1.076760505534362,
          -2.851530141907224,
          -0.3583158919767544,
          -1.5432561099522224,
          -0.8784881122522841,
          -1.9603084686379697,
          -0.5885186370713009,
          1.5997148736849103,
          0.024734175690217294,
          0.07809005053066699,
          1.667352773288952,
          -1.287735836010282,
          -0.5990499600750134,
          0.10309793710856048,
          0.6049082987598869,
          0.22668443288025425,
          -0.4085805437783098,
          0.7047569911056685,
          -0.0058223868182907396
         ]
        },
        {
         "marker": {
          "color": "rgba(55, 128, 191, 0.6)",
          "line": {
           "color": "rgba(55, 128, 191, 1.0)",
           "width": 1
          }
         },
         "name": "B",
         "orientation": "v",
         "text": "",
         "type": "bar",
         "x": [
          0,
          1,
          2,
          3,
          4,
          5,
          6,
          7,
          8,
          9,
          10,
          11,
          12,
          13,
          14,
          15,
          16,
          17,
          18,
          19,
          20,
          21,
          22,
          23,
          24,
          25,
          26,
          27,
          28,
          29,
          30,
          31,
          32,
          33,
          34,
          35,
          36,
          37,
          38,
          39,
          40,
          41,
          42,
          43,
          44,
          45,
          46,
          47,
          48,
          49,
          50,
          51,
          52,
          53,
          54,
          55,
          56,
          57,
          58,
          59,
          60,
          61,
          62,
          63,
          64,
          65,
          66,
          67,
          68,
          69,
          70,
          71,
          72,
          73,
          74,
          75,
          76,
          77,
          78,
          79,
          80,
          81,
          82,
          83,
          84,
          85,
          86,
          87,
          88,
          89,
          90,
          91,
          92,
          93,
          94,
          95,
          96,
          97,
          98,
          99
         ],
         "y": [
          -1.784098720340015,
          2.171244510657171,
          0.6814350497909425,
          1.6915046033363401,
          0.18481649594853616,
          1.3717132391682432,
          -1.2275847765325325,
          0.1377905244967582,
          -1.1480009457520386,
          0.26162442648712664,
          -0.3949869957178582,
          -1.4968385199265781,
          -1.2882205677288796,
          0.734932556612695,
          1.2232971975351834,
          -0.593392211027469,
          -1.0654669938822041,
          -0.3571674089948739,
          -0.13876162829474128,
          -0.2895293494986774,
          -0.48357022428835184,
          -1.3885923462518266,
          -0.5237646877578167,
          1.3060138012560842,
          0.25660307311615027,
          -0.8203047424592492,
          -0.4923162655865527,
          -0.4845844995598301,
          1.1978422826877433,
          2.0998690486150426,
          1.01936669685555,
          -0.3386138535811944,
          -1.482145713226032,
          2.2072307943488627,
          0.7211135696527582,
          -1.8947101869608063,
          -1.6555186146259382,
          0.6664471016106729,
          0.6579972725992663,
          0.26733180131832407,
          0.8914121897579306,
          -0.5502327140222424,
          -0.7035046554239406,
          -0.9461377411810604,
          -0.6001142874070964,
          0.02870046019532282,
          -1.7907167802754105,
          1.3897741383929765,
          -0.016268510422112355,
          0.5663514625633824,
          1.9999017682580833,
          1.6601667123454453,
          0.6815372328213235,
          -0.8400593255846813,
          1.11322310825198,
          0.6606722621695404,
          0.4375288477222289,
          -0.23405318147746282,
          0.5886108970417825,
          -0.33299951352436286,
          -0.40185930102225387,
          -0.6635188196620705,
          0.07704697176714438,
          -0.9213946986355144,
          -0.9831820012034149,
          0.7946699447595283,
          -0.9991701796154964,
          0.2815538007953517,
          0.174998690858209,
          0.8837798626530278,
          0.9032875954210857,
          0.24055208121983598,
          0.5922894036824274,
          -1.2661514687988389,
          -0.8809610852153962,
          -0.12528969601901807,
          0.6211367105295839,
          0.13636933563037099,
          0.5931900126435424,
          -1.4967044610569924,
          0.5340581219643343,
          0.3514056027479767,
          0.4863662132233159,
          0.24581933733395622,
          -2.059486231643359,
          -0.6300296950748387,
          0.44013425063156586,
          0.4473713899152323,
          -0.00047627043586563036,
          0.2657031815297724,
          2.201413247661273,
          -0.9173536467289062,
          -0.8332408625755586,
          -1.0151245854973656,
          0.14016786526148148,
          0.5585536889690439,
          -0.44476215618074133,
          -0.4413464723748191,
          -0.3494357165693916,
          -1.0018284495680674
         ]
        },
        {
         "marker": {
          "color": "rgba(50, 171, 96, 0.6)",
          "line": {
           "color": "rgba(50, 171, 96, 1.0)",
           "width": 1
          }
         },
         "name": "C",
         "orientation": "v",
         "text": "",
         "type": "bar",
         "x": [
          0,
          1,
          2,
          3,
          4,
          5,
          6,
          7,
          8,
          9,
          10,
          11,
          12,
          13,
          14,
          15,
          16,
          17,
          18,
          19,
          20,
          21,
          22,
          23,
          24,
          25,
          26,
          27,
          28,
          29,
          30,
          31,
          32,
          33,
          34,
          35,
          36,
          37,
          38,
          39,
          40,
          41,
          42,
          43,
          44,
          45,
          46,
          47,
          48,
          49,
          50,
          51,
          52,
          53,
          54,
          55,
          56,
          57,
          58,
          59,
          60,
          61,
          62,
          63,
          64,
          65,
          66,
          67,
          68,
          69,
          70,
          71,
          72,
          73,
          74,
          75,
          76,
          77,
          78,
          79,
          80,
          81,
          82,
          83,
          84,
          85,
          86,
          87,
          88,
          89,
          90,
          91,
          92,
          93,
          94,
          95,
          96,
          97,
          98,
          99
         ],
         "y": [
          -0.5967119098197226,
          0.853238764026366,
          1.6672094843438492,
          -0.0037601992873524037,
          -0.9071834782154601,
          1.883690558450849,
          -2.106354563045812,
          -1.2168484036552596,
          0.17255626813792466,
          1.0582852945687178,
          1.3952429242549573,
          0.07227254577092632,
          -0.4195317892628768,
          0.3148586861350653,
          0.17138607027311709,
          0.979523061893303,
          1.0170253940983998,
          -0.31540535624226623,
          -0.1771259277074585,
          1.0509795019188313,
          0.4027836644340148,
          -0.10335933258826242,
          -0.7935237694439741,
          0.2929342298614919,
          2.156830774988516,
          0.30115733682483886,
          2.0883112687994463,
          -0.9278018279636102,
          0.1274690526763963,
          -0.7019996573220373,
          0.1499739530535481,
          -1.0036591424346843,
          -2.800423325047921,
          1.3353677753307296,
          0.5034117514155685,
          0.2570665310706626,
          -1.1518065065844245,
          -0.4729507221586094,
          1.672213002084143,
          -1.2363872849124302,
          0.012105592964178779,
          -1.493747478456467,
          0.1952640284715851,
          -0.7848860869658573,
          0.02009202740699355,
          0.07135868247529763,
          -0.7884840153246424,
          0.01814514012957843,
          0.2146823765491746,
          -1.0675674116210412,
          0.8544589019211002,
          -0.5989615235683363,
          -0.46581180378221787,
          0.6152601748855848,
          0.7692237912289807,
          -0.4420183379256885,
          -1.6959042945833291,
          0.08343248358165806,
          -0.2945583821376016,
          0.6063342583506851,
          -0.5887858952909739,
          0.13694788409010514,
          -1.2424969811602868,
          -0.5239490868519974,
          1.1956002105011092,
          1.084099517593647,
          0.7610297699914984,
          0.15656489162299303,
          -1.3256041858993401,
          0.6332892520923301,
          -0.9439011838970643,
          0.19397551161246512,
          -0.564838581449026,
          0.6443860682633141,
          -0.00950007628578957,
          1.059583505527082,
          1.3659520311143776,
          -1.7341794280109315,
          0.3817222401871636,
          0.20508286240366627,
          -0.30652983613662893,
          1.1586328857965569,
          -0.24000038468347007,
          0.5057631958197074,
          -0.6101763309802465,
          0.7182084359558547,
          0.1162004892642478,
          0.20904716578240504,
          -2.1276348152551523,
          -0.20780572655946458,
          -0.260592364108929,
          -0.580124951761244,
          1.8107866238776256,
          1.2067337473203945,
          0.9661438170829647,
          0.778797568299232,
          -1.4437124946541433,
          1.4058055726143668,
          1.6464512148069346,
          1.5567465741174473
         ]
        },
        {
         "marker": {
          "color": "rgba(128, 0, 128, 0.6)",
          "line": {
           "color": "rgba(128, 0, 128, 1.0)",
           "width": 1
          }
         },
         "name": "D",
         "orientation": "v",
         "text": "",
         "type": "bar",
         "x": [
          0,
          1,
          2,
          3,
          4,
          5,
          6,
          7,
          8,
          9,
          10,
          11,
          12,
          13,
          14,
          15,
          16,
          17,
          18,
          19,
          20,
          21,
          22,
          23,
          24,
          25,
          26,
          27,
          28,
          29,
          30,
          31,
          32,
          33,
          34,
          35,
          36,
          37,
          38,
          39,
          40,
          41,
          42,
          43,
          44,
          45,
          46,
          47,
          48,
          49,
          50,
          51,
          52,
          53,
          54,
          55,
          56,
          57,
          58,
          59,
          60,
          61,
          62,
          63,
          64,
          65,
          66,
          67,
          68,
          69,
          70,
          71,
          72,
          73,
          74,
          75,
          76,
          77,
          78,
          79,
          80,
          81,
          82,
          83,
          84,
          85,
          86,
          87,
          88,
          89,
          90,
          91,
          92,
          93,
          94,
          95,
          96,
          97,
          98,
          99
         ],
         "y": [
          0.6079252288271123,
          -0.7673086708362776,
          2.7918004888249155,
          1.5313914625222045,
          -1.4345453782854332,
          -1.0437865151846786,
          0.19847176529920577,
          1.3862446579489935,
          -0.35138062753487304,
          0.03719432201318422,
          -1.7616253778540005,
          2.3407054624379846,
          -0.2000097595989267,
          0.7669854014325037,
          0.11298294909977,
          0.046858080065504425,
          -0.18120895485222938,
          0.7695550229775915,
          0.15511077522056577,
          -0.9108953777606292,
          0.6377005270907216,
          -1.6068124460140327,
          1.845840177929854,
          -1.1052126634256259,
          -1.6451598313262024,
          1.0953926667391707,
          -2.6811855828962696,
          -0.24426026935419365,
          -0.6820128828581605,
          0.3608787094224027,
          -0.0764345595001479,
          0.3088811741935369,
          -0.329408490492265,
          1.4464185545662458,
          -2.0128086971620927,
          0.08825858728083487,
          -0.168682137332262,
          2.065928188589186,
          -1.6017962278561868,
          -1.5312993522830245,
          -0.03945107251970846,
          -0.6733129013460523,
          -0.6076787744094737,
          1.6360672041399968,
          0.48494877078027687,
          0.01323259657886119,
          1.4328584127569208,
          -1.6683257498452444,
          -0.8829926821113253,
          -0.09166483027086167,
          -3.080415218787863,
          -0.8472046953264905,
          -0.049951322488767644,
          -0.6759172855350523,
          0.2810806490503662,
          0.07703330630025013,
          1.7316185845049246,
          0.5755896592654809,
          0.7732777600729397,
          -0.5761818253061513,
          -0.5662697882027303,
          -1.284520760769256,
          0.41915185995351933,
          0.4516275355752908,
          0.10016374487909058,
          -0.589883708770861,
          -0.425278673747093,
          -0.7888957909839527,
          0.5080520587703382,
          -0.14777685657714393,
          0.19389746683109096,
          -0.1863775839392197,
          3.826662212990111,
          1.7942084045458413,
          -1.346814767384748,
          -1.1375499897392416,
          0.48098246076773254,
          -1.2442890043073742,
          0.006054537387323956,
          0.7079016296857916,
          0.9850833750736986,
          -0.3163365229351439,
          -0.4816814896722392,
          -0.04785840952576833,
          -0.5514694996254651,
          1.0549941504273481,
          1.1669241949067033,
          -0.29010413031084936,
          -0.5107131029812131,
          -0.9299722618442059,
          0.40261878264672124,
          -1.1679406337745477,
          0.5435855253429999,
          -1.19777229520187,
          1.3514454837032996,
          -0.3965259735689329,
          0.17952127104730956,
          -0.3082954895460292,
          0.2721710338721595,
          -1.1620535089156803
         ]
        }
       ],
       "layout": {
        "legend": {
         "bgcolor": "#F5F6F9",
         "font": {
          "color": "#4D5663"
         }
        },
        "paper_bgcolor": "#F5F6F9",
        "plot_bgcolor": "#F5F6F9",
        "template": {
         "data": {
          "bar": [
           {
            "error_x": {
             "color": "#2a3f5f"
            },
            "error_y": {
             "color": "#2a3f5f"
            },
            "marker": {
             "line": {
              "color": "#E5ECF6",
              "width": 0.5
             }
            },
            "type": "bar"
           }
          ],
          "barpolar": [
           {
            "marker": {
             "line": {
              "color": "#E5ECF6",
              "width": 0.5
             }
            },
            "type": "barpolar"
           }
          ],
          "carpet": [
           {
            "aaxis": {
             "endlinecolor": "#2a3f5f",
             "gridcolor": "white",
             "linecolor": "white",
             "minorgridcolor": "white",
             "startlinecolor": "#2a3f5f"
            },
            "baxis": {
             "endlinecolor": "#2a3f5f",
             "gridcolor": "white",
             "linecolor": "white",
             "minorgridcolor": "white",
             "startlinecolor": "#2a3f5f"
            },
            "type": "carpet"
           }
          ],
          "choropleth": [
           {
            "colorbar": {
             "outlinewidth": 0,
             "ticks": ""
            },
            "type": "choropleth"
           }
          ],
          "contour": [
           {
            "colorbar": {
             "outlinewidth": 0,
             "ticks": ""
            },
            "colorscale": [
             [
              0,
              "#0d0887"
             ],
             [
              0.1111111111111111,
              "#46039f"
             ],
             [
              0.2222222222222222,
              "#7201a8"
             ],
             [
              0.3333333333333333,
              "#9c179e"
             ],
             [
              0.4444444444444444,
              "#bd3786"
             ],
             [
              0.5555555555555556,
              "#d8576b"
             ],
             [
              0.6666666666666666,
              "#ed7953"
             ],
             [
              0.7777777777777778,
              "#fb9f3a"
             ],
             [
              0.8888888888888888,
              "#fdca26"
             ],
             [
              1,
              "#f0f921"
             ]
            ],
            "type": "contour"
           }
          ],
          "contourcarpet": [
           {
            "colorbar": {
             "outlinewidth": 0,
             "ticks": ""
            },
            "type": "contourcarpet"
           }
          ],
          "heatmap": [
           {
            "colorbar": {
             "outlinewidth": 0,
             "ticks": ""
            },
            "colorscale": [
             [
              0,
              "#0d0887"
             ],
             [
              0.1111111111111111,
              "#46039f"
             ],
             [
              0.2222222222222222,
              "#7201a8"
             ],
             [
              0.3333333333333333,
              "#9c179e"
             ],
             [
              0.4444444444444444,
              "#bd3786"
             ],
             [
              0.5555555555555556,
              "#d8576b"
             ],
             [
              0.6666666666666666,
              "#ed7953"
             ],
             [
              0.7777777777777778,
              "#fb9f3a"
             ],
             [
              0.8888888888888888,
              "#fdca26"
             ],
             [
              1,
              "#f0f921"
             ]
            ],
            "type": "heatmap"
           }
          ],
          "heatmapgl": [
           {
            "colorbar": {
             "outlinewidth": 0,
             "ticks": ""
            },
            "colorscale": [
             [
              0,
              "#0d0887"
             ],
             [
              0.1111111111111111,
              "#46039f"
             ],
             [
              0.2222222222222222,
              "#7201a8"
             ],
             [
              0.3333333333333333,
              "#9c179e"
             ],
             [
              0.4444444444444444,
              "#bd3786"
             ],
             [
              0.5555555555555556,
              "#d8576b"
             ],
             [
              0.6666666666666666,
              "#ed7953"
             ],
             [
              0.7777777777777778,
              "#fb9f3a"
             ],
             [
              0.8888888888888888,
              "#fdca26"
             ],
             [
              1,
              "#f0f921"
             ]
            ],
            "type": "heatmapgl"
           }
          ],
          "histogram": [
           {
            "marker": {
             "colorbar": {
              "outlinewidth": 0,
              "ticks": ""
             }
            },
            "type": "histogram"
           }
          ],
          "histogram2d": [
           {
            "colorbar": {
             "outlinewidth": 0,
             "ticks": ""
            },
            "colorscale": [
             [
              0,
              "#0d0887"
             ],
             [
              0.1111111111111111,
              "#46039f"
             ],
             [
              0.2222222222222222,
              "#7201a8"
             ],
             [
              0.3333333333333333,
              "#9c179e"
             ],
             [
              0.4444444444444444,
              "#bd3786"
             ],
             [
              0.5555555555555556,
              "#d8576b"
             ],
             [
              0.6666666666666666,
              "#ed7953"
             ],
             [
              0.7777777777777778,
              "#fb9f3a"
             ],
             [
              0.8888888888888888,
              "#fdca26"
             ],
             [
              1,
              "#f0f921"
             ]
            ],
            "type": "histogram2d"
           }
          ],
          "histogram2dcontour": [
           {
            "colorbar": {
             "outlinewidth": 0,
             "ticks": ""
            },
            "colorscale": [
             [
              0,
              "#0d0887"
             ],
             [
              0.1111111111111111,
              "#46039f"
             ],
             [
              0.2222222222222222,
              "#7201a8"
             ],
             [
              0.3333333333333333,
              "#9c179e"
             ],
             [
              0.4444444444444444,
              "#bd3786"
             ],
             [
              0.5555555555555556,
              "#d8576b"
             ],
             [
              0.6666666666666666,
              "#ed7953"
             ],
             [
              0.7777777777777778,
              "#fb9f3a"
             ],
             [
              0.8888888888888888,
              "#fdca26"
             ],
             [
              1,
              "#f0f921"
             ]
            ],
            "type": "histogram2dcontour"
           }
          ],
          "mesh3d": [
           {
            "colorbar": {
             "outlinewidth": 0,
             "ticks": ""
            },
            "type": "mesh3d"
           }
          ],
          "parcoords": [
           {
            "line": {
             "colorbar": {
              "outlinewidth": 0,
              "ticks": ""
             }
            },
            "type": "parcoords"
           }
          ],
          "pie": [
           {
            "automargin": true,
            "type": "pie"
           }
          ],
          "scatter": [
           {
            "marker": {
             "colorbar": {
              "outlinewidth": 0,
              "ticks": ""
             }
            },
            "type": "scatter"
           }
          ],
          "scatter3d": [
           {
            "line": {
             "colorbar": {
              "outlinewidth": 0,
              "ticks": ""
             }
            },
            "marker": {
             "colorbar": {
              "outlinewidth": 0,
              "ticks": ""
             }
            },
            "type": "scatter3d"
           }
          ],
          "scattercarpet": [
           {
            "marker": {
             "colorbar": {
              "outlinewidth": 0,
              "ticks": ""
             }
            },
            "type": "scattercarpet"
           }
          ],
          "scattergeo": [
           {
            "marker": {
             "colorbar": {
              "outlinewidth": 0,
              "ticks": ""
             }
            },
            "type": "scattergeo"
           }
          ],
          "scattergl": [
           {
            "marker": {
             "colorbar": {
              "outlinewidth": 0,
              "ticks": ""
             }
            },
            "type": "scattergl"
           }
          ],
          "scattermapbox": [
           {
            "marker": {
             "colorbar": {
              "outlinewidth": 0,
              "ticks": ""
             }
            },
            "type": "scattermapbox"
           }
          ],
          "scatterpolar": [
           {
            "marker": {
             "colorbar": {
              "outlinewidth": 0,
              "ticks": ""
             }
            },
            "type": "scatterpolar"
           }
          ],
          "scatterpolargl": [
           {
            "marker": {
             "colorbar": {
              "outlinewidth": 0,
              "ticks": ""
             }
            },
            "type": "scatterpolargl"
           }
          ],
          "scatterternary": [
           {
            "marker": {
             "colorbar": {
              "outlinewidth": 0,
              "ticks": ""
             }
            },
            "type": "scatterternary"
           }
          ],
          "surface": [
           {
            "colorbar": {
             "outlinewidth": 0,
             "ticks": ""
            },
            "colorscale": [
             [
              0,
              "#0d0887"
             ],
             [
              0.1111111111111111,
              "#46039f"
             ],
             [
              0.2222222222222222,
              "#7201a8"
             ],
             [
              0.3333333333333333,
              "#9c179e"
             ],
             [
              0.4444444444444444,
              "#bd3786"
             ],
             [
              0.5555555555555556,
              "#d8576b"
             ],
             [
              0.6666666666666666,
              "#ed7953"
             ],
             [
              0.7777777777777778,
              "#fb9f3a"
             ],
             [
              0.8888888888888888,
              "#fdca26"
             ],
             [
              1,
              "#f0f921"
             ]
            ],
            "type": "surface"
           }
          ],
          "table": [
           {
            "cells": {
             "fill": {
              "color": "#EBF0F8"
             },
             "line": {
              "color": "white"
             }
            },
            "header": {
             "fill": {
              "color": "#C8D4E3"
             },
             "line": {
              "color": "white"
             }
            },
            "type": "table"
           }
          ]
         },
         "layout": {
          "annotationdefaults": {
           "arrowcolor": "#2a3f5f",
           "arrowhead": 0,
           "arrowwidth": 1
          },
          "coloraxis": {
           "colorbar": {
            "outlinewidth": 0,
            "ticks": ""
           }
          },
          "colorscale": {
           "diverging": [
            [
             0,
             "#8e0152"
            ],
            [
             0.1,
             "#c51b7d"
            ],
            [
             0.2,
             "#de77ae"
            ],
            [
             0.3,
             "#f1b6da"
            ],
            [
             0.4,
             "#fde0ef"
            ],
            [
             0.5,
             "#f7f7f7"
            ],
            [
             0.6,
             "#e6f5d0"
            ],
            [
             0.7,
             "#b8e186"
            ],
            [
             0.8,
             "#7fbc41"
            ],
            [
             0.9,
             "#4d9221"
            ],
            [
             1,
             "#276419"
            ]
           ],
           "sequential": [
            [
             0,
             "#0d0887"
            ],
            [
             0.1111111111111111,
             "#46039f"
            ],
            [
             0.2222222222222222,
             "#7201a8"
            ],
            [
             0.3333333333333333,
             "#9c179e"
            ],
            [
             0.4444444444444444,
             "#bd3786"
            ],
            [
             0.5555555555555556,
             "#d8576b"
            ],
            [
             0.6666666666666666,
             "#ed7953"
            ],
            [
             0.7777777777777778,
             "#fb9f3a"
            ],
            [
             0.8888888888888888,
             "#fdca26"
            ],
            [
             1,
             "#f0f921"
            ]
           ],
           "sequentialminus": [
            [
             0,
             "#0d0887"
            ],
            [
             0.1111111111111111,
             "#46039f"
            ],
            [
             0.2222222222222222,
             "#7201a8"
            ],
            [
             0.3333333333333333,
             "#9c179e"
            ],
            [
             0.4444444444444444,
             "#bd3786"
            ],
            [
             0.5555555555555556,
             "#d8576b"
            ],
            [
             0.6666666666666666,
             "#ed7953"
            ],
            [
             0.7777777777777778,
             "#fb9f3a"
            ],
            [
             0.8888888888888888,
             "#fdca26"
            ],
            [
             1,
             "#f0f921"
            ]
           ]
          },
          "colorway": [
           "#636efa",
           "#EF553B",
           "#00cc96",
           "#ab63fa",
           "#FFA15A",
           "#19d3f3",
           "#FF6692",
           "#B6E880",
           "#FF97FF",
           "#FECB52"
          ],
          "font": {
           "color": "#2a3f5f"
          },
          "geo": {
           "bgcolor": "white",
           "lakecolor": "white",
           "landcolor": "#E5ECF6",
           "showlakes": true,
           "showland": true,
           "subunitcolor": "white"
          },
          "hoverlabel": {
           "align": "left"
          },
          "hovermode": "closest",
          "mapbox": {
           "style": "light"
          },
          "paper_bgcolor": "white",
          "plot_bgcolor": "#E5ECF6",
          "polar": {
           "angularaxis": {
            "gridcolor": "white",
            "linecolor": "white",
            "ticks": ""
           },
           "bgcolor": "#E5ECF6",
           "radialaxis": {
            "gridcolor": "white",
            "linecolor": "white",
            "ticks": ""
           }
          },
          "scene": {
           "xaxis": {
            "backgroundcolor": "#E5ECF6",
            "gridcolor": "white",
            "gridwidth": 2,
            "linecolor": "white",
            "showbackground": true,
            "ticks": "",
            "zerolinecolor": "white"
           },
           "yaxis": {
            "backgroundcolor": "#E5ECF6",
            "gridcolor": "white",
            "gridwidth": 2,
            "linecolor": "white",
            "showbackground": true,
            "ticks": "",
            "zerolinecolor": "white"
           },
           "zaxis": {
            "backgroundcolor": "#E5ECF6",
            "gridcolor": "white",
            "gridwidth": 2,
            "linecolor": "white",
            "showbackground": true,
            "ticks": "",
            "zerolinecolor": "white"
           }
          },
          "shapedefaults": {
           "line": {
            "color": "#2a3f5f"
           }
          },
          "ternary": {
           "aaxis": {
            "gridcolor": "white",
            "linecolor": "white",
            "ticks": ""
           },
           "baxis": {
            "gridcolor": "white",
            "linecolor": "white",
            "ticks": ""
           },
           "bgcolor": "#E5ECF6",
           "caxis": {
            "gridcolor": "white",
            "linecolor": "white",
            "ticks": ""
           }
          },
          "title": {
           "x": 0.05
          },
          "xaxis": {
           "automargin": true,
           "gridcolor": "white",
           "linecolor": "white",
           "ticks": "",
           "title": {
            "standoff": 15
           },
           "zerolinecolor": "white",
           "zerolinewidth": 2
          },
          "yaxis": {
           "automargin": true,
           "gridcolor": "white",
           "linecolor": "white",
           "ticks": "",
           "title": {
            "standoff": 15
           },
           "zerolinecolor": "white",
           "zerolinewidth": 2
          }
         }
        },
        "title": {
         "font": {
          "color": "#4D5663"
         }
        },
        "xaxis": {
         "gridcolor": "#E1E5ED",
         "showgrid": true,
         "tickfont": {
          "color": "#4D5663"
         },
         "title": {
          "font": {
           "color": "#4D5663"
          },
          "text": ""
         },
         "zerolinecolor": "#E1E5ED"
        },
        "yaxis": {
         "gridcolor": "#E1E5ED",
         "showgrid": true,
         "tickfont": {
          "color": "#4D5663"
         },
         "title": {
          "font": {
           "color": "#4D5663"
          },
          "text": ""
         },
         "zerolinecolor": "#E1E5ED"
        }
       }
      },
      "text/html": [
       "<div>\n",
       "        \n",
       "        \n",
       "            <div id=\"5571bbb7-c8b5-49a5-920a-3df17ec43af5\" class=\"plotly-graph-div\" style=\"height:525px; width:100%;\"></div>\n",
       "            <script type=\"text/javascript\">\n",
       "                require([\"plotly\"], function(Plotly) {\n",
       "                    window.PLOTLYENV=window.PLOTLYENV || {};\n",
       "                    window.PLOTLYENV.BASE_URL='https://plot.ly';\n",
       "                    \n",
       "                if (document.getElementById(\"5571bbb7-c8b5-49a5-920a-3df17ec43af5\")) {\n",
       "                    Plotly.newPlot(\n",
       "                        '5571bbb7-c8b5-49a5-920a-3df17ec43af5',\n",
       "                        [{\"marker\": {\"color\": \"rgba(255, 153, 51, 0.6)\", \"line\": {\"color\": \"rgba(255, 153, 51, 1.0)\", \"width\": 1}}, \"name\": \"A\", \"orientation\": \"v\", \"text\": \"\", \"type\": \"bar\", \"x\": [0, 1, 2, 3, 4, 5, 6, 7, 8, 9, 10, 11, 12, 13, 14, 15, 16, 17, 18, 19, 20, 21, 22, 23, 24, 25, 26, 27, 28, 29, 30, 31, 32, 33, 34, 35, 36, 37, 38, 39, 40, 41, 42, 43, 44, 45, 46, 47, 48, 49, 50, 51, 52, 53, 54, 55, 56, 57, 58, 59, 60, 61, 62, 63, 64, 65, 66, 67, 68, 69, 70, 71, 72, 73, 74, 75, 76, 77, 78, 79, 80, 81, 82, 83, 84, 85, 86, 87, 88, 89, 90, 91, 92, 93, 94, 95, 96, 97, 98, 99], \"y\": [1.416593517660878, -0.14738395566749896, -1.7844796810424377, 1.0916939562052876, 0.8690310862451806, -0.9130881968676815, 0.999815987739978, 0.20249872319987558, 0.6651541347542538, 1.5904328259462475, 0.9224191664291218, -0.18016206629497075, 1.134944336265271, -0.19204911602866678, -0.7725701660993973, 0.10063744605008441, 0.10714591412949345, -0.42221541400028717, -0.8403776497203891, -0.34062561748689635, -0.9319306418128855, -2.7047515845412606, 0.008464414016829484, -0.24679681716914537, -0.8891064856373092, -0.0976902393419508, 2.0554795131481236, 1.140205355254008, -1.3222237382657935, 1.2972526054749431, 1.2723501043391907, -1.0402921253786834, 0.08975397544334109, -0.7211196617732506, 0.46079850518443477, -0.0035295707984208287, -1.6680052301548915, 0.39593916411591684, -0.036736725525066675, -0.18708565303207123, 0.4090337394442913, -0.11516336115305838, -2.1023287946207225, 0.7145964193033464, 0.8992939935517598, -1.1066813776882152, -0.8429684555863061, 0.8641921006942638, -0.5073841845450361, -0.8566073764635567, -0.26835127760692934, -1.2592951714357608, -0.880020854779105, 1.3836949417430615, -0.8108977849120101, 0.4561661807281345, 0.004415115029279976, 0.03828165518747515, -0.10676227658460166, 1.028572156444397, -0.28421897250220285, 0.8849806821994682, 1.4380095987100332, -0.8877395811176105, 1.228816832515203, 0.7564202279095027, -0.2625169494179067, 1.013996267722401, -0.4081800018537628, 1.0211977886508627, 0.7767951727052528, 0.2911188894392512, -1.730474681675736, 0.32841643489202166, 0.07140028981004318, 1.0689025968967223, -1.9049709066817657, -0.5405171578578922, -0.47397936749667924, -0.7220304917111585, -0.43499570927661463, -1.076760505534362, -2.851530141907224, -0.3583158919767544, -1.5432561099522224, -0.8784881122522841, -1.9603084686379697, -0.5885186370713009, 1.5997148736849103, 0.024734175690217294, 0.07809005053066699, 1.667352773288952, -1.287735836010282, -0.5990499600750134, 0.10309793710856048, 0.6049082987598869, 0.22668443288025425, -0.4085805437783098, 0.7047569911056685, -0.0058223868182907396]}, {\"marker\": {\"color\": \"rgba(55, 128, 191, 0.6)\", \"line\": {\"color\": \"rgba(55, 128, 191, 1.0)\", \"width\": 1}}, \"name\": \"B\", \"orientation\": \"v\", \"text\": \"\", \"type\": \"bar\", \"x\": [0, 1, 2, 3, 4, 5, 6, 7, 8, 9, 10, 11, 12, 13, 14, 15, 16, 17, 18, 19, 20, 21, 22, 23, 24, 25, 26, 27, 28, 29, 30, 31, 32, 33, 34, 35, 36, 37, 38, 39, 40, 41, 42, 43, 44, 45, 46, 47, 48, 49, 50, 51, 52, 53, 54, 55, 56, 57, 58, 59, 60, 61, 62, 63, 64, 65, 66, 67, 68, 69, 70, 71, 72, 73, 74, 75, 76, 77, 78, 79, 80, 81, 82, 83, 84, 85, 86, 87, 88, 89, 90, 91, 92, 93, 94, 95, 96, 97, 98, 99], \"y\": [-1.784098720340015, 2.171244510657171, 0.6814350497909425, 1.6915046033363401, 0.18481649594853616, 1.3717132391682432, -1.2275847765325325, 0.1377905244967582, -1.1480009457520386, 0.26162442648712664, -0.3949869957178582, -1.4968385199265781, -1.2882205677288796, 0.734932556612695, 1.2232971975351834, -0.593392211027469, -1.0654669938822041, -0.3571674089948739, -0.13876162829474128, -0.2895293494986774, -0.48357022428835184, -1.3885923462518266, -0.5237646877578167, 1.3060138012560842, 0.25660307311615027, -0.8203047424592492, -0.4923162655865527, -0.4845844995598301, 1.1978422826877433, 2.0998690486150426, 1.01936669685555, -0.3386138535811944, -1.482145713226032, 2.2072307943488627, 0.7211135696527582, -1.8947101869608063, -1.6555186146259382, 0.6664471016106729, 0.6579972725992663, 0.26733180131832407, 0.8914121897579306, -0.5502327140222424, -0.7035046554239406, -0.9461377411810604, -0.6001142874070964, 0.02870046019532282, -1.7907167802754105, 1.3897741383929765, -0.016268510422112355, 0.5663514625633824, 1.9999017682580833, 1.6601667123454453, 0.6815372328213235, -0.8400593255846813, 1.11322310825198, 0.6606722621695404, 0.4375288477222289, -0.23405318147746282, 0.5886108970417825, -0.33299951352436286, -0.40185930102225387, -0.6635188196620705, 0.07704697176714438, -0.9213946986355144, -0.9831820012034149, 0.7946699447595283, -0.9991701796154964, 0.2815538007953517, 0.174998690858209, 0.8837798626530278, 0.9032875954210857, 0.24055208121983598, 0.5922894036824274, -1.2661514687988389, -0.8809610852153962, -0.12528969601901807, 0.6211367105295839, 0.13636933563037099, 0.5931900126435424, -1.4967044610569924, 0.5340581219643343, 0.3514056027479767, 0.4863662132233159, 0.24581933733395622, -2.059486231643359, -0.6300296950748387, 0.44013425063156586, 0.4473713899152323, -0.00047627043586563036, 0.2657031815297724, 2.201413247661273, -0.9173536467289062, -0.8332408625755586, -1.0151245854973656, 0.14016786526148148, 0.5585536889690439, -0.44476215618074133, -0.4413464723748191, -0.3494357165693916, -1.0018284495680674]}, {\"marker\": {\"color\": \"rgba(50, 171, 96, 0.6)\", \"line\": {\"color\": \"rgba(50, 171, 96, 1.0)\", \"width\": 1}}, \"name\": \"C\", \"orientation\": \"v\", \"text\": \"\", \"type\": \"bar\", \"x\": [0, 1, 2, 3, 4, 5, 6, 7, 8, 9, 10, 11, 12, 13, 14, 15, 16, 17, 18, 19, 20, 21, 22, 23, 24, 25, 26, 27, 28, 29, 30, 31, 32, 33, 34, 35, 36, 37, 38, 39, 40, 41, 42, 43, 44, 45, 46, 47, 48, 49, 50, 51, 52, 53, 54, 55, 56, 57, 58, 59, 60, 61, 62, 63, 64, 65, 66, 67, 68, 69, 70, 71, 72, 73, 74, 75, 76, 77, 78, 79, 80, 81, 82, 83, 84, 85, 86, 87, 88, 89, 90, 91, 92, 93, 94, 95, 96, 97, 98, 99], \"y\": [-0.5967119098197226, 0.853238764026366, 1.6672094843438492, -0.0037601992873524037, -0.9071834782154601, 1.883690558450849, -2.106354563045812, -1.2168484036552596, 0.17255626813792466, 1.0582852945687178, 1.3952429242549573, 0.07227254577092632, -0.4195317892628768, 0.3148586861350653, 0.17138607027311709, 0.979523061893303, 1.0170253940983998, -0.31540535624226623, -0.1771259277074585, 1.0509795019188313, 0.4027836644340148, -0.10335933258826242, -0.7935237694439741, 0.2929342298614919, 2.156830774988516, 0.30115733682483886, 2.0883112687994463, -0.9278018279636102, 0.1274690526763963, -0.7019996573220373, 0.1499739530535481, -1.0036591424346843, -2.800423325047921, 1.3353677753307296, 0.5034117514155685, 0.2570665310706626, -1.1518065065844245, -0.4729507221586094, 1.672213002084143, -1.2363872849124302, 0.012105592964178779, -1.493747478456467, 0.1952640284715851, -0.7848860869658573, 0.02009202740699355, 0.07135868247529763, -0.7884840153246424, 0.01814514012957843, 0.2146823765491746, -1.0675674116210412, 0.8544589019211002, -0.5989615235683363, -0.46581180378221787, 0.6152601748855848, 0.7692237912289807, -0.4420183379256885, -1.6959042945833291, 0.08343248358165806, -0.2945583821376016, 0.6063342583506851, -0.5887858952909739, 0.13694788409010514, -1.2424969811602868, -0.5239490868519974, 1.1956002105011092, 1.084099517593647, 0.7610297699914984, 0.15656489162299303, -1.3256041858993401, 0.6332892520923301, -0.9439011838970643, 0.19397551161246512, -0.564838581449026, 0.6443860682633141, -0.00950007628578957, 1.059583505527082, 1.3659520311143776, -1.7341794280109315, 0.3817222401871636, 0.20508286240366627, -0.30652983613662893, 1.1586328857965569, -0.24000038468347007, 0.5057631958197074, -0.6101763309802465, 0.7182084359558547, 0.1162004892642478, 0.20904716578240504, -2.1276348152551523, -0.20780572655946458, -0.260592364108929, -0.580124951761244, 1.8107866238776256, 1.2067337473203945, 0.9661438170829647, 0.778797568299232, -1.4437124946541433, 1.4058055726143668, 1.6464512148069346, 1.5567465741174473]}, {\"marker\": {\"color\": \"rgba(128, 0, 128, 0.6)\", \"line\": {\"color\": \"rgba(128, 0, 128, 1.0)\", \"width\": 1}}, \"name\": \"D\", \"orientation\": \"v\", \"text\": \"\", \"type\": \"bar\", \"x\": [0, 1, 2, 3, 4, 5, 6, 7, 8, 9, 10, 11, 12, 13, 14, 15, 16, 17, 18, 19, 20, 21, 22, 23, 24, 25, 26, 27, 28, 29, 30, 31, 32, 33, 34, 35, 36, 37, 38, 39, 40, 41, 42, 43, 44, 45, 46, 47, 48, 49, 50, 51, 52, 53, 54, 55, 56, 57, 58, 59, 60, 61, 62, 63, 64, 65, 66, 67, 68, 69, 70, 71, 72, 73, 74, 75, 76, 77, 78, 79, 80, 81, 82, 83, 84, 85, 86, 87, 88, 89, 90, 91, 92, 93, 94, 95, 96, 97, 98, 99], \"y\": [0.6079252288271123, -0.7673086708362776, 2.7918004888249155, 1.5313914625222045, -1.4345453782854332, -1.0437865151846786, 0.19847176529920577, 1.3862446579489935, -0.35138062753487304, 0.03719432201318422, -1.7616253778540005, 2.3407054624379846, -0.2000097595989267, 0.7669854014325037, 0.11298294909977, 0.046858080065504425, -0.18120895485222938, 0.7695550229775915, 0.15511077522056577, -0.9108953777606292, 0.6377005270907216, -1.6068124460140327, 1.845840177929854, -1.1052126634256259, -1.6451598313262024, 1.0953926667391707, -2.6811855828962696, -0.24426026935419365, -0.6820128828581605, 0.3608787094224027, -0.0764345595001479, 0.3088811741935369, -0.329408490492265, 1.4464185545662458, -2.0128086971620927, 0.08825858728083487, -0.168682137332262, 2.065928188589186, -1.6017962278561868, -1.5312993522830245, -0.03945107251970846, -0.6733129013460523, -0.6076787744094737, 1.6360672041399968, 0.48494877078027687, 0.01323259657886119, 1.4328584127569208, -1.6683257498452444, -0.8829926821113253, -0.09166483027086167, -3.080415218787863, -0.8472046953264905, -0.049951322488767644, -0.6759172855350523, 0.2810806490503662, 0.07703330630025013, 1.7316185845049246, 0.5755896592654809, 0.7732777600729397, -0.5761818253061513, -0.5662697882027303, -1.284520760769256, 0.41915185995351933, 0.4516275355752908, 0.10016374487909058, -0.589883708770861, -0.425278673747093, -0.7888957909839527, 0.5080520587703382, -0.14777685657714393, 0.19389746683109096, -0.1863775839392197, 3.826662212990111, 1.7942084045458413, -1.346814767384748, -1.1375499897392416, 0.48098246076773254, -1.2442890043073742, 0.006054537387323956, 0.7079016296857916, 0.9850833750736986, -0.3163365229351439, -0.4816814896722392, -0.04785840952576833, -0.5514694996254651, 1.0549941504273481, 1.1669241949067033, -0.29010413031084936, -0.5107131029812131, -0.9299722618442059, 0.40261878264672124, -1.1679406337745477, 0.5435855253429999, -1.19777229520187, 1.3514454837032996, -0.3965259735689329, 0.17952127104730956, -0.3082954895460292, 0.2721710338721595, -1.1620535089156803]}],\n",
       "                        {\"legend\": {\"bgcolor\": \"#F5F6F9\", \"font\": {\"color\": \"#4D5663\"}}, \"paper_bgcolor\": \"#F5F6F9\", \"plot_bgcolor\": \"#F5F6F9\", \"template\": {\"data\": {\"bar\": [{\"error_x\": {\"color\": \"#2a3f5f\"}, \"error_y\": {\"color\": \"#2a3f5f\"}, \"marker\": {\"line\": {\"color\": \"#E5ECF6\", \"width\": 0.5}}, \"type\": \"bar\"}], \"barpolar\": [{\"marker\": {\"line\": {\"color\": \"#E5ECF6\", \"width\": 0.5}}, \"type\": \"barpolar\"}], \"carpet\": [{\"aaxis\": {\"endlinecolor\": \"#2a3f5f\", \"gridcolor\": \"white\", \"linecolor\": \"white\", \"minorgridcolor\": \"white\", \"startlinecolor\": \"#2a3f5f\"}, \"baxis\": {\"endlinecolor\": \"#2a3f5f\", \"gridcolor\": \"white\", \"linecolor\": \"white\", \"minorgridcolor\": \"white\", \"startlinecolor\": \"#2a3f5f\"}, \"type\": \"carpet\"}], \"choropleth\": [{\"colorbar\": {\"outlinewidth\": 0, \"ticks\": \"\"}, \"type\": \"choropleth\"}], \"contour\": [{\"colorbar\": {\"outlinewidth\": 0, \"ticks\": \"\"}, \"colorscale\": [[0.0, \"#0d0887\"], [0.1111111111111111, \"#46039f\"], [0.2222222222222222, \"#7201a8\"], [0.3333333333333333, \"#9c179e\"], [0.4444444444444444, \"#bd3786\"], [0.5555555555555556, \"#d8576b\"], [0.6666666666666666, \"#ed7953\"], [0.7777777777777778, \"#fb9f3a\"], [0.8888888888888888, \"#fdca26\"], [1.0, \"#f0f921\"]], \"type\": \"contour\"}], \"contourcarpet\": [{\"colorbar\": {\"outlinewidth\": 0, \"ticks\": \"\"}, \"type\": \"contourcarpet\"}], \"heatmap\": [{\"colorbar\": {\"outlinewidth\": 0, \"ticks\": \"\"}, \"colorscale\": [[0.0, \"#0d0887\"], [0.1111111111111111, \"#46039f\"], [0.2222222222222222, \"#7201a8\"], [0.3333333333333333, \"#9c179e\"], [0.4444444444444444, \"#bd3786\"], [0.5555555555555556, \"#d8576b\"], [0.6666666666666666, \"#ed7953\"], [0.7777777777777778, \"#fb9f3a\"], [0.8888888888888888, \"#fdca26\"], [1.0, \"#f0f921\"]], \"type\": \"heatmap\"}], \"heatmapgl\": [{\"colorbar\": {\"outlinewidth\": 0, \"ticks\": \"\"}, \"colorscale\": [[0.0, \"#0d0887\"], [0.1111111111111111, \"#46039f\"], [0.2222222222222222, \"#7201a8\"], [0.3333333333333333, \"#9c179e\"], [0.4444444444444444, \"#bd3786\"], [0.5555555555555556, \"#d8576b\"], [0.6666666666666666, \"#ed7953\"], [0.7777777777777778, \"#fb9f3a\"], [0.8888888888888888, \"#fdca26\"], [1.0, \"#f0f921\"]], \"type\": \"heatmapgl\"}], \"histogram\": [{\"marker\": {\"colorbar\": {\"outlinewidth\": 0, \"ticks\": \"\"}}, \"type\": \"histogram\"}], \"histogram2d\": [{\"colorbar\": {\"outlinewidth\": 0, \"ticks\": \"\"}, \"colorscale\": [[0.0, \"#0d0887\"], [0.1111111111111111, \"#46039f\"], [0.2222222222222222, \"#7201a8\"], [0.3333333333333333, \"#9c179e\"], [0.4444444444444444, \"#bd3786\"], [0.5555555555555556, \"#d8576b\"], [0.6666666666666666, \"#ed7953\"], [0.7777777777777778, \"#fb9f3a\"], [0.8888888888888888, \"#fdca26\"], [1.0, \"#f0f921\"]], \"type\": \"histogram2d\"}], \"histogram2dcontour\": [{\"colorbar\": {\"outlinewidth\": 0, \"ticks\": \"\"}, \"colorscale\": [[0.0, \"#0d0887\"], [0.1111111111111111, \"#46039f\"], [0.2222222222222222, \"#7201a8\"], [0.3333333333333333, \"#9c179e\"], [0.4444444444444444, \"#bd3786\"], [0.5555555555555556, \"#d8576b\"], [0.6666666666666666, \"#ed7953\"], [0.7777777777777778, \"#fb9f3a\"], [0.8888888888888888, \"#fdca26\"], [1.0, \"#f0f921\"]], \"type\": \"histogram2dcontour\"}], \"mesh3d\": [{\"colorbar\": {\"outlinewidth\": 0, \"ticks\": \"\"}, \"type\": \"mesh3d\"}], \"parcoords\": [{\"line\": {\"colorbar\": {\"outlinewidth\": 0, \"ticks\": \"\"}}, \"type\": \"parcoords\"}], \"pie\": [{\"automargin\": true, \"type\": \"pie\"}], \"scatter\": [{\"marker\": {\"colorbar\": {\"outlinewidth\": 0, \"ticks\": \"\"}}, \"type\": \"scatter\"}], \"scatter3d\": [{\"line\": {\"colorbar\": {\"outlinewidth\": 0, \"ticks\": \"\"}}, \"marker\": {\"colorbar\": {\"outlinewidth\": 0, \"ticks\": \"\"}}, \"type\": \"scatter3d\"}], \"scattercarpet\": [{\"marker\": {\"colorbar\": {\"outlinewidth\": 0, \"ticks\": \"\"}}, \"type\": \"scattercarpet\"}], \"scattergeo\": [{\"marker\": {\"colorbar\": {\"outlinewidth\": 0, \"ticks\": \"\"}}, \"type\": \"scattergeo\"}], \"scattergl\": [{\"marker\": {\"colorbar\": {\"outlinewidth\": 0, \"ticks\": \"\"}}, \"type\": \"scattergl\"}], \"scattermapbox\": [{\"marker\": {\"colorbar\": {\"outlinewidth\": 0, \"ticks\": \"\"}}, \"type\": \"scattermapbox\"}], \"scatterpolar\": [{\"marker\": {\"colorbar\": {\"outlinewidth\": 0, \"ticks\": \"\"}}, \"type\": \"scatterpolar\"}], \"scatterpolargl\": [{\"marker\": {\"colorbar\": {\"outlinewidth\": 0, \"ticks\": \"\"}}, \"type\": \"scatterpolargl\"}], \"scatterternary\": [{\"marker\": {\"colorbar\": {\"outlinewidth\": 0, \"ticks\": \"\"}}, \"type\": \"scatterternary\"}], \"surface\": [{\"colorbar\": {\"outlinewidth\": 0, \"ticks\": \"\"}, \"colorscale\": [[0.0, \"#0d0887\"], [0.1111111111111111, \"#46039f\"], [0.2222222222222222, \"#7201a8\"], [0.3333333333333333, \"#9c179e\"], [0.4444444444444444, \"#bd3786\"], [0.5555555555555556, \"#d8576b\"], [0.6666666666666666, \"#ed7953\"], [0.7777777777777778, \"#fb9f3a\"], [0.8888888888888888, \"#fdca26\"], [1.0, \"#f0f921\"]], \"type\": \"surface\"}], \"table\": [{\"cells\": {\"fill\": {\"color\": \"#EBF0F8\"}, \"line\": {\"color\": \"white\"}}, \"header\": {\"fill\": {\"color\": \"#C8D4E3\"}, \"line\": {\"color\": \"white\"}}, \"type\": \"table\"}]}, \"layout\": {\"annotationdefaults\": {\"arrowcolor\": \"#2a3f5f\", \"arrowhead\": 0, \"arrowwidth\": 1}, \"coloraxis\": {\"colorbar\": {\"outlinewidth\": 0, \"ticks\": \"\"}}, \"colorscale\": {\"diverging\": [[0, \"#8e0152\"], [0.1, \"#c51b7d\"], [0.2, \"#de77ae\"], [0.3, \"#f1b6da\"], [0.4, \"#fde0ef\"], [0.5, \"#f7f7f7\"], [0.6, \"#e6f5d0\"], [0.7, \"#b8e186\"], [0.8, \"#7fbc41\"], [0.9, \"#4d9221\"], [1, \"#276419\"]], \"sequential\": [[0.0, \"#0d0887\"], [0.1111111111111111, \"#46039f\"], [0.2222222222222222, \"#7201a8\"], [0.3333333333333333, \"#9c179e\"], [0.4444444444444444, \"#bd3786\"], [0.5555555555555556, \"#d8576b\"], [0.6666666666666666, \"#ed7953\"], [0.7777777777777778, \"#fb9f3a\"], [0.8888888888888888, \"#fdca26\"], [1.0, \"#f0f921\"]], \"sequentialminus\": [[0.0, \"#0d0887\"], [0.1111111111111111, \"#46039f\"], [0.2222222222222222, \"#7201a8\"], [0.3333333333333333, \"#9c179e\"], [0.4444444444444444, \"#bd3786\"], [0.5555555555555556, \"#d8576b\"], [0.6666666666666666, \"#ed7953\"], [0.7777777777777778, \"#fb9f3a\"], [0.8888888888888888, \"#fdca26\"], [1.0, \"#f0f921\"]]}, \"colorway\": [\"#636efa\", \"#EF553B\", \"#00cc96\", \"#ab63fa\", \"#FFA15A\", \"#19d3f3\", \"#FF6692\", \"#B6E880\", \"#FF97FF\", \"#FECB52\"], \"font\": {\"color\": \"#2a3f5f\"}, \"geo\": {\"bgcolor\": \"white\", \"lakecolor\": \"white\", \"landcolor\": \"#E5ECF6\", \"showlakes\": true, \"showland\": true, \"subunitcolor\": \"white\"}, \"hoverlabel\": {\"align\": \"left\"}, \"hovermode\": \"closest\", \"mapbox\": {\"style\": \"light\"}, \"paper_bgcolor\": \"white\", \"plot_bgcolor\": \"#E5ECF6\", \"polar\": {\"angularaxis\": {\"gridcolor\": \"white\", \"linecolor\": \"white\", \"ticks\": \"\"}, \"bgcolor\": \"#E5ECF6\", \"radialaxis\": {\"gridcolor\": \"white\", \"linecolor\": \"white\", \"ticks\": \"\"}}, \"scene\": {\"xaxis\": {\"backgroundcolor\": \"#E5ECF6\", \"gridcolor\": \"white\", \"gridwidth\": 2, \"linecolor\": \"white\", \"showbackground\": true, \"ticks\": \"\", \"zerolinecolor\": \"white\"}, \"yaxis\": {\"backgroundcolor\": \"#E5ECF6\", \"gridcolor\": \"white\", \"gridwidth\": 2, \"linecolor\": \"white\", \"showbackground\": true, \"ticks\": \"\", \"zerolinecolor\": \"white\"}, \"zaxis\": {\"backgroundcolor\": \"#E5ECF6\", \"gridcolor\": \"white\", \"gridwidth\": 2, \"linecolor\": \"white\", \"showbackground\": true, \"ticks\": \"\", \"zerolinecolor\": \"white\"}}, \"shapedefaults\": {\"line\": {\"color\": \"#2a3f5f\"}}, \"ternary\": {\"aaxis\": {\"gridcolor\": \"white\", \"linecolor\": \"white\", \"ticks\": \"\"}, \"baxis\": {\"gridcolor\": \"white\", \"linecolor\": \"white\", \"ticks\": \"\"}, \"bgcolor\": \"#E5ECF6\", \"caxis\": {\"gridcolor\": \"white\", \"linecolor\": \"white\", \"ticks\": \"\"}}, \"title\": {\"x\": 0.05}, \"xaxis\": {\"automargin\": true, \"gridcolor\": \"white\", \"linecolor\": \"white\", \"ticks\": \"\", \"title\": {\"standoff\": 15}, \"zerolinecolor\": \"white\", \"zerolinewidth\": 2}, \"yaxis\": {\"automargin\": true, \"gridcolor\": \"white\", \"linecolor\": \"white\", \"ticks\": \"\", \"title\": {\"standoff\": 15}, \"zerolinecolor\": \"white\", \"zerolinewidth\": 2}}}, \"title\": {\"font\": {\"color\": \"#4D5663\"}}, \"xaxis\": {\"gridcolor\": \"#E1E5ED\", \"showgrid\": true, \"tickfont\": {\"color\": \"#4D5663\"}, \"title\": {\"font\": {\"color\": \"#4D5663\"}, \"text\": \"\"}, \"zerolinecolor\": \"#E1E5ED\"}, \"yaxis\": {\"gridcolor\": \"#E1E5ED\", \"showgrid\": true, \"tickfont\": {\"color\": \"#4D5663\"}, \"title\": {\"font\": {\"color\": \"#4D5663\"}, \"text\": \"\"}, \"zerolinecolor\": \"#E1E5ED\"}},\n",
       "                        {\"showLink\": true, \"linkText\": \"Export to plot.ly\", \"plotlyServerURL\": \"https://plot.ly\", \"responsive\": true}\n",
       "                    ).then(function(){\n",
       "                            \n",
       "var gd = document.getElementById('5571bbb7-c8b5-49a5-920a-3df17ec43af5');\n",
       "var x = new MutationObserver(function (mutations, observer) {{\n",
       "        var display = window.getComputedStyle(gd).display;\n",
       "        if (!display || display === 'none') {{\n",
       "            console.log([gd, 'removed!']);\n",
       "            Plotly.purge(gd);\n",
       "            observer.disconnect();\n",
       "        }}\n",
       "}});\n",
       "\n",
       "// Listen for the removal of the full notebook cells\n",
       "var notebookContainer = gd.closest('#notebook-container');\n",
       "if (notebookContainer) {{\n",
       "    x.observe(notebookContainer, {childList: true});\n",
       "}}\n",
       "\n",
       "// Listen for the clearing of the current output cell\n",
       "var outputEl = gd.closest('.output');\n",
       "if (outputEl) {{\n",
       "    x.observe(outputEl, {childList: true});\n",
       "}}\n",
       "\n",
       "                        })\n",
       "                };\n",
       "                });\n",
       "            </script>\n",
       "        </div>"
      ]
     },
     "metadata": {},
     "output_type": "display_data"
    }
   ],
   "source": [
    "#df values are not nicely categorized as df2 so the bar plots will be big in number\n",
    "df.iplot(kind = 'bar')"
   ]
  },
  {
   "cell_type": "code",
   "execution_count": 45,
   "metadata": {},
   "outputs": [
    {
     "data": {
      "application/vnd.plotly.v1+json": {
       "config": {
        "linkText": "Export to plot.ly",
        "plotlyServerURL": "https://plot.ly",
        "showLink": true
       },
       "data": [
        {
         "marker": {
          "color": "rgba(255, 153, 51, 0.6)",
          "line": {
           "color": "rgba(255, 153, 51, 1.0)",
           "width": 1
          }
         },
         "name": "None",
         "orientation": "v",
         "text": "",
         "type": "bar",
         "x": [
          "A",
          "B",
          "C",
          "D"
         ],
         "y": [
          -7.998420317391257,
          -0.9476513243782377,
          8.005091535071939,
          -4.562033528340192
         ]
        }
       ],
       "layout": {
        "legend": {
         "bgcolor": "#F5F6F9",
         "font": {
          "color": "#4D5663"
         }
        },
        "paper_bgcolor": "#F5F6F9",
        "plot_bgcolor": "#F5F6F9",
        "template": {
         "data": {
          "bar": [
           {
            "error_x": {
             "color": "#2a3f5f"
            },
            "error_y": {
             "color": "#2a3f5f"
            },
            "marker": {
             "line": {
              "color": "#E5ECF6",
              "width": 0.5
             }
            },
            "type": "bar"
           }
          ],
          "barpolar": [
           {
            "marker": {
             "line": {
              "color": "#E5ECF6",
              "width": 0.5
             }
            },
            "type": "barpolar"
           }
          ],
          "carpet": [
           {
            "aaxis": {
             "endlinecolor": "#2a3f5f",
             "gridcolor": "white",
             "linecolor": "white",
             "minorgridcolor": "white",
             "startlinecolor": "#2a3f5f"
            },
            "baxis": {
             "endlinecolor": "#2a3f5f",
             "gridcolor": "white",
             "linecolor": "white",
             "minorgridcolor": "white",
             "startlinecolor": "#2a3f5f"
            },
            "type": "carpet"
           }
          ],
          "choropleth": [
           {
            "colorbar": {
             "outlinewidth": 0,
             "ticks": ""
            },
            "type": "choropleth"
           }
          ],
          "contour": [
           {
            "colorbar": {
             "outlinewidth": 0,
             "ticks": ""
            },
            "colorscale": [
             [
              0,
              "#0d0887"
             ],
             [
              0.1111111111111111,
              "#46039f"
             ],
             [
              0.2222222222222222,
              "#7201a8"
             ],
             [
              0.3333333333333333,
              "#9c179e"
             ],
             [
              0.4444444444444444,
              "#bd3786"
             ],
             [
              0.5555555555555556,
              "#d8576b"
             ],
             [
              0.6666666666666666,
              "#ed7953"
             ],
             [
              0.7777777777777778,
              "#fb9f3a"
             ],
             [
              0.8888888888888888,
              "#fdca26"
             ],
             [
              1,
              "#f0f921"
             ]
            ],
            "type": "contour"
           }
          ],
          "contourcarpet": [
           {
            "colorbar": {
             "outlinewidth": 0,
             "ticks": ""
            },
            "type": "contourcarpet"
           }
          ],
          "heatmap": [
           {
            "colorbar": {
             "outlinewidth": 0,
             "ticks": ""
            },
            "colorscale": [
             [
              0,
              "#0d0887"
             ],
             [
              0.1111111111111111,
              "#46039f"
             ],
             [
              0.2222222222222222,
              "#7201a8"
             ],
             [
              0.3333333333333333,
              "#9c179e"
             ],
             [
              0.4444444444444444,
              "#bd3786"
             ],
             [
              0.5555555555555556,
              "#d8576b"
             ],
             [
              0.6666666666666666,
              "#ed7953"
             ],
             [
              0.7777777777777778,
              "#fb9f3a"
             ],
             [
              0.8888888888888888,
              "#fdca26"
             ],
             [
              1,
              "#f0f921"
             ]
            ],
            "type": "heatmap"
           }
          ],
          "heatmapgl": [
           {
            "colorbar": {
             "outlinewidth": 0,
             "ticks": ""
            },
            "colorscale": [
             [
              0,
              "#0d0887"
             ],
             [
              0.1111111111111111,
              "#46039f"
             ],
             [
              0.2222222222222222,
              "#7201a8"
             ],
             [
              0.3333333333333333,
              "#9c179e"
             ],
             [
              0.4444444444444444,
              "#bd3786"
             ],
             [
              0.5555555555555556,
              "#d8576b"
             ],
             [
              0.6666666666666666,
              "#ed7953"
             ],
             [
              0.7777777777777778,
              "#fb9f3a"
             ],
             [
              0.8888888888888888,
              "#fdca26"
             ],
             [
              1,
              "#f0f921"
             ]
            ],
            "type": "heatmapgl"
           }
          ],
          "histogram": [
           {
            "marker": {
             "colorbar": {
              "outlinewidth": 0,
              "ticks": ""
             }
            },
            "type": "histogram"
           }
          ],
          "histogram2d": [
           {
            "colorbar": {
             "outlinewidth": 0,
             "ticks": ""
            },
            "colorscale": [
             [
              0,
              "#0d0887"
             ],
             [
              0.1111111111111111,
              "#46039f"
             ],
             [
              0.2222222222222222,
              "#7201a8"
             ],
             [
              0.3333333333333333,
              "#9c179e"
             ],
             [
              0.4444444444444444,
              "#bd3786"
             ],
             [
              0.5555555555555556,
              "#d8576b"
             ],
             [
              0.6666666666666666,
              "#ed7953"
             ],
             [
              0.7777777777777778,
              "#fb9f3a"
             ],
             [
              0.8888888888888888,
              "#fdca26"
             ],
             [
              1,
              "#f0f921"
             ]
            ],
            "type": "histogram2d"
           }
          ],
          "histogram2dcontour": [
           {
            "colorbar": {
             "outlinewidth": 0,
             "ticks": ""
            },
            "colorscale": [
             [
              0,
              "#0d0887"
             ],
             [
              0.1111111111111111,
              "#46039f"
             ],
             [
              0.2222222222222222,
              "#7201a8"
             ],
             [
              0.3333333333333333,
              "#9c179e"
             ],
             [
              0.4444444444444444,
              "#bd3786"
             ],
             [
              0.5555555555555556,
              "#d8576b"
             ],
             [
              0.6666666666666666,
              "#ed7953"
             ],
             [
              0.7777777777777778,
              "#fb9f3a"
             ],
             [
              0.8888888888888888,
              "#fdca26"
             ],
             [
              1,
              "#f0f921"
             ]
            ],
            "type": "histogram2dcontour"
           }
          ],
          "mesh3d": [
           {
            "colorbar": {
             "outlinewidth": 0,
             "ticks": ""
            },
            "type": "mesh3d"
           }
          ],
          "parcoords": [
           {
            "line": {
             "colorbar": {
              "outlinewidth": 0,
              "ticks": ""
             }
            },
            "type": "parcoords"
           }
          ],
          "pie": [
           {
            "automargin": true,
            "type": "pie"
           }
          ],
          "scatter": [
           {
            "marker": {
             "colorbar": {
              "outlinewidth": 0,
              "ticks": ""
             }
            },
            "type": "scatter"
           }
          ],
          "scatter3d": [
           {
            "line": {
             "colorbar": {
              "outlinewidth": 0,
              "ticks": ""
             }
            },
            "marker": {
             "colorbar": {
              "outlinewidth": 0,
              "ticks": ""
             }
            },
            "type": "scatter3d"
           }
          ],
          "scattercarpet": [
           {
            "marker": {
             "colorbar": {
              "outlinewidth": 0,
              "ticks": ""
             }
            },
            "type": "scattercarpet"
           }
          ],
          "scattergeo": [
           {
            "marker": {
             "colorbar": {
              "outlinewidth": 0,
              "ticks": ""
             }
            },
            "type": "scattergeo"
           }
          ],
          "scattergl": [
           {
            "marker": {
             "colorbar": {
              "outlinewidth": 0,
              "ticks": ""
             }
            },
            "type": "scattergl"
           }
          ],
          "scattermapbox": [
           {
            "marker": {
             "colorbar": {
              "outlinewidth": 0,
              "ticks": ""
             }
            },
            "type": "scattermapbox"
           }
          ],
          "scatterpolar": [
           {
            "marker": {
             "colorbar": {
              "outlinewidth": 0,
              "ticks": ""
             }
            },
            "type": "scatterpolar"
           }
          ],
          "scatterpolargl": [
           {
            "marker": {
             "colorbar": {
              "outlinewidth": 0,
              "ticks": ""
             }
            },
            "type": "scatterpolargl"
           }
          ],
          "scatterternary": [
           {
            "marker": {
             "colorbar": {
              "outlinewidth": 0,
              "ticks": ""
             }
            },
            "type": "scatterternary"
           }
          ],
          "surface": [
           {
            "colorbar": {
             "outlinewidth": 0,
             "ticks": ""
            },
            "colorscale": [
             [
              0,
              "#0d0887"
             ],
             [
              0.1111111111111111,
              "#46039f"
             ],
             [
              0.2222222222222222,
              "#7201a8"
             ],
             [
              0.3333333333333333,
              "#9c179e"
             ],
             [
              0.4444444444444444,
              "#bd3786"
             ],
             [
              0.5555555555555556,
              "#d8576b"
             ],
             [
              0.6666666666666666,
              "#ed7953"
             ],
             [
              0.7777777777777778,
              "#fb9f3a"
             ],
             [
              0.8888888888888888,
              "#fdca26"
             ],
             [
              1,
              "#f0f921"
             ]
            ],
            "type": "surface"
           }
          ],
          "table": [
           {
            "cells": {
             "fill": {
              "color": "#EBF0F8"
             },
             "line": {
              "color": "white"
             }
            },
            "header": {
             "fill": {
              "color": "#C8D4E3"
             },
             "line": {
              "color": "white"
             }
            },
            "type": "table"
           }
          ]
         },
         "layout": {
          "annotationdefaults": {
           "arrowcolor": "#2a3f5f",
           "arrowhead": 0,
           "arrowwidth": 1
          },
          "coloraxis": {
           "colorbar": {
            "outlinewidth": 0,
            "ticks": ""
           }
          },
          "colorscale": {
           "diverging": [
            [
             0,
             "#8e0152"
            ],
            [
             0.1,
             "#c51b7d"
            ],
            [
             0.2,
             "#de77ae"
            ],
            [
             0.3,
             "#f1b6da"
            ],
            [
             0.4,
             "#fde0ef"
            ],
            [
             0.5,
             "#f7f7f7"
            ],
            [
             0.6,
             "#e6f5d0"
            ],
            [
             0.7,
             "#b8e186"
            ],
            [
             0.8,
             "#7fbc41"
            ],
            [
             0.9,
             "#4d9221"
            ],
            [
             1,
             "#276419"
            ]
           ],
           "sequential": [
            [
             0,
             "#0d0887"
            ],
            [
             0.1111111111111111,
             "#46039f"
            ],
            [
             0.2222222222222222,
             "#7201a8"
            ],
            [
             0.3333333333333333,
             "#9c179e"
            ],
            [
             0.4444444444444444,
             "#bd3786"
            ],
            [
             0.5555555555555556,
             "#d8576b"
            ],
            [
             0.6666666666666666,
             "#ed7953"
            ],
            [
             0.7777777777777778,
             "#fb9f3a"
            ],
            [
             0.8888888888888888,
             "#fdca26"
            ],
            [
             1,
             "#f0f921"
            ]
           ],
           "sequentialminus": [
            [
             0,
             "#0d0887"
            ],
            [
             0.1111111111111111,
             "#46039f"
            ],
            [
             0.2222222222222222,
             "#7201a8"
            ],
            [
             0.3333333333333333,
             "#9c179e"
            ],
            [
             0.4444444444444444,
             "#bd3786"
            ],
            [
             0.5555555555555556,
             "#d8576b"
            ],
            [
             0.6666666666666666,
             "#ed7953"
            ],
            [
             0.7777777777777778,
             "#fb9f3a"
            ],
            [
             0.8888888888888888,
             "#fdca26"
            ],
            [
             1,
             "#f0f921"
            ]
           ]
          },
          "colorway": [
           "#636efa",
           "#EF553B",
           "#00cc96",
           "#ab63fa",
           "#FFA15A",
           "#19d3f3",
           "#FF6692",
           "#B6E880",
           "#FF97FF",
           "#FECB52"
          ],
          "font": {
           "color": "#2a3f5f"
          },
          "geo": {
           "bgcolor": "white",
           "lakecolor": "white",
           "landcolor": "#E5ECF6",
           "showlakes": true,
           "showland": true,
           "subunitcolor": "white"
          },
          "hoverlabel": {
           "align": "left"
          },
          "hovermode": "closest",
          "mapbox": {
           "style": "light"
          },
          "paper_bgcolor": "white",
          "plot_bgcolor": "#E5ECF6",
          "polar": {
           "angularaxis": {
            "gridcolor": "white",
            "linecolor": "white",
            "ticks": ""
           },
           "bgcolor": "#E5ECF6",
           "radialaxis": {
            "gridcolor": "white",
            "linecolor": "white",
            "ticks": ""
           }
          },
          "scene": {
           "xaxis": {
            "backgroundcolor": "#E5ECF6",
            "gridcolor": "white",
            "gridwidth": 2,
            "linecolor": "white",
            "showbackground": true,
            "ticks": "",
            "zerolinecolor": "white"
           },
           "yaxis": {
            "backgroundcolor": "#E5ECF6",
            "gridcolor": "white",
            "gridwidth": 2,
            "linecolor": "white",
            "showbackground": true,
            "ticks": "",
            "zerolinecolor": "white"
           },
           "zaxis": {
            "backgroundcolor": "#E5ECF6",
            "gridcolor": "white",
            "gridwidth": 2,
            "linecolor": "white",
            "showbackground": true,
            "ticks": "",
            "zerolinecolor": "white"
           }
          },
          "shapedefaults": {
           "line": {
            "color": "#2a3f5f"
           }
          },
          "ternary": {
           "aaxis": {
            "gridcolor": "white",
            "linecolor": "white",
            "ticks": ""
           },
           "baxis": {
            "gridcolor": "white",
            "linecolor": "white",
            "ticks": ""
           },
           "bgcolor": "#E5ECF6",
           "caxis": {
            "gridcolor": "white",
            "linecolor": "white",
            "ticks": ""
           }
          },
          "title": {
           "x": 0.05
          },
          "xaxis": {
           "automargin": true,
           "gridcolor": "white",
           "linecolor": "white",
           "ticks": "",
           "title": {
            "standoff": 15
           },
           "zerolinecolor": "white",
           "zerolinewidth": 2
          },
          "yaxis": {
           "automargin": true,
           "gridcolor": "white",
           "linecolor": "white",
           "ticks": "",
           "title": {
            "standoff": 15
           },
           "zerolinecolor": "white",
           "zerolinewidth": 2
          }
         }
        },
        "title": {
         "font": {
          "color": "#4D5663"
         }
        },
        "xaxis": {
         "gridcolor": "#E1E5ED",
         "showgrid": true,
         "tickfont": {
          "color": "#4D5663"
         },
         "title": {
          "font": {
           "color": "#4D5663"
          },
          "text": ""
         },
         "zerolinecolor": "#E1E5ED"
        },
        "yaxis": {
         "gridcolor": "#E1E5ED",
         "showgrid": true,
         "tickfont": {
          "color": "#4D5663"
         },
         "title": {
          "font": {
           "color": "#4D5663"
          },
          "text": ""
         },
         "zerolinecolor": "#E1E5ED"
        }
       }
      },
      "text/html": [
       "<div>\n",
       "        \n",
       "        \n",
       "            <div id=\"9dee060b-54cd-4f50-840e-a8c5fb8c380a\" class=\"plotly-graph-div\" style=\"height:525px; width:100%;\"></div>\n",
       "            <script type=\"text/javascript\">\n",
       "                require([\"plotly\"], function(Plotly) {\n",
       "                    window.PLOTLYENV=window.PLOTLYENV || {};\n",
       "                    window.PLOTLYENV.BASE_URL='https://plot.ly';\n",
       "                    \n",
       "                if (document.getElementById(\"9dee060b-54cd-4f50-840e-a8c5fb8c380a\")) {\n",
       "                    Plotly.newPlot(\n",
       "                        '9dee060b-54cd-4f50-840e-a8c5fb8c380a',\n",
       "                        [{\"marker\": {\"color\": \"rgba(255, 153, 51, 0.6)\", \"line\": {\"color\": \"rgba(255, 153, 51, 1.0)\", \"width\": 1}}, \"name\": \"None\", \"orientation\": \"v\", \"text\": \"\", \"type\": \"bar\", \"x\": [\"A\", \"B\", \"C\", \"D\"], \"y\": [-7.998420317391257, -0.9476513243782377, 8.005091535071939, -4.562033528340192]}],\n",
       "                        {\"legend\": {\"bgcolor\": \"#F5F6F9\", \"font\": {\"color\": \"#4D5663\"}}, \"paper_bgcolor\": \"#F5F6F9\", \"plot_bgcolor\": \"#F5F6F9\", \"template\": {\"data\": {\"bar\": [{\"error_x\": {\"color\": \"#2a3f5f\"}, \"error_y\": {\"color\": \"#2a3f5f\"}, \"marker\": {\"line\": {\"color\": \"#E5ECF6\", \"width\": 0.5}}, \"type\": \"bar\"}], \"barpolar\": [{\"marker\": {\"line\": {\"color\": \"#E5ECF6\", \"width\": 0.5}}, \"type\": \"barpolar\"}], \"carpet\": [{\"aaxis\": {\"endlinecolor\": \"#2a3f5f\", \"gridcolor\": \"white\", \"linecolor\": \"white\", \"minorgridcolor\": \"white\", \"startlinecolor\": \"#2a3f5f\"}, \"baxis\": {\"endlinecolor\": \"#2a3f5f\", \"gridcolor\": \"white\", \"linecolor\": \"white\", \"minorgridcolor\": \"white\", \"startlinecolor\": \"#2a3f5f\"}, \"type\": \"carpet\"}], \"choropleth\": [{\"colorbar\": {\"outlinewidth\": 0, \"ticks\": \"\"}, \"type\": \"choropleth\"}], \"contour\": [{\"colorbar\": {\"outlinewidth\": 0, \"ticks\": \"\"}, \"colorscale\": [[0.0, \"#0d0887\"], [0.1111111111111111, \"#46039f\"], [0.2222222222222222, \"#7201a8\"], [0.3333333333333333, \"#9c179e\"], [0.4444444444444444, \"#bd3786\"], [0.5555555555555556, \"#d8576b\"], [0.6666666666666666, \"#ed7953\"], [0.7777777777777778, \"#fb9f3a\"], [0.8888888888888888, \"#fdca26\"], [1.0, \"#f0f921\"]], \"type\": \"contour\"}], \"contourcarpet\": [{\"colorbar\": {\"outlinewidth\": 0, \"ticks\": \"\"}, \"type\": \"contourcarpet\"}], \"heatmap\": [{\"colorbar\": {\"outlinewidth\": 0, \"ticks\": \"\"}, \"colorscale\": [[0.0, \"#0d0887\"], [0.1111111111111111, \"#46039f\"], [0.2222222222222222, \"#7201a8\"], [0.3333333333333333, \"#9c179e\"], [0.4444444444444444, \"#bd3786\"], [0.5555555555555556, \"#d8576b\"], [0.6666666666666666, \"#ed7953\"], [0.7777777777777778, \"#fb9f3a\"], [0.8888888888888888, \"#fdca26\"], [1.0, \"#f0f921\"]], \"type\": \"heatmap\"}], \"heatmapgl\": [{\"colorbar\": {\"outlinewidth\": 0, \"ticks\": \"\"}, \"colorscale\": [[0.0, \"#0d0887\"], [0.1111111111111111, \"#46039f\"], [0.2222222222222222, \"#7201a8\"], [0.3333333333333333, \"#9c179e\"], [0.4444444444444444, \"#bd3786\"], [0.5555555555555556, \"#d8576b\"], [0.6666666666666666, \"#ed7953\"], [0.7777777777777778, \"#fb9f3a\"], [0.8888888888888888, \"#fdca26\"], [1.0, \"#f0f921\"]], \"type\": \"heatmapgl\"}], \"histogram\": [{\"marker\": {\"colorbar\": {\"outlinewidth\": 0, \"ticks\": \"\"}}, \"type\": \"histogram\"}], \"histogram2d\": [{\"colorbar\": {\"outlinewidth\": 0, \"ticks\": \"\"}, \"colorscale\": [[0.0, \"#0d0887\"], [0.1111111111111111, \"#46039f\"], [0.2222222222222222, \"#7201a8\"], [0.3333333333333333, \"#9c179e\"], [0.4444444444444444, \"#bd3786\"], [0.5555555555555556, \"#d8576b\"], [0.6666666666666666, \"#ed7953\"], [0.7777777777777778, \"#fb9f3a\"], [0.8888888888888888, \"#fdca26\"], [1.0, \"#f0f921\"]], \"type\": \"histogram2d\"}], \"histogram2dcontour\": [{\"colorbar\": {\"outlinewidth\": 0, \"ticks\": \"\"}, \"colorscale\": [[0.0, \"#0d0887\"], [0.1111111111111111, \"#46039f\"], [0.2222222222222222, \"#7201a8\"], [0.3333333333333333, \"#9c179e\"], [0.4444444444444444, \"#bd3786\"], [0.5555555555555556, \"#d8576b\"], [0.6666666666666666, \"#ed7953\"], [0.7777777777777778, \"#fb9f3a\"], [0.8888888888888888, \"#fdca26\"], [1.0, \"#f0f921\"]], \"type\": \"histogram2dcontour\"}], \"mesh3d\": [{\"colorbar\": {\"outlinewidth\": 0, \"ticks\": \"\"}, \"type\": \"mesh3d\"}], \"parcoords\": [{\"line\": {\"colorbar\": {\"outlinewidth\": 0, \"ticks\": \"\"}}, \"type\": \"parcoords\"}], \"pie\": [{\"automargin\": true, \"type\": \"pie\"}], \"scatter\": [{\"marker\": {\"colorbar\": {\"outlinewidth\": 0, \"ticks\": \"\"}}, \"type\": \"scatter\"}], \"scatter3d\": [{\"line\": {\"colorbar\": {\"outlinewidth\": 0, \"ticks\": \"\"}}, \"marker\": {\"colorbar\": {\"outlinewidth\": 0, \"ticks\": \"\"}}, \"type\": \"scatter3d\"}], \"scattercarpet\": [{\"marker\": {\"colorbar\": {\"outlinewidth\": 0, \"ticks\": \"\"}}, \"type\": \"scattercarpet\"}], \"scattergeo\": [{\"marker\": {\"colorbar\": {\"outlinewidth\": 0, \"ticks\": \"\"}}, \"type\": \"scattergeo\"}], \"scattergl\": [{\"marker\": {\"colorbar\": {\"outlinewidth\": 0, \"ticks\": \"\"}}, \"type\": \"scattergl\"}], \"scattermapbox\": [{\"marker\": {\"colorbar\": {\"outlinewidth\": 0, \"ticks\": \"\"}}, \"type\": \"scattermapbox\"}], \"scatterpolar\": [{\"marker\": {\"colorbar\": {\"outlinewidth\": 0, \"ticks\": \"\"}}, \"type\": \"scatterpolar\"}], \"scatterpolargl\": [{\"marker\": {\"colorbar\": {\"outlinewidth\": 0, \"ticks\": \"\"}}, \"type\": \"scatterpolargl\"}], \"scatterternary\": [{\"marker\": {\"colorbar\": {\"outlinewidth\": 0, \"ticks\": \"\"}}, \"type\": \"scatterternary\"}], \"surface\": [{\"colorbar\": {\"outlinewidth\": 0, \"ticks\": \"\"}, \"colorscale\": [[0.0, \"#0d0887\"], [0.1111111111111111, \"#46039f\"], [0.2222222222222222, \"#7201a8\"], [0.3333333333333333, \"#9c179e\"], [0.4444444444444444, \"#bd3786\"], [0.5555555555555556, \"#d8576b\"], [0.6666666666666666, \"#ed7953\"], [0.7777777777777778, \"#fb9f3a\"], [0.8888888888888888, \"#fdca26\"], [1.0, \"#f0f921\"]], \"type\": \"surface\"}], \"table\": [{\"cells\": {\"fill\": {\"color\": \"#EBF0F8\"}, \"line\": {\"color\": \"white\"}}, \"header\": {\"fill\": {\"color\": \"#C8D4E3\"}, \"line\": {\"color\": \"white\"}}, \"type\": \"table\"}]}, \"layout\": {\"annotationdefaults\": {\"arrowcolor\": \"#2a3f5f\", \"arrowhead\": 0, \"arrowwidth\": 1}, \"coloraxis\": {\"colorbar\": {\"outlinewidth\": 0, \"ticks\": \"\"}}, \"colorscale\": {\"diverging\": [[0, \"#8e0152\"], [0.1, \"#c51b7d\"], [0.2, \"#de77ae\"], [0.3, \"#f1b6da\"], [0.4, \"#fde0ef\"], [0.5, \"#f7f7f7\"], [0.6, \"#e6f5d0\"], [0.7, \"#b8e186\"], [0.8, \"#7fbc41\"], [0.9, \"#4d9221\"], [1, \"#276419\"]], \"sequential\": [[0.0, \"#0d0887\"], [0.1111111111111111, \"#46039f\"], [0.2222222222222222, \"#7201a8\"], [0.3333333333333333, \"#9c179e\"], [0.4444444444444444, \"#bd3786\"], [0.5555555555555556, \"#d8576b\"], [0.6666666666666666, \"#ed7953\"], [0.7777777777777778, \"#fb9f3a\"], [0.8888888888888888, \"#fdca26\"], [1.0, \"#f0f921\"]], \"sequentialminus\": [[0.0, \"#0d0887\"], [0.1111111111111111, \"#46039f\"], [0.2222222222222222, \"#7201a8\"], [0.3333333333333333, \"#9c179e\"], [0.4444444444444444, \"#bd3786\"], [0.5555555555555556, \"#d8576b\"], [0.6666666666666666, \"#ed7953\"], [0.7777777777777778, \"#fb9f3a\"], [0.8888888888888888, \"#fdca26\"], [1.0, \"#f0f921\"]]}, \"colorway\": [\"#636efa\", \"#EF553B\", \"#00cc96\", \"#ab63fa\", \"#FFA15A\", \"#19d3f3\", \"#FF6692\", \"#B6E880\", \"#FF97FF\", \"#FECB52\"], \"font\": {\"color\": \"#2a3f5f\"}, \"geo\": {\"bgcolor\": \"white\", \"lakecolor\": \"white\", \"landcolor\": \"#E5ECF6\", \"showlakes\": true, \"showland\": true, \"subunitcolor\": \"white\"}, \"hoverlabel\": {\"align\": \"left\"}, \"hovermode\": \"closest\", \"mapbox\": {\"style\": \"light\"}, \"paper_bgcolor\": \"white\", \"plot_bgcolor\": \"#E5ECF6\", \"polar\": {\"angularaxis\": {\"gridcolor\": \"white\", \"linecolor\": \"white\", \"ticks\": \"\"}, \"bgcolor\": \"#E5ECF6\", \"radialaxis\": {\"gridcolor\": \"white\", \"linecolor\": \"white\", \"ticks\": \"\"}}, \"scene\": {\"xaxis\": {\"backgroundcolor\": \"#E5ECF6\", \"gridcolor\": \"white\", \"gridwidth\": 2, \"linecolor\": \"white\", \"showbackground\": true, \"ticks\": \"\", \"zerolinecolor\": \"white\"}, \"yaxis\": {\"backgroundcolor\": \"#E5ECF6\", \"gridcolor\": \"white\", \"gridwidth\": 2, \"linecolor\": \"white\", \"showbackground\": true, \"ticks\": \"\", \"zerolinecolor\": \"white\"}, \"zaxis\": {\"backgroundcolor\": \"#E5ECF6\", \"gridcolor\": \"white\", \"gridwidth\": 2, \"linecolor\": \"white\", \"showbackground\": true, \"ticks\": \"\", \"zerolinecolor\": \"white\"}}, \"shapedefaults\": {\"line\": {\"color\": \"#2a3f5f\"}}, \"ternary\": {\"aaxis\": {\"gridcolor\": \"white\", \"linecolor\": \"white\", \"ticks\": \"\"}, \"baxis\": {\"gridcolor\": \"white\", \"linecolor\": \"white\", \"ticks\": \"\"}, \"bgcolor\": \"#E5ECF6\", \"caxis\": {\"gridcolor\": \"white\", \"linecolor\": \"white\", \"ticks\": \"\"}}, \"title\": {\"x\": 0.05}, \"xaxis\": {\"automargin\": true, \"gridcolor\": \"white\", \"linecolor\": \"white\", \"ticks\": \"\", \"title\": {\"standoff\": 15}, \"zerolinecolor\": \"white\", \"zerolinewidth\": 2}, \"yaxis\": {\"automargin\": true, \"gridcolor\": \"white\", \"linecolor\": \"white\", \"ticks\": \"\", \"title\": {\"standoff\": 15}, \"zerolinecolor\": \"white\", \"zerolinewidth\": 2}}}, \"title\": {\"font\": {\"color\": \"#4D5663\"}}, \"xaxis\": {\"gridcolor\": \"#E1E5ED\", \"showgrid\": true, \"tickfont\": {\"color\": \"#4D5663\"}, \"title\": {\"font\": {\"color\": \"#4D5663\"}, \"text\": \"\"}, \"zerolinecolor\": \"#E1E5ED\"}, \"yaxis\": {\"gridcolor\": \"#E1E5ED\", \"showgrid\": true, \"tickfont\": {\"color\": \"#4D5663\"}, \"title\": {\"font\": {\"color\": \"#4D5663\"}, \"text\": \"\"}, \"zerolinecolor\": \"#E1E5ED\"}},\n",
       "                        {\"showLink\": true, \"linkText\": \"Export to plot.ly\", \"plotlyServerURL\": \"https://plot.ly\", \"responsive\": true}\n",
       "                    ).then(function(){\n",
       "                            \n",
       "var gd = document.getElementById('9dee060b-54cd-4f50-840e-a8c5fb8c380a');\n",
       "var x = new MutationObserver(function (mutations, observer) {{\n",
       "        var display = window.getComputedStyle(gd).display;\n",
       "        if (!display || display === 'none') {{\n",
       "            console.log([gd, 'removed!']);\n",
       "            Plotly.purge(gd);\n",
       "            observer.disconnect();\n",
       "        }}\n",
       "}});\n",
       "\n",
       "// Listen for the removal of the full notebook cells\n",
       "var notebookContainer = gd.closest('#notebook-container');\n",
       "if (notebookContainer) {{\n",
       "    x.observe(notebookContainer, {childList: true});\n",
       "}}\n",
       "\n",
       "// Listen for the clearing of the current output cell\n",
       "var outputEl = gd.closest('.output');\n",
       "if (outputEl) {{\n",
       "    x.observe(outputEl, {childList: true});\n",
       "}}\n",
       "\n",
       "                        })\n",
       "                };\n",
       "                });\n",
       "            </script>\n",
       "        </div>"
      ]
     },
     "metadata": {},
     "output_type": "display_data"
    }
   ],
   "source": [
    "df.sum().iplot(kind = 'bar')#So aggregate/groupby the values so that they can be represented in bar format"
   ]
  },
  {
   "cell_type": "code",
   "execution_count": 46,
   "metadata": {},
   "outputs": [
    {
     "data": {
      "application/vnd.plotly.v1+json": {
       "config": {
        "linkText": "Export to plot.ly",
        "plotlyServerURL": "https://plot.ly",
        "showLink": true
       },
       "data": [
        {
         "boxpoints": false,
         "line": {
          "width": 1.3
         },
         "marker": {
          "color": "rgba(255, 153, 51, 1.0)"
         },
         "name": "A",
         "orientation": "v",
         "type": "box",
         "y": [
          1.416593517660878,
          -0.14738395566749896,
          -1.7844796810424377,
          1.0916939562052876,
          0.8690310862451806,
          -0.9130881968676815,
          0.999815987739978,
          0.20249872319987558,
          0.6651541347542538,
          1.5904328259462475,
          0.9224191664291218,
          -0.18016206629497075,
          1.134944336265271,
          -0.19204911602866678,
          -0.7725701660993973,
          0.10063744605008441,
          0.10714591412949345,
          -0.42221541400028717,
          -0.8403776497203891,
          -0.34062561748689635,
          -0.9319306418128855,
          -2.7047515845412606,
          0.008464414016829484,
          -0.24679681716914537,
          -0.8891064856373092,
          -0.0976902393419508,
          2.0554795131481236,
          1.140205355254008,
          -1.3222237382657935,
          1.2972526054749431,
          1.2723501043391907,
          -1.0402921253786834,
          0.08975397544334109,
          -0.7211196617732506,
          0.46079850518443477,
          -0.0035295707984208287,
          -1.6680052301548915,
          0.39593916411591684,
          -0.036736725525066675,
          -0.18708565303207123,
          0.4090337394442913,
          -0.11516336115305838,
          -2.1023287946207225,
          0.7145964193033464,
          0.8992939935517598,
          -1.1066813776882152,
          -0.8429684555863061,
          0.8641921006942638,
          -0.5073841845450361,
          -0.8566073764635567,
          -0.26835127760692934,
          -1.2592951714357608,
          -0.880020854779105,
          1.3836949417430615,
          -0.8108977849120101,
          0.4561661807281345,
          0.004415115029279976,
          0.03828165518747515,
          -0.10676227658460166,
          1.028572156444397,
          -0.28421897250220285,
          0.8849806821994682,
          1.4380095987100332,
          -0.8877395811176105,
          1.228816832515203,
          0.7564202279095027,
          -0.2625169494179067,
          1.013996267722401,
          -0.4081800018537628,
          1.0211977886508627,
          0.7767951727052528,
          0.2911188894392512,
          -1.730474681675736,
          0.32841643489202166,
          0.07140028981004318,
          1.0689025968967223,
          -1.9049709066817657,
          -0.5405171578578922,
          -0.47397936749667924,
          -0.7220304917111585,
          -0.43499570927661463,
          -1.076760505534362,
          -2.851530141907224,
          -0.3583158919767544,
          -1.5432561099522224,
          -0.8784881122522841,
          -1.9603084686379697,
          -0.5885186370713009,
          1.5997148736849103,
          0.024734175690217294,
          0.07809005053066699,
          1.667352773288952,
          -1.287735836010282,
          -0.5990499600750134,
          0.10309793710856048,
          0.6049082987598869,
          0.22668443288025425,
          -0.4085805437783098,
          0.7047569911056685,
          -0.0058223868182907396
         ]
        },
        {
         "boxpoints": false,
         "line": {
          "width": 1.3
         },
         "marker": {
          "color": "rgba(55, 128, 191, 1.0)"
         },
         "name": "B",
         "orientation": "v",
         "type": "box",
         "y": [
          -1.784098720340015,
          2.171244510657171,
          0.6814350497909425,
          1.6915046033363401,
          0.18481649594853616,
          1.3717132391682432,
          -1.2275847765325325,
          0.1377905244967582,
          -1.1480009457520386,
          0.26162442648712664,
          -0.3949869957178582,
          -1.4968385199265781,
          -1.2882205677288796,
          0.734932556612695,
          1.2232971975351834,
          -0.593392211027469,
          -1.0654669938822041,
          -0.3571674089948739,
          -0.13876162829474128,
          -0.2895293494986774,
          -0.48357022428835184,
          -1.3885923462518266,
          -0.5237646877578167,
          1.3060138012560842,
          0.25660307311615027,
          -0.8203047424592492,
          -0.4923162655865527,
          -0.4845844995598301,
          1.1978422826877433,
          2.0998690486150426,
          1.01936669685555,
          -0.3386138535811944,
          -1.482145713226032,
          2.2072307943488627,
          0.7211135696527582,
          -1.8947101869608063,
          -1.6555186146259382,
          0.6664471016106729,
          0.6579972725992663,
          0.26733180131832407,
          0.8914121897579306,
          -0.5502327140222424,
          -0.7035046554239406,
          -0.9461377411810604,
          -0.6001142874070964,
          0.02870046019532282,
          -1.7907167802754105,
          1.3897741383929765,
          -0.016268510422112355,
          0.5663514625633824,
          1.9999017682580833,
          1.6601667123454453,
          0.6815372328213235,
          -0.8400593255846813,
          1.11322310825198,
          0.6606722621695404,
          0.4375288477222289,
          -0.23405318147746282,
          0.5886108970417825,
          -0.33299951352436286,
          -0.40185930102225387,
          -0.6635188196620705,
          0.07704697176714438,
          -0.9213946986355144,
          -0.9831820012034149,
          0.7946699447595283,
          -0.9991701796154964,
          0.2815538007953517,
          0.174998690858209,
          0.8837798626530278,
          0.9032875954210857,
          0.24055208121983598,
          0.5922894036824274,
          -1.2661514687988389,
          -0.8809610852153962,
          -0.12528969601901807,
          0.6211367105295839,
          0.13636933563037099,
          0.5931900126435424,
          -1.4967044610569924,
          0.5340581219643343,
          0.3514056027479767,
          0.4863662132233159,
          0.24581933733395622,
          -2.059486231643359,
          -0.6300296950748387,
          0.44013425063156586,
          0.4473713899152323,
          -0.00047627043586563036,
          0.2657031815297724,
          2.201413247661273,
          -0.9173536467289062,
          -0.8332408625755586,
          -1.0151245854973656,
          0.14016786526148148,
          0.5585536889690439,
          -0.44476215618074133,
          -0.4413464723748191,
          -0.3494357165693916,
          -1.0018284495680674
         ]
        },
        {
         "boxpoints": false,
         "line": {
          "width": 1.3
         },
         "marker": {
          "color": "rgba(50, 171, 96, 1.0)"
         },
         "name": "C",
         "orientation": "v",
         "type": "box",
         "y": [
          -0.5967119098197226,
          0.853238764026366,
          1.6672094843438492,
          -0.0037601992873524037,
          -0.9071834782154601,
          1.883690558450849,
          -2.106354563045812,
          -1.2168484036552596,
          0.17255626813792466,
          1.0582852945687178,
          1.3952429242549573,
          0.07227254577092632,
          -0.4195317892628768,
          0.3148586861350653,
          0.17138607027311709,
          0.979523061893303,
          1.0170253940983998,
          -0.31540535624226623,
          -0.1771259277074585,
          1.0509795019188313,
          0.4027836644340148,
          -0.10335933258826242,
          -0.7935237694439741,
          0.2929342298614919,
          2.156830774988516,
          0.30115733682483886,
          2.0883112687994463,
          -0.9278018279636102,
          0.1274690526763963,
          -0.7019996573220373,
          0.1499739530535481,
          -1.0036591424346843,
          -2.800423325047921,
          1.3353677753307296,
          0.5034117514155685,
          0.2570665310706626,
          -1.1518065065844245,
          -0.4729507221586094,
          1.672213002084143,
          -1.2363872849124302,
          0.012105592964178779,
          -1.493747478456467,
          0.1952640284715851,
          -0.7848860869658573,
          0.02009202740699355,
          0.07135868247529763,
          -0.7884840153246424,
          0.01814514012957843,
          0.2146823765491746,
          -1.0675674116210412,
          0.8544589019211002,
          -0.5989615235683363,
          -0.46581180378221787,
          0.6152601748855848,
          0.7692237912289807,
          -0.4420183379256885,
          -1.6959042945833291,
          0.08343248358165806,
          -0.2945583821376016,
          0.6063342583506851,
          -0.5887858952909739,
          0.13694788409010514,
          -1.2424969811602868,
          -0.5239490868519974,
          1.1956002105011092,
          1.084099517593647,
          0.7610297699914984,
          0.15656489162299303,
          -1.3256041858993401,
          0.6332892520923301,
          -0.9439011838970643,
          0.19397551161246512,
          -0.564838581449026,
          0.6443860682633141,
          -0.00950007628578957,
          1.059583505527082,
          1.3659520311143776,
          -1.7341794280109315,
          0.3817222401871636,
          0.20508286240366627,
          -0.30652983613662893,
          1.1586328857965569,
          -0.24000038468347007,
          0.5057631958197074,
          -0.6101763309802465,
          0.7182084359558547,
          0.1162004892642478,
          0.20904716578240504,
          -2.1276348152551523,
          -0.20780572655946458,
          -0.260592364108929,
          -0.580124951761244,
          1.8107866238776256,
          1.2067337473203945,
          0.9661438170829647,
          0.778797568299232,
          -1.4437124946541433,
          1.4058055726143668,
          1.6464512148069346,
          1.5567465741174473
         ]
        },
        {
         "boxpoints": false,
         "line": {
          "width": 1.3
         },
         "marker": {
          "color": "rgba(128, 0, 128, 1.0)"
         },
         "name": "D",
         "orientation": "v",
         "type": "box",
         "y": [
          0.6079252288271123,
          -0.7673086708362776,
          2.7918004888249155,
          1.5313914625222045,
          -1.4345453782854332,
          -1.0437865151846786,
          0.19847176529920577,
          1.3862446579489935,
          -0.35138062753487304,
          0.03719432201318422,
          -1.7616253778540005,
          2.3407054624379846,
          -0.2000097595989267,
          0.7669854014325037,
          0.11298294909977,
          0.046858080065504425,
          -0.18120895485222938,
          0.7695550229775915,
          0.15511077522056577,
          -0.9108953777606292,
          0.6377005270907216,
          -1.6068124460140327,
          1.845840177929854,
          -1.1052126634256259,
          -1.6451598313262024,
          1.0953926667391707,
          -2.6811855828962696,
          -0.24426026935419365,
          -0.6820128828581605,
          0.3608787094224027,
          -0.0764345595001479,
          0.3088811741935369,
          -0.329408490492265,
          1.4464185545662458,
          -2.0128086971620927,
          0.08825858728083487,
          -0.168682137332262,
          2.065928188589186,
          -1.6017962278561868,
          -1.5312993522830245,
          -0.03945107251970846,
          -0.6733129013460523,
          -0.6076787744094737,
          1.6360672041399968,
          0.48494877078027687,
          0.01323259657886119,
          1.4328584127569208,
          -1.6683257498452444,
          -0.8829926821113253,
          -0.09166483027086167,
          -3.080415218787863,
          -0.8472046953264905,
          -0.049951322488767644,
          -0.6759172855350523,
          0.2810806490503662,
          0.07703330630025013,
          1.7316185845049246,
          0.5755896592654809,
          0.7732777600729397,
          -0.5761818253061513,
          -0.5662697882027303,
          -1.284520760769256,
          0.41915185995351933,
          0.4516275355752908,
          0.10016374487909058,
          -0.589883708770861,
          -0.425278673747093,
          -0.7888957909839527,
          0.5080520587703382,
          -0.14777685657714393,
          0.19389746683109096,
          -0.1863775839392197,
          3.826662212990111,
          1.7942084045458413,
          -1.346814767384748,
          -1.1375499897392416,
          0.48098246076773254,
          -1.2442890043073742,
          0.006054537387323956,
          0.7079016296857916,
          0.9850833750736986,
          -0.3163365229351439,
          -0.4816814896722392,
          -0.04785840952576833,
          -0.5514694996254651,
          1.0549941504273481,
          1.1669241949067033,
          -0.29010413031084936,
          -0.5107131029812131,
          -0.9299722618442059,
          0.40261878264672124,
          -1.1679406337745477,
          0.5435855253429999,
          -1.19777229520187,
          1.3514454837032996,
          -0.3965259735689329,
          0.17952127104730956,
          -0.3082954895460292,
          0.2721710338721595,
          -1.1620535089156803
         ]
        }
       ],
       "layout": {
        "legend": {
         "bgcolor": "#F5F6F9",
         "font": {
          "color": "#4D5663"
         }
        },
        "paper_bgcolor": "#F5F6F9",
        "plot_bgcolor": "#F5F6F9",
        "template": {
         "data": {
          "bar": [
           {
            "error_x": {
             "color": "#2a3f5f"
            },
            "error_y": {
             "color": "#2a3f5f"
            },
            "marker": {
             "line": {
              "color": "#E5ECF6",
              "width": 0.5
             }
            },
            "type": "bar"
           }
          ],
          "barpolar": [
           {
            "marker": {
             "line": {
              "color": "#E5ECF6",
              "width": 0.5
             }
            },
            "type": "barpolar"
           }
          ],
          "carpet": [
           {
            "aaxis": {
             "endlinecolor": "#2a3f5f",
             "gridcolor": "white",
             "linecolor": "white",
             "minorgridcolor": "white",
             "startlinecolor": "#2a3f5f"
            },
            "baxis": {
             "endlinecolor": "#2a3f5f",
             "gridcolor": "white",
             "linecolor": "white",
             "minorgridcolor": "white",
             "startlinecolor": "#2a3f5f"
            },
            "type": "carpet"
           }
          ],
          "choropleth": [
           {
            "colorbar": {
             "outlinewidth": 0,
             "ticks": ""
            },
            "type": "choropleth"
           }
          ],
          "contour": [
           {
            "colorbar": {
             "outlinewidth": 0,
             "ticks": ""
            },
            "colorscale": [
             [
              0,
              "#0d0887"
             ],
             [
              0.1111111111111111,
              "#46039f"
             ],
             [
              0.2222222222222222,
              "#7201a8"
             ],
             [
              0.3333333333333333,
              "#9c179e"
             ],
             [
              0.4444444444444444,
              "#bd3786"
             ],
             [
              0.5555555555555556,
              "#d8576b"
             ],
             [
              0.6666666666666666,
              "#ed7953"
             ],
             [
              0.7777777777777778,
              "#fb9f3a"
             ],
             [
              0.8888888888888888,
              "#fdca26"
             ],
             [
              1,
              "#f0f921"
             ]
            ],
            "type": "contour"
           }
          ],
          "contourcarpet": [
           {
            "colorbar": {
             "outlinewidth": 0,
             "ticks": ""
            },
            "type": "contourcarpet"
           }
          ],
          "heatmap": [
           {
            "colorbar": {
             "outlinewidth": 0,
             "ticks": ""
            },
            "colorscale": [
             [
              0,
              "#0d0887"
             ],
             [
              0.1111111111111111,
              "#46039f"
             ],
             [
              0.2222222222222222,
              "#7201a8"
             ],
             [
              0.3333333333333333,
              "#9c179e"
             ],
             [
              0.4444444444444444,
              "#bd3786"
             ],
             [
              0.5555555555555556,
              "#d8576b"
             ],
             [
              0.6666666666666666,
              "#ed7953"
             ],
             [
              0.7777777777777778,
              "#fb9f3a"
             ],
             [
              0.8888888888888888,
              "#fdca26"
             ],
             [
              1,
              "#f0f921"
             ]
            ],
            "type": "heatmap"
           }
          ],
          "heatmapgl": [
           {
            "colorbar": {
             "outlinewidth": 0,
             "ticks": ""
            },
            "colorscale": [
             [
              0,
              "#0d0887"
             ],
             [
              0.1111111111111111,
              "#46039f"
             ],
             [
              0.2222222222222222,
              "#7201a8"
             ],
             [
              0.3333333333333333,
              "#9c179e"
             ],
             [
              0.4444444444444444,
              "#bd3786"
             ],
             [
              0.5555555555555556,
              "#d8576b"
             ],
             [
              0.6666666666666666,
              "#ed7953"
             ],
             [
              0.7777777777777778,
              "#fb9f3a"
             ],
             [
              0.8888888888888888,
              "#fdca26"
             ],
             [
              1,
              "#f0f921"
             ]
            ],
            "type": "heatmapgl"
           }
          ],
          "histogram": [
           {
            "marker": {
             "colorbar": {
              "outlinewidth": 0,
              "ticks": ""
             }
            },
            "type": "histogram"
           }
          ],
          "histogram2d": [
           {
            "colorbar": {
             "outlinewidth": 0,
             "ticks": ""
            },
            "colorscale": [
             [
              0,
              "#0d0887"
             ],
             [
              0.1111111111111111,
              "#46039f"
             ],
             [
              0.2222222222222222,
              "#7201a8"
             ],
             [
              0.3333333333333333,
              "#9c179e"
             ],
             [
              0.4444444444444444,
              "#bd3786"
             ],
             [
              0.5555555555555556,
              "#d8576b"
             ],
             [
              0.6666666666666666,
              "#ed7953"
             ],
             [
              0.7777777777777778,
              "#fb9f3a"
             ],
             [
              0.8888888888888888,
              "#fdca26"
             ],
             [
              1,
              "#f0f921"
             ]
            ],
            "type": "histogram2d"
           }
          ],
          "histogram2dcontour": [
           {
            "colorbar": {
             "outlinewidth": 0,
             "ticks": ""
            },
            "colorscale": [
             [
              0,
              "#0d0887"
             ],
             [
              0.1111111111111111,
              "#46039f"
             ],
             [
              0.2222222222222222,
              "#7201a8"
             ],
             [
              0.3333333333333333,
              "#9c179e"
             ],
             [
              0.4444444444444444,
              "#bd3786"
             ],
             [
              0.5555555555555556,
              "#d8576b"
             ],
             [
              0.6666666666666666,
              "#ed7953"
             ],
             [
              0.7777777777777778,
              "#fb9f3a"
             ],
             [
              0.8888888888888888,
              "#fdca26"
             ],
             [
              1,
              "#f0f921"
             ]
            ],
            "type": "histogram2dcontour"
           }
          ],
          "mesh3d": [
           {
            "colorbar": {
             "outlinewidth": 0,
             "ticks": ""
            },
            "type": "mesh3d"
           }
          ],
          "parcoords": [
           {
            "line": {
             "colorbar": {
              "outlinewidth": 0,
              "ticks": ""
             }
            },
            "type": "parcoords"
           }
          ],
          "pie": [
           {
            "automargin": true,
            "type": "pie"
           }
          ],
          "scatter": [
           {
            "marker": {
             "colorbar": {
              "outlinewidth": 0,
              "ticks": ""
             }
            },
            "type": "scatter"
           }
          ],
          "scatter3d": [
           {
            "line": {
             "colorbar": {
              "outlinewidth": 0,
              "ticks": ""
             }
            },
            "marker": {
             "colorbar": {
              "outlinewidth": 0,
              "ticks": ""
             }
            },
            "type": "scatter3d"
           }
          ],
          "scattercarpet": [
           {
            "marker": {
             "colorbar": {
              "outlinewidth": 0,
              "ticks": ""
             }
            },
            "type": "scattercarpet"
           }
          ],
          "scattergeo": [
           {
            "marker": {
             "colorbar": {
              "outlinewidth": 0,
              "ticks": ""
             }
            },
            "type": "scattergeo"
           }
          ],
          "scattergl": [
           {
            "marker": {
             "colorbar": {
              "outlinewidth": 0,
              "ticks": ""
             }
            },
            "type": "scattergl"
           }
          ],
          "scattermapbox": [
           {
            "marker": {
             "colorbar": {
              "outlinewidth": 0,
              "ticks": ""
             }
            },
            "type": "scattermapbox"
           }
          ],
          "scatterpolar": [
           {
            "marker": {
             "colorbar": {
              "outlinewidth": 0,
              "ticks": ""
             }
            },
            "type": "scatterpolar"
           }
          ],
          "scatterpolargl": [
           {
            "marker": {
             "colorbar": {
              "outlinewidth": 0,
              "ticks": ""
             }
            },
            "type": "scatterpolargl"
           }
          ],
          "scatterternary": [
           {
            "marker": {
             "colorbar": {
              "outlinewidth": 0,
              "ticks": ""
             }
            },
            "type": "scatterternary"
           }
          ],
          "surface": [
           {
            "colorbar": {
             "outlinewidth": 0,
             "ticks": ""
            },
            "colorscale": [
             [
              0,
              "#0d0887"
             ],
             [
              0.1111111111111111,
              "#46039f"
             ],
             [
              0.2222222222222222,
              "#7201a8"
             ],
             [
              0.3333333333333333,
              "#9c179e"
             ],
             [
              0.4444444444444444,
              "#bd3786"
             ],
             [
              0.5555555555555556,
              "#d8576b"
             ],
             [
              0.6666666666666666,
              "#ed7953"
             ],
             [
              0.7777777777777778,
              "#fb9f3a"
             ],
             [
              0.8888888888888888,
              "#fdca26"
             ],
             [
              1,
              "#f0f921"
             ]
            ],
            "type": "surface"
           }
          ],
          "table": [
           {
            "cells": {
             "fill": {
              "color": "#EBF0F8"
             },
             "line": {
              "color": "white"
             }
            },
            "header": {
             "fill": {
              "color": "#C8D4E3"
             },
             "line": {
              "color": "white"
             }
            },
            "type": "table"
           }
          ]
         },
         "layout": {
          "annotationdefaults": {
           "arrowcolor": "#2a3f5f",
           "arrowhead": 0,
           "arrowwidth": 1
          },
          "coloraxis": {
           "colorbar": {
            "outlinewidth": 0,
            "ticks": ""
           }
          },
          "colorscale": {
           "diverging": [
            [
             0,
             "#8e0152"
            ],
            [
             0.1,
             "#c51b7d"
            ],
            [
             0.2,
             "#de77ae"
            ],
            [
             0.3,
             "#f1b6da"
            ],
            [
             0.4,
             "#fde0ef"
            ],
            [
             0.5,
             "#f7f7f7"
            ],
            [
             0.6,
             "#e6f5d0"
            ],
            [
             0.7,
             "#b8e186"
            ],
            [
             0.8,
             "#7fbc41"
            ],
            [
             0.9,
             "#4d9221"
            ],
            [
             1,
             "#276419"
            ]
           ],
           "sequential": [
            [
             0,
             "#0d0887"
            ],
            [
             0.1111111111111111,
             "#46039f"
            ],
            [
             0.2222222222222222,
             "#7201a8"
            ],
            [
             0.3333333333333333,
             "#9c179e"
            ],
            [
             0.4444444444444444,
             "#bd3786"
            ],
            [
             0.5555555555555556,
             "#d8576b"
            ],
            [
             0.6666666666666666,
             "#ed7953"
            ],
            [
             0.7777777777777778,
             "#fb9f3a"
            ],
            [
             0.8888888888888888,
             "#fdca26"
            ],
            [
             1,
             "#f0f921"
            ]
           ],
           "sequentialminus": [
            [
             0,
             "#0d0887"
            ],
            [
             0.1111111111111111,
             "#46039f"
            ],
            [
             0.2222222222222222,
             "#7201a8"
            ],
            [
             0.3333333333333333,
             "#9c179e"
            ],
            [
             0.4444444444444444,
             "#bd3786"
            ],
            [
             0.5555555555555556,
             "#d8576b"
            ],
            [
             0.6666666666666666,
             "#ed7953"
            ],
            [
             0.7777777777777778,
             "#fb9f3a"
            ],
            [
             0.8888888888888888,
             "#fdca26"
            ],
            [
             1,
             "#f0f921"
            ]
           ]
          },
          "colorway": [
           "#636efa",
           "#EF553B",
           "#00cc96",
           "#ab63fa",
           "#FFA15A",
           "#19d3f3",
           "#FF6692",
           "#B6E880",
           "#FF97FF",
           "#FECB52"
          ],
          "font": {
           "color": "#2a3f5f"
          },
          "geo": {
           "bgcolor": "white",
           "lakecolor": "white",
           "landcolor": "#E5ECF6",
           "showlakes": true,
           "showland": true,
           "subunitcolor": "white"
          },
          "hoverlabel": {
           "align": "left"
          },
          "hovermode": "closest",
          "mapbox": {
           "style": "light"
          },
          "paper_bgcolor": "white",
          "plot_bgcolor": "#E5ECF6",
          "polar": {
           "angularaxis": {
            "gridcolor": "white",
            "linecolor": "white",
            "ticks": ""
           },
           "bgcolor": "#E5ECF6",
           "radialaxis": {
            "gridcolor": "white",
            "linecolor": "white",
            "ticks": ""
           }
          },
          "scene": {
           "xaxis": {
            "backgroundcolor": "#E5ECF6",
            "gridcolor": "white",
            "gridwidth": 2,
            "linecolor": "white",
            "showbackground": true,
            "ticks": "",
            "zerolinecolor": "white"
           },
           "yaxis": {
            "backgroundcolor": "#E5ECF6",
            "gridcolor": "white",
            "gridwidth": 2,
            "linecolor": "white",
            "showbackground": true,
            "ticks": "",
            "zerolinecolor": "white"
           },
           "zaxis": {
            "backgroundcolor": "#E5ECF6",
            "gridcolor": "white",
            "gridwidth": 2,
            "linecolor": "white",
            "showbackground": true,
            "ticks": "",
            "zerolinecolor": "white"
           }
          },
          "shapedefaults": {
           "line": {
            "color": "#2a3f5f"
           }
          },
          "ternary": {
           "aaxis": {
            "gridcolor": "white",
            "linecolor": "white",
            "ticks": ""
           },
           "baxis": {
            "gridcolor": "white",
            "linecolor": "white",
            "ticks": ""
           },
           "bgcolor": "#E5ECF6",
           "caxis": {
            "gridcolor": "white",
            "linecolor": "white",
            "ticks": ""
           }
          },
          "title": {
           "x": 0.05
          },
          "xaxis": {
           "automargin": true,
           "gridcolor": "white",
           "linecolor": "white",
           "ticks": "",
           "title": {
            "standoff": 15
           },
           "zerolinecolor": "white",
           "zerolinewidth": 2
          },
          "yaxis": {
           "automargin": true,
           "gridcolor": "white",
           "linecolor": "white",
           "ticks": "",
           "title": {
            "standoff": 15
           },
           "zerolinecolor": "white",
           "zerolinewidth": 2
          }
         }
        },
        "title": {
         "font": {
          "color": "#4D5663"
         }
        },
        "xaxis": {
         "gridcolor": "#E1E5ED",
         "showgrid": true,
         "tickfont": {
          "color": "#4D5663"
         },
         "title": {
          "font": {
           "color": "#4D5663"
          },
          "text": ""
         },
         "zerolinecolor": "#E1E5ED"
        },
        "yaxis": {
         "gridcolor": "#E1E5ED",
         "showgrid": true,
         "tickfont": {
          "color": "#4D5663"
         },
         "title": {
          "font": {
           "color": "#4D5663"
          },
          "text": ""
         },
         "zerolinecolor": "#E1E5ED"
        }
       }
      },
      "text/html": [
       "<div>\n",
       "        \n",
       "        \n",
       "            <div id=\"4f4cd268-6103-452a-8ac9-e7c7f01496c6\" class=\"plotly-graph-div\" style=\"height:525px; width:100%;\"></div>\n",
       "            <script type=\"text/javascript\">\n",
       "                require([\"plotly\"], function(Plotly) {\n",
       "                    window.PLOTLYENV=window.PLOTLYENV || {};\n",
       "                    window.PLOTLYENV.BASE_URL='https://plot.ly';\n",
       "                    \n",
       "                if (document.getElementById(\"4f4cd268-6103-452a-8ac9-e7c7f01496c6\")) {\n",
       "                    Plotly.newPlot(\n",
       "                        '4f4cd268-6103-452a-8ac9-e7c7f01496c6',\n",
       "                        [{\"boxpoints\": false, \"line\": {\"width\": 1.3}, \"marker\": {\"color\": \"rgba(255, 153, 51, 1.0)\"}, \"name\": \"A\", \"orientation\": \"v\", \"type\": \"box\", \"y\": [1.416593517660878, -0.14738395566749896, -1.7844796810424377, 1.0916939562052876, 0.8690310862451806, -0.9130881968676815, 0.999815987739978, 0.20249872319987558, 0.6651541347542538, 1.5904328259462475, 0.9224191664291218, -0.18016206629497075, 1.134944336265271, -0.19204911602866678, -0.7725701660993973, 0.10063744605008441, 0.10714591412949345, -0.42221541400028717, -0.8403776497203891, -0.34062561748689635, -0.9319306418128855, -2.7047515845412606, 0.008464414016829484, -0.24679681716914537, -0.8891064856373092, -0.0976902393419508, 2.0554795131481236, 1.140205355254008, -1.3222237382657935, 1.2972526054749431, 1.2723501043391907, -1.0402921253786834, 0.08975397544334109, -0.7211196617732506, 0.46079850518443477, -0.0035295707984208287, -1.6680052301548915, 0.39593916411591684, -0.036736725525066675, -0.18708565303207123, 0.4090337394442913, -0.11516336115305838, -2.1023287946207225, 0.7145964193033464, 0.8992939935517598, -1.1066813776882152, -0.8429684555863061, 0.8641921006942638, -0.5073841845450361, -0.8566073764635567, -0.26835127760692934, -1.2592951714357608, -0.880020854779105, 1.3836949417430615, -0.8108977849120101, 0.4561661807281345, 0.004415115029279976, 0.03828165518747515, -0.10676227658460166, 1.028572156444397, -0.28421897250220285, 0.8849806821994682, 1.4380095987100332, -0.8877395811176105, 1.228816832515203, 0.7564202279095027, -0.2625169494179067, 1.013996267722401, -0.4081800018537628, 1.0211977886508627, 0.7767951727052528, 0.2911188894392512, -1.730474681675736, 0.32841643489202166, 0.07140028981004318, 1.0689025968967223, -1.9049709066817657, -0.5405171578578922, -0.47397936749667924, -0.7220304917111585, -0.43499570927661463, -1.076760505534362, -2.851530141907224, -0.3583158919767544, -1.5432561099522224, -0.8784881122522841, -1.9603084686379697, -0.5885186370713009, 1.5997148736849103, 0.024734175690217294, 0.07809005053066699, 1.667352773288952, -1.287735836010282, -0.5990499600750134, 0.10309793710856048, 0.6049082987598869, 0.22668443288025425, -0.4085805437783098, 0.7047569911056685, -0.0058223868182907396]}, {\"boxpoints\": false, \"line\": {\"width\": 1.3}, \"marker\": {\"color\": \"rgba(55, 128, 191, 1.0)\"}, \"name\": \"B\", \"orientation\": \"v\", \"type\": \"box\", \"y\": [-1.784098720340015, 2.171244510657171, 0.6814350497909425, 1.6915046033363401, 0.18481649594853616, 1.3717132391682432, -1.2275847765325325, 0.1377905244967582, -1.1480009457520386, 0.26162442648712664, -0.3949869957178582, -1.4968385199265781, -1.2882205677288796, 0.734932556612695, 1.2232971975351834, -0.593392211027469, -1.0654669938822041, -0.3571674089948739, -0.13876162829474128, -0.2895293494986774, -0.48357022428835184, -1.3885923462518266, -0.5237646877578167, 1.3060138012560842, 0.25660307311615027, -0.8203047424592492, -0.4923162655865527, -0.4845844995598301, 1.1978422826877433, 2.0998690486150426, 1.01936669685555, -0.3386138535811944, -1.482145713226032, 2.2072307943488627, 0.7211135696527582, -1.8947101869608063, -1.6555186146259382, 0.6664471016106729, 0.6579972725992663, 0.26733180131832407, 0.8914121897579306, -0.5502327140222424, -0.7035046554239406, -0.9461377411810604, -0.6001142874070964, 0.02870046019532282, -1.7907167802754105, 1.3897741383929765, -0.016268510422112355, 0.5663514625633824, 1.9999017682580833, 1.6601667123454453, 0.6815372328213235, -0.8400593255846813, 1.11322310825198, 0.6606722621695404, 0.4375288477222289, -0.23405318147746282, 0.5886108970417825, -0.33299951352436286, -0.40185930102225387, -0.6635188196620705, 0.07704697176714438, -0.9213946986355144, -0.9831820012034149, 0.7946699447595283, -0.9991701796154964, 0.2815538007953517, 0.174998690858209, 0.8837798626530278, 0.9032875954210857, 0.24055208121983598, 0.5922894036824274, -1.2661514687988389, -0.8809610852153962, -0.12528969601901807, 0.6211367105295839, 0.13636933563037099, 0.5931900126435424, -1.4967044610569924, 0.5340581219643343, 0.3514056027479767, 0.4863662132233159, 0.24581933733395622, -2.059486231643359, -0.6300296950748387, 0.44013425063156586, 0.4473713899152323, -0.00047627043586563036, 0.2657031815297724, 2.201413247661273, -0.9173536467289062, -0.8332408625755586, -1.0151245854973656, 0.14016786526148148, 0.5585536889690439, -0.44476215618074133, -0.4413464723748191, -0.3494357165693916, -1.0018284495680674]}, {\"boxpoints\": false, \"line\": {\"width\": 1.3}, \"marker\": {\"color\": \"rgba(50, 171, 96, 1.0)\"}, \"name\": \"C\", \"orientation\": \"v\", \"type\": \"box\", \"y\": [-0.5967119098197226, 0.853238764026366, 1.6672094843438492, -0.0037601992873524037, -0.9071834782154601, 1.883690558450849, -2.106354563045812, -1.2168484036552596, 0.17255626813792466, 1.0582852945687178, 1.3952429242549573, 0.07227254577092632, -0.4195317892628768, 0.3148586861350653, 0.17138607027311709, 0.979523061893303, 1.0170253940983998, -0.31540535624226623, -0.1771259277074585, 1.0509795019188313, 0.4027836644340148, -0.10335933258826242, -0.7935237694439741, 0.2929342298614919, 2.156830774988516, 0.30115733682483886, 2.0883112687994463, -0.9278018279636102, 0.1274690526763963, -0.7019996573220373, 0.1499739530535481, -1.0036591424346843, -2.800423325047921, 1.3353677753307296, 0.5034117514155685, 0.2570665310706626, -1.1518065065844245, -0.4729507221586094, 1.672213002084143, -1.2363872849124302, 0.012105592964178779, -1.493747478456467, 0.1952640284715851, -0.7848860869658573, 0.02009202740699355, 0.07135868247529763, -0.7884840153246424, 0.01814514012957843, 0.2146823765491746, -1.0675674116210412, 0.8544589019211002, -0.5989615235683363, -0.46581180378221787, 0.6152601748855848, 0.7692237912289807, -0.4420183379256885, -1.6959042945833291, 0.08343248358165806, -0.2945583821376016, 0.6063342583506851, -0.5887858952909739, 0.13694788409010514, -1.2424969811602868, -0.5239490868519974, 1.1956002105011092, 1.084099517593647, 0.7610297699914984, 0.15656489162299303, -1.3256041858993401, 0.6332892520923301, -0.9439011838970643, 0.19397551161246512, -0.564838581449026, 0.6443860682633141, -0.00950007628578957, 1.059583505527082, 1.3659520311143776, -1.7341794280109315, 0.3817222401871636, 0.20508286240366627, -0.30652983613662893, 1.1586328857965569, -0.24000038468347007, 0.5057631958197074, -0.6101763309802465, 0.7182084359558547, 0.1162004892642478, 0.20904716578240504, -2.1276348152551523, -0.20780572655946458, -0.260592364108929, -0.580124951761244, 1.8107866238776256, 1.2067337473203945, 0.9661438170829647, 0.778797568299232, -1.4437124946541433, 1.4058055726143668, 1.6464512148069346, 1.5567465741174473]}, {\"boxpoints\": false, \"line\": {\"width\": 1.3}, \"marker\": {\"color\": \"rgba(128, 0, 128, 1.0)\"}, \"name\": \"D\", \"orientation\": \"v\", \"type\": \"box\", \"y\": [0.6079252288271123, -0.7673086708362776, 2.7918004888249155, 1.5313914625222045, -1.4345453782854332, -1.0437865151846786, 0.19847176529920577, 1.3862446579489935, -0.35138062753487304, 0.03719432201318422, -1.7616253778540005, 2.3407054624379846, -0.2000097595989267, 0.7669854014325037, 0.11298294909977, 0.046858080065504425, -0.18120895485222938, 0.7695550229775915, 0.15511077522056577, -0.9108953777606292, 0.6377005270907216, -1.6068124460140327, 1.845840177929854, -1.1052126634256259, -1.6451598313262024, 1.0953926667391707, -2.6811855828962696, -0.24426026935419365, -0.6820128828581605, 0.3608787094224027, -0.0764345595001479, 0.3088811741935369, -0.329408490492265, 1.4464185545662458, -2.0128086971620927, 0.08825858728083487, -0.168682137332262, 2.065928188589186, -1.6017962278561868, -1.5312993522830245, -0.03945107251970846, -0.6733129013460523, -0.6076787744094737, 1.6360672041399968, 0.48494877078027687, 0.01323259657886119, 1.4328584127569208, -1.6683257498452444, -0.8829926821113253, -0.09166483027086167, -3.080415218787863, -0.8472046953264905, -0.049951322488767644, -0.6759172855350523, 0.2810806490503662, 0.07703330630025013, 1.7316185845049246, 0.5755896592654809, 0.7732777600729397, -0.5761818253061513, -0.5662697882027303, -1.284520760769256, 0.41915185995351933, 0.4516275355752908, 0.10016374487909058, -0.589883708770861, -0.425278673747093, -0.7888957909839527, 0.5080520587703382, -0.14777685657714393, 0.19389746683109096, -0.1863775839392197, 3.826662212990111, 1.7942084045458413, -1.346814767384748, -1.1375499897392416, 0.48098246076773254, -1.2442890043073742, 0.006054537387323956, 0.7079016296857916, 0.9850833750736986, -0.3163365229351439, -0.4816814896722392, -0.04785840952576833, -0.5514694996254651, 1.0549941504273481, 1.1669241949067033, -0.29010413031084936, -0.5107131029812131, -0.9299722618442059, 0.40261878264672124, -1.1679406337745477, 0.5435855253429999, -1.19777229520187, 1.3514454837032996, -0.3965259735689329, 0.17952127104730956, -0.3082954895460292, 0.2721710338721595, -1.1620535089156803]}],\n",
       "                        {\"legend\": {\"bgcolor\": \"#F5F6F9\", \"font\": {\"color\": \"#4D5663\"}}, \"paper_bgcolor\": \"#F5F6F9\", \"plot_bgcolor\": \"#F5F6F9\", \"template\": {\"data\": {\"bar\": [{\"error_x\": {\"color\": \"#2a3f5f\"}, \"error_y\": {\"color\": \"#2a3f5f\"}, \"marker\": {\"line\": {\"color\": \"#E5ECF6\", \"width\": 0.5}}, \"type\": \"bar\"}], \"barpolar\": [{\"marker\": {\"line\": {\"color\": \"#E5ECF6\", \"width\": 0.5}}, \"type\": \"barpolar\"}], \"carpet\": [{\"aaxis\": {\"endlinecolor\": \"#2a3f5f\", \"gridcolor\": \"white\", \"linecolor\": \"white\", \"minorgridcolor\": \"white\", \"startlinecolor\": \"#2a3f5f\"}, \"baxis\": {\"endlinecolor\": \"#2a3f5f\", \"gridcolor\": \"white\", \"linecolor\": \"white\", \"minorgridcolor\": \"white\", \"startlinecolor\": \"#2a3f5f\"}, \"type\": \"carpet\"}], \"choropleth\": [{\"colorbar\": {\"outlinewidth\": 0, \"ticks\": \"\"}, \"type\": \"choropleth\"}], \"contour\": [{\"colorbar\": {\"outlinewidth\": 0, \"ticks\": \"\"}, \"colorscale\": [[0.0, \"#0d0887\"], [0.1111111111111111, \"#46039f\"], [0.2222222222222222, \"#7201a8\"], [0.3333333333333333, \"#9c179e\"], [0.4444444444444444, \"#bd3786\"], [0.5555555555555556, \"#d8576b\"], [0.6666666666666666, \"#ed7953\"], [0.7777777777777778, \"#fb9f3a\"], [0.8888888888888888, \"#fdca26\"], [1.0, \"#f0f921\"]], \"type\": \"contour\"}], \"contourcarpet\": [{\"colorbar\": {\"outlinewidth\": 0, \"ticks\": \"\"}, \"type\": \"contourcarpet\"}], \"heatmap\": [{\"colorbar\": {\"outlinewidth\": 0, \"ticks\": \"\"}, \"colorscale\": [[0.0, \"#0d0887\"], [0.1111111111111111, \"#46039f\"], [0.2222222222222222, \"#7201a8\"], [0.3333333333333333, \"#9c179e\"], [0.4444444444444444, \"#bd3786\"], [0.5555555555555556, \"#d8576b\"], [0.6666666666666666, \"#ed7953\"], [0.7777777777777778, \"#fb9f3a\"], [0.8888888888888888, \"#fdca26\"], [1.0, \"#f0f921\"]], \"type\": \"heatmap\"}], \"heatmapgl\": [{\"colorbar\": {\"outlinewidth\": 0, \"ticks\": \"\"}, \"colorscale\": [[0.0, \"#0d0887\"], [0.1111111111111111, \"#46039f\"], [0.2222222222222222, \"#7201a8\"], [0.3333333333333333, \"#9c179e\"], [0.4444444444444444, \"#bd3786\"], [0.5555555555555556, \"#d8576b\"], [0.6666666666666666, \"#ed7953\"], [0.7777777777777778, \"#fb9f3a\"], [0.8888888888888888, \"#fdca26\"], [1.0, \"#f0f921\"]], \"type\": \"heatmapgl\"}], \"histogram\": [{\"marker\": {\"colorbar\": {\"outlinewidth\": 0, \"ticks\": \"\"}}, \"type\": \"histogram\"}], \"histogram2d\": [{\"colorbar\": {\"outlinewidth\": 0, \"ticks\": \"\"}, \"colorscale\": [[0.0, \"#0d0887\"], [0.1111111111111111, \"#46039f\"], [0.2222222222222222, \"#7201a8\"], [0.3333333333333333, \"#9c179e\"], [0.4444444444444444, \"#bd3786\"], [0.5555555555555556, \"#d8576b\"], [0.6666666666666666, \"#ed7953\"], [0.7777777777777778, \"#fb9f3a\"], [0.8888888888888888, \"#fdca26\"], [1.0, \"#f0f921\"]], \"type\": \"histogram2d\"}], \"histogram2dcontour\": [{\"colorbar\": {\"outlinewidth\": 0, \"ticks\": \"\"}, \"colorscale\": [[0.0, \"#0d0887\"], [0.1111111111111111, \"#46039f\"], [0.2222222222222222, \"#7201a8\"], [0.3333333333333333, \"#9c179e\"], [0.4444444444444444, \"#bd3786\"], [0.5555555555555556, \"#d8576b\"], [0.6666666666666666, \"#ed7953\"], [0.7777777777777778, \"#fb9f3a\"], [0.8888888888888888, \"#fdca26\"], [1.0, \"#f0f921\"]], \"type\": \"histogram2dcontour\"}], \"mesh3d\": [{\"colorbar\": {\"outlinewidth\": 0, \"ticks\": \"\"}, \"type\": \"mesh3d\"}], \"parcoords\": [{\"line\": {\"colorbar\": {\"outlinewidth\": 0, \"ticks\": \"\"}}, \"type\": \"parcoords\"}], \"pie\": [{\"automargin\": true, \"type\": \"pie\"}], \"scatter\": [{\"marker\": {\"colorbar\": {\"outlinewidth\": 0, \"ticks\": \"\"}}, \"type\": \"scatter\"}], \"scatter3d\": [{\"line\": {\"colorbar\": {\"outlinewidth\": 0, \"ticks\": \"\"}}, \"marker\": {\"colorbar\": {\"outlinewidth\": 0, \"ticks\": \"\"}}, \"type\": \"scatter3d\"}], \"scattercarpet\": [{\"marker\": {\"colorbar\": {\"outlinewidth\": 0, \"ticks\": \"\"}}, \"type\": \"scattercarpet\"}], \"scattergeo\": [{\"marker\": {\"colorbar\": {\"outlinewidth\": 0, \"ticks\": \"\"}}, \"type\": \"scattergeo\"}], \"scattergl\": [{\"marker\": {\"colorbar\": {\"outlinewidth\": 0, \"ticks\": \"\"}}, \"type\": \"scattergl\"}], \"scattermapbox\": [{\"marker\": {\"colorbar\": {\"outlinewidth\": 0, \"ticks\": \"\"}}, \"type\": \"scattermapbox\"}], \"scatterpolar\": [{\"marker\": {\"colorbar\": {\"outlinewidth\": 0, \"ticks\": \"\"}}, \"type\": \"scatterpolar\"}], \"scatterpolargl\": [{\"marker\": {\"colorbar\": {\"outlinewidth\": 0, \"ticks\": \"\"}}, \"type\": \"scatterpolargl\"}], \"scatterternary\": [{\"marker\": {\"colorbar\": {\"outlinewidth\": 0, \"ticks\": \"\"}}, \"type\": \"scatterternary\"}], \"surface\": [{\"colorbar\": {\"outlinewidth\": 0, \"ticks\": \"\"}, \"colorscale\": [[0.0, \"#0d0887\"], [0.1111111111111111, \"#46039f\"], [0.2222222222222222, \"#7201a8\"], [0.3333333333333333, \"#9c179e\"], [0.4444444444444444, \"#bd3786\"], [0.5555555555555556, \"#d8576b\"], [0.6666666666666666, \"#ed7953\"], [0.7777777777777778, \"#fb9f3a\"], [0.8888888888888888, \"#fdca26\"], [1.0, \"#f0f921\"]], \"type\": \"surface\"}], \"table\": [{\"cells\": {\"fill\": {\"color\": \"#EBF0F8\"}, \"line\": {\"color\": \"white\"}}, \"header\": {\"fill\": {\"color\": \"#C8D4E3\"}, \"line\": {\"color\": \"white\"}}, \"type\": \"table\"}]}, \"layout\": {\"annotationdefaults\": {\"arrowcolor\": \"#2a3f5f\", \"arrowhead\": 0, \"arrowwidth\": 1}, \"coloraxis\": {\"colorbar\": {\"outlinewidth\": 0, \"ticks\": \"\"}}, \"colorscale\": {\"diverging\": [[0, \"#8e0152\"], [0.1, \"#c51b7d\"], [0.2, \"#de77ae\"], [0.3, \"#f1b6da\"], [0.4, \"#fde0ef\"], [0.5, \"#f7f7f7\"], [0.6, \"#e6f5d0\"], [0.7, \"#b8e186\"], [0.8, \"#7fbc41\"], [0.9, \"#4d9221\"], [1, \"#276419\"]], \"sequential\": [[0.0, \"#0d0887\"], [0.1111111111111111, \"#46039f\"], [0.2222222222222222, \"#7201a8\"], [0.3333333333333333, \"#9c179e\"], [0.4444444444444444, \"#bd3786\"], [0.5555555555555556, \"#d8576b\"], [0.6666666666666666, \"#ed7953\"], [0.7777777777777778, \"#fb9f3a\"], [0.8888888888888888, \"#fdca26\"], [1.0, \"#f0f921\"]], \"sequentialminus\": [[0.0, \"#0d0887\"], [0.1111111111111111, \"#46039f\"], [0.2222222222222222, \"#7201a8\"], [0.3333333333333333, \"#9c179e\"], [0.4444444444444444, \"#bd3786\"], [0.5555555555555556, \"#d8576b\"], [0.6666666666666666, \"#ed7953\"], [0.7777777777777778, \"#fb9f3a\"], [0.8888888888888888, \"#fdca26\"], [1.0, \"#f0f921\"]]}, \"colorway\": [\"#636efa\", \"#EF553B\", \"#00cc96\", \"#ab63fa\", \"#FFA15A\", \"#19d3f3\", \"#FF6692\", \"#B6E880\", \"#FF97FF\", \"#FECB52\"], \"font\": {\"color\": \"#2a3f5f\"}, \"geo\": {\"bgcolor\": \"white\", \"lakecolor\": \"white\", \"landcolor\": \"#E5ECF6\", \"showlakes\": true, \"showland\": true, \"subunitcolor\": \"white\"}, \"hoverlabel\": {\"align\": \"left\"}, \"hovermode\": \"closest\", \"mapbox\": {\"style\": \"light\"}, \"paper_bgcolor\": \"white\", \"plot_bgcolor\": \"#E5ECF6\", \"polar\": {\"angularaxis\": {\"gridcolor\": \"white\", \"linecolor\": \"white\", \"ticks\": \"\"}, \"bgcolor\": \"#E5ECF6\", \"radialaxis\": {\"gridcolor\": \"white\", \"linecolor\": \"white\", \"ticks\": \"\"}}, \"scene\": {\"xaxis\": {\"backgroundcolor\": \"#E5ECF6\", \"gridcolor\": \"white\", \"gridwidth\": 2, \"linecolor\": \"white\", \"showbackground\": true, \"ticks\": \"\", \"zerolinecolor\": \"white\"}, \"yaxis\": {\"backgroundcolor\": \"#E5ECF6\", \"gridcolor\": \"white\", \"gridwidth\": 2, \"linecolor\": \"white\", \"showbackground\": true, \"ticks\": \"\", \"zerolinecolor\": \"white\"}, \"zaxis\": {\"backgroundcolor\": \"#E5ECF6\", \"gridcolor\": \"white\", \"gridwidth\": 2, \"linecolor\": \"white\", \"showbackground\": true, \"ticks\": \"\", \"zerolinecolor\": \"white\"}}, \"shapedefaults\": {\"line\": {\"color\": \"#2a3f5f\"}}, \"ternary\": {\"aaxis\": {\"gridcolor\": \"white\", \"linecolor\": \"white\", \"ticks\": \"\"}, \"baxis\": {\"gridcolor\": \"white\", \"linecolor\": \"white\", \"ticks\": \"\"}, \"bgcolor\": \"#E5ECF6\", \"caxis\": {\"gridcolor\": \"white\", \"linecolor\": \"white\", \"ticks\": \"\"}}, \"title\": {\"x\": 0.05}, \"xaxis\": {\"automargin\": true, \"gridcolor\": \"white\", \"linecolor\": \"white\", \"ticks\": \"\", \"title\": {\"standoff\": 15}, \"zerolinecolor\": \"white\", \"zerolinewidth\": 2}, \"yaxis\": {\"automargin\": true, \"gridcolor\": \"white\", \"linecolor\": \"white\", \"ticks\": \"\", \"title\": {\"standoff\": 15}, \"zerolinecolor\": \"white\", \"zerolinewidth\": 2}}}, \"title\": {\"font\": {\"color\": \"#4D5663\"}}, \"xaxis\": {\"gridcolor\": \"#E1E5ED\", \"showgrid\": true, \"tickfont\": {\"color\": \"#4D5663\"}, \"title\": {\"font\": {\"color\": \"#4D5663\"}, \"text\": \"\"}, \"zerolinecolor\": \"#E1E5ED\"}, \"yaxis\": {\"gridcolor\": \"#E1E5ED\", \"showgrid\": true, \"tickfont\": {\"color\": \"#4D5663\"}, \"title\": {\"font\": {\"color\": \"#4D5663\"}, \"text\": \"\"}, \"zerolinecolor\": \"#E1E5ED\"}},\n",
       "                        {\"showLink\": true, \"linkText\": \"Export to plot.ly\", \"plotlyServerURL\": \"https://plot.ly\", \"responsive\": true}\n",
       "                    ).then(function(){\n",
       "                            \n",
       "var gd = document.getElementById('4f4cd268-6103-452a-8ac9-e7c7f01496c6');\n",
       "var x = new MutationObserver(function (mutations, observer) {{\n",
       "        var display = window.getComputedStyle(gd).display;\n",
       "        if (!display || display === 'none') {{\n",
       "            console.log([gd, 'removed!']);\n",
       "            Plotly.purge(gd);\n",
       "            observer.disconnect();\n",
       "        }}\n",
       "}});\n",
       "\n",
       "// Listen for the removal of the full notebook cells\n",
       "var notebookContainer = gd.closest('#notebook-container');\n",
       "if (notebookContainer) {{\n",
       "    x.observe(notebookContainer, {childList: true});\n",
       "}}\n",
       "\n",
       "// Listen for the clearing of the current output cell\n",
       "var outputEl = gd.closest('.output');\n",
       "if (outputEl) {{\n",
       "    x.observe(outputEl, {childList: true});\n",
       "}}\n",
       "\n",
       "                        })\n",
       "                };\n",
       "                });\n",
       "            </script>\n",
       "        </div>"
      ]
     },
     "metadata": {},
     "output_type": "display_data"
    }
   ],
   "source": [
    "df.iplot(kind = 'box')"
   ]
  },
  {
   "cell_type": "code",
   "execution_count": 47,
   "metadata": {},
   "outputs": [],
   "source": [
    "df3 = pd.DataFrame({'x':[1,2,3,4,5],'y':[10,20,30,20,10],'z':[5,4,3,2,1]})"
   ]
  },
  {
   "cell_type": "code",
   "execution_count": 48,
   "metadata": {},
   "outputs": [
    {
     "data": {
      "text/html": [
       "<div>\n",
       "<style scoped>\n",
       "    .dataframe tbody tr th:only-of-type {\n",
       "        vertical-align: middle;\n",
       "    }\n",
       "\n",
       "    .dataframe tbody tr th {\n",
       "        vertical-align: top;\n",
       "    }\n",
       "\n",
       "    .dataframe thead th {\n",
       "        text-align: right;\n",
       "    }\n",
       "</style>\n",
       "<table border=\"1\" class=\"dataframe\">\n",
       "  <thead>\n",
       "    <tr style=\"text-align: right;\">\n",
       "      <th></th>\n",
       "      <th>x</th>\n",
       "      <th>y</th>\n",
       "      <th>z</th>\n",
       "    </tr>\n",
       "  </thead>\n",
       "  <tbody>\n",
       "    <tr>\n",
       "      <td>0</td>\n",
       "      <td>1</td>\n",
       "      <td>10</td>\n",
       "      <td>5</td>\n",
       "    </tr>\n",
       "    <tr>\n",
       "      <td>1</td>\n",
       "      <td>2</td>\n",
       "      <td>20</td>\n",
       "      <td>4</td>\n",
       "    </tr>\n",
       "    <tr>\n",
       "      <td>2</td>\n",
       "      <td>3</td>\n",
       "      <td>30</td>\n",
       "      <td>3</td>\n",
       "    </tr>\n",
       "    <tr>\n",
       "      <td>3</td>\n",
       "      <td>4</td>\n",
       "      <td>20</td>\n",
       "      <td>2</td>\n",
       "    </tr>\n",
       "    <tr>\n",
       "      <td>4</td>\n",
       "      <td>5</td>\n",
       "      <td>10</td>\n",
       "      <td>1</td>\n",
       "    </tr>\n",
       "  </tbody>\n",
       "</table>\n",
       "</div>"
      ],
      "text/plain": [
       "   x   y  z\n",
       "0  1  10  5\n",
       "1  2  20  4\n",
       "2  3  30  3\n",
       "3  4  20  2\n",
       "4  5  10  1"
      ]
     },
     "execution_count": 48,
     "metadata": {},
     "output_type": "execute_result"
    }
   ],
   "source": [
    "df3"
   ]
  },
  {
   "cell_type": "code",
   "execution_count": 49,
   "metadata": {},
   "outputs": [
    {
     "data": {
      "application/vnd.plotly.v1+json": {
       "config": {
        "linkText": "Export to plot.ly",
        "plotlyServerURL": "https://plot.ly",
        "showLink": true
       },
       "data": [
        {
         "colorscale": [
          [
           0,
           "rgb(165,0,38)"
          ],
          [
           0.1,
           "rgb(215,48,39)"
          ],
          [
           0.2,
           "rgb(244,109,67)"
          ],
          [
           0.3,
           "rgb(253,174,97)"
          ],
          [
           0.4,
           "rgb(254,224,144)"
          ],
          [
           0.5,
           "rgb(255,255,191)"
          ],
          [
           0.6,
           "rgb(224,243,248)"
          ],
          [
           0.7,
           "rgb(171,217,233)"
          ],
          [
           0.8,
           "rgb(116,173,209)"
          ],
          [
           0.9,
           "rgb(69,117,180)"
          ],
          [
           1,
           "rgb(49,54,149)"
          ]
         ],
         "type": "surface",
         "x": [
          0,
          1,
          2,
          3,
          4
         ],
         "y": [
          "x",
          "y",
          "z"
         ],
         "z": [
          [
           1,
           2,
           3,
           4,
           5
          ],
          [
           10,
           20,
           30,
           20,
           10
          ],
          [
           5,
           4,
           3,
           2,
           1
          ]
         ]
        }
       ],
       "layout": {
        "legend": {
         "bgcolor": "#F5F6F9",
         "font": {
          "color": "#4D5663"
         }
        },
        "paper_bgcolor": "#F5F6F9",
        "plot_bgcolor": "#F5F6F9",
        "template": {
         "data": {
          "bar": [
           {
            "error_x": {
             "color": "#2a3f5f"
            },
            "error_y": {
             "color": "#2a3f5f"
            },
            "marker": {
             "line": {
              "color": "#E5ECF6",
              "width": 0.5
             }
            },
            "type": "bar"
           }
          ],
          "barpolar": [
           {
            "marker": {
             "line": {
              "color": "#E5ECF6",
              "width": 0.5
             }
            },
            "type": "barpolar"
           }
          ],
          "carpet": [
           {
            "aaxis": {
             "endlinecolor": "#2a3f5f",
             "gridcolor": "white",
             "linecolor": "white",
             "minorgridcolor": "white",
             "startlinecolor": "#2a3f5f"
            },
            "baxis": {
             "endlinecolor": "#2a3f5f",
             "gridcolor": "white",
             "linecolor": "white",
             "minorgridcolor": "white",
             "startlinecolor": "#2a3f5f"
            },
            "type": "carpet"
           }
          ],
          "choropleth": [
           {
            "colorbar": {
             "outlinewidth": 0,
             "ticks": ""
            },
            "type": "choropleth"
           }
          ],
          "contour": [
           {
            "colorbar": {
             "outlinewidth": 0,
             "ticks": ""
            },
            "colorscale": [
             [
              0,
              "#0d0887"
             ],
             [
              0.1111111111111111,
              "#46039f"
             ],
             [
              0.2222222222222222,
              "#7201a8"
             ],
             [
              0.3333333333333333,
              "#9c179e"
             ],
             [
              0.4444444444444444,
              "#bd3786"
             ],
             [
              0.5555555555555556,
              "#d8576b"
             ],
             [
              0.6666666666666666,
              "#ed7953"
             ],
             [
              0.7777777777777778,
              "#fb9f3a"
             ],
             [
              0.8888888888888888,
              "#fdca26"
             ],
             [
              1,
              "#f0f921"
             ]
            ],
            "type": "contour"
           }
          ],
          "contourcarpet": [
           {
            "colorbar": {
             "outlinewidth": 0,
             "ticks": ""
            },
            "type": "contourcarpet"
           }
          ],
          "heatmap": [
           {
            "colorbar": {
             "outlinewidth": 0,
             "ticks": ""
            },
            "colorscale": [
             [
              0,
              "#0d0887"
             ],
             [
              0.1111111111111111,
              "#46039f"
             ],
             [
              0.2222222222222222,
              "#7201a8"
             ],
             [
              0.3333333333333333,
              "#9c179e"
             ],
             [
              0.4444444444444444,
              "#bd3786"
             ],
             [
              0.5555555555555556,
              "#d8576b"
             ],
             [
              0.6666666666666666,
              "#ed7953"
             ],
             [
              0.7777777777777778,
              "#fb9f3a"
             ],
             [
              0.8888888888888888,
              "#fdca26"
             ],
             [
              1,
              "#f0f921"
             ]
            ],
            "type": "heatmap"
           }
          ],
          "heatmapgl": [
           {
            "colorbar": {
             "outlinewidth": 0,
             "ticks": ""
            },
            "colorscale": [
             [
              0,
              "#0d0887"
             ],
             [
              0.1111111111111111,
              "#46039f"
             ],
             [
              0.2222222222222222,
              "#7201a8"
             ],
             [
              0.3333333333333333,
              "#9c179e"
             ],
             [
              0.4444444444444444,
              "#bd3786"
             ],
             [
              0.5555555555555556,
              "#d8576b"
             ],
             [
              0.6666666666666666,
              "#ed7953"
             ],
             [
              0.7777777777777778,
              "#fb9f3a"
             ],
             [
              0.8888888888888888,
              "#fdca26"
             ],
             [
              1,
              "#f0f921"
             ]
            ],
            "type": "heatmapgl"
           }
          ],
          "histogram": [
           {
            "marker": {
             "colorbar": {
              "outlinewidth": 0,
              "ticks": ""
             }
            },
            "type": "histogram"
           }
          ],
          "histogram2d": [
           {
            "colorbar": {
             "outlinewidth": 0,
             "ticks": ""
            },
            "colorscale": [
             [
              0,
              "#0d0887"
             ],
             [
              0.1111111111111111,
              "#46039f"
             ],
             [
              0.2222222222222222,
              "#7201a8"
             ],
             [
              0.3333333333333333,
              "#9c179e"
             ],
             [
              0.4444444444444444,
              "#bd3786"
             ],
             [
              0.5555555555555556,
              "#d8576b"
             ],
             [
              0.6666666666666666,
              "#ed7953"
             ],
             [
              0.7777777777777778,
              "#fb9f3a"
             ],
             [
              0.8888888888888888,
              "#fdca26"
             ],
             [
              1,
              "#f0f921"
             ]
            ],
            "type": "histogram2d"
           }
          ],
          "histogram2dcontour": [
           {
            "colorbar": {
             "outlinewidth": 0,
             "ticks": ""
            },
            "colorscale": [
             [
              0,
              "#0d0887"
             ],
             [
              0.1111111111111111,
              "#46039f"
             ],
             [
              0.2222222222222222,
              "#7201a8"
             ],
             [
              0.3333333333333333,
              "#9c179e"
             ],
             [
              0.4444444444444444,
              "#bd3786"
             ],
             [
              0.5555555555555556,
              "#d8576b"
             ],
             [
              0.6666666666666666,
              "#ed7953"
             ],
             [
              0.7777777777777778,
              "#fb9f3a"
             ],
             [
              0.8888888888888888,
              "#fdca26"
             ],
             [
              1,
              "#f0f921"
             ]
            ],
            "type": "histogram2dcontour"
           }
          ],
          "mesh3d": [
           {
            "colorbar": {
             "outlinewidth": 0,
             "ticks": ""
            },
            "type": "mesh3d"
           }
          ],
          "parcoords": [
           {
            "line": {
             "colorbar": {
              "outlinewidth": 0,
              "ticks": ""
             }
            },
            "type": "parcoords"
           }
          ],
          "pie": [
           {
            "automargin": true,
            "type": "pie"
           }
          ],
          "scatter": [
           {
            "marker": {
             "colorbar": {
              "outlinewidth": 0,
              "ticks": ""
             }
            },
            "type": "scatter"
           }
          ],
          "scatter3d": [
           {
            "line": {
             "colorbar": {
              "outlinewidth": 0,
              "ticks": ""
             }
            },
            "marker": {
             "colorbar": {
              "outlinewidth": 0,
              "ticks": ""
             }
            },
            "type": "scatter3d"
           }
          ],
          "scattercarpet": [
           {
            "marker": {
             "colorbar": {
              "outlinewidth": 0,
              "ticks": ""
             }
            },
            "type": "scattercarpet"
           }
          ],
          "scattergeo": [
           {
            "marker": {
             "colorbar": {
              "outlinewidth": 0,
              "ticks": ""
             }
            },
            "type": "scattergeo"
           }
          ],
          "scattergl": [
           {
            "marker": {
             "colorbar": {
              "outlinewidth": 0,
              "ticks": ""
             }
            },
            "type": "scattergl"
           }
          ],
          "scattermapbox": [
           {
            "marker": {
             "colorbar": {
              "outlinewidth": 0,
              "ticks": ""
             }
            },
            "type": "scattermapbox"
           }
          ],
          "scatterpolar": [
           {
            "marker": {
             "colorbar": {
              "outlinewidth": 0,
              "ticks": ""
             }
            },
            "type": "scatterpolar"
           }
          ],
          "scatterpolargl": [
           {
            "marker": {
             "colorbar": {
              "outlinewidth": 0,
              "ticks": ""
             }
            },
            "type": "scatterpolargl"
           }
          ],
          "scatterternary": [
           {
            "marker": {
             "colorbar": {
              "outlinewidth": 0,
              "ticks": ""
             }
            },
            "type": "scatterternary"
           }
          ],
          "surface": [
           {
            "colorbar": {
             "outlinewidth": 0,
             "ticks": ""
            },
            "colorscale": [
             [
              0,
              "#0d0887"
             ],
             [
              0.1111111111111111,
              "#46039f"
             ],
             [
              0.2222222222222222,
              "#7201a8"
             ],
             [
              0.3333333333333333,
              "#9c179e"
             ],
             [
              0.4444444444444444,
              "#bd3786"
             ],
             [
              0.5555555555555556,
              "#d8576b"
             ],
             [
              0.6666666666666666,
              "#ed7953"
             ],
             [
              0.7777777777777778,
              "#fb9f3a"
             ],
             [
              0.8888888888888888,
              "#fdca26"
             ],
             [
              1,
              "#f0f921"
             ]
            ],
            "type": "surface"
           }
          ],
          "table": [
           {
            "cells": {
             "fill": {
              "color": "#EBF0F8"
             },
             "line": {
              "color": "white"
             }
            },
            "header": {
             "fill": {
              "color": "#C8D4E3"
             },
             "line": {
              "color": "white"
             }
            },
            "type": "table"
           }
          ]
         },
         "layout": {
          "annotationdefaults": {
           "arrowcolor": "#2a3f5f",
           "arrowhead": 0,
           "arrowwidth": 1
          },
          "coloraxis": {
           "colorbar": {
            "outlinewidth": 0,
            "ticks": ""
           }
          },
          "colorscale": {
           "diverging": [
            [
             0,
             "#8e0152"
            ],
            [
             0.1,
             "#c51b7d"
            ],
            [
             0.2,
             "#de77ae"
            ],
            [
             0.3,
             "#f1b6da"
            ],
            [
             0.4,
             "#fde0ef"
            ],
            [
             0.5,
             "#f7f7f7"
            ],
            [
             0.6,
             "#e6f5d0"
            ],
            [
             0.7,
             "#b8e186"
            ],
            [
             0.8,
             "#7fbc41"
            ],
            [
             0.9,
             "#4d9221"
            ],
            [
             1,
             "#276419"
            ]
           ],
           "sequential": [
            [
             0,
             "#0d0887"
            ],
            [
             0.1111111111111111,
             "#46039f"
            ],
            [
             0.2222222222222222,
             "#7201a8"
            ],
            [
             0.3333333333333333,
             "#9c179e"
            ],
            [
             0.4444444444444444,
             "#bd3786"
            ],
            [
             0.5555555555555556,
             "#d8576b"
            ],
            [
             0.6666666666666666,
             "#ed7953"
            ],
            [
             0.7777777777777778,
             "#fb9f3a"
            ],
            [
             0.8888888888888888,
             "#fdca26"
            ],
            [
             1,
             "#f0f921"
            ]
           ],
           "sequentialminus": [
            [
             0,
             "#0d0887"
            ],
            [
             0.1111111111111111,
             "#46039f"
            ],
            [
             0.2222222222222222,
             "#7201a8"
            ],
            [
             0.3333333333333333,
             "#9c179e"
            ],
            [
             0.4444444444444444,
             "#bd3786"
            ],
            [
             0.5555555555555556,
             "#d8576b"
            ],
            [
             0.6666666666666666,
             "#ed7953"
            ],
            [
             0.7777777777777778,
             "#fb9f3a"
            ],
            [
             0.8888888888888888,
             "#fdca26"
            ],
            [
             1,
             "#f0f921"
            ]
           ]
          },
          "colorway": [
           "#636efa",
           "#EF553B",
           "#00cc96",
           "#ab63fa",
           "#FFA15A",
           "#19d3f3",
           "#FF6692",
           "#B6E880",
           "#FF97FF",
           "#FECB52"
          ],
          "font": {
           "color": "#2a3f5f"
          },
          "geo": {
           "bgcolor": "white",
           "lakecolor": "white",
           "landcolor": "#E5ECF6",
           "showlakes": true,
           "showland": true,
           "subunitcolor": "white"
          },
          "hoverlabel": {
           "align": "left"
          },
          "hovermode": "closest",
          "mapbox": {
           "style": "light"
          },
          "paper_bgcolor": "white",
          "plot_bgcolor": "#E5ECF6",
          "polar": {
           "angularaxis": {
            "gridcolor": "white",
            "linecolor": "white",
            "ticks": ""
           },
           "bgcolor": "#E5ECF6",
           "radialaxis": {
            "gridcolor": "white",
            "linecolor": "white",
            "ticks": ""
           }
          },
          "scene": {
           "xaxis": {
            "backgroundcolor": "#E5ECF6",
            "gridcolor": "white",
            "gridwidth": 2,
            "linecolor": "white",
            "showbackground": true,
            "ticks": "",
            "zerolinecolor": "white"
           },
           "yaxis": {
            "backgroundcolor": "#E5ECF6",
            "gridcolor": "white",
            "gridwidth": 2,
            "linecolor": "white",
            "showbackground": true,
            "ticks": "",
            "zerolinecolor": "white"
           },
           "zaxis": {
            "backgroundcolor": "#E5ECF6",
            "gridcolor": "white",
            "gridwidth": 2,
            "linecolor": "white",
            "showbackground": true,
            "ticks": "",
            "zerolinecolor": "white"
           }
          },
          "shapedefaults": {
           "line": {
            "color": "#2a3f5f"
           }
          },
          "ternary": {
           "aaxis": {
            "gridcolor": "white",
            "linecolor": "white",
            "ticks": ""
           },
           "baxis": {
            "gridcolor": "white",
            "linecolor": "white",
            "ticks": ""
           },
           "bgcolor": "#E5ECF6",
           "caxis": {
            "gridcolor": "white",
            "linecolor": "white",
            "ticks": ""
           }
          },
          "title": {
           "x": 0.05
          },
          "xaxis": {
           "automargin": true,
           "gridcolor": "white",
           "linecolor": "white",
           "ticks": "",
           "title": {
            "standoff": 15
           },
           "zerolinecolor": "white",
           "zerolinewidth": 2
          },
          "yaxis": {
           "automargin": true,
           "gridcolor": "white",
           "linecolor": "white",
           "ticks": "",
           "title": {
            "standoff": 15
           },
           "zerolinecolor": "white",
           "zerolinewidth": 2
          }
         }
        },
        "title": {
         "font": {
          "color": "#4D5663"
         }
        },
        "xaxis": {
         "gridcolor": "#E1E5ED",
         "showgrid": true,
         "tickfont": {
          "color": "#4D5663"
         },
         "title": {
          "font": {
           "color": "#4D5663"
          },
          "text": ""
         },
         "zerolinecolor": "#E1E5ED"
        },
        "yaxis": {
         "gridcolor": "#E1E5ED",
         "showgrid": true,
         "tickfont": {
          "color": "#4D5663"
         },
         "title": {
          "font": {
           "color": "#4D5663"
          },
          "text": ""
         },
         "zerolinecolor": "#E1E5ED"
        }
       }
      },
      "text/html": [
       "<div>\n",
       "        \n",
       "        \n",
       "            <div id=\"b24021e3-d06f-4af5-b0e4-a856468094a2\" class=\"plotly-graph-div\" style=\"height:525px; width:100%;\"></div>\n",
       "            <script type=\"text/javascript\">\n",
       "                require([\"plotly\"], function(Plotly) {\n",
       "                    window.PLOTLYENV=window.PLOTLYENV || {};\n",
       "                    window.PLOTLYENV.BASE_URL='https://plot.ly';\n",
       "                    \n",
       "                if (document.getElementById(\"b24021e3-d06f-4af5-b0e4-a856468094a2\")) {\n",
       "                    Plotly.newPlot(\n",
       "                        'b24021e3-d06f-4af5-b0e4-a856468094a2',\n",
       "                        [{\"colorscale\": [[0.0, \"rgb(165,0,38)\"], [0.1, \"rgb(215,48,39)\"], [0.2, \"rgb(244,109,67)\"], [0.3, \"rgb(253,174,97)\"], [0.4, \"rgb(254,224,144)\"], [0.5, \"rgb(255,255,191)\"], [0.6, \"rgb(224,243,248)\"], [0.7, \"rgb(171,217,233)\"], [0.8, \"rgb(116,173,209)\"], [0.9, \"rgb(69,117,180)\"], [1.0, \"rgb(49,54,149)\"]], \"type\": \"surface\", \"x\": [0, 1, 2, 3, 4], \"y\": [\"x\", \"y\", \"z\"], \"z\": [[1, 2, 3, 4, 5], [10, 20, 30, 20, 10], [5, 4, 3, 2, 1]]}],\n",
       "                        {\"legend\": {\"bgcolor\": \"#F5F6F9\", \"font\": {\"color\": \"#4D5663\"}}, \"paper_bgcolor\": \"#F5F6F9\", \"plot_bgcolor\": \"#F5F6F9\", \"template\": {\"data\": {\"bar\": [{\"error_x\": {\"color\": \"#2a3f5f\"}, \"error_y\": {\"color\": \"#2a3f5f\"}, \"marker\": {\"line\": {\"color\": \"#E5ECF6\", \"width\": 0.5}}, \"type\": \"bar\"}], \"barpolar\": [{\"marker\": {\"line\": {\"color\": \"#E5ECF6\", \"width\": 0.5}}, \"type\": \"barpolar\"}], \"carpet\": [{\"aaxis\": {\"endlinecolor\": \"#2a3f5f\", \"gridcolor\": \"white\", \"linecolor\": \"white\", \"minorgridcolor\": \"white\", \"startlinecolor\": \"#2a3f5f\"}, \"baxis\": {\"endlinecolor\": \"#2a3f5f\", \"gridcolor\": \"white\", \"linecolor\": \"white\", \"minorgridcolor\": \"white\", \"startlinecolor\": \"#2a3f5f\"}, \"type\": \"carpet\"}], \"choropleth\": [{\"colorbar\": {\"outlinewidth\": 0, \"ticks\": \"\"}, \"type\": \"choropleth\"}], \"contour\": [{\"colorbar\": {\"outlinewidth\": 0, \"ticks\": \"\"}, \"colorscale\": [[0.0, \"#0d0887\"], [0.1111111111111111, \"#46039f\"], [0.2222222222222222, \"#7201a8\"], [0.3333333333333333, \"#9c179e\"], [0.4444444444444444, \"#bd3786\"], [0.5555555555555556, \"#d8576b\"], [0.6666666666666666, \"#ed7953\"], [0.7777777777777778, \"#fb9f3a\"], [0.8888888888888888, \"#fdca26\"], [1.0, \"#f0f921\"]], \"type\": \"contour\"}], \"contourcarpet\": [{\"colorbar\": {\"outlinewidth\": 0, \"ticks\": \"\"}, \"type\": \"contourcarpet\"}], \"heatmap\": [{\"colorbar\": {\"outlinewidth\": 0, \"ticks\": \"\"}, \"colorscale\": [[0.0, \"#0d0887\"], [0.1111111111111111, \"#46039f\"], [0.2222222222222222, \"#7201a8\"], [0.3333333333333333, \"#9c179e\"], [0.4444444444444444, \"#bd3786\"], [0.5555555555555556, \"#d8576b\"], [0.6666666666666666, \"#ed7953\"], [0.7777777777777778, \"#fb9f3a\"], [0.8888888888888888, \"#fdca26\"], [1.0, \"#f0f921\"]], \"type\": \"heatmap\"}], \"heatmapgl\": [{\"colorbar\": {\"outlinewidth\": 0, \"ticks\": \"\"}, \"colorscale\": [[0.0, \"#0d0887\"], [0.1111111111111111, \"#46039f\"], [0.2222222222222222, \"#7201a8\"], [0.3333333333333333, \"#9c179e\"], [0.4444444444444444, \"#bd3786\"], [0.5555555555555556, \"#d8576b\"], [0.6666666666666666, \"#ed7953\"], [0.7777777777777778, \"#fb9f3a\"], [0.8888888888888888, \"#fdca26\"], [1.0, \"#f0f921\"]], \"type\": \"heatmapgl\"}], \"histogram\": [{\"marker\": {\"colorbar\": {\"outlinewidth\": 0, \"ticks\": \"\"}}, \"type\": \"histogram\"}], \"histogram2d\": [{\"colorbar\": {\"outlinewidth\": 0, \"ticks\": \"\"}, \"colorscale\": [[0.0, \"#0d0887\"], [0.1111111111111111, \"#46039f\"], [0.2222222222222222, \"#7201a8\"], [0.3333333333333333, \"#9c179e\"], [0.4444444444444444, \"#bd3786\"], [0.5555555555555556, \"#d8576b\"], [0.6666666666666666, \"#ed7953\"], [0.7777777777777778, \"#fb9f3a\"], [0.8888888888888888, \"#fdca26\"], [1.0, \"#f0f921\"]], \"type\": \"histogram2d\"}], \"histogram2dcontour\": [{\"colorbar\": {\"outlinewidth\": 0, \"ticks\": \"\"}, \"colorscale\": [[0.0, \"#0d0887\"], [0.1111111111111111, \"#46039f\"], [0.2222222222222222, \"#7201a8\"], [0.3333333333333333, \"#9c179e\"], [0.4444444444444444, \"#bd3786\"], [0.5555555555555556, \"#d8576b\"], [0.6666666666666666, \"#ed7953\"], [0.7777777777777778, \"#fb9f3a\"], [0.8888888888888888, \"#fdca26\"], [1.0, \"#f0f921\"]], \"type\": \"histogram2dcontour\"}], \"mesh3d\": [{\"colorbar\": {\"outlinewidth\": 0, \"ticks\": \"\"}, \"type\": \"mesh3d\"}], \"parcoords\": [{\"line\": {\"colorbar\": {\"outlinewidth\": 0, \"ticks\": \"\"}}, \"type\": \"parcoords\"}], \"pie\": [{\"automargin\": true, \"type\": \"pie\"}], \"scatter\": [{\"marker\": {\"colorbar\": {\"outlinewidth\": 0, \"ticks\": \"\"}}, \"type\": \"scatter\"}], \"scatter3d\": [{\"line\": {\"colorbar\": {\"outlinewidth\": 0, \"ticks\": \"\"}}, \"marker\": {\"colorbar\": {\"outlinewidth\": 0, \"ticks\": \"\"}}, \"type\": \"scatter3d\"}], \"scattercarpet\": [{\"marker\": {\"colorbar\": {\"outlinewidth\": 0, \"ticks\": \"\"}}, \"type\": \"scattercarpet\"}], \"scattergeo\": [{\"marker\": {\"colorbar\": {\"outlinewidth\": 0, \"ticks\": \"\"}}, \"type\": \"scattergeo\"}], \"scattergl\": [{\"marker\": {\"colorbar\": {\"outlinewidth\": 0, \"ticks\": \"\"}}, \"type\": \"scattergl\"}], \"scattermapbox\": [{\"marker\": {\"colorbar\": {\"outlinewidth\": 0, \"ticks\": \"\"}}, \"type\": \"scattermapbox\"}], \"scatterpolar\": [{\"marker\": {\"colorbar\": {\"outlinewidth\": 0, \"ticks\": \"\"}}, \"type\": \"scatterpolar\"}], \"scatterpolargl\": [{\"marker\": {\"colorbar\": {\"outlinewidth\": 0, \"ticks\": \"\"}}, \"type\": \"scatterpolargl\"}], \"scatterternary\": [{\"marker\": {\"colorbar\": {\"outlinewidth\": 0, \"ticks\": \"\"}}, \"type\": \"scatterternary\"}], \"surface\": [{\"colorbar\": {\"outlinewidth\": 0, \"ticks\": \"\"}, \"colorscale\": [[0.0, \"#0d0887\"], [0.1111111111111111, \"#46039f\"], [0.2222222222222222, \"#7201a8\"], [0.3333333333333333, \"#9c179e\"], [0.4444444444444444, \"#bd3786\"], [0.5555555555555556, \"#d8576b\"], [0.6666666666666666, \"#ed7953\"], [0.7777777777777778, \"#fb9f3a\"], [0.8888888888888888, \"#fdca26\"], [1.0, \"#f0f921\"]], \"type\": \"surface\"}], \"table\": [{\"cells\": {\"fill\": {\"color\": \"#EBF0F8\"}, \"line\": {\"color\": \"white\"}}, \"header\": {\"fill\": {\"color\": \"#C8D4E3\"}, \"line\": {\"color\": \"white\"}}, \"type\": \"table\"}]}, \"layout\": {\"annotationdefaults\": {\"arrowcolor\": \"#2a3f5f\", \"arrowhead\": 0, \"arrowwidth\": 1}, \"coloraxis\": {\"colorbar\": {\"outlinewidth\": 0, \"ticks\": \"\"}}, \"colorscale\": {\"diverging\": [[0, \"#8e0152\"], [0.1, \"#c51b7d\"], [0.2, \"#de77ae\"], [0.3, \"#f1b6da\"], [0.4, \"#fde0ef\"], [0.5, \"#f7f7f7\"], [0.6, \"#e6f5d0\"], [0.7, \"#b8e186\"], [0.8, \"#7fbc41\"], [0.9, \"#4d9221\"], [1, \"#276419\"]], \"sequential\": [[0.0, \"#0d0887\"], [0.1111111111111111, \"#46039f\"], [0.2222222222222222, \"#7201a8\"], [0.3333333333333333, \"#9c179e\"], [0.4444444444444444, \"#bd3786\"], [0.5555555555555556, \"#d8576b\"], [0.6666666666666666, \"#ed7953\"], [0.7777777777777778, \"#fb9f3a\"], [0.8888888888888888, \"#fdca26\"], [1.0, \"#f0f921\"]], \"sequentialminus\": [[0.0, \"#0d0887\"], [0.1111111111111111, \"#46039f\"], [0.2222222222222222, \"#7201a8\"], [0.3333333333333333, \"#9c179e\"], [0.4444444444444444, \"#bd3786\"], [0.5555555555555556, \"#d8576b\"], [0.6666666666666666, \"#ed7953\"], [0.7777777777777778, \"#fb9f3a\"], [0.8888888888888888, \"#fdca26\"], [1.0, \"#f0f921\"]]}, \"colorway\": [\"#636efa\", \"#EF553B\", \"#00cc96\", \"#ab63fa\", \"#FFA15A\", \"#19d3f3\", \"#FF6692\", \"#B6E880\", \"#FF97FF\", \"#FECB52\"], \"font\": {\"color\": \"#2a3f5f\"}, \"geo\": {\"bgcolor\": \"white\", \"lakecolor\": \"white\", \"landcolor\": \"#E5ECF6\", \"showlakes\": true, \"showland\": true, \"subunitcolor\": \"white\"}, \"hoverlabel\": {\"align\": \"left\"}, \"hovermode\": \"closest\", \"mapbox\": {\"style\": \"light\"}, \"paper_bgcolor\": \"white\", \"plot_bgcolor\": \"#E5ECF6\", \"polar\": {\"angularaxis\": {\"gridcolor\": \"white\", \"linecolor\": \"white\", \"ticks\": \"\"}, \"bgcolor\": \"#E5ECF6\", \"radialaxis\": {\"gridcolor\": \"white\", \"linecolor\": \"white\", \"ticks\": \"\"}}, \"scene\": {\"xaxis\": {\"backgroundcolor\": \"#E5ECF6\", \"gridcolor\": \"white\", \"gridwidth\": 2, \"linecolor\": \"white\", \"showbackground\": true, \"ticks\": \"\", \"zerolinecolor\": \"white\"}, \"yaxis\": {\"backgroundcolor\": \"#E5ECF6\", \"gridcolor\": \"white\", \"gridwidth\": 2, \"linecolor\": \"white\", \"showbackground\": true, \"ticks\": \"\", \"zerolinecolor\": \"white\"}, \"zaxis\": {\"backgroundcolor\": \"#E5ECF6\", \"gridcolor\": \"white\", \"gridwidth\": 2, \"linecolor\": \"white\", \"showbackground\": true, \"ticks\": \"\", \"zerolinecolor\": \"white\"}}, \"shapedefaults\": {\"line\": {\"color\": \"#2a3f5f\"}}, \"ternary\": {\"aaxis\": {\"gridcolor\": \"white\", \"linecolor\": \"white\", \"ticks\": \"\"}, \"baxis\": {\"gridcolor\": \"white\", \"linecolor\": \"white\", \"ticks\": \"\"}, \"bgcolor\": \"#E5ECF6\", \"caxis\": {\"gridcolor\": \"white\", \"linecolor\": \"white\", \"ticks\": \"\"}}, \"title\": {\"x\": 0.05}, \"xaxis\": {\"automargin\": true, \"gridcolor\": \"white\", \"linecolor\": \"white\", \"ticks\": \"\", \"title\": {\"standoff\": 15}, \"zerolinecolor\": \"white\", \"zerolinewidth\": 2}, \"yaxis\": {\"automargin\": true, \"gridcolor\": \"white\", \"linecolor\": \"white\", \"ticks\": \"\", \"title\": {\"standoff\": 15}, \"zerolinecolor\": \"white\", \"zerolinewidth\": 2}}}, \"title\": {\"font\": {\"color\": \"#4D5663\"}}, \"xaxis\": {\"gridcolor\": \"#E1E5ED\", \"showgrid\": true, \"tickfont\": {\"color\": \"#4D5663\"}, \"title\": {\"font\": {\"color\": \"#4D5663\"}, \"text\": \"\"}, \"zerolinecolor\": \"#E1E5ED\"}, \"yaxis\": {\"gridcolor\": \"#E1E5ED\", \"showgrid\": true, \"tickfont\": {\"color\": \"#4D5663\"}, \"title\": {\"font\": {\"color\": \"#4D5663\"}, \"text\": \"\"}, \"zerolinecolor\": \"#E1E5ED\"}},\n",
       "                        {\"showLink\": true, \"linkText\": \"Export to plot.ly\", \"plotlyServerURL\": \"https://plot.ly\", \"responsive\": true}\n",
       "                    ).then(function(){\n",
       "                            \n",
       "var gd = document.getElementById('b24021e3-d06f-4af5-b0e4-a856468094a2');\n",
       "var x = new MutationObserver(function (mutations, observer) {{\n",
       "        var display = window.getComputedStyle(gd).display;\n",
       "        if (!display || display === 'none') {{\n",
       "            console.log([gd, 'removed!']);\n",
       "            Plotly.purge(gd);\n",
       "            observer.disconnect();\n",
       "        }}\n",
       "}});\n",
       "\n",
       "// Listen for the removal of the full notebook cells\n",
       "var notebookContainer = gd.closest('#notebook-container');\n",
       "if (notebookContainer) {{\n",
       "    x.observe(notebookContainer, {childList: true});\n",
       "}}\n",
       "\n",
       "// Listen for the clearing of the current output cell\n",
       "var outputEl = gd.closest('.output');\n",
       "if (outputEl) {{\n",
       "    x.observe(outputEl, {childList: true});\n",
       "}}\n",
       "\n",
       "                        })\n",
       "                };\n",
       "                });\n",
       "            </script>\n",
       "        </div>"
      ]
     },
     "metadata": {},
     "output_type": "display_data"
    }
   ],
   "source": [
    "#To create a 3D surface plot\n",
    "df3.iplot(kind = 'surface',colorscale='rdylbu') #Change color scheme to red yellow blue"
   ]
  },
  {
   "cell_type": "code",
   "execution_count": 50,
   "metadata": {},
   "outputs": [
    {
     "data": {
      "application/vnd.plotly.v1+json": {
       "config": {
        "linkText": "Export to plot.ly",
        "plotlyServerURL": "https://plot.ly",
        "showLink": true
       },
       "data": [
        {
         "histfunc": "count",
         "histnorm": "",
         "marker": {
          "color": "rgba(255, 153, 51, 1.0)",
          "line": {
           "color": "#4D5663",
           "width": 1.3
          }
         },
         "name": "A",
         "nbinsx": 40,
         "opacity": 0.8,
         "orientation": "v",
         "type": "histogram",
         "x": [
          1.416593517660878,
          -0.14738395566749896,
          -1.7844796810424377,
          1.0916939562052876,
          0.8690310862451806,
          -0.9130881968676815,
          0.999815987739978,
          0.20249872319987558,
          0.6651541347542538,
          1.5904328259462475,
          0.9224191664291218,
          -0.18016206629497075,
          1.134944336265271,
          -0.19204911602866678,
          -0.7725701660993973,
          0.10063744605008441,
          0.10714591412949345,
          -0.42221541400028717,
          -0.8403776497203891,
          -0.34062561748689635,
          -0.9319306418128855,
          -2.7047515845412606,
          0.008464414016829484,
          -0.24679681716914537,
          -0.8891064856373092,
          -0.0976902393419508,
          2.0554795131481236,
          1.140205355254008,
          -1.3222237382657935,
          1.2972526054749431,
          1.2723501043391907,
          -1.0402921253786834,
          0.08975397544334109,
          -0.7211196617732506,
          0.46079850518443477,
          -0.0035295707984208287,
          -1.6680052301548915,
          0.39593916411591684,
          -0.036736725525066675,
          -0.18708565303207123,
          0.4090337394442913,
          -0.11516336115305838,
          -2.1023287946207225,
          0.7145964193033464,
          0.8992939935517598,
          -1.1066813776882152,
          -0.8429684555863061,
          0.8641921006942638,
          -0.5073841845450361,
          -0.8566073764635567,
          -0.26835127760692934,
          -1.2592951714357608,
          -0.880020854779105,
          1.3836949417430615,
          -0.8108977849120101,
          0.4561661807281345,
          0.004415115029279976,
          0.03828165518747515,
          -0.10676227658460166,
          1.028572156444397,
          -0.28421897250220285,
          0.8849806821994682,
          1.4380095987100332,
          -0.8877395811176105,
          1.228816832515203,
          0.7564202279095027,
          -0.2625169494179067,
          1.013996267722401,
          -0.4081800018537628,
          1.0211977886508627,
          0.7767951727052528,
          0.2911188894392512,
          -1.730474681675736,
          0.32841643489202166,
          0.07140028981004318,
          1.0689025968967223,
          -1.9049709066817657,
          -0.5405171578578922,
          -0.47397936749667924,
          -0.7220304917111585,
          -0.43499570927661463,
          -1.076760505534362,
          -2.851530141907224,
          -0.3583158919767544,
          -1.5432561099522224,
          -0.8784881122522841,
          -1.9603084686379697,
          -0.5885186370713009,
          1.5997148736849103,
          0.024734175690217294,
          0.07809005053066699,
          1.667352773288952,
          -1.287735836010282,
          -0.5990499600750134,
          0.10309793710856048,
          0.6049082987598869,
          0.22668443288025425,
          -0.4085805437783098,
          0.7047569911056685,
          -0.0058223868182907396
         ]
        }
       ],
       "layout": {
        "barmode": "overlay",
        "legend": {
         "bgcolor": "#F5F6F9",
         "font": {
          "color": "#4D5663"
         }
        },
        "paper_bgcolor": "#F5F6F9",
        "plot_bgcolor": "#F5F6F9",
        "template": {
         "data": {
          "bar": [
           {
            "error_x": {
             "color": "#2a3f5f"
            },
            "error_y": {
             "color": "#2a3f5f"
            },
            "marker": {
             "line": {
              "color": "#E5ECF6",
              "width": 0.5
             }
            },
            "type": "bar"
           }
          ],
          "barpolar": [
           {
            "marker": {
             "line": {
              "color": "#E5ECF6",
              "width": 0.5
             }
            },
            "type": "barpolar"
           }
          ],
          "carpet": [
           {
            "aaxis": {
             "endlinecolor": "#2a3f5f",
             "gridcolor": "white",
             "linecolor": "white",
             "minorgridcolor": "white",
             "startlinecolor": "#2a3f5f"
            },
            "baxis": {
             "endlinecolor": "#2a3f5f",
             "gridcolor": "white",
             "linecolor": "white",
             "minorgridcolor": "white",
             "startlinecolor": "#2a3f5f"
            },
            "type": "carpet"
           }
          ],
          "choropleth": [
           {
            "colorbar": {
             "outlinewidth": 0,
             "ticks": ""
            },
            "type": "choropleth"
           }
          ],
          "contour": [
           {
            "colorbar": {
             "outlinewidth": 0,
             "ticks": ""
            },
            "colorscale": [
             [
              0,
              "#0d0887"
             ],
             [
              0.1111111111111111,
              "#46039f"
             ],
             [
              0.2222222222222222,
              "#7201a8"
             ],
             [
              0.3333333333333333,
              "#9c179e"
             ],
             [
              0.4444444444444444,
              "#bd3786"
             ],
             [
              0.5555555555555556,
              "#d8576b"
             ],
             [
              0.6666666666666666,
              "#ed7953"
             ],
             [
              0.7777777777777778,
              "#fb9f3a"
             ],
             [
              0.8888888888888888,
              "#fdca26"
             ],
             [
              1,
              "#f0f921"
             ]
            ],
            "type": "contour"
           }
          ],
          "contourcarpet": [
           {
            "colorbar": {
             "outlinewidth": 0,
             "ticks": ""
            },
            "type": "contourcarpet"
           }
          ],
          "heatmap": [
           {
            "colorbar": {
             "outlinewidth": 0,
             "ticks": ""
            },
            "colorscale": [
             [
              0,
              "#0d0887"
             ],
             [
              0.1111111111111111,
              "#46039f"
             ],
             [
              0.2222222222222222,
              "#7201a8"
             ],
             [
              0.3333333333333333,
              "#9c179e"
             ],
             [
              0.4444444444444444,
              "#bd3786"
             ],
             [
              0.5555555555555556,
              "#d8576b"
             ],
             [
              0.6666666666666666,
              "#ed7953"
             ],
             [
              0.7777777777777778,
              "#fb9f3a"
             ],
             [
              0.8888888888888888,
              "#fdca26"
             ],
             [
              1,
              "#f0f921"
             ]
            ],
            "type": "heatmap"
           }
          ],
          "heatmapgl": [
           {
            "colorbar": {
             "outlinewidth": 0,
             "ticks": ""
            },
            "colorscale": [
             [
              0,
              "#0d0887"
             ],
             [
              0.1111111111111111,
              "#46039f"
             ],
             [
              0.2222222222222222,
              "#7201a8"
             ],
             [
              0.3333333333333333,
              "#9c179e"
             ],
             [
              0.4444444444444444,
              "#bd3786"
             ],
             [
              0.5555555555555556,
              "#d8576b"
             ],
             [
              0.6666666666666666,
              "#ed7953"
             ],
             [
              0.7777777777777778,
              "#fb9f3a"
             ],
             [
              0.8888888888888888,
              "#fdca26"
             ],
             [
              1,
              "#f0f921"
             ]
            ],
            "type": "heatmapgl"
           }
          ],
          "histogram": [
           {
            "marker": {
             "colorbar": {
              "outlinewidth": 0,
              "ticks": ""
             }
            },
            "type": "histogram"
           }
          ],
          "histogram2d": [
           {
            "colorbar": {
             "outlinewidth": 0,
             "ticks": ""
            },
            "colorscale": [
             [
              0,
              "#0d0887"
             ],
             [
              0.1111111111111111,
              "#46039f"
             ],
             [
              0.2222222222222222,
              "#7201a8"
             ],
             [
              0.3333333333333333,
              "#9c179e"
             ],
             [
              0.4444444444444444,
              "#bd3786"
             ],
             [
              0.5555555555555556,
              "#d8576b"
             ],
             [
              0.6666666666666666,
              "#ed7953"
             ],
             [
              0.7777777777777778,
              "#fb9f3a"
             ],
             [
              0.8888888888888888,
              "#fdca26"
             ],
             [
              1,
              "#f0f921"
             ]
            ],
            "type": "histogram2d"
           }
          ],
          "histogram2dcontour": [
           {
            "colorbar": {
             "outlinewidth": 0,
             "ticks": ""
            },
            "colorscale": [
             [
              0,
              "#0d0887"
             ],
             [
              0.1111111111111111,
              "#46039f"
             ],
             [
              0.2222222222222222,
              "#7201a8"
             ],
             [
              0.3333333333333333,
              "#9c179e"
             ],
             [
              0.4444444444444444,
              "#bd3786"
             ],
             [
              0.5555555555555556,
              "#d8576b"
             ],
             [
              0.6666666666666666,
              "#ed7953"
             ],
             [
              0.7777777777777778,
              "#fb9f3a"
             ],
             [
              0.8888888888888888,
              "#fdca26"
             ],
             [
              1,
              "#f0f921"
             ]
            ],
            "type": "histogram2dcontour"
           }
          ],
          "mesh3d": [
           {
            "colorbar": {
             "outlinewidth": 0,
             "ticks": ""
            },
            "type": "mesh3d"
           }
          ],
          "parcoords": [
           {
            "line": {
             "colorbar": {
              "outlinewidth": 0,
              "ticks": ""
             }
            },
            "type": "parcoords"
           }
          ],
          "pie": [
           {
            "automargin": true,
            "type": "pie"
           }
          ],
          "scatter": [
           {
            "marker": {
             "colorbar": {
              "outlinewidth": 0,
              "ticks": ""
             }
            },
            "type": "scatter"
           }
          ],
          "scatter3d": [
           {
            "line": {
             "colorbar": {
              "outlinewidth": 0,
              "ticks": ""
             }
            },
            "marker": {
             "colorbar": {
              "outlinewidth": 0,
              "ticks": ""
             }
            },
            "type": "scatter3d"
           }
          ],
          "scattercarpet": [
           {
            "marker": {
             "colorbar": {
              "outlinewidth": 0,
              "ticks": ""
             }
            },
            "type": "scattercarpet"
           }
          ],
          "scattergeo": [
           {
            "marker": {
             "colorbar": {
              "outlinewidth": 0,
              "ticks": ""
             }
            },
            "type": "scattergeo"
           }
          ],
          "scattergl": [
           {
            "marker": {
             "colorbar": {
              "outlinewidth": 0,
              "ticks": ""
             }
            },
            "type": "scattergl"
           }
          ],
          "scattermapbox": [
           {
            "marker": {
             "colorbar": {
              "outlinewidth": 0,
              "ticks": ""
             }
            },
            "type": "scattermapbox"
           }
          ],
          "scatterpolar": [
           {
            "marker": {
             "colorbar": {
              "outlinewidth": 0,
              "ticks": ""
             }
            },
            "type": "scatterpolar"
           }
          ],
          "scatterpolargl": [
           {
            "marker": {
             "colorbar": {
              "outlinewidth": 0,
              "ticks": ""
             }
            },
            "type": "scatterpolargl"
           }
          ],
          "scatterternary": [
           {
            "marker": {
             "colorbar": {
              "outlinewidth": 0,
              "ticks": ""
             }
            },
            "type": "scatterternary"
           }
          ],
          "surface": [
           {
            "colorbar": {
             "outlinewidth": 0,
             "ticks": ""
            },
            "colorscale": [
             [
              0,
              "#0d0887"
             ],
             [
              0.1111111111111111,
              "#46039f"
             ],
             [
              0.2222222222222222,
              "#7201a8"
             ],
             [
              0.3333333333333333,
              "#9c179e"
             ],
             [
              0.4444444444444444,
              "#bd3786"
             ],
             [
              0.5555555555555556,
              "#d8576b"
             ],
             [
              0.6666666666666666,
              "#ed7953"
             ],
             [
              0.7777777777777778,
              "#fb9f3a"
             ],
             [
              0.8888888888888888,
              "#fdca26"
             ],
             [
              1,
              "#f0f921"
             ]
            ],
            "type": "surface"
           }
          ],
          "table": [
           {
            "cells": {
             "fill": {
              "color": "#EBF0F8"
             },
             "line": {
              "color": "white"
             }
            },
            "header": {
             "fill": {
              "color": "#C8D4E3"
             },
             "line": {
              "color": "white"
             }
            },
            "type": "table"
           }
          ]
         },
         "layout": {
          "annotationdefaults": {
           "arrowcolor": "#2a3f5f",
           "arrowhead": 0,
           "arrowwidth": 1
          },
          "coloraxis": {
           "colorbar": {
            "outlinewidth": 0,
            "ticks": ""
           }
          },
          "colorscale": {
           "diverging": [
            [
             0,
             "#8e0152"
            ],
            [
             0.1,
             "#c51b7d"
            ],
            [
             0.2,
             "#de77ae"
            ],
            [
             0.3,
             "#f1b6da"
            ],
            [
             0.4,
             "#fde0ef"
            ],
            [
             0.5,
             "#f7f7f7"
            ],
            [
             0.6,
             "#e6f5d0"
            ],
            [
             0.7,
             "#b8e186"
            ],
            [
             0.8,
             "#7fbc41"
            ],
            [
             0.9,
             "#4d9221"
            ],
            [
             1,
             "#276419"
            ]
           ],
           "sequential": [
            [
             0,
             "#0d0887"
            ],
            [
             0.1111111111111111,
             "#46039f"
            ],
            [
             0.2222222222222222,
             "#7201a8"
            ],
            [
             0.3333333333333333,
             "#9c179e"
            ],
            [
             0.4444444444444444,
             "#bd3786"
            ],
            [
             0.5555555555555556,
             "#d8576b"
            ],
            [
             0.6666666666666666,
             "#ed7953"
            ],
            [
             0.7777777777777778,
             "#fb9f3a"
            ],
            [
             0.8888888888888888,
             "#fdca26"
            ],
            [
             1,
             "#f0f921"
            ]
           ],
           "sequentialminus": [
            [
             0,
             "#0d0887"
            ],
            [
             0.1111111111111111,
             "#46039f"
            ],
            [
             0.2222222222222222,
             "#7201a8"
            ],
            [
             0.3333333333333333,
             "#9c179e"
            ],
            [
             0.4444444444444444,
             "#bd3786"
            ],
            [
             0.5555555555555556,
             "#d8576b"
            ],
            [
             0.6666666666666666,
             "#ed7953"
            ],
            [
             0.7777777777777778,
             "#fb9f3a"
            ],
            [
             0.8888888888888888,
             "#fdca26"
            ],
            [
             1,
             "#f0f921"
            ]
           ]
          },
          "colorway": [
           "#636efa",
           "#EF553B",
           "#00cc96",
           "#ab63fa",
           "#FFA15A",
           "#19d3f3",
           "#FF6692",
           "#B6E880",
           "#FF97FF",
           "#FECB52"
          ],
          "font": {
           "color": "#2a3f5f"
          },
          "geo": {
           "bgcolor": "white",
           "lakecolor": "white",
           "landcolor": "#E5ECF6",
           "showlakes": true,
           "showland": true,
           "subunitcolor": "white"
          },
          "hoverlabel": {
           "align": "left"
          },
          "hovermode": "closest",
          "mapbox": {
           "style": "light"
          },
          "paper_bgcolor": "white",
          "plot_bgcolor": "#E5ECF6",
          "polar": {
           "angularaxis": {
            "gridcolor": "white",
            "linecolor": "white",
            "ticks": ""
           },
           "bgcolor": "#E5ECF6",
           "radialaxis": {
            "gridcolor": "white",
            "linecolor": "white",
            "ticks": ""
           }
          },
          "scene": {
           "xaxis": {
            "backgroundcolor": "#E5ECF6",
            "gridcolor": "white",
            "gridwidth": 2,
            "linecolor": "white",
            "showbackground": true,
            "ticks": "",
            "zerolinecolor": "white"
           },
           "yaxis": {
            "backgroundcolor": "#E5ECF6",
            "gridcolor": "white",
            "gridwidth": 2,
            "linecolor": "white",
            "showbackground": true,
            "ticks": "",
            "zerolinecolor": "white"
           },
           "zaxis": {
            "backgroundcolor": "#E5ECF6",
            "gridcolor": "white",
            "gridwidth": 2,
            "linecolor": "white",
            "showbackground": true,
            "ticks": "",
            "zerolinecolor": "white"
           }
          },
          "shapedefaults": {
           "line": {
            "color": "#2a3f5f"
           }
          },
          "ternary": {
           "aaxis": {
            "gridcolor": "white",
            "linecolor": "white",
            "ticks": ""
           },
           "baxis": {
            "gridcolor": "white",
            "linecolor": "white",
            "ticks": ""
           },
           "bgcolor": "#E5ECF6",
           "caxis": {
            "gridcolor": "white",
            "linecolor": "white",
            "ticks": ""
           }
          },
          "title": {
           "x": 0.05
          },
          "xaxis": {
           "automargin": true,
           "gridcolor": "white",
           "linecolor": "white",
           "ticks": "",
           "title": {
            "standoff": 15
           },
           "zerolinecolor": "white",
           "zerolinewidth": 2
          },
          "yaxis": {
           "automargin": true,
           "gridcolor": "white",
           "linecolor": "white",
           "ticks": "",
           "title": {
            "standoff": 15
           },
           "zerolinecolor": "white",
           "zerolinewidth": 2
          }
         }
        },
        "title": {
         "font": {
          "color": "#4D5663"
         }
        },
        "xaxis": {
         "gridcolor": "#E1E5ED",
         "showgrid": true,
         "tickfont": {
          "color": "#4D5663"
         },
         "title": {
          "font": {
           "color": "#4D5663"
          },
          "text": ""
         },
         "zerolinecolor": "#E1E5ED"
        },
        "yaxis": {
         "gridcolor": "#E1E5ED",
         "showgrid": true,
         "tickfont": {
          "color": "#4D5663"
         },
         "title": {
          "font": {
           "color": "#4D5663"
          },
          "text": ""
         },
         "zerolinecolor": "#E1E5ED"
        }
       }
      },
      "text/html": [
       "<div>\n",
       "        \n",
       "        \n",
       "            <div id=\"c9ce008f-e0bf-4843-a108-42c67fce765a\" class=\"plotly-graph-div\" style=\"height:525px; width:100%;\"></div>\n",
       "            <script type=\"text/javascript\">\n",
       "                require([\"plotly\"], function(Plotly) {\n",
       "                    window.PLOTLYENV=window.PLOTLYENV || {};\n",
       "                    window.PLOTLYENV.BASE_URL='https://plot.ly';\n",
       "                    \n",
       "                if (document.getElementById(\"c9ce008f-e0bf-4843-a108-42c67fce765a\")) {\n",
       "                    Plotly.newPlot(\n",
       "                        'c9ce008f-e0bf-4843-a108-42c67fce765a',\n",
       "                        [{\"histfunc\": \"count\", \"histnorm\": \"\", \"marker\": {\"color\": \"rgba(255, 153, 51, 1.0)\", \"line\": {\"color\": \"#4D5663\", \"width\": 1.3}}, \"name\": \"A\", \"nbinsx\": 40, \"opacity\": 0.8, \"orientation\": \"v\", \"type\": \"histogram\", \"x\": [1.416593517660878, -0.14738395566749896, -1.7844796810424377, 1.0916939562052876, 0.8690310862451806, -0.9130881968676815, 0.999815987739978, 0.20249872319987558, 0.6651541347542538, 1.5904328259462475, 0.9224191664291218, -0.18016206629497075, 1.134944336265271, -0.19204911602866678, -0.7725701660993973, 0.10063744605008441, 0.10714591412949345, -0.42221541400028717, -0.8403776497203891, -0.34062561748689635, -0.9319306418128855, -2.7047515845412606, 0.008464414016829484, -0.24679681716914537, -0.8891064856373092, -0.0976902393419508, 2.0554795131481236, 1.140205355254008, -1.3222237382657935, 1.2972526054749431, 1.2723501043391907, -1.0402921253786834, 0.08975397544334109, -0.7211196617732506, 0.46079850518443477, -0.0035295707984208287, -1.6680052301548915, 0.39593916411591684, -0.036736725525066675, -0.18708565303207123, 0.4090337394442913, -0.11516336115305838, -2.1023287946207225, 0.7145964193033464, 0.8992939935517598, -1.1066813776882152, -0.8429684555863061, 0.8641921006942638, -0.5073841845450361, -0.8566073764635567, -0.26835127760692934, -1.2592951714357608, -0.880020854779105, 1.3836949417430615, -0.8108977849120101, 0.4561661807281345, 0.004415115029279976, 0.03828165518747515, -0.10676227658460166, 1.028572156444397, -0.28421897250220285, 0.8849806821994682, 1.4380095987100332, -0.8877395811176105, 1.228816832515203, 0.7564202279095027, -0.2625169494179067, 1.013996267722401, -0.4081800018537628, 1.0211977886508627, 0.7767951727052528, 0.2911188894392512, -1.730474681675736, 0.32841643489202166, 0.07140028981004318, 1.0689025968967223, -1.9049709066817657, -0.5405171578578922, -0.47397936749667924, -0.7220304917111585, -0.43499570927661463, -1.076760505534362, -2.851530141907224, -0.3583158919767544, -1.5432561099522224, -0.8784881122522841, -1.9603084686379697, -0.5885186370713009, 1.5997148736849103, 0.024734175690217294, 0.07809005053066699, 1.667352773288952, -1.287735836010282, -0.5990499600750134, 0.10309793710856048, 0.6049082987598869, 0.22668443288025425, -0.4085805437783098, 0.7047569911056685, -0.0058223868182907396]}],\n",
       "                        {\"barmode\": \"overlay\", \"legend\": {\"bgcolor\": \"#F5F6F9\", \"font\": {\"color\": \"#4D5663\"}}, \"paper_bgcolor\": \"#F5F6F9\", \"plot_bgcolor\": \"#F5F6F9\", \"template\": {\"data\": {\"bar\": [{\"error_x\": {\"color\": \"#2a3f5f\"}, \"error_y\": {\"color\": \"#2a3f5f\"}, \"marker\": {\"line\": {\"color\": \"#E5ECF6\", \"width\": 0.5}}, \"type\": \"bar\"}], \"barpolar\": [{\"marker\": {\"line\": {\"color\": \"#E5ECF6\", \"width\": 0.5}}, \"type\": \"barpolar\"}], \"carpet\": [{\"aaxis\": {\"endlinecolor\": \"#2a3f5f\", \"gridcolor\": \"white\", \"linecolor\": \"white\", \"minorgridcolor\": \"white\", \"startlinecolor\": \"#2a3f5f\"}, \"baxis\": {\"endlinecolor\": \"#2a3f5f\", \"gridcolor\": \"white\", \"linecolor\": \"white\", \"minorgridcolor\": \"white\", \"startlinecolor\": \"#2a3f5f\"}, \"type\": \"carpet\"}], \"choropleth\": [{\"colorbar\": {\"outlinewidth\": 0, \"ticks\": \"\"}, \"type\": \"choropleth\"}], \"contour\": [{\"colorbar\": {\"outlinewidth\": 0, \"ticks\": \"\"}, \"colorscale\": [[0.0, \"#0d0887\"], [0.1111111111111111, \"#46039f\"], [0.2222222222222222, \"#7201a8\"], [0.3333333333333333, \"#9c179e\"], [0.4444444444444444, \"#bd3786\"], [0.5555555555555556, \"#d8576b\"], [0.6666666666666666, \"#ed7953\"], [0.7777777777777778, \"#fb9f3a\"], [0.8888888888888888, \"#fdca26\"], [1.0, \"#f0f921\"]], \"type\": \"contour\"}], \"contourcarpet\": [{\"colorbar\": {\"outlinewidth\": 0, \"ticks\": \"\"}, \"type\": \"contourcarpet\"}], \"heatmap\": [{\"colorbar\": {\"outlinewidth\": 0, \"ticks\": \"\"}, \"colorscale\": [[0.0, \"#0d0887\"], [0.1111111111111111, \"#46039f\"], [0.2222222222222222, \"#7201a8\"], [0.3333333333333333, \"#9c179e\"], [0.4444444444444444, \"#bd3786\"], [0.5555555555555556, \"#d8576b\"], [0.6666666666666666, \"#ed7953\"], [0.7777777777777778, \"#fb9f3a\"], [0.8888888888888888, \"#fdca26\"], [1.0, \"#f0f921\"]], \"type\": \"heatmap\"}], \"heatmapgl\": [{\"colorbar\": {\"outlinewidth\": 0, \"ticks\": \"\"}, \"colorscale\": [[0.0, \"#0d0887\"], [0.1111111111111111, \"#46039f\"], [0.2222222222222222, \"#7201a8\"], [0.3333333333333333, \"#9c179e\"], [0.4444444444444444, \"#bd3786\"], [0.5555555555555556, \"#d8576b\"], [0.6666666666666666, \"#ed7953\"], [0.7777777777777778, \"#fb9f3a\"], [0.8888888888888888, \"#fdca26\"], [1.0, \"#f0f921\"]], \"type\": \"heatmapgl\"}], \"histogram\": [{\"marker\": {\"colorbar\": {\"outlinewidth\": 0, \"ticks\": \"\"}}, \"type\": \"histogram\"}], \"histogram2d\": [{\"colorbar\": {\"outlinewidth\": 0, \"ticks\": \"\"}, \"colorscale\": [[0.0, \"#0d0887\"], [0.1111111111111111, \"#46039f\"], [0.2222222222222222, \"#7201a8\"], [0.3333333333333333, \"#9c179e\"], [0.4444444444444444, \"#bd3786\"], [0.5555555555555556, \"#d8576b\"], [0.6666666666666666, \"#ed7953\"], [0.7777777777777778, \"#fb9f3a\"], [0.8888888888888888, \"#fdca26\"], [1.0, \"#f0f921\"]], \"type\": \"histogram2d\"}], \"histogram2dcontour\": [{\"colorbar\": {\"outlinewidth\": 0, \"ticks\": \"\"}, \"colorscale\": [[0.0, \"#0d0887\"], [0.1111111111111111, \"#46039f\"], [0.2222222222222222, \"#7201a8\"], [0.3333333333333333, \"#9c179e\"], [0.4444444444444444, \"#bd3786\"], [0.5555555555555556, \"#d8576b\"], [0.6666666666666666, \"#ed7953\"], [0.7777777777777778, \"#fb9f3a\"], [0.8888888888888888, \"#fdca26\"], [1.0, \"#f0f921\"]], \"type\": \"histogram2dcontour\"}], \"mesh3d\": [{\"colorbar\": {\"outlinewidth\": 0, \"ticks\": \"\"}, \"type\": \"mesh3d\"}], \"parcoords\": [{\"line\": {\"colorbar\": {\"outlinewidth\": 0, \"ticks\": \"\"}}, \"type\": \"parcoords\"}], \"pie\": [{\"automargin\": true, \"type\": \"pie\"}], \"scatter\": [{\"marker\": {\"colorbar\": {\"outlinewidth\": 0, \"ticks\": \"\"}}, \"type\": \"scatter\"}], \"scatter3d\": [{\"line\": {\"colorbar\": {\"outlinewidth\": 0, \"ticks\": \"\"}}, \"marker\": {\"colorbar\": {\"outlinewidth\": 0, \"ticks\": \"\"}}, \"type\": \"scatter3d\"}], \"scattercarpet\": [{\"marker\": {\"colorbar\": {\"outlinewidth\": 0, \"ticks\": \"\"}}, \"type\": \"scattercarpet\"}], \"scattergeo\": [{\"marker\": {\"colorbar\": {\"outlinewidth\": 0, \"ticks\": \"\"}}, \"type\": \"scattergeo\"}], \"scattergl\": [{\"marker\": {\"colorbar\": {\"outlinewidth\": 0, \"ticks\": \"\"}}, \"type\": \"scattergl\"}], \"scattermapbox\": [{\"marker\": {\"colorbar\": {\"outlinewidth\": 0, \"ticks\": \"\"}}, \"type\": \"scattermapbox\"}], \"scatterpolar\": [{\"marker\": {\"colorbar\": {\"outlinewidth\": 0, \"ticks\": \"\"}}, \"type\": \"scatterpolar\"}], \"scatterpolargl\": [{\"marker\": {\"colorbar\": {\"outlinewidth\": 0, \"ticks\": \"\"}}, \"type\": \"scatterpolargl\"}], \"scatterternary\": [{\"marker\": {\"colorbar\": {\"outlinewidth\": 0, \"ticks\": \"\"}}, \"type\": \"scatterternary\"}], \"surface\": [{\"colorbar\": {\"outlinewidth\": 0, \"ticks\": \"\"}, \"colorscale\": [[0.0, \"#0d0887\"], [0.1111111111111111, \"#46039f\"], [0.2222222222222222, \"#7201a8\"], [0.3333333333333333, \"#9c179e\"], [0.4444444444444444, \"#bd3786\"], [0.5555555555555556, \"#d8576b\"], [0.6666666666666666, \"#ed7953\"], [0.7777777777777778, \"#fb9f3a\"], [0.8888888888888888, \"#fdca26\"], [1.0, \"#f0f921\"]], \"type\": \"surface\"}], \"table\": [{\"cells\": {\"fill\": {\"color\": \"#EBF0F8\"}, \"line\": {\"color\": \"white\"}}, \"header\": {\"fill\": {\"color\": \"#C8D4E3\"}, \"line\": {\"color\": \"white\"}}, \"type\": \"table\"}]}, \"layout\": {\"annotationdefaults\": {\"arrowcolor\": \"#2a3f5f\", \"arrowhead\": 0, \"arrowwidth\": 1}, \"coloraxis\": {\"colorbar\": {\"outlinewidth\": 0, \"ticks\": \"\"}}, \"colorscale\": {\"diverging\": [[0, \"#8e0152\"], [0.1, \"#c51b7d\"], [0.2, \"#de77ae\"], [0.3, \"#f1b6da\"], [0.4, \"#fde0ef\"], [0.5, \"#f7f7f7\"], [0.6, \"#e6f5d0\"], [0.7, \"#b8e186\"], [0.8, \"#7fbc41\"], [0.9, \"#4d9221\"], [1, \"#276419\"]], \"sequential\": [[0.0, \"#0d0887\"], [0.1111111111111111, \"#46039f\"], [0.2222222222222222, \"#7201a8\"], [0.3333333333333333, \"#9c179e\"], [0.4444444444444444, \"#bd3786\"], [0.5555555555555556, \"#d8576b\"], [0.6666666666666666, \"#ed7953\"], [0.7777777777777778, \"#fb9f3a\"], [0.8888888888888888, \"#fdca26\"], [1.0, \"#f0f921\"]], \"sequentialminus\": [[0.0, \"#0d0887\"], [0.1111111111111111, \"#46039f\"], [0.2222222222222222, \"#7201a8\"], [0.3333333333333333, \"#9c179e\"], [0.4444444444444444, \"#bd3786\"], [0.5555555555555556, \"#d8576b\"], [0.6666666666666666, \"#ed7953\"], [0.7777777777777778, \"#fb9f3a\"], [0.8888888888888888, \"#fdca26\"], [1.0, \"#f0f921\"]]}, \"colorway\": [\"#636efa\", \"#EF553B\", \"#00cc96\", \"#ab63fa\", \"#FFA15A\", \"#19d3f3\", \"#FF6692\", \"#B6E880\", \"#FF97FF\", \"#FECB52\"], \"font\": {\"color\": \"#2a3f5f\"}, \"geo\": {\"bgcolor\": \"white\", \"lakecolor\": \"white\", \"landcolor\": \"#E5ECF6\", \"showlakes\": true, \"showland\": true, \"subunitcolor\": \"white\"}, \"hoverlabel\": {\"align\": \"left\"}, \"hovermode\": \"closest\", \"mapbox\": {\"style\": \"light\"}, \"paper_bgcolor\": \"white\", \"plot_bgcolor\": \"#E5ECF6\", \"polar\": {\"angularaxis\": {\"gridcolor\": \"white\", \"linecolor\": \"white\", \"ticks\": \"\"}, \"bgcolor\": \"#E5ECF6\", \"radialaxis\": {\"gridcolor\": \"white\", \"linecolor\": \"white\", \"ticks\": \"\"}}, \"scene\": {\"xaxis\": {\"backgroundcolor\": \"#E5ECF6\", \"gridcolor\": \"white\", \"gridwidth\": 2, \"linecolor\": \"white\", \"showbackground\": true, \"ticks\": \"\", \"zerolinecolor\": \"white\"}, \"yaxis\": {\"backgroundcolor\": \"#E5ECF6\", \"gridcolor\": \"white\", \"gridwidth\": 2, \"linecolor\": \"white\", \"showbackground\": true, \"ticks\": \"\", \"zerolinecolor\": \"white\"}, \"zaxis\": {\"backgroundcolor\": \"#E5ECF6\", \"gridcolor\": \"white\", \"gridwidth\": 2, \"linecolor\": \"white\", \"showbackground\": true, \"ticks\": \"\", \"zerolinecolor\": \"white\"}}, \"shapedefaults\": {\"line\": {\"color\": \"#2a3f5f\"}}, \"ternary\": {\"aaxis\": {\"gridcolor\": \"white\", \"linecolor\": \"white\", \"ticks\": \"\"}, \"baxis\": {\"gridcolor\": \"white\", \"linecolor\": \"white\", \"ticks\": \"\"}, \"bgcolor\": \"#E5ECF6\", \"caxis\": {\"gridcolor\": \"white\", \"linecolor\": \"white\", \"ticks\": \"\"}}, \"title\": {\"x\": 0.05}, \"xaxis\": {\"automargin\": true, \"gridcolor\": \"white\", \"linecolor\": \"white\", \"ticks\": \"\", \"title\": {\"standoff\": 15}, \"zerolinecolor\": \"white\", \"zerolinewidth\": 2}, \"yaxis\": {\"automargin\": true, \"gridcolor\": \"white\", \"linecolor\": \"white\", \"ticks\": \"\", \"title\": {\"standoff\": 15}, \"zerolinecolor\": \"white\", \"zerolinewidth\": 2}}}, \"title\": {\"font\": {\"color\": \"#4D5663\"}}, \"xaxis\": {\"gridcolor\": \"#E1E5ED\", \"showgrid\": true, \"tickfont\": {\"color\": \"#4D5663\"}, \"title\": {\"font\": {\"color\": \"#4D5663\"}, \"text\": \"\"}, \"zerolinecolor\": \"#E1E5ED\"}, \"yaxis\": {\"gridcolor\": \"#E1E5ED\", \"showgrid\": true, \"tickfont\": {\"color\": \"#4D5663\"}, \"title\": {\"font\": {\"color\": \"#4D5663\"}, \"text\": \"\"}, \"zerolinecolor\": \"#E1E5ED\"}},\n",
       "                        {\"showLink\": true, \"linkText\": \"Export to plot.ly\", \"plotlyServerURL\": \"https://plot.ly\", \"responsive\": true}\n",
       "                    ).then(function(){\n",
       "                            \n",
       "var gd = document.getElementById('c9ce008f-e0bf-4843-a108-42c67fce765a');\n",
       "var x = new MutationObserver(function (mutations, observer) {{\n",
       "        var display = window.getComputedStyle(gd).display;\n",
       "        if (!display || display === 'none') {{\n",
       "            console.log([gd, 'removed!']);\n",
       "            Plotly.purge(gd);\n",
       "            observer.disconnect();\n",
       "        }}\n",
       "}});\n",
       "\n",
       "// Listen for the removal of the full notebook cells\n",
       "var notebookContainer = gd.closest('#notebook-container');\n",
       "if (notebookContainer) {{\n",
       "    x.observe(notebookContainer, {childList: true});\n",
       "}}\n",
       "\n",
       "// Listen for the clearing of the current output cell\n",
       "var outputEl = gd.closest('.output');\n",
       "if (outputEl) {{\n",
       "    x.observe(outputEl, {childList: true});\n",
       "}}\n",
       "\n",
       "                        })\n",
       "                };\n",
       "                });\n",
       "            </script>\n",
       "        </div>"
      ]
     },
     "metadata": {},
     "output_type": "display_data"
    }
   ],
   "source": [
    "df['A'].iplot(kind = 'hist',bins = 40)"
   ]
  },
  {
   "cell_type": "code",
   "execution_count": 51,
   "metadata": {},
   "outputs": [
    {
     "data": {
      "application/vnd.plotly.v1+json": {
       "config": {
        "linkText": "Export to plot.ly",
        "plotlyServerURL": "https://plot.ly",
        "showLink": true
       },
       "data": [
        {
         "histfunc": "count",
         "histnorm": "",
         "marker": {
          "color": "rgba(255, 153, 51, 1.0)",
          "line": {
           "color": "#4D5663",
           "width": 1.3
          }
         },
         "name": "A",
         "opacity": 0.8,
         "orientation": "v",
         "type": "histogram",
         "x": [
          1.416593517660878,
          -0.14738395566749896,
          -1.7844796810424377,
          1.0916939562052876,
          0.8690310862451806,
          -0.9130881968676815,
          0.999815987739978,
          0.20249872319987558,
          0.6651541347542538,
          1.5904328259462475,
          0.9224191664291218,
          -0.18016206629497075,
          1.134944336265271,
          -0.19204911602866678,
          -0.7725701660993973,
          0.10063744605008441,
          0.10714591412949345,
          -0.42221541400028717,
          -0.8403776497203891,
          -0.34062561748689635,
          -0.9319306418128855,
          -2.7047515845412606,
          0.008464414016829484,
          -0.24679681716914537,
          -0.8891064856373092,
          -0.0976902393419508,
          2.0554795131481236,
          1.140205355254008,
          -1.3222237382657935,
          1.2972526054749431,
          1.2723501043391907,
          -1.0402921253786834,
          0.08975397544334109,
          -0.7211196617732506,
          0.46079850518443477,
          -0.0035295707984208287,
          -1.6680052301548915,
          0.39593916411591684,
          -0.036736725525066675,
          -0.18708565303207123,
          0.4090337394442913,
          -0.11516336115305838,
          -2.1023287946207225,
          0.7145964193033464,
          0.8992939935517598,
          -1.1066813776882152,
          -0.8429684555863061,
          0.8641921006942638,
          -0.5073841845450361,
          -0.8566073764635567,
          -0.26835127760692934,
          -1.2592951714357608,
          -0.880020854779105,
          1.3836949417430615,
          -0.8108977849120101,
          0.4561661807281345,
          0.004415115029279976,
          0.03828165518747515,
          -0.10676227658460166,
          1.028572156444397,
          -0.28421897250220285,
          0.8849806821994682,
          1.4380095987100332,
          -0.8877395811176105,
          1.228816832515203,
          0.7564202279095027,
          -0.2625169494179067,
          1.013996267722401,
          -0.4081800018537628,
          1.0211977886508627,
          0.7767951727052528,
          0.2911188894392512,
          -1.730474681675736,
          0.32841643489202166,
          0.07140028981004318,
          1.0689025968967223,
          -1.9049709066817657,
          -0.5405171578578922,
          -0.47397936749667924,
          -0.7220304917111585,
          -0.43499570927661463,
          -1.076760505534362,
          -2.851530141907224,
          -0.3583158919767544,
          -1.5432561099522224,
          -0.8784881122522841,
          -1.9603084686379697,
          -0.5885186370713009,
          1.5997148736849103,
          0.024734175690217294,
          0.07809005053066699,
          1.667352773288952,
          -1.287735836010282,
          -0.5990499600750134,
          0.10309793710856048,
          0.6049082987598869,
          0.22668443288025425,
          -0.4085805437783098,
          0.7047569911056685,
          -0.0058223868182907396
         ]
        },
        {
         "histfunc": "count",
         "histnorm": "",
         "marker": {
          "color": "rgba(55, 128, 191, 1.0)",
          "line": {
           "color": "#4D5663",
           "width": 1.3
          }
         },
         "name": "B",
         "opacity": 0.8,
         "orientation": "v",
         "type": "histogram",
         "x": [
          -1.784098720340015,
          2.171244510657171,
          0.6814350497909425,
          1.6915046033363401,
          0.18481649594853616,
          1.3717132391682432,
          -1.2275847765325325,
          0.1377905244967582,
          -1.1480009457520386,
          0.26162442648712664,
          -0.3949869957178582,
          -1.4968385199265781,
          -1.2882205677288796,
          0.734932556612695,
          1.2232971975351834,
          -0.593392211027469,
          -1.0654669938822041,
          -0.3571674089948739,
          -0.13876162829474128,
          -0.2895293494986774,
          -0.48357022428835184,
          -1.3885923462518266,
          -0.5237646877578167,
          1.3060138012560842,
          0.25660307311615027,
          -0.8203047424592492,
          -0.4923162655865527,
          -0.4845844995598301,
          1.1978422826877433,
          2.0998690486150426,
          1.01936669685555,
          -0.3386138535811944,
          -1.482145713226032,
          2.2072307943488627,
          0.7211135696527582,
          -1.8947101869608063,
          -1.6555186146259382,
          0.6664471016106729,
          0.6579972725992663,
          0.26733180131832407,
          0.8914121897579306,
          -0.5502327140222424,
          -0.7035046554239406,
          -0.9461377411810604,
          -0.6001142874070964,
          0.02870046019532282,
          -1.7907167802754105,
          1.3897741383929765,
          -0.016268510422112355,
          0.5663514625633824,
          1.9999017682580833,
          1.6601667123454453,
          0.6815372328213235,
          -0.8400593255846813,
          1.11322310825198,
          0.6606722621695404,
          0.4375288477222289,
          -0.23405318147746282,
          0.5886108970417825,
          -0.33299951352436286,
          -0.40185930102225387,
          -0.6635188196620705,
          0.07704697176714438,
          -0.9213946986355144,
          -0.9831820012034149,
          0.7946699447595283,
          -0.9991701796154964,
          0.2815538007953517,
          0.174998690858209,
          0.8837798626530278,
          0.9032875954210857,
          0.24055208121983598,
          0.5922894036824274,
          -1.2661514687988389,
          -0.8809610852153962,
          -0.12528969601901807,
          0.6211367105295839,
          0.13636933563037099,
          0.5931900126435424,
          -1.4967044610569924,
          0.5340581219643343,
          0.3514056027479767,
          0.4863662132233159,
          0.24581933733395622,
          -2.059486231643359,
          -0.6300296950748387,
          0.44013425063156586,
          0.4473713899152323,
          -0.00047627043586563036,
          0.2657031815297724,
          2.201413247661273,
          -0.9173536467289062,
          -0.8332408625755586,
          -1.0151245854973656,
          0.14016786526148148,
          0.5585536889690439,
          -0.44476215618074133,
          -0.4413464723748191,
          -0.3494357165693916,
          -1.0018284495680674
         ]
        },
        {
         "histfunc": "count",
         "histnorm": "",
         "marker": {
          "color": "rgba(50, 171, 96, 1.0)",
          "line": {
           "color": "#4D5663",
           "width": 1.3
          }
         },
         "name": "C",
         "opacity": 0.8,
         "orientation": "v",
         "type": "histogram",
         "x": [
          -0.5967119098197226,
          0.853238764026366,
          1.6672094843438492,
          -0.0037601992873524037,
          -0.9071834782154601,
          1.883690558450849,
          -2.106354563045812,
          -1.2168484036552596,
          0.17255626813792466,
          1.0582852945687178,
          1.3952429242549573,
          0.07227254577092632,
          -0.4195317892628768,
          0.3148586861350653,
          0.17138607027311709,
          0.979523061893303,
          1.0170253940983998,
          -0.31540535624226623,
          -0.1771259277074585,
          1.0509795019188313,
          0.4027836644340148,
          -0.10335933258826242,
          -0.7935237694439741,
          0.2929342298614919,
          2.156830774988516,
          0.30115733682483886,
          2.0883112687994463,
          -0.9278018279636102,
          0.1274690526763963,
          -0.7019996573220373,
          0.1499739530535481,
          -1.0036591424346843,
          -2.800423325047921,
          1.3353677753307296,
          0.5034117514155685,
          0.2570665310706626,
          -1.1518065065844245,
          -0.4729507221586094,
          1.672213002084143,
          -1.2363872849124302,
          0.012105592964178779,
          -1.493747478456467,
          0.1952640284715851,
          -0.7848860869658573,
          0.02009202740699355,
          0.07135868247529763,
          -0.7884840153246424,
          0.01814514012957843,
          0.2146823765491746,
          -1.0675674116210412,
          0.8544589019211002,
          -0.5989615235683363,
          -0.46581180378221787,
          0.6152601748855848,
          0.7692237912289807,
          -0.4420183379256885,
          -1.6959042945833291,
          0.08343248358165806,
          -0.2945583821376016,
          0.6063342583506851,
          -0.5887858952909739,
          0.13694788409010514,
          -1.2424969811602868,
          -0.5239490868519974,
          1.1956002105011092,
          1.084099517593647,
          0.7610297699914984,
          0.15656489162299303,
          -1.3256041858993401,
          0.6332892520923301,
          -0.9439011838970643,
          0.19397551161246512,
          -0.564838581449026,
          0.6443860682633141,
          -0.00950007628578957,
          1.059583505527082,
          1.3659520311143776,
          -1.7341794280109315,
          0.3817222401871636,
          0.20508286240366627,
          -0.30652983613662893,
          1.1586328857965569,
          -0.24000038468347007,
          0.5057631958197074,
          -0.6101763309802465,
          0.7182084359558547,
          0.1162004892642478,
          0.20904716578240504,
          -2.1276348152551523,
          -0.20780572655946458,
          -0.260592364108929,
          -0.580124951761244,
          1.8107866238776256,
          1.2067337473203945,
          0.9661438170829647,
          0.778797568299232,
          -1.4437124946541433,
          1.4058055726143668,
          1.6464512148069346,
          1.5567465741174473
         ]
        },
        {
         "histfunc": "count",
         "histnorm": "",
         "marker": {
          "color": "rgba(128, 0, 128, 1.0)",
          "line": {
           "color": "#4D5663",
           "width": 1.3
          }
         },
         "name": "D",
         "opacity": 0.8,
         "orientation": "v",
         "type": "histogram",
         "x": [
          0.6079252288271123,
          -0.7673086708362776,
          2.7918004888249155,
          1.5313914625222045,
          -1.4345453782854332,
          -1.0437865151846786,
          0.19847176529920577,
          1.3862446579489935,
          -0.35138062753487304,
          0.03719432201318422,
          -1.7616253778540005,
          2.3407054624379846,
          -0.2000097595989267,
          0.7669854014325037,
          0.11298294909977,
          0.046858080065504425,
          -0.18120895485222938,
          0.7695550229775915,
          0.15511077522056577,
          -0.9108953777606292,
          0.6377005270907216,
          -1.6068124460140327,
          1.845840177929854,
          -1.1052126634256259,
          -1.6451598313262024,
          1.0953926667391707,
          -2.6811855828962696,
          -0.24426026935419365,
          -0.6820128828581605,
          0.3608787094224027,
          -0.0764345595001479,
          0.3088811741935369,
          -0.329408490492265,
          1.4464185545662458,
          -2.0128086971620927,
          0.08825858728083487,
          -0.168682137332262,
          2.065928188589186,
          -1.6017962278561868,
          -1.5312993522830245,
          -0.03945107251970846,
          -0.6733129013460523,
          -0.6076787744094737,
          1.6360672041399968,
          0.48494877078027687,
          0.01323259657886119,
          1.4328584127569208,
          -1.6683257498452444,
          -0.8829926821113253,
          -0.09166483027086167,
          -3.080415218787863,
          -0.8472046953264905,
          -0.049951322488767644,
          -0.6759172855350523,
          0.2810806490503662,
          0.07703330630025013,
          1.7316185845049246,
          0.5755896592654809,
          0.7732777600729397,
          -0.5761818253061513,
          -0.5662697882027303,
          -1.284520760769256,
          0.41915185995351933,
          0.4516275355752908,
          0.10016374487909058,
          -0.589883708770861,
          -0.425278673747093,
          -0.7888957909839527,
          0.5080520587703382,
          -0.14777685657714393,
          0.19389746683109096,
          -0.1863775839392197,
          3.826662212990111,
          1.7942084045458413,
          -1.346814767384748,
          -1.1375499897392416,
          0.48098246076773254,
          -1.2442890043073742,
          0.006054537387323956,
          0.7079016296857916,
          0.9850833750736986,
          -0.3163365229351439,
          -0.4816814896722392,
          -0.04785840952576833,
          -0.5514694996254651,
          1.0549941504273481,
          1.1669241949067033,
          -0.29010413031084936,
          -0.5107131029812131,
          -0.9299722618442059,
          0.40261878264672124,
          -1.1679406337745477,
          0.5435855253429999,
          -1.19777229520187,
          1.3514454837032996,
          -0.3965259735689329,
          0.17952127104730956,
          -0.3082954895460292,
          0.2721710338721595,
          -1.1620535089156803
         ]
        }
       ],
       "layout": {
        "barmode": "overlay",
        "legend": {
         "bgcolor": "#F5F6F9",
         "font": {
          "color": "#4D5663"
         }
        },
        "paper_bgcolor": "#F5F6F9",
        "plot_bgcolor": "#F5F6F9",
        "template": {
         "data": {
          "bar": [
           {
            "error_x": {
             "color": "#2a3f5f"
            },
            "error_y": {
             "color": "#2a3f5f"
            },
            "marker": {
             "line": {
              "color": "#E5ECF6",
              "width": 0.5
             }
            },
            "type": "bar"
           }
          ],
          "barpolar": [
           {
            "marker": {
             "line": {
              "color": "#E5ECF6",
              "width": 0.5
             }
            },
            "type": "barpolar"
           }
          ],
          "carpet": [
           {
            "aaxis": {
             "endlinecolor": "#2a3f5f",
             "gridcolor": "white",
             "linecolor": "white",
             "minorgridcolor": "white",
             "startlinecolor": "#2a3f5f"
            },
            "baxis": {
             "endlinecolor": "#2a3f5f",
             "gridcolor": "white",
             "linecolor": "white",
             "minorgridcolor": "white",
             "startlinecolor": "#2a3f5f"
            },
            "type": "carpet"
           }
          ],
          "choropleth": [
           {
            "colorbar": {
             "outlinewidth": 0,
             "ticks": ""
            },
            "type": "choropleth"
           }
          ],
          "contour": [
           {
            "colorbar": {
             "outlinewidth": 0,
             "ticks": ""
            },
            "colorscale": [
             [
              0,
              "#0d0887"
             ],
             [
              0.1111111111111111,
              "#46039f"
             ],
             [
              0.2222222222222222,
              "#7201a8"
             ],
             [
              0.3333333333333333,
              "#9c179e"
             ],
             [
              0.4444444444444444,
              "#bd3786"
             ],
             [
              0.5555555555555556,
              "#d8576b"
             ],
             [
              0.6666666666666666,
              "#ed7953"
             ],
             [
              0.7777777777777778,
              "#fb9f3a"
             ],
             [
              0.8888888888888888,
              "#fdca26"
             ],
             [
              1,
              "#f0f921"
             ]
            ],
            "type": "contour"
           }
          ],
          "contourcarpet": [
           {
            "colorbar": {
             "outlinewidth": 0,
             "ticks": ""
            },
            "type": "contourcarpet"
           }
          ],
          "heatmap": [
           {
            "colorbar": {
             "outlinewidth": 0,
             "ticks": ""
            },
            "colorscale": [
             [
              0,
              "#0d0887"
             ],
             [
              0.1111111111111111,
              "#46039f"
             ],
             [
              0.2222222222222222,
              "#7201a8"
             ],
             [
              0.3333333333333333,
              "#9c179e"
             ],
             [
              0.4444444444444444,
              "#bd3786"
             ],
             [
              0.5555555555555556,
              "#d8576b"
             ],
             [
              0.6666666666666666,
              "#ed7953"
             ],
             [
              0.7777777777777778,
              "#fb9f3a"
             ],
             [
              0.8888888888888888,
              "#fdca26"
             ],
             [
              1,
              "#f0f921"
             ]
            ],
            "type": "heatmap"
           }
          ],
          "heatmapgl": [
           {
            "colorbar": {
             "outlinewidth": 0,
             "ticks": ""
            },
            "colorscale": [
             [
              0,
              "#0d0887"
             ],
             [
              0.1111111111111111,
              "#46039f"
             ],
             [
              0.2222222222222222,
              "#7201a8"
             ],
             [
              0.3333333333333333,
              "#9c179e"
             ],
             [
              0.4444444444444444,
              "#bd3786"
             ],
             [
              0.5555555555555556,
              "#d8576b"
             ],
             [
              0.6666666666666666,
              "#ed7953"
             ],
             [
              0.7777777777777778,
              "#fb9f3a"
             ],
             [
              0.8888888888888888,
              "#fdca26"
             ],
             [
              1,
              "#f0f921"
             ]
            ],
            "type": "heatmapgl"
           }
          ],
          "histogram": [
           {
            "marker": {
             "colorbar": {
              "outlinewidth": 0,
              "ticks": ""
             }
            },
            "type": "histogram"
           }
          ],
          "histogram2d": [
           {
            "colorbar": {
             "outlinewidth": 0,
             "ticks": ""
            },
            "colorscale": [
             [
              0,
              "#0d0887"
             ],
             [
              0.1111111111111111,
              "#46039f"
             ],
             [
              0.2222222222222222,
              "#7201a8"
             ],
             [
              0.3333333333333333,
              "#9c179e"
             ],
             [
              0.4444444444444444,
              "#bd3786"
             ],
             [
              0.5555555555555556,
              "#d8576b"
             ],
             [
              0.6666666666666666,
              "#ed7953"
             ],
             [
              0.7777777777777778,
              "#fb9f3a"
             ],
             [
              0.8888888888888888,
              "#fdca26"
             ],
             [
              1,
              "#f0f921"
             ]
            ],
            "type": "histogram2d"
           }
          ],
          "histogram2dcontour": [
           {
            "colorbar": {
             "outlinewidth": 0,
             "ticks": ""
            },
            "colorscale": [
             [
              0,
              "#0d0887"
             ],
             [
              0.1111111111111111,
              "#46039f"
             ],
             [
              0.2222222222222222,
              "#7201a8"
             ],
             [
              0.3333333333333333,
              "#9c179e"
             ],
             [
              0.4444444444444444,
              "#bd3786"
             ],
             [
              0.5555555555555556,
              "#d8576b"
             ],
             [
              0.6666666666666666,
              "#ed7953"
             ],
             [
              0.7777777777777778,
              "#fb9f3a"
             ],
             [
              0.8888888888888888,
              "#fdca26"
             ],
             [
              1,
              "#f0f921"
             ]
            ],
            "type": "histogram2dcontour"
           }
          ],
          "mesh3d": [
           {
            "colorbar": {
             "outlinewidth": 0,
             "ticks": ""
            },
            "type": "mesh3d"
           }
          ],
          "parcoords": [
           {
            "line": {
             "colorbar": {
              "outlinewidth": 0,
              "ticks": ""
             }
            },
            "type": "parcoords"
           }
          ],
          "pie": [
           {
            "automargin": true,
            "type": "pie"
           }
          ],
          "scatter": [
           {
            "marker": {
             "colorbar": {
              "outlinewidth": 0,
              "ticks": ""
             }
            },
            "type": "scatter"
           }
          ],
          "scatter3d": [
           {
            "line": {
             "colorbar": {
              "outlinewidth": 0,
              "ticks": ""
             }
            },
            "marker": {
             "colorbar": {
              "outlinewidth": 0,
              "ticks": ""
             }
            },
            "type": "scatter3d"
           }
          ],
          "scattercarpet": [
           {
            "marker": {
             "colorbar": {
              "outlinewidth": 0,
              "ticks": ""
             }
            },
            "type": "scattercarpet"
           }
          ],
          "scattergeo": [
           {
            "marker": {
             "colorbar": {
              "outlinewidth": 0,
              "ticks": ""
             }
            },
            "type": "scattergeo"
           }
          ],
          "scattergl": [
           {
            "marker": {
             "colorbar": {
              "outlinewidth": 0,
              "ticks": ""
             }
            },
            "type": "scattergl"
           }
          ],
          "scattermapbox": [
           {
            "marker": {
             "colorbar": {
              "outlinewidth": 0,
              "ticks": ""
             }
            },
            "type": "scattermapbox"
           }
          ],
          "scatterpolar": [
           {
            "marker": {
             "colorbar": {
              "outlinewidth": 0,
              "ticks": ""
             }
            },
            "type": "scatterpolar"
           }
          ],
          "scatterpolargl": [
           {
            "marker": {
             "colorbar": {
              "outlinewidth": 0,
              "ticks": ""
             }
            },
            "type": "scatterpolargl"
           }
          ],
          "scatterternary": [
           {
            "marker": {
             "colorbar": {
              "outlinewidth": 0,
              "ticks": ""
             }
            },
            "type": "scatterternary"
           }
          ],
          "surface": [
           {
            "colorbar": {
             "outlinewidth": 0,
             "ticks": ""
            },
            "colorscale": [
             [
              0,
              "#0d0887"
             ],
             [
              0.1111111111111111,
              "#46039f"
             ],
             [
              0.2222222222222222,
              "#7201a8"
             ],
             [
              0.3333333333333333,
              "#9c179e"
             ],
             [
              0.4444444444444444,
              "#bd3786"
             ],
             [
              0.5555555555555556,
              "#d8576b"
             ],
             [
              0.6666666666666666,
              "#ed7953"
             ],
             [
              0.7777777777777778,
              "#fb9f3a"
             ],
             [
              0.8888888888888888,
              "#fdca26"
             ],
             [
              1,
              "#f0f921"
             ]
            ],
            "type": "surface"
           }
          ],
          "table": [
           {
            "cells": {
             "fill": {
              "color": "#EBF0F8"
             },
             "line": {
              "color": "white"
             }
            },
            "header": {
             "fill": {
              "color": "#C8D4E3"
             },
             "line": {
              "color": "white"
             }
            },
            "type": "table"
           }
          ]
         },
         "layout": {
          "annotationdefaults": {
           "arrowcolor": "#2a3f5f",
           "arrowhead": 0,
           "arrowwidth": 1
          },
          "coloraxis": {
           "colorbar": {
            "outlinewidth": 0,
            "ticks": ""
           }
          },
          "colorscale": {
           "diverging": [
            [
             0,
             "#8e0152"
            ],
            [
             0.1,
             "#c51b7d"
            ],
            [
             0.2,
             "#de77ae"
            ],
            [
             0.3,
             "#f1b6da"
            ],
            [
             0.4,
             "#fde0ef"
            ],
            [
             0.5,
             "#f7f7f7"
            ],
            [
             0.6,
             "#e6f5d0"
            ],
            [
             0.7,
             "#b8e186"
            ],
            [
             0.8,
             "#7fbc41"
            ],
            [
             0.9,
             "#4d9221"
            ],
            [
             1,
             "#276419"
            ]
           ],
           "sequential": [
            [
             0,
             "#0d0887"
            ],
            [
             0.1111111111111111,
             "#46039f"
            ],
            [
             0.2222222222222222,
             "#7201a8"
            ],
            [
             0.3333333333333333,
             "#9c179e"
            ],
            [
             0.4444444444444444,
             "#bd3786"
            ],
            [
             0.5555555555555556,
             "#d8576b"
            ],
            [
             0.6666666666666666,
             "#ed7953"
            ],
            [
             0.7777777777777778,
             "#fb9f3a"
            ],
            [
             0.8888888888888888,
             "#fdca26"
            ],
            [
             1,
             "#f0f921"
            ]
           ],
           "sequentialminus": [
            [
             0,
             "#0d0887"
            ],
            [
             0.1111111111111111,
             "#46039f"
            ],
            [
             0.2222222222222222,
             "#7201a8"
            ],
            [
             0.3333333333333333,
             "#9c179e"
            ],
            [
             0.4444444444444444,
             "#bd3786"
            ],
            [
             0.5555555555555556,
             "#d8576b"
            ],
            [
             0.6666666666666666,
             "#ed7953"
            ],
            [
             0.7777777777777778,
             "#fb9f3a"
            ],
            [
             0.8888888888888888,
             "#fdca26"
            ],
            [
             1,
             "#f0f921"
            ]
           ]
          },
          "colorway": [
           "#636efa",
           "#EF553B",
           "#00cc96",
           "#ab63fa",
           "#FFA15A",
           "#19d3f3",
           "#FF6692",
           "#B6E880",
           "#FF97FF",
           "#FECB52"
          ],
          "font": {
           "color": "#2a3f5f"
          },
          "geo": {
           "bgcolor": "white",
           "lakecolor": "white",
           "landcolor": "#E5ECF6",
           "showlakes": true,
           "showland": true,
           "subunitcolor": "white"
          },
          "hoverlabel": {
           "align": "left"
          },
          "hovermode": "closest",
          "mapbox": {
           "style": "light"
          },
          "paper_bgcolor": "white",
          "plot_bgcolor": "#E5ECF6",
          "polar": {
           "angularaxis": {
            "gridcolor": "white",
            "linecolor": "white",
            "ticks": ""
           },
           "bgcolor": "#E5ECF6",
           "radialaxis": {
            "gridcolor": "white",
            "linecolor": "white",
            "ticks": ""
           }
          },
          "scene": {
           "xaxis": {
            "backgroundcolor": "#E5ECF6",
            "gridcolor": "white",
            "gridwidth": 2,
            "linecolor": "white",
            "showbackground": true,
            "ticks": "",
            "zerolinecolor": "white"
           },
           "yaxis": {
            "backgroundcolor": "#E5ECF6",
            "gridcolor": "white",
            "gridwidth": 2,
            "linecolor": "white",
            "showbackground": true,
            "ticks": "",
            "zerolinecolor": "white"
           },
           "zaxis": {
            "backgroundcolor": "#E5ECF6",
            "gridcolor": "white",
            "gridwidth": 2,
            "linecolor": "white",
            "showbackground": true,
            "ticks": "",
            "zerolinecolor": "white"
           }
          },
          "shapedefaults": {
           "line": {
            "color": "#2a3f5f"
           }
          },
          "ternary": {
           "aaxis": {
            "gridcolor": "white",
            "linecolor": "white",
            "ticks": ""
           },
           "baxis": {
            "gridcolor": "white",
            "linecolor": "white",
            "ticks": ""
           },
           "bgcolor": "#E5ECF6",
           "caxis": {
            "gridcolor": "white",
            "linecolor": "white",
            "ticks": ""
           }
          },
          "title": {
           "x": 0.05
          },
          "xaxis": {
           "automargin": true,
           "gridcolor": "white",
           "linecolor": "white",
           "ticks": "",
           "title": {
            "standoff": 15
           },
           "zerolinecolor": "white",
           "zerolinewidth": 2
          },
          "yaxis": {
           "automargin": true,
           "gridcolor": "white",
           "linecolor": "white",
           "ticks": "",
           "title": {
            "standoff": 15
           },
           "zerolinecolor": "white",
           "zerolinewidth": 2
          }
         }
        },
        "title": {
         "font": {
          "color": "#4D5663"
         }
        },
        "xaxis": {
         "gridcolor": "#E1E5ED",
         "showgrid": true,
         "tickfont": {
          "color": "#4D5663"
         },
         "title": {
          "font": {
           "color": "#4D5663"
          },
          "text": ""
         },
         "zerolinecolor": "#E1E5ED"
        },
        "yaxis": {
         "gridcolor": "#E1E5ED",
         "showgrid": true,
         "tickfont": {
          "color": "#4D5663"
         },
         "title": {
          "font": {
           "color": "#4D5663"
          },
          "text": ""
         },
         "zerolinecolor": "#E1E5ED"
        }
       }
      },
      "text/html": [
       "<div>\n",
       "        \n",
       "        \n",
       "            <div id=\"a187070d-0988-4cc9-b91f-ed276a36c8f8\" class=\"plotly-graph-div\" style=\"height:525px; width:100%;\"></div>\n",
       "            <script type=\"text/javascript\">\n",
       "                require([\"plotly\"], function(Plotly) {\n",
       "                    window.PLOTLYENV=window.PLOTLYENV || {};\n",
       "                    window.PLOTLYENV.BASE_URL='https://plot.ly';\n",
       "                    \n",
       "                if (document.getElementById(\"a187070d-0988-4cc9-b91f-ed276a36c8f8\")) {\n",
       "                    Plotly.newPlot(\n",
       "                        'a187070d-0988-4cc9-b91f-ed276a36c8f8',\n",
       "                        [{\"histfunc\": \"count\", \"histnorm\": \"\", \"marker\": {\"color\": \"rgba(255, 153, 51, 1.0)\", \"line\": {\"color\": \"#4D5663\", \"width\": 1.3}}, \"name\": \"A\", \"opacity\": 0.8, \"orientation\": \"v\", \"type\": \"histogram\", \"x\": [1.416593517660878, -0.14738395566749896, -1.7844796810424377, 1.0916939562052876, 0.8690310862451806, -0.9130881968676815, 0.999815987739978, 0.20249872319987558, 0.6651541347542538, 1.5904328259462475, 0.9224191664291218, -0.18016206629497075, 1.134944336265271, -0.19204911602866678, -0.7725701660993973, 0.10063744605008441, 0.10714591412949345, -0.42221541400028717, -0.8403776497203891, -0.34062561748689635, -0.9319306418128855, -2.7047515845412606, 0.008464414016829484, -0.24679681716914537, -0.8891064856373092, -0.0976902393419508, 2.0554795131481236, 1.140205355254008, -1.3222237382657935, 1.2972526054749431, 1.2723501043391907, -1.0402921253786834, 0.08975397544334109, -0.7211196617732506, 0.46079850518443477, -0.0035295707984208287, -1.6680052301548915, 0.39593916411591684, -0.036736725525066675, -0.18708565303207123, 0.4090337394442913, -0.11516336115305838, -2.1023287946207225, 0.7145964193033464, 0.8992939935517598, -1.1066813776882152, -0.8429684555863061, 0.8641921006942638, -0.5073841845450361, -0.8566073764635567, -0.26835127760692934, -1.2592951714357608, -0.880020854779105, 1.3836949417430615, -0.8108977849120101, 0.4561661807281345, 0.004415115029279976, 0.03828165518747515, -0.10676227658460166, 1.028572156444397, -0.28421897250220285, 0.8849806821994682, 1.4380095987100332, -0.8877395811176105, 1.228816832515203, 0.7564202279095027, -0.2625169494179067, 1.013996267722401, -0.4081800018537628, 1.0211977886508627, 0.7767951727052528, 0.2911188894392512, -1.730474681675736, 0.32841643489202166, 0.07140028981004318, 1.0689025968967223, -1.9049709066817657, -0.5405171578578922, -0.47397936749667924, -0.7220304917111585, -0.43499570927661463, -1.076760505534362, -2.851530141907224, -0.3583158919767544, -1.5432561099522224, -0.8784881122522841, -1.9603084686379697, -0.5885186370713009, 1.5997148736849103, 0.024734175690217294, 0.07809005053066699, 1.667352773288952, -1.287735836010282, -0.5990499600750134, 0.10309793710856048, 0.6049082987598869, 0.22668443288025425, -0.4085805437783098, 0.7047569911056685, -0.0058223868182907396]}, {\"histfunc\": \"count\", \"histnorm\": \"\", \"marker\": {\"color\": \"rgba(55, 128, 191, 1.0)\", \"line\": {\"color\": \"#4D5663\", \"width\": 1.3}}, \"name\": \"B\", \"opacity\": 0.8, \"orientation\": \"v\", \"type\": \"histogram\", \"x\": [-1.784098720340015, 2.171244510657171, 0.6814350497909425, 1.6915046033363401, 0.18481649594853616, 1.3717132391682432, -1.2275847765325325, 0.1377905244967582, -1.1480009457520386, 0.26162442648712664, -0.3949869957178582, -1.4968385199265781, -1.2882205677288796, 0.734932556612695, 1.2232971975351834, -0.593392211027469, -1.0654669938822041, -0.3571674089948739, -0.13876162829474128, -0.2895293494986774, -0.48357022428835184, -1.3885923462518266, -0.5237646877578167, 1.3060138012560842, 0.25660307311615027, -0.8203047424592492, -0.4923162655865527, -0.4845844995598301, 1.1978422826877433, 2.0998690486150426, 1.01936669685555, -0.3386138535811944, -1.482145713226032, 2.2072307943488627, 0.7211135696527582, -1.8947101869608063, -1.6555186146259382, 0.6664471016106729, 0.6579972725992663, 0.26733180131832407, 0.8914121897579306, -0.5502327140222424, -0.7035046554239406, -0.9461377411810604, -0.6001142874070964, 0.02870046019532282, -1.7907167802754105, 1.3897741383929765, -0.016268510422112355, 0.5663514625633824, 1.9999017682580833, 1.6601667123454453, 0.6815372328213235, -0.8400593255846813, 1.11322310825198, 0.6606722621695404, 0.4375288477222289, -0.23405318147746282, 0.5886108970417825, -0.33299951352436286, -0.40185930102225387, -0.6635188196620705, 0.07704697176714438, -0.9213946986355144, -0.9831820012034149, 0.7946699447595283, -0.9991701796154964, 0.2815538007953517, 0.174998690858209, 0.8837798626530278, 0.9032875954210857, 0.24055208121983598, 0.5922894036824274, -1.2661514687988389, -0.8809610852153962, -0.12528969601901807, 0.6211367105295839, 0.13636933563037099, 0.5931900126435424, -1.4967044610569924, 0.5340581219643343, 0.3514056027479767, 0.4863662132233159, 0.24581933733395622, -2.059486231643359, -0.6300296950748387, 0.44013425063156586, 0.4473713899152323, -0.00047627043586563036, 0.2657031815297724, 2.201413247661273, -0.9173536467289062, -0.8332408625755586, -1.0151245854973656, 0.14016786526148148, 0.5585536889690439, -0.44476215618074133, -0.4413464723748191, -0.3494357165693916, -1.0018284495680674]}, {\"histfunc\": \"count\", \"histnorm\": \"\", \"marker\": {\"color\": \"rgba(50, 171, 96, 1.0)\", \"line\": {\"color\": \"#4D5663\", \"width\": 1.3}}, \"name\": \"C\", \"opacity\": 0.8, \"orientation\": \"v\", \"type\": \"histogram\", \"x\": [-0.5967119098197226, 0.853238764026366, 1.6672094843438492, -0.0037601992873524037, -0.9071834782154601, 1.883690558450849, -2.106354563045812, -1.2168484036552596, 0.17255626813792466, 1.0582852945687178, 1.3952429242549573, 0.07227254577092632, -0.4195317892628768, 0.3148586861350653, 0.17138607027311709, 0.979523061893303, 1.0170253940983998, -0.31540535624226623, -0.1771259277074585, 1.0509795019188313, 0.4027836644340148, -0.10335933258826242, -0.7935237694439741, 0.2929342298614919, 2.156830774988516, 0.30115733682483886, 2.0883112687994463, -0.9278018279636102, 0.1274690526763963, -0.7019996573220373, 0.1499739530535481, -1.0036591424346843, -2.800423325047921, 1.3353677753307296, 0.5034117514155685, 0.2570665310706626, -1.1518065065844245, -0.4729507221586094, 1.672213002084143, -1.2363872849124302, 0.012105592964178779, -1.493747478456467, 0.1952640284715851, -0.7848860869658573, 0.02009202740699355, 0.07135868247529763, -0.7884840153246424, 0.01814514012957843, 0.2146823765491746, -1.0675674116210412, 0.8544589019211002, -0.5989615235683363, -0.46581180378221787, 0.6152601748855848, 0.7692237912289807, -0.4420183379256885, -1.6959042945833291, 0.08343248358165806, -0.2945583821376016, 0.6063342583506851, -0.5887858952909739, 0.13694788409010514, -1.2424969811602868, -0.5239490868519974, 1.1956002105011092, 1.084099517593647, 0.7610297699914984, 0.15656489162299303, -1.3256041858993401, 0.6332892520923301, -0.9439011838970643, 0.19397551161246512, -0.564838581449026, 0.6443860682633141, -0.00950007628578957, 1.059583505527082, 1.3659520311143776, -1.7341794280109315, 0.3817222401871636, 0.20508286240366627, -0.30652983613662893, 1.1586328857965569, -0.24000038468347007, 0.5057631958197074, -0.6101763309802465, 0.7182084359558547, 0.1162004892642478, 0.20904716578240504, -2.1276348152551523, -0.20780572655946458, -0.260592364108929, -0.580124951761244, 1.8107866238776256, 1.2067337473203945, 0.9661438170829647, 0.778797568299232, -1.4437124946541433, 1.4058055726143668, 1.6464512148069346, 1.5567465741174473]}, {\"histfunc\": \"count\", \"histnorm\": \"\", \"marker\": {\"color\": \"rgba(128, 0, 128, 1.0)\", \"line\": {\"color\": \"#4D5663\", \"width\": 1.3}}, \"name\": \"D\", \"opacity\": 0.8, \"orientation\": \"v\", \"type\": \"histogram\", \"x\": [0.6079252288271123, -0.7673086708362776, 2.7918004888249155, 1.5313914625222045, -1.4345453782854332, -1.0437865151846786, 0.19847176529920577, 1.3862446579489935, -0.35138062753487304, 0.03719432201318422, -1.7616253778540005, 2.3407054624379846, -0.2000097595989267, 0.7669854014325037, 0.11298294909977, 0.046858080065504425, -0.18120895485222938, 0.7695550229775915, 0.15511077522056577, -0.9108953777606292, 0.6377005270907216, -1.6068124460140327, 1.845840177929854, -1.1052126634256259, -1.6451598313262024, 1.0953926667391707, -2.6811855828962696, -0.24426026935419365, -0.6820128828581605, 0.3608787094224027, -0.0764345595001479, 0.3088811741935369, -0.329408490492265, 1.4464185545662458, -2.0128086971620927, 0.08825858728083487, -0.168682137332262, 2.065928188589186, -1.6017962278561868, -1.5312993522830245, -0.03945107251970846, -0.6733129013460523, -0.6076787744094737, 1.6360672041399968, 0.48494877078027687, 0.01323259657886119, 1.4328584127569208, -1.6683257498452444, -0.8829926821113253, -0.09166483027086167, -3.080415218787863, -0.8472046953264905, -0.049951322488767644, -0.6759172855350523, 0.2810806490503662, 0.07703330630025013, 1.7316185845049246, 0.5755896592654809, 0.7732777600729397, -0.5761818253061513, -0.5662697882027303, -1.284520760769256, 0.41915185995351933, 0.4516275355752908, 0.10016374487909058, -0.589883708770861, -0.425278673747093, -0.7888957909839527, 0.5080520587703382, -0.14777685657714393, 0.19389746683109096, -0.1863775839392197, 3.826662212990111, 1.7942084045458413, -1.346814767384748, -1.1375499897392416, 0.48098246076773254, -1.2442890043073742, 0.006054537387323956, 0.7079016296857916, 0.9850833750736986, -0.3163365229351439, -0.4816814896722392, -0.04785840952576833, -0.5514694996254651, 1.0549941504273481, 1.1669241949067033, -0.29010413031084936, -0.5107131029812131, -0.9299722618442059, 0.40261878264672124, -1.1679406337745477, 0.5435855253429999, -1.19777229520187, 1.3514454837032996, -0.3965259735689329, 0.17952127104730956, -0.3082954895460292, 0.2721710338721595, -1.1620535089156803]}],\n",
       "                        {\"barmode\": \"overlay\", \"legend\": {\"bgcolor\": \"#F5F6F9\", \"font\": {\"color\": \"#4D5663\"}}, \"paper_bgcolor\": \"#F5F6F9\", \"plot_bgcolor\": \"#F5F6F9\", \"template\": {\"data\": {\"bar\": [{\"error_x\": {\"color\": \"#2a3f5f\"}, \"error_y\": {\"color\": \"#2a3f5f\"}, \"marker\": {\"line\": {\"color\": \"#E5ECF6\", \"width\": 0.5}}, \"type\": \"bar\"}], \"barpolar\": [{\"marker\": {\"line\": {\"color\": \"#E5ECF6\", \"width\": 0.5}}, \"type\": \"barpolar\"}], \"carpet\": [{\"aaxis\": {\"endlinecolor\": \"#2a3f5f\", \"gridcolor\": \"white\", \"linecolor\": \"white\", \"minorgridcolor\": \"white\", \"startlinecolor\": \"#2a3f5f\"}, \"baxis\": {\"endlinecolor\": \"#2a3f5f\", \"gridcolor\": \"white\", \"linecolor\": \"white\", \"minorgridcolor\": \"white\", \"startlinecolor\": \"#2a3f5f\"}, \"type\": \"carpet\"}], \"choropleth\": [{\"colorbar\": {\"outlinewidth\": 0, \"ticks\": \"\"}, \"type\": \"choropleth\"}], \"contour\": [{\"colorbar\": {\"outlinewidth\": 0, \"ticks\": \"\"}, \"colorscale\": [[0.0, \"#0d0887\"], [0.1111111111111111, \"#46039f\"], [0.2222222222222222, \"#7201a8\"], [0.3333333333333333, \"#9c179e\"], [0.4444444444444444, \"#bd3786\"], [0.5555555555555556, \"#d8576b\"], [0.6666666666666666, \"#ed7953\"], [0.7777777777777778, \"#fb9f3a\"], [0.8888888888888888, \"#fdca26\"], [1.0, \"#f0f921\"]], \"type\": \"contour\"}], \"contourcarpet\": [{\"colorbar\": {\"outlinewidth\": 0, \"ticks\": \"\"}, \"type\": \"contourcarpet\"}], \"heatmap\": [{\"colorbar\": {\"outlinewidth\": 0, \"ticks\": \"\"}, \"colorscale\": [[0.0, \"#0d0887\"], [0.1111111111111111, \"#46039f\"], [0.2222222222222222, \"#7201a8\"], [0.3333333333333333, \"#9c179e\"], [0.4444444444444444, \"#bd3786\"], [0.5555555555555556, \"#d8576b\"], [0.6666666666666666, \"#ed7953\"], [0.7777777777777778, \"#fb9f3a\"], [0.8888888888888888, \"#fdca26\"], [1.0, \"#f0f921\"]], \"type\": \"heatmap\"}], \"heatmapgl\": [{\"colorbar\": {\"outlinewidth\": 0, \"ticks\": \"\"}, \"colorscale\": [[0.0, \"#0d0887\"], [0.1111111111111111, \"#46039f\"], [0.2222222222222222, \"#7201a8\"], [0.3333333333333333, \"#9c179e\"], [0.4444444444444444, \"#bd3786\"], [0.5555555555555556, \"#d8576b\"], [0.6666666666666666, \"#ed7953\"], [0.7777777777777778, \"#fb9f3a\"], [0.8888888888888888, \"#fdca26\"], [1.0, \"#f0f921\"]], \"type\": \"heatmapgl\"}], \"histogram\": [{\"marker\": {\"colorbar\": {\"outlinewidth\": 0, \"ticks\": \"\"}}, \"type\": \"histogram\"}], \"histogram2d\": [{\"colorbar\": {\"outlinewidth\": 0, \"ticks\": \"\"}, \"colorscale\": [[0.0, \"#0d0887\"], [0.1111111111111111, \"#46039f\"], [0.2222222222222222, \"#7201a8\"], [0.3333333333333333, \"#9c179e\"], [0.4444444444444444, \"#bd3786\"], [0.5555555555555556, \"#d8576b\"], [0.6666666666666666, \"#ed7953\"], [0.7777777777777778, \"#fb9f3a\"], [0.8888888888888888, \"#fdca26\"], [1.0, \"#f0f921\"]], \"type\": \"histogram2d\"}], \"histogram2dcontour\": [{\"colorbar\": {\"outlinewidth\": 0, \"ticks\": \"\"}, \"colorscale\": [[0.0, \"#0d0887\"], [0.1111111111111111, \"#46039f\"], [0.2222222222222222, \"#7201a8\"], [0.3333333333333333, \"#9c179e\"], [0.4444444444444444, \"#bd3786\"], [0.5555555555555556, \"#d8576b\"], [0.6666666666666666, \"#ed7953\"], [0.7777777777777778, \"#fb9f3a\"], [0.8888888888888888, \"#fdca26\"], [1.0, \"#f0f921\"]], \"type\": \"histogram2dcontour\"}], \"mesh3d\": [{\"colorbar\": {\"outlinewidth\": 0, \"ticks\": \"\"}, \"type\": \"mesh3d\"}], \"parcoords\": [{\"line\": {\"colorbar\": {\"outlinewidth\": 0, \"ticks\": \"\"}}, \"type\": \"parcoords\"}], \"pie\": [{\"automargin\": true, \"type\": \"pie\"}], \"scatter\": [{\"marker\": {\"colorbar\": {\"outlinewidth\": 0, \"ticks\": \"\"}}, \"type\": \"scatter\"}], \"scatter3d\": [{\"line\": {\"colorbar\": {\"outlinewidth\": 0, \"ticks\": \"\"}}, \"marker\": {\"colorbar\": {\"outlinewidth\": 0, \"ticks\": \"\"}}, \"type\": \"scatter3d\"}], \"scattercarpet\": [{\"marker\": {\"colorbar\": {\"outlinewidth\": 0, \"ticks\": \"\"}}, \"type\": \"scattercarpet\"}], \"scattergeo\": [{\"marker\": {\"colorbar\": {\"outlinewidth\": 0, \"ticks\": \"\"}}, \"type\": \"scattergeo\"}], \"scattergl\": [{\"marker\": {\"colorbar\": {\"outlinewidth\": 0, \"ticks\": \"\"}}, \"type\": \"scattergl\"}], \"scattermapbox\": [{\"marker\": {\"colorbar\": {\"outlinewidth\": 0, \"ticks\": \"\"}}, \"type\": \"scattermapbox\"}], \"scatterpolar\": [{\"marker\": {\"colorbar\": {\"outlinewidth\": 0, \"ticks\": \"\"}}, \"type\": \"scatterpolar\"}], \"scatterpolargl\": [{\"marker\": {\"colorbar\": {\"outlinewidth\": 0, \"ticks\": \"\"}}, \"type\": \"scatterpolargl\"}], \"scatterternary\": [{\"marker\": {\"colorbar\": {\"outlinewidth\": 0, \"ticks\": \"\"}}, \"type\": \"scatterternary\"}], \"surface\": [{\"colorbar\": {\"outlinewidth\": 0, \"ticks\": \"\"}, \"colorscale\": [[0.0, \"#0d0887\"], [0.1111111111111111, \"#46039f\"], [0.2222222222222222, \"#7201a8\"], [0.3333333333333333, \"#9c179e\"], [0.4444444444444444, \"#bd3786\"], [0.5555555555555556, \"#d8576b\"], [0.6666666666666666, \"#ed7953\"], [0.7777777777777778, \"#fb9f3a\"], [0.8888888888888888, \"#fdca26\"], [1.0, \"#f0f921\"]], \"type\": \"surface\"}], \"table\": [{\"cells\": {\"fill\": {\"color\": \"#EBF0F8\"}, \"line\": {\"color\": \"white\"}}, \"header\": {\"fill\": {\"color\": \"#C8D4E3\"}, \"line\": {\"color\": \"white\"}}, \"type\": \"table\"}]}, \"layout\": {\"annotationdefaults\": {\"arrowcolor\": \"#2a3f5f\", \"arrowhead\": 0, \"arrowwidth\": 1}, \"coloraxis\": {\"colorbar\": {\"outlinewidth\": 0, \"ticks\": \"\"}}, \"colorscale\": {\"diverging\": [[0, \"#8e0152\"], [0.1, \"#c51b7d\"], [0.2, \"#de77ae\"], [0.3, \"#f1b6da\"], [0.4, \"#fde0ef\"], [0.5, \"#f7f7f7\"], [0.6, \"#e6f5d0\"], [0.7, \"#b8e186\"], [0.8, \"#7fbc41\"], [0.9, \"#4d9221\"], [1, \"#276419\"]], \"sequential\": [[0.0, \"#0d0887\"], [0.1111111111111111, \"#46039f\"], [0.2222222222222222, \"#7201a8\"], [0.3333333333333333, \"#9c179e\"], [0.4444444444444444, \"#bd3786\"], [0.5555555555555556, \"#d8576b\"], [0.6666666666666666, \"#ed7953\"], [0.7777777777777778, \"#fb9f3a\"], [0.8888888888888888, \"#fdca26\"], [1.0, \"#f0f921\"]], \"sequentialminus\": [[0.0, \"#0d0887\"], [0.1111111111111111, \"#46039f\"], [0.2222222222222222, \"#7201a8\"], [0.3333333333333333, \"#9c179e\"], [0.4444444444444444, \"#bd3786\"], [0.5555555555555556, \"#d8576b\"], [0.6666666666666666, \"#ed7953\"], [0.7777777777777778, \"#fb9f3a\"], [0.8888888888888888, \"#fdca26\"], [1.0, \"#f0f921\"]]}, \"colorway\": [\"#636efa\", \"#EF553B\", \"#00cc96\", \"#ab63fa\", \"#FFA15A\", \"#19d3f3\", \"#FF6692\", \"#B6E880\", \"#FF97FF\", \"#FECB52\"], \"font\": {\"color\": \"#2a3f5f\"}, \"geo\": {\"bgcolor\": \"white\", \"lakecolor\": \"white\", \"landcolor\": \"#E5ECF6\", \"showlakes\": true, \"showland\": true, \"subunitcolor\": \"white\"}, \"hoverlabel\": {\"align\": \"left\"}, \"hovermode\": \"closest\", \"mapbox\": {\"style\": \"light\"}, \"paper_bgcolor\": \"white\", \"plot_bgcolor\": \"#E5ECF6\", \"polar\": {\"angularaxis\": {\"gridcolor\": \"white\", \"linecolor\": \"white\", \"ticks\": \"\"}, \"bgcolor\": \"#E5ECF6\", \"radialaxis\": {\"gridcolor\": \"white\", \"linecolor\": \"white\", \"ticks\": \"\"}}, \"scene\": {\"xaxis\": {\"backgroundcolor\": \"#E5ECF6\", \"gridcolor\": \"white\", \"gridwidth\": 2, \"linecolor\": \"white\", \"showbackground\": true, \"ticks\": \"\", \"zerolinecolor\": \"white\"}, \"yaxis\": {\"backgroundcolor\": \"#E5ECF6\", \"gridcolor\": \"white\", \"gridwidth\": 2, \"linecolor\": \"white\", \"showbackground\": true, \"ticks\": \"\", \"zerolinecolor\": \"white\"}, \"zaxis\": {\"backgroundcolor\": \"#E5ECF6\", \"gridcolor\": \"white\", \"gridwidth\": 2, \"linecolor\": \"white\", \"showbackground\": true, \"ticks\": \"\", \"zerolinecolor\": \"white\"}}, \"shapedefaults\": {\"line\": {\"color\": \"#2a3f5f\"}}, \"ternary\": {\"aaxis\": {\"gridcolor\": \"white\", \"linecolor\": \"white\", \"ticks\": \"\"}, \"baxis\": {\"gridcolor\": \"white\", \"linecolor\": \"white\", \"ticks\": \"\"}, \"bgcolor\": \"#E5ECF6\", \"caxis\": {\"gridcolor\": \"white\", \"linecolor\": \"white\", \"ticks\": \"\"}}, \"title\": {\"x\": 0.05}, \"xaxis\": {\"automargin\": true, \"gridcolor\": \"white\", \"linecolor\": \"white\", \"ticks\": \"\", \"title\": {\"standoff\": 15}, \"zerolinecolor\": \"white\", \"zerolinewidth\": 2}, \"yaxis\": {\"automargin\": true, \"gridcolor\": \"white\", \"linecolor\": \"white\", \"ticks\": \"\", \"title\": {\"standoff\": 15}, \"zerolinecolor\": \"white\", \"zerolinewidth\": 2}}}, \"title\": {\"font\": {\"color\": \"#4D5663\"}}, \"xaxis\": {\"gridcolor\": \"#E1E5ED\", \"showgrid\": true, \"tickfont\": {\"color\": \"#4D5663\"}, \"title\": {\"font\": {\"color\": \"#4D5663\"}, \"text\": \"\"}, \"zerolinecolor\": \"#E1E5ED\"}, \"yaxis\": {\"gridcolor\": \"#E1E5ED\", \"showgrid\": true, \"tickfont\": {\"color\": \"#4D5663\"}, \"title\": {\"font\": {\"color\": \"#4D5663\"}, \"text\": \"\"}, \"zerolinecolor\": \"#E1E5ED\"}},\n",
       "                        {\"showLink\": true, \"linkText\": \"Export to plot.ly\", \"plotlyServerURL\": \"https://plot.ly\", \"responsive\": true}\n",
       "                    ).then(function(){\n",
       "                            \n",
       "var gd = document.getElementById('a187070d-0988-4cc9-b91f-ed276a36c8f8');\n",
       "var x = new MutationObserver(function (mutations, observer) {{\n",
       "        var display = window.getComputedStyle(gd).display;\n",
       "        if (!display || display === 'none') {{\n",
       "            console.log([gd, 'removed!']);\n",
       "            Plotly.purge(gd);\n",
       "            observer.disconnect();\n",
       "        }}\n",
       "}});\n",
       "\n",
       "// Listen for the removal of the full notebook cells\n",
       "var notebookContainer = gd.closest('#notebook-container');\n",
       "if (notebookContainer) {{\n",
       "    x.observe(notebookContainer, {childList: true});\n",
       "}}\n",
       "\n",
       "// Listen for the clearing of the current output cell\n",
       "var outputEl = gd.closest('.output');\n",
       "if (outputEl) {{\n",
       "    x.observe(outputEl, {childList: true});\n",
       "}}\n",
       "\n",
       "                        })\n",
       "                };\n",
       "                });\n",
       "            </script>\n",
       "        </div>"
      ]
     },
     "metadata": {},
     "output_type": "display_data"
    }
   ],
   "source": [
    "df.iplot(kind = 'hist')"
   ]
  },
  {
   "cell_type": "code",
   "execution_count": 52,
   "metadata": {},
   "outputs": [
    {
     "data": {
      "application/vnd.plotly.v1+json": {
       "config": {
        "linkText": "Export to plot.ly",
        "plotlyServerURL": "https://plot.ly",
        "showLink": true
       },
       "data": [
        {
         "line": {
          "color": "rgba(255, 153, 51, 1.0)",
          "dash": "solid",
          "shape": "linear",
          "width": 1.3
         },
         "mode": "lines",
         "name": "A",
         "text": "",
         "type": "scatter",
         "x": [
          0,
          1,
          2,
          3,
          4,
          5,
          6,
          7,
          8,
          9,
          10,
          11,
          12,
          13,
          14,
          15,
          16,
          17,
          18,
          19,
          20,
          21,
          22,
          23,
          24,
          25,
          26,
          27,
          28,
          29,
          30,
          31,
          32,
          33,
          34,
          35,
          36,
          37,
          38,
          39,
          40,
          41,
          42,
          43,
          44,
          45,
          46,
          47,
          48,
          49,
          50,
          51,
          52,
          53,
          54,
          55,
          56,
          57,
          58,
          59,
          60,
          61,
          62,
          63,
          64,
          65,
          66,
          67,
          68,
          69,
          70,
          71,
          72,
          73,
          74,
          75,
          76,
          77,
          78,
          79,
          80,
          81,
          82,
          83,
          84,
          85,
          86,
          87,
          88,
          89,
          90,
          91,
          92,
          93,
          94,
          95,
          96,
          97,
          98,
          99
         ],
         "y": [
          1.416593517660878,
          -0.14738395566749896,
          -1.7844796810424377,
          1.0916939562052876,
          0.8690310862451806,
          -0.9130881968676815,
          0.999815987739978,
          0.20249872319987558,
          0.6651541347542538,
          1.5904328259462475,
          0.9224191664291218,
          -0.18016206629497075,
          1.134944336265271,
          -0.19204911602866678,
          -0.7725701660993973,
          0.10063744605008441,
          0.10714591412949345,
          -0.42221541400028717,
          -0.8403776497203891,
          -0.34062561748689635,
          -0.9319306418128855,
          -2.7047515845412606,
          0.008464414016829484,
          -0.24679681716914537,
          -0.8891064856373092,
          -0.0976902393419508,
          2.0554795131481236,
          1.140205355254008,
          -1.3222237382657935,
          1.2972526054749431,
          1.2723501043391907,
          -1.0402921253786834,
          0.08975397544334109,
          -0.7211196617732506,
          0.46079850518443477,
          -0.0035295707984208287,
          -1.6680052301548915,
          0.39593916411591684,
          -0.036736725525066675,
          -0.18708565303207123,
          0.4090337394442913,
          -0.11516336115305838,
          -2.1023287946207225,
          0.7145964193033464,
          0.8992939935517598,
          -1.1066813776882152,
          -0.8429684555863061,
          0.8641921006942638,
          -0.5073841845450361,
          -0.8566073764635567,
          -0.26835127760692934,
          -1.2592951714357608,
          -0.880020854779105,
          1.3836949417430615,
          -0.8108977849120101,
          0.4561661807281345,
          0.004415115029279976,
          0.03828165518747515,
          -0.10676227658460166,
          1.028572156444397,
          -0.28421897250220285,
          0.8849806821994682,
          1.4380095987100332,
          -0.8877395811176105,
          1.228816832515203,
          0.7564202279095027,
          -0.2625169494179067,
          1.013996267722401,
          -0.4081800018537628,
          1.0211977886508627,
          0.7767951727052528,
          0.2911188894392512,
          -1.730474681675736,
          0.32841643489202166,
          0.07140028981004318,
          1.0689025968967223,
          -1.9049709066817657,
          -0.5405171578578922,
          -0.47397936749667924,
          -0.7220304917111585,
          -0.43499570927661463,
          -1.076760505534362,
          -2.851530141907224,
          -0.3583158919767544,
          -1.5432561099522224,
          -0.8784881122522841,
          -1.9603084686379697,
          -0.5885186370713009,
          1.5997148736849103,
          0.024734175690217294,
          0.07809005053066699,
          1.667352773288952,
          -1.287735836010282,
          -0.5990499600750134,
          0.10309793710856048,
          0.6049082987598869,
          0.22668443288025425,
          -0.4085805437783098,
          0.7047569911056685,
          -0.0058223868182907396
         ]
        },
        {
         "line": {
          "color": "rgba(55, 128, 191, 1.0)",
          "dash": "solid",
          "shape": "linear",
          "width": 1.3
         },
         "mode": "lines",
         "name": "B",
         "text": "",
         "type": "scatter",
         "x": [
          0,
          1,
          2,
          3,
          4,
          5,
          6,
          7,
          8,
          9,
          10,
          11,
          12,
          13,
          14,
          15,
          16,
          17,
          18,
          19,
          20,
          21,
          22,
          23,
          24,
          25,
          26,
          27,
          28,
          29,
          30,
          31,
          32,
          33,
          34,
          35,
          36,
          37,
          38,
          39,
          40,
          41,
          42,
          43,
          44,
          45,
          46,
          47,
          48,
          49,
          50,
          51,
          52,
          53,
          54,
          55,
          56,
          57,
          58,
          59,
          60,
          61,
          62,
          63,
          64,
          65,
          66,
          67,
          68,
          69,
          70,
          71,
          72,
          73,
          74,
          75,
          76,
          77,
          78,
          79,
          80,
          81,
          82,
          83,
          84,
          85,
          86,
          87,
          88,
          89,
          90,
          91,
          92,
          93,
          94,
          95,
          96,
          97,
          98,
          99
         ],
         "y": [
          -1.784098720340015,
          2.171244510657171,
          0.6814350497909425,
          1.6915046033363401,
          0.18481649594853616,
          1.3717132391682432,
          -1.2275847765325325,
          0.1377905244967582,
          -1.1480009457520386,
          0.26162442648712664,
          -0.3949869957178582,
          -1.4968385199265781,
          -1.2882205677288796,
          0.734932556612695,
          1.2232971975351834,
          -0.593392211027469,
          -1.0654669938822041,
          -0.3571674089948739,
          -0.13876162829474128,
          -0.2895293494986774,
          -0.48357022428835184,
          -1.3885923462518266,
          -0.5237646877578167,
          1.3060138012560842,
          0.25660307311615027,
          -0.8203047424592492,
          -0.4923162655865527,
          -0.4845844995598301,
          1.1978422826877433,
          2.0998690486150426,
          1.01936669685555,
          -0.3386138535811944,
          -1.482145713226032,
          2.2072307943488627,
          0.7211135696527582,
          -1.8947101869608063,
          -1.6555186146259382,
          0.6664471016106729,
          0.6579972725992663,
          0.26733180131832407,
          0.8914121897579306,
          -0.5502327140222424,
          -0.7035046554239406,
          -0.9461377411810604,
          -0.6001142874070964,
          0.02870046019532282,
          -1.7907167802754105,
          1.3897741383929765,
          -0.016268510422112355,
          0.5663514625633824,
          1.9999017682580833,
          1.6601667123454453,
          0.6815372328213235,
          -0.8400593255846813,
          1.11322310825198,
          0.6606722621695404,
          0.4375288477222289,
          -0.23405318147746282,
          0.5886108970417825,
          -0.33299951352436286,
          -0.40185930102225387,
          -0.6635188196620705,
          0.07704697176714438,
          -0.9213946986355144,
          -0.9831820012034149,
          0.7946699447595283,
          -0.9991701796154964,
          0.2815538007953517,
          0.174998690858209,
          0.8837798626530278,
          0.9032875954210857,
          0.24055208121983598,
          0.5922894036824274,
          -1.2661514687988389,
          -0.8809610852153962,
          -0.12528969601901807,
          0.6211367105295839,
          0.13636933563037099,
          0.5931900126435424,
          -1.4967044610569924,
          0.5340581219643343,
          0.3514056027479767,
          0.4863662132233159,
          0.24581933733395622,
          -2.059486231643359,
          -0.6300296950748387,
          0.44013425063156586,
          0.4473713899152323,
          -0.00047627043586563036,
          0.2657031815297724,
          2.201413247661273,
          -0.9173536467289062,
          -0.8332408625755586,
          -1.0151245854973656,
          0.14016786526148148,
          0.5585536889690439,
          -0.44476215618074133,
          -0.4413464723748191,
          -0.3494357165693916,
          -1.0018284495680674
         ]
        },
        {
         "connectgaps": false,
         "fill": "tozeroy",
         "line": {
          "color": "green",
          "dash": "solid",
          "shape": "linear",
          "width": 0.5
         },
         "mode": "lines",
         "name": "Spread",
         "showlegend": false,
         "type": "scatter",
         "x": [
          0,
          1,
          2,
          3,
          4,
          5,
          6,
          7,
          8,
          9,
          10,
          11,
          12,
          13,
          14,
          15,
          16,
          17,
          18,
          19,
          20,
          21,
          22,
          23,
          24,
          25,
          26,
          27,
          28,
          29,
          30,
          31,
          32,
          33,
          34,
          35,
          36,
          37,
          38,
          39,
          40,
          41,
          42,
          43,
          44,
          45,
          46,
          47,
          48,
          49,
          50,
          51,
          52,
          53,
          54,
          55,
          56,
          57,
          58,
          59,
          60,
          61,
          62,
          63,
          64,
          65,
          66,
          67,
          68,
          69,
          70,
          71,
          72,
          73,
          74,
          75,
          76,
          77,
          78,
          79,
          80,
          81,
          82,
          83,
          84,
          85,
          86,
          87,
          88,
          89,
          90,
          91,
          92,
          93,
          94,
          95,
          96,
          97,
          98,
          99
         ],
         "xaxis": "x2",
         "y": [
          3.200692238000893,
          "",
          "",
          "",
          0.6842145902966443,
          "",
          2.2274007642725104,
          0.06470819870311739,
          1.8131550805062924,
          1.3288083994591209,
          1.31740616214698,
          1.3166764536316073,
          2.4231649039941505,
          "",
          "",
          0.6940296570775534,
          1.1726129080116976,
          "",
          "",
          "",
          "",
          "",
          0.5322291017746462,
          "",
          "",
          0.7226145031172985,
          2.5477957787346766,
          1.624789854813838,
          "",
          "",
          0.2529834074836408,
          "",
          1.5718996886693732,
          "",
          "",
          1.8911806161623854,
          "",
          "",
          "",
          "",
          "",
          0.435069352869184,
          "",
          1.6607341604844068,
          1.499408280958856,
          "",
          0.9477483246891044,
          "",
          "",
          "",
          "",
          "",
          "",
          2.2237542673277426,
          "",
          "",
          "",
          0.27233483666493796,
          "",
          1.36157166996876,
          0.11764032852005102,
          1.5484995018615386,
          1.3609626269428887,
          0.03365511751790384,
          2.211998833718618,
          "",
          0.7366532301975897,
          0.7324424669270493,
          "",
          0.13741792599783498,
          "",
          0.0505668082194152,
          "",
          1.5945679036908604,
          0.9523613750254394,
          1.1941922929157402,
          "",
          "",
          "",
          0.7746739693458339,
          "",
          "",
          "",
          "",
          0.5162301216911365,
          "",
          "",
          "",
          1.600191144120776,
          "",
          "",
          2.584706420017858,
          "",
          0.4160746254223522,
          "",
          0.04635460979084305,
          0.6714465890609955,
          0.032765928596509286,
          1.0541927076750601,
          0.9960060627497767
         ],
         "yaxis": "y2"
        },
        {
         "connectgaps": false,
         "fill": "tozeroy",
         "line": {
          "color": "red",
          "dash": "solid",
          "shape": "linear",
          "width": 0.5
         },
         "mode": "lines",
         "name": "Spread",
         "showlegend": false,
         "type": "scatter",
         "x": [
          0,
          1,
          2,
          3,
          4,
          5,
          6,
          7,
          8,
          9,
          10,
          11,
          12,
          13,
          14,
          15,
          16,
          17,
          18,
          19,
          20,
          21,
          22,
          23,
          24,
          25,
          26,
          27,
          28,
          29,
          30,
          31,
          32,
          33,
          34,
          35,
          36,
          37,
          38,
          39,
          40,
          41,
          42,
          43,
          44,
          45,
          46,
          47,
          48,
          49,
          50,
          51,
          52,
          53,
          54,
          55,
          56,
          57,
          58,
          59,
          60,
          61,
          62,
          63,
          64,
          65,
          66,
          67,
          68,
          69,
          70,
          71,
          72,
          73,
          74,
          75,
          76,
          77,
          78,
          79,
          80,
          81,
          82,
          83,
          84,
          85,
          86,
          87,
          88,
          89,
          90,
          91,
          92,
          93,
          94,
          95,
          96,
          97,
          98,
          99
         ],
         "xaxis": "x2",
         "y": [
          "",
          -2.31862846632467,
          -2.46591473083338,
          -0.5998106471310525,
          "",
          -2.2848014360359246,
          "",
          "",
          "",
          "",
          "",
          "",
          "",
          -0.9269816726413618,
          -1.9958673636345807,
          "",
          "",
          -0.06504800500541325,
          -0.7016160214256478,
          -0.051096267988218924,
          -0.4483604175245337,
          -1.316159238289434,
          "",
          -1.5528106184252297,
          -1.1457095587534596,
          "",
          "",
          "",
          -2.5200660209535366,
          -0.8026164431400995,
          "",
          -0.701678271797489,
          "",
          -2.9283504561221134,
          -0.2603150644683234,
          "",
          -0.01248661552895336,
          -0.27050793749475605,
          -0.694733998124333,
          -0.45441745435039527,
          -0.4823784503136393,
          "",
          -1.398824139196782,
          "",
          "",
          -1.135381837883538,
          "",
          -0.5255820376987127,
          -0.49111567412292373,
          -1.422958839026939,
          -2.2682530458650128,
          -2.919461883781206,
          -1.5615580876004285,
          "",
          -1.9241208931639902,
          -0.20450608144140597,
          -0.4331137326929489,
          "",
          -0.6953731736263842,
          "",
          "",
          "",
          "",
          "",
          "",
          -0.03824971685002565,
          "",
          "",
          -0.5831786927119718,
          "",
          -0.12649242271583294,
          "",
          -2.3227640853581635,
          "",
          "",
          "",
          -2.5261076172113497,
          -0.6768864934882632,
          -1.0671693801402218,
          "",
          -0.9690538312409489,
          -1.4281661082823387,
          -3.33789635513054,
          -0.6041352293107106,
          "",
          -0.24845841717744532,
          -2.4004427192695355,
          -1.0358900269865332,
          "",
          -0.2409690058395551,
          -2.1233231971306057,
          "",
          -0.45449497343472334,
          "",
          -0.037069928152921,
          "",
          "",
          "",
          "",
          ""
         ],
         "yaxis": "y2"
        }
       ],
       "layout": {
        "hovermode": "x",
        "legend": {
         "bgcolor": "#F5F6F9",
         "font": {
          "color": "#4D5663"
         }
        },
        "paper_bgcolor": "#F5F6F9",
        "plot_bgcolor": "#F5F6F9",
        "template": {
         "data": {
          "bar": [
           {
            "error_x": {
             "color": "#2a3f5f"
            },
            "error_y": {
             "color": "#2a3f5f"
            },
            "marker": {
             "line": {
              "color": "#E5ECF6",
              "width": 0.5
             }
            },
            "type": "bar"
           }
          ],
          "barpolar": [
           {
            "marker": {
             "line": {
              "color": "#E5ECF6",
              "width": 0.5
             }
            },
            "type": "barpolar"
           }
          ],
          "carpet": [
           {
            "aaxis": {
             "endlinecolor": "#2a3f5f",
             "gridcolor": "white",
             "linecolor": "white",
             "minorgridcolor": "white",
             "startlinecolor": "#2a3f5f"
            },
            "baxis": {
             "endlinecolor": "#2a3f5f",
             "gridcolor": "white",
             "linecolor": "white",
             "minorgridcolor": "white",
             "startlinecolor": "#2a3f5f"
            },
            "type": "carpet"
           }
          ],
          "choropleth": [
           {
            "colorbar": {
             "outlinewidth": 0,
             "ticks": ""
            },
            "type": "choropleth"
           }
          ],
          "contour": [
           {
            "colorbar": {
             "outlinewidth": 0,
             "ticks": ""
            },
            "colorscale": [
             [
              0,
              "#0d0887"
             ],
             [
              0.1111111111111111,
              "#46039f"
             ],
             [
              0.2222222222222222,
              "#7201a8"
             ],
             [
              0.3333333333333333,
              "#9c179e"
             ],
             [
              0.4444444444444444,
              "#bd3786"
             ],
             [
              0.5555555555555556,
              "#d8576b"
             ],
             [
              0.6666666666666666,
              "#ed7953"
             ],
             [
              0.7777777777777778,
              "#fb9f3a"
             ],
             [
              0.8888888888888888,
              "#fdca26"
             ],
             [
              1,
              "#f0f921"
             ]
            ],
            "type": "contour"
           }
          ],
          "contourcarpet": [
           {
            "colorbar": {
             "outlinewidth": 0,
             "ticks": ""
            },
            "type": "contourcarpet"
           }
          ],
          "heatmap": [
           {
            "colorbar": {
             "outlinewidth": 0,
             "ticks": ""
            },
            "colorscale": [
             [
              0,
              "#0d0887"
             ],
             [
              0.1111111111111111,
              "#46039f"
             ],
             [
              0.2222222222222222,
              "#7201a8"
             ],
             [
              0.3333333333333333,
              "#9c179e"
             ],
             [
              0.4444444444444444,
              "#bd3786"
             ],
             [
              0.5555555555555556,
              "#d8576b"
             ],
             [
              0.6666666666666666,
              "#ed7953"
             ],
             [
              0.7777777777777778,
              "#fb9f3a"
             ],
             [
              0.8888888888888888,
              "#fdca26"
             ],
             [
              1,
              "#f0f921"
             ]
            ],
            "type": "heatmap"
           }
          ],
          "heatmapgl": [
           {
            "colorbar": {
             "outlinewidth": 0,
             "ticks": ""
            },
            "colorscale": [
             [
              0,
              "#0d0887"
             ],
             [
              0.1111111111111111,
              "#46039f"
             ],
             [
              0.2222222222222222,
              "#7201a8"
             ],
             [
              0.3333333333333333,
              "#9c179e"
             ],
             [
              0.4444444444444444,
              "#bd3786"
             ],
             [
              0.5555555555555556,
              "#d8576b"
             ],
             [
              0.6666666666666666,
              "#ed7953"
             ],
             [
              0.7777777777777778,
              "#fb9f3a"
             ],
             [
              0.8888888888888888,
              "#fdca26"
             ],
             [
              1,
              "#f0f921"
             ]
            ],
            "type": "heatmapgl"
           }
          ],
          "histogram": [
           {
            "marker": {
             "colorbar": {
              "outlinewidth": 0,
              "ticks": ""
             }
            },
            "type": "histogram"
           }
          ],
          "histogram2d": [
           {
            "colorbar": {
             "outlinewidth": 0,
             "ticks": ""
            },
            "colorscale": [
             [
              0,
              "#0d0887"
             ],
             [
              0.1111111111111111,
              "#46039f"
             ],
             [
              0.2222222222222222,
              "#7201a8"
             ],
             [
              0.3333333333333333,
              "#9c179e"
             ],
             [
              0.4444444444444444,
              "#bd3786"
             ],
             [
              0.5555555555555556,
              "#d8576b"
             ],
             [
              0.6666666666666666,
              "#ed7953"
             ],
             [
              0.7777777777777778,
              "#fb9f3a"
             ],
             [
              0.8888888888888888,
              "#fdca26"
             ],
             [
              1,
              "#f0f921"
             ]
            ],
            "type": "histogram2d"
           }
          ],
          "histogram2dcontour": [
           {
            "colorbar": {
             "outlinewidth": 0,
             "ticks": ""
            },
            "colorscale": [
             [
              0,
              "#0d0887"
             ],
             [
              0.1111111111111111,
              "#46039f"
             ],
             [
              0.2222222222222222,
              "#7201a8"
             ],
             [
              0.3333333333333333,
              "#9c179e"
             ],
             [
              0.4444444444444444,
              "#bd3786"
             ],
             [
              0.5555555555555556,
              "#d8576b"
             ],
             [
              0.6666666666666666,
              "#ed7953"
             ],
             [
              0.7777777777777778,
              "#fb9f3a"
             ],
             [
              0.8888888888888888,
              "#fdca26"
             ],
             [
              1,
              "#f0f921"
             ]
            ],
            "type": "histogram2dcontour"
           }
          ],
          "mesh3d": [
           {
            "colorbar": {
             "outlinewidth": 0,
             "ticks": ""
            },
            "type": "mesh3d"
           }
          ],
          "parcoords": [
           {
            "line": {
             "colorbar": {
              "outlinewidth": 0,
              "ticks": ""
             }
            },
            "type": "parcoords"
           }
          ],
          "pie": [
           {
            "automargin": true,
            "type": "pie"
           }
          ],
          "scatter": [
           {
            "marker": {
             "colorbar": {
              "outlinewidth": 0,
              "ticks": ""
             }
            },
            "type": "scatter"
           }
          ],
          "scatter3d": [
           {
            "line": {
             "colorbar": {
              "outlinewidth": 0,
              "ticks": ""
             }
            },
            "marker": {
             "colorbar": {
              "outlinewidth": 0,
              "ticks": ""
             }
            },
            "type": "scatter3d"
           }
          ],
          "scattercarpet": [
           {
            "marker": {
             "colorbar": {
              "outlinewidth": 0,
              "ticks": ""
             }
            },
            "type": "scattercarpet"
           }
          ],
          "scattergeo": [
           {
            "marker": {
             "colorbar": {
              "outlinewidth": 0,
              "ticks": ""
             }
            },
            "type": "scattergeo"
           }
          ],
          "scattergl": [
           {
            "marker": {
             "colorbar": {
              "outlinewidth": 0,
              "ticks": ""
             }
            },
            "type": "scattergl"
           }
          ],
          "scattermapbox": [
           {
            "marker": {
             "colorbar": {
              "outlinewidth": 0,
              "ticks": ""
             }
            },
            "type": "scattermapbox"
           }
          ],
          "scatterpolar": [
           {
            "marker": {
             "colorbar": {
              "outlinewidth": 0,
              "ticks": ""
             }
            },
            "type": "scatterpolar"
           }
          ],
          "scatterpolargl": [
           {
            "marker": {
             "colorbar": {
              "outlinewidth": 0,
              "ticks": ""
             }
            },
            "type": "scatterpolargl"
           }
          ],
          "scatterternary": [
           {
            "marker": {
             "colorbar": {
              "outlinewidth": 0,
              "ticks": ""
             }
            },
            "type": "scatterternary"
           }
          ],
          "surface": [
           {
            "colorbar": {
             "outlinewidth": 0,
             "ticks": ""
            },
            "colorscale": [
             [
              0,
              "#0d0887"
             ],
             [
              0.1111111111111111,
              "#46039f"
             ],
             [
              0.2222222222222222,
              "#7201a8"
             ],
             [
              0.3333333333333333,
              "#9c179e"
             ],
             [
              0.4444444444444444,
              "#bd3786"
             ],
             [
              0.5555555555555556,
              "#d8576b"
             ],
             [
              0.6666666666666666,
              "#ed7953"
             ],
             [
              0.7777777777777778,
              "#fb9f3a"
             ],
             [
              0.8888888888888888,
              "#fdca26"
             ],
             [
              1,
              "#f0f921"
             ]
            ],
            "type": "surface"
           }
          ],
          "table": [
           {
            "cells": {
             "fill": {
              "color": "#EBF0F8"
             },
             "line": {
              "color": "white"
             }
            },
            "header": {
             "fill": {
              "color": "#C8D4E3"
             },
             "line": {
              "color": "white"
             }
            },
            "type": "table"
           }
          ]
         },
         "layout": {
          "annotationdefaults": {
           "arrowcolor": "#2a3f5f",
           "arrowhead": 0,
           "arrowwidth": 1
          },
          "coloraxis": {
           "colorbar": {
            "outlinewidth": 0,
            "ticks": ""
           }
          },
          "colorscale": {
           "diverging": [
            [
             0,
             "#8e0152"
            ],
            [
             0.1,
             "#c51b7d"
            ],
            [
             0.2,
             "#de77ae"
            ],
            [
             0.3,
             "#f1b6da"
            ],
            [
             0.4,
             "#fde0ef"
            ],
            [
             0.5,
             "#f7f7f7"
            ],
            [
             0.6,
             "#e6f5d0"
            ],
            [
             0.7,
             "#b8e186"
            ],
            [
             0.8,
             "#7fbc41"
            ],
            [
             0.9,
             "#4d9221"
            ],
            [
             1,
             "#276419"
            ]
           ],
           "sequential": [
            [
             0,
             "#0d0887"
            ],
            [
             0.1111111111111111,
             "#46039f"
            ],
            [
             0.2222222222222222,
             "#7201a8"
            ],
            [
             0.3333333333333333,
             "#9c179e"
            ],
            [
             0.4444444444444444,
             "#bd3786"
            ],
            [
             0.5555555555555556,
             "#d8576b"
            ],
            [
             0.6666666666666666,
             "#ed7953"
            ],
            [
             0.7777777777777778,
             "#fb9f3a"
            ],
            [
             0.8888888888888888,
             "#fdca26"
            ],
            [
             1,
             "#f0f921"
            ]
           ],
           "sequentialminus": [
            [
             0,
             "#0d0887"
            ],
            [
             0.1111111111111111,
             "#46039f"
            ],
            [
             0.2222222222222222,
             "#7201a8"
            ],
            [
             0.3333333333333333,
             "#9c179e"
            ],
            [
             0.4444444444444444,
             "#bd3786"
            ],
            [
             0.5555555555555556,
             "#d8576b"
            ],
            [
             0.6666666666666666,
             "#ed7953"
            ],
            [
             0.7777777777777778,
             "#fb9f3a"
            ],
            [
             0.8888888888888888,
             "#fdca26"
            ],
            [
             1,
             "#f0f921"
            ]
           ]
          },
          "colorway": [
           "#636efa",
           "#EF553B",
           "#00cc96",
           "#ab63fa",
           "#FFA15A",
           "#19d3f3",
           "#FF6692",
           "#B6E880",
           "#FF97FF",
           "#FECB52"
          ],
          "font": {
           "color": "#2a3f5f"
          },
          "geo": {
           "bgcolor": "white",
           "lakecolor": "white",
           "landcolor": "#E5ECF6",
           "showlakes": true,
           "showland": true,
           "subunitcolor": "white"
          },
          "hoverlabel": {
           "align": "left"
          },
          "hovermode": "closest",
          "mapbox": {
           "style": "light"
          },
          "paper_bgcolor": "white",
          "plot_bgcolor": "#E5ECF6",
          "polar": {
           "angularaxis": {
            "gridcolor": "white",
            "linecolor": "white",
            "ticks": ""
           },
           "bgcolor": "#E5ECF6",
           "radialaxis": {
            "gridcolor": "white",
            "linecolor": "white",
            "ticks": ""
           }
          },
          "scene": {
           "xaxis": {
            "backgroundcolor": "#E5ECF6",
            "gridcolor": "white",
            "gridwidth": 2,
            "linecolor": "white",
            "showbackground": true,
            "ticks": "",
            "zerolinecolor": "white"
           },
           "yaxis": {
            "backgroundcolor": "#E5ECF6",
            "gridcolor": "white",
            "gridwidth": 2,
            "linecolor": "white",
            "showbackground": true,
            "ticks": "",
            "zerolinecolor": "white"
           },
           "zaxis": {
            "backgroundcolor": "#E5ECF6",
            "gridcolor": "white",
            "gridwidth": 2,
            "linecolor": "white",
            "showbackground": true,
            "ticks": "",
            "zerolinecolor": "white"
           }
          },
          "shapedefaults": {
           "line": {
            "color": "#2a3f5f"
           }
          },
          "ternary": {
           "aaxis": {
            "gridcolor": "white",
            "linecolor": "white",
            "ticks": ""
           },
           "baxis": {
            "gridcolor": "white",
            "linecolor": "white",
            "ticks": ""
           },
           "bgcolor": "#E5ECF6",
           "caxis": {
            "gridcolor": "white",
            "linecolor": "white",
            "ticks": ""
           }
          },
          "title": {
           "x": 0.05
          },
          "xaxis": {
           "automargin": true,
           "gridcolor": "white",
           "linecolor": "white",
           "ticks": "",
           "title": {
            "standoff": 15
           },
           "zerolinecolor": "white",
           "zerolinewidth": 2
          },
          "yaxis": {
           "automargin": true,
           "gridcolor": "white",
           "linecolor": "white",
           "ticks": "",
           "title": {
            "standoff": 15
           },
           "zerolinecolor": "white",
           "zerolinewidth": 2
          }
         }
        },
        "title": {
         "font": {
          "color": "#4D5663"
         }
        },
        "xaxis": {
         "gridcolor": "#E1E5ED",
         "showgrid": true,
         "tickfont": {
          "color": "#4D5663"
         },
         "title": {
          "font": {
           "color": "#4D5663"
          },
          "text": ""
         },
         "zerolinecolor": "#E1E5ED"
        },
        "xaxis2": {
         "anchor": "y2",
         "gridcolor": "#E1E5ED",
         "showgrid": true,
         "showticklabels": false,
         "tickfont": {
          "color": "#4D5663"
         },
         "title": {
          "font": {
           "color": "#4D5663"
          },
          "text": ""
         },
         "zerolinecolor": "#E1E5ED"
        },
        "yaxis": {
         "domain": [
          0.3,
          1
         ],
         "gridcolor": "#E1E5ED",
         "showgrid": true,
         "tickfont": {
          "color": "#4D5663"
         },
         "title": {
          "font": {
           "color": "#4D5663"
          },
          "text": ""
         },
         "zerolinecolor": "#E1E5ED"
        },
        "yaxis2": {
         "domain": [
          0,
          0.25
         ],
         "gridcolor": "#E1E5ED",
         "showgrid": true,
         "tickfont": {
          "color": "#4D5663"
         },
         "title": {
          "font": {
           "color": "#4D5663"
          },
          "text": "Spread"
         },
         "zerolinecolor": "#E1E5ED"
        }
       }
      },
      "text/html": [
       "<div>\n",
       "        \n",
       "        \n",
       "            <div id=\"fecd1326-01af-45f9-b983-4faec1599105\" class=\"plotly-graph-div\" style=\"height:525px; width:100%;\"></div>\n",
       "            <script type=\"text/javascript\">\n",
       "                require([\"plotly\"], function(Plotly) {\n",
       "                    window.PLOTLYENV=window.PLOTLYENV || {};\n",
       "                    window.PLOTLYENV.BASE_URL='https://plot.ly';\n",
       "                    \n",
       "                if (document.getElementById(\"fecd1326-01af-45f9-b983-4faec1599105\")) {\n",
       "                    Plotly.newPlot(\n",
       "                        'fecd1326-01af-45f9-b983-4faec1599105',\n",
       "                        [{\"line\": {\"color\": \"rgba(255, 153, 51, 1.0)\", \"dash\": \"solid\", \"shape\": \"linear\", \"width\": 1.3}, \"mode\": \"lines\", \"name\": \"A\", \"text\": \"\", \"type\": \"scatter\", \"x\": [0, 1, 2, 3, 4, 5, 6, 7, 8, 9, 10, 11, 12, 13, 14, 15, 16, 17, 18, 19, 20, 21, 22, 23, 24, 25, 26, 27, 28, 29, 30, 31, 32, 33, 34, 35, 36, 37, 38, 39, 40, 41, 42, 43, 44, 45, 46, 47, 48, 49, 50, 51, 52, 53, 54, 55, 56, 57, 58, 59, 60, 61, 62, 63, 64, 65, 66, 67, 68, 69, 70, 71, 72, 73, 74, 75, 76, 77, 78, 79, 80, 81, 82, 83, 84, 85, 86, 87, 88, 89, 90, 91, 92, 93, 94, 95, 96, 97, 98, 99], \"y\": [1.416593517660878, -0.14738395566749896, -1.7844796810424377, 1.0916939562052876, 0.8690310862451806, -0.9130881968676815, 0.999815987739978, 0.20249872319987558, 0.6651541347542538, 1.5904328259462475, 0.9224191664291218, -0.18016206629497075, 1.134944336265271, -0.19204911602866678, -0.7725701660993973, 0.10063744605008441, 0.10714591412949345, -0.42221541400028717, -0.8403776497203891, -0.34062561748689635, -0.9319306418128855, -2.7047515845412606, 0.008464414016829484, -0.24679681716914537, -0.8891064856373092, -0.0976902393419508, 2.0554795131481236, 1.140205355254008, -1.3222237382657935, 1.2972526054749431, 1.2723501043391907, -1.0402921253786834, 0.08975397544334109, -0.7211196617732506, 0.46079850518443477, -0.0035295707984208287, -1.6680052301548915, 0.39593916411591684, -0.036736725525066675, -0.18708565303207123, 0.4090337394442913, -0.11516336115305838, -2.1023287946207225, 0.7145964193033464, 0.8992939935517598, -1.1066813776882152, -0.8429684555863061, 0.8641921006942638, -0.5073841845450361, -0.8566073764635567, -0.26835127760692934, -1.2592951714357608, -0.880020854779105, 1.3836949417430615, -0.8108977849120101, 0.4561661807281345, 0.004415115029279976, 0.03828165518747515, -0.10676227658460166, 1.028572156444397, -0.28421897250220285, 0.8849806821994682, 1.4380095987100332, -0.8877395811176105, 1.228816832515203, 0.7564202279095027, -0.2625169494179067, 1.013996267722401, -0.4081800018537628, 1.0211977886508627, 0.7767951727052528, 0.2911188894392512, -1.730474681675736, 0.32841643489202166, 0.07140028981004318, 1.0689025968967223, -1.9049709066817657, -0.5405171578578922, -0.47397936749667924, -0.7220304917111585, -0.43499570927661463, -1.076760505534362, -2.851530141907224, -0.3583158919767544, -1.5432561099522224, -0.8784881122522841, -1.9603084686379697, -0.5885186370713009, 1.5997148736849103, 0.024734175690217294, 0.07809005053066699, 1.667352773288952, -1.287735836010282, -0.5990499600750134, 0.10309793710856048, 0.6049082987598869, 0.22668443288025425, -0.4085805437783098, 0.7047569911056685, -0.0058223868182907396]}, {\"line\": {\"color\": \"rgba(55, 128, 191, 1.0)\", \"dash\": \"solid\", \"shape\": \"linear\", \"width\": 1.3}, \"mode\": \"lines\", \"name\": \"B\", \"text\": \"\", \"type\": \"scatter\", \"x\": [0, 1, 2, 3, 4, 5, 6, 7, 8, 9, 10, 11, 12, 13, 14, 15, 16, 17, 18, 19, 20, 21, 22, 23, 24, 25, 26, 27, 28, 29, 30, 31, 32, 33, 34, 35, 36, 37, 38, 39, 40, 41, 42, 43, 44, 45, 46, 47, 48, 49, 50, 51, 52, 53, 54, 55, 56, 57, 58, 59, 60, 61, 62, 63, 64, 65, 66, 67, 68, 69, 70, 71, 72, 73, 74, 75, 76, 77, 78, 79, 80, 81, 82, 83, 84, 85, 86, 87, 88, 89, 90, 91, 92, 93, 94, 95, 96, 97, 98, 99], \"y\": [-1.784098720340015, 2.171244510657171, 0.6814350497909425, 1.6915046033363401, 0.18481649594853616, 1.3717132391682432, -1.2275847765325325, 0.1377905244967582, -1.1480009457520386, 0.26162442648712664, -0.3949869957178582, -1.4968385199265781, -1.2882205677288796, 0.734932556612695, 1.2232971975351834, -0.593392211027469, -1.0654669938822041, -0.3571674089948739, -0.13876162829474128, -0.2895293494986774, -0.48357022428835184, -1.3885923462518266, -0.5237646877578167, 1.3060138012560842, 0.25660307311615027, -0.8203047424592492, -0.4923162655865527, -0.4845844995598301, 1.1978422826877433, 2.0998690486150426, 1.01936669685555, -0.3386138535811944, -1.482145713226032, 2.2072307943488627, 0.7211135696527582, -1.8947101869608063, -1.6555186146259382, 0.6664471016106729, 0.6579972725992663, 0.26733180131832407, 0.8914121897579306, -0.5502327140222424, -0.7035046554239406, -0.9461377411810604, -0.6001142874070964, 0.02870046019532282, -1.7907167802754105, 1.3897741383929765, -0.016268510422112355, 0.5663514625633824, 1.9999017682580833, 1.6601667123454453, 0.6815372328213235, -0.8400593255846813, 1.11322310825198, 0.6606722621695404, 0.4375288477222289, -0.23405318147746282, 0.5886108970417825, -0.33299951352436286, -0.40185930102225387, -0.6635188196620705, 0.07704697176714438, -0.9213946986355144, -0.9831820012034149, 0.7946699447595283, -0.9991701796154964, 0.2815538007953517, 0.174998690858209, 0.8837798626530278, 0.9032875954210857, 0.24055208121983598, 0.5922894036824274, -1.2661514687988389, -0.8809610852153962, -0.12528969601901807, 0.6211367105295839, 0.13636933563037099, 0.5931900126435424, -1.4967044610569924, 0.5340581219643343, 0.3514056027479767, 0.4863662132233159, 0.24581933733395622, -2.059486231643359, -0.6300296950748387, 0.44013425063156586, 0.4473713899152323, -0.00047627043586563036, 0.2657031815297724, 2.201413247661273, -0.9173536467289062, -0.8332408625755586, -1.0151245854973656, 0.14016786526148148, 0.5585536889690439, -0.44476215618074133, -0.4413464723748191, -0.3494357165693916, -1.0018284495680674]}, {\"connectgaps\": false, \"fill\": \"tozeroy\", \"line\": {\"color\": \"green\", \"dash\": \"solid\", \"shape\": \"linear\", \"width\": 0.5}, \"mode\": \"lines\", \"name\": \"Spread\", \"showlegend\": false, \"type\": \"scatter\", \"x\": [0, 1, 2, 3, 4, 5, 6, 7, 8, 9, 10, 11, 12, 13, 14, 15, 16, 17, 18, 19, 20, 21, 22, 23, 24, 25, 26, 27, 28, 29, 30, 31, 32, 33, 34, 35, 36, 37, 38, 39, 40, 41, 42, 43, 44, 45, 46, 47, 48, 49, 50, 51, 52, 53, 54, 55, 56, 57, 58, 59, 60, 61, 62, 63, 64, 65, 66, 67, 68, 69, 70, 71, 72, 73, 74, 75, 76, 77, 78, 79, 80, 81, 82, 83, 84, 85, 86, 87, 88, 89, 90, 91, 92, 93, 94, 95, 96, 97, 98, 99], \"xaxis\": \"x2\", \"y\": [3.200692238000893, \"\", \"\", \"\", 0.6842145902966443, \"\", 2.2274007642725104, 0.06470819870311739, 1.8131550805062924, 1.3288083994591209, 1.31740616214698, 1.3166764536316073, 2.4231649039941505, \"\", \"\", 0.6940296570775534, 1.1726129080116976, \"\", \"\", \"\", \"\", \"\", 0.5322291017746462, \"\", \"\", 0.7226145031172985, 2.5477957787346766, 1.624789854813838, \"\", \"\", 0.2529834074836408, \"\", 1.5718996886693732, \"\", \"\", 1.8911806161623854, \"\", \"\", \"\", \"\", \"\", 0.435069352869184, \"\", 1.6607341604844068, 1.499408280958856, \"\", 0.9477483246891044, \"\", \"\", \"\", \"\", \"\", \"\", 2.2237542673277426, \"\", \"\", \"\", 0.27233483666493796, \"\", 1.36157166996876, 0.11764032852005102, 1.5484995018615386, 1.3609626269428887, 0.03365511751790384, 2.211998833718618, \"\", 0.7366532301975897, 0.7324424669270493, \"\", 0.13741792599783498, \"\", 0.0505668082194152, \"\", 1.5945679036908604, 0.9523613750254394, 1.1941922929157402, \"\", \"\", \"\", 0.7746739693458339, \"\", \"\", \"\", \"\", 0.5162301216911365, \"\", \"\", \"\", 1.600191144120776, \"\", \"\", 2.584706420017858, \"\", 0.4160746254223522, \"\", 0.04635460979084305, 0.6714465890609955, 0.032765928596509286, 1.0541927076750601, 0.9960060627497767], \"yaxis\": \"y2\"}, {\"connectgaps\": false, \"fill\": \"tozeroy\", \"line\": {\"color\": \"red\", \"dash\": \"solid\", \"shape\": \"linear\", \"width\": 0.5}, \"mode\": \"lines\", \"name\": \"Spread\", \"showlegend\": false, \"type\": \"scatter\", \"x\": [0, 1, 2, 3, 4, 5, 6, 7, 8, 9, 10, 11, 12, 13, 14, 15, 16, 17, 18, 19, 20, 21, 22, 23, 24, 25, 26, 27, 28, 29, 30, 31, 32, 33, 34, 35, 36, 37, 38, 39, 40, 41, 42, 43, 44, 45, 46, 47, 48, 49, 50, 51, 52, 53, 54, 55, 56, 57, 58, 59, 60, 61, 62, 63, 64, 65, 66, 67, 68, 69, 70, 71, 72, 73, 74, 75, 76, 77, 78, 79, 80, 81, 82, 83, 84, 85, 86, 87, 88, 89, 90, 91, 92, 93, 94, 95, 96, 97, 98, 99], \"xaxis\": \"x2\", \"y\": [\"\", -2.31862846632467, -2.46591473083338, -0.5998106471310525, \"\", -2.2848014360359246, \"\", \"\", \"\", \"\", \"\", \"\", \"\", -0.9269816726413618, -1.9958673636345807, \"\", \"\", -0.06504800500541325, -0.7016160214256478, -0.051096267988218924, -0.4483604175245337, -1.316159238289434, \"\", -1.5528106184252297, -1.1457095587534596, \"\", \"\", \"\", -2.5200660209535366, -0.8026164431400995, \"\", -0.701678271797489, \"\", -2.9283504561221134, -0.2603150644683234, \"\", -0.01248661552895336, -0.27050793749475605, -0.694733998124333, -0.45441745435039527, -0.4823784503136393, \"\", -1.398824139196782, \"\", \"\", -1.135381837883538, \"\", -0.5255820376987127, -0.49111567412292373, -1.422958839026939, -2.2682530458650128, -2.919461883781206, -1.5615580876004285, \"\", -1.9241208931639902, -0.20450608144140597, -0.4331137326929489, \"\", -0.6953731736263842, \"\", \"\", \"\", \"\", \"\", \"\", -0.03824971685002565, \"\", \"\", -0.5831786927119718, \"\", -0.12649242271583294, \"\", -2.3227640853581635, \"\", \"\", \"\", -2.5261076172113497, -0.6768864934882632, -1.0671693801402218, \"\", -0.9690538312409489, -1.4281661082823387, -3.33789635513054, -0.6041352293107106, \"\", -0.24845841717744532, -2.4004427192695355, -1.0358900269865332, \"\", -0.2409690058395551, -2.1233231971306057, \"\", -0.45449497343472334, \"\", -0.037069928152921, \"\", \"\", \"\", \"\", \"\"], \"yaxis\": \"y2\"}],\n",
       "                        {\"hovermode\": \"x\", \"legend\": {\"bgcolor\": \"#F5F6F9\", \"font\": {\"color\": \"#4D5663\"}}, \"paper_bgcolor\": \"#F5F6F9\", \"plot_bgcolor\": \"#F5F6F9\", \"template\": {\"data\": {\"bar\": [{\"error_x\": {\"color\": \"#2a3f5f\"}, \"error_y\": {\"color\": \"#2a3f5f\"}, \"marker\": {\"line\": {\"color\": \"#E5ECF6\", \"width\": 0.5}}, \"type\": \"bar\"}], \"barpolar\": [{\"marker\": {\"line\": {\"color\": \"#E5ECF6\", \"width\": 0.5}}, \"type\": \"barpolar\"}], \"carpet\": [{\"aaxis\": {\"endlinecolor\": \"#2a3f5f\", \"gridcolor\": \"white\", \"linecolor\": \"white\", \"minorgridcolor\": \"white\", \"startlinecolor\": \"#2a3f5f\"}, \"baxis\": {\"endlinecolor\": \"#2a3f5f\", \"gridcolor\": \"white\", \"linecolor\": \"white\", \"minorgridcolor\": \"white\", \"startlinecolor\": \"#2a3f5f\"}, \"type\": \"carpet\"}], \"choropleth\": [{\"colorbar\": {\"outlinewidth\": 0, \"ticks\": \"\"}, \"type\": \"choropleth\"}], \"contour\": [{\"colorbar\": {\"outlinewidth\": 0, \"ticks\": \"\"}, \"colorscale\": [[0.0, \"#0d0887\"], [0.1111111111111111, \"#46039f\"], [0.2222222222222222, \"#7201a8\"], [0.3333333333333333, \"#9c179e\"], [0.4444444444444444, \"#bd3786\"], [0.5555555555555556, \"#d8576b\"], [0.6666666666666666, \"#ed7953\"], [0.7777777777777778, \"#fb9f3a\"], [0.8888888888888888, \"#fdca26\"], [1.0, \"#f0f921\"]], \"type\": \"contour\"}], \"contourcarpet\": [{\"colorbar\": {\"outlinewidth\": 0, \"ticks\": \"\"}, \"type\": \"contourcarpet\"}], \"heatmap\": [{\"colorbar\": {\"outlinewidth\": 0, \"ticks\": \"\"}, \"colorscale\": [[0.0, \"#0d0887\"], [0.1111111111111111, \"#46039f\"], [0.2222222222222222, \"#7201a8\"], [0.3333333333333333, \"#9c179e\"], [0.4444444444444444, \"#bd3786\"], [0.5555555555555556, \"#d8576b\"], [0.6666666666666666, \"#ed7953\"], [0.7777777777777778, \"#fb9f3a\"], [0.8888888888888888, \"#fdca26\"], [1.0, \"#f0f921\"]], \"type\": \"heatmap\"}], \"heatmapgl\": [{\"colorbar\": {\"outlinewidth\": 0, \"ticks\": \"\"}, \"colorscale\": [[0.0, \"#0d0887\"], [0.1111111111111111, \"#46039f\"], [0.2222222222222222, \"#7201a8\"], [0.3333333333333333, \"#9c179e\"], [0.4444444444444444, \"#bd3786\"], [0.5555555555555556, \"#d8576b\"], [0.6666666666666666, \"#ed7953\"], [0.7777777777777778, \"#fb9f3a\"], [0.8888888888888888, \"#fdca26\"], [1.0, \"#f0f921\"]], \"type\": \"heatmapgl\"}], \"histogram\": [{\"marker\": {\"colorbar\": {\"outlinewidth\": 0, \"ticks\": \"\"}}, \"type\": \"histogram\"}], \"histogram2d\": [{\"colorbar\": {\"outlinewidth\": 0, \"ticks\": \"\"}, \"colorscale\": [[0.0, \"#0d0887\"], [0.1111111111111111, \"#46039f\"], [0.2222222222222222, \"#7201a8\"], [0.3333333333333333, \"#9c179e\"], [0.4444444444444444, \"#bd3786\"], [0.5555555555555556, \"#d8576b\"], [0.6666666666666666, \"#ed7953\"], [0.7777777777777778, \"#fb9f3a\"], [0.8888888888888888, \"#fdca26\"], [1.0, \"#f0f921\"]], \"type\": \"histogram2d\"}], \"histogram2dcontour\": [{\"colorbar\": {\"outlinewidth\": 0, \"ticks\": \"\"}, \"colorscale\": [[0.0, \"#0d0887\"], [0.1111111111111111, \"#46039f\"], [0.2222222222222222, \"#7201a8\"], [0.3333333333333333, \"#9c179e\"], [0.4444444444444444, \"#bd3786\"], [0.5555555555555556, \"#d8576b\"], [0.6666666666666666, \"#ed7953\"], [0.7777777777777778, \"#fb9f3a\"], [0.8888888888888888, \"#fdca26\"], [1.0, \"#f0f921\"]], \"type\": \"histogram2dcontour\"}], \"mesh3d\": [{\"colorbar\": {\"outlinewidth\": 0, \"ticks\": \"\"}, \"type\": \"mesh3d\"}], \"parcoords\": [{\"line\": {\"colorbar\": {\"outlinewidth\": 0, \"ticks\": \"\"}}, \"type\": \"parcoords\"}], \"pie\": [{\"automargin\": true, \"type\": \"pie\"}], \"scatter\": [{\"marker\": {\"colorbar\": {\"outlinewidth\": 0, \"ticks\": \"\"}}, \"type\": \"scatter\"}], \"scatter3d\": [{\"line\": {\"colorbar\": {\"outlinewidth\": 0, \"ticks\": \"\"}}, \"marker\": {\"colorbar\": {\"outlinewidth\": 0, \"ticks\": \"\"}}, \"type\": \"scatter3d\"}], \"scattercarpet\": [{\"marker\": {\"colorbar\": {\"outlinewidth\": 0, \"ticks\": \"\"}}, \"type\": \"scattercarpet\"}], \"scattergeo\": [{\"marker\": {\"colorbar\": {\"outlinewidth\": 0, \"ticks\": \"\"}}, \"type\": \"scattergeo\"}], \"scattergl\": [{\"marker\": {\"colorbar\": {\"outlinewidth\": 0, \"ticks\": \"\"}}, \"type\": \"scattergl\"}], \"scattermapbox\": [{\"marker\": {\"colorbar\": {\"outlinewidth\": 0, \"ticks\": \"\"}}, \"type\": \"scattermapbox\"}], \"scatterpolar\": [{\"marker\": {\"colorbar\": {\"outlinewidth\": 0, \"ticks\": \"\"}}, \"type\": \"scatterpolar\"}], \"scatterpolargl\": [{\"marker\": {\"colorbar\": {\"outlinewidth\": 0, \"ticks\": \"\"}}, \"type\": \"scatterpolargl\"}], \"scatterternary\": [{\"marker\": {\"colorbar\": {\"outlinewidth\": 0, \"ticks\": \"\"}}, \"type\": \"scatterternary\"}], \"surface\": [{\"colorbar\": {\"outlinewidth\": 0, \"ticks\": \"\"}, \"colorscale\": [[0.0, \"#0d0887\"], [0.1111111111111111, \"#46039f\"], [0.2222222222222222, \"#7201a8\"], [0.3333333333333333, \"#9c179e\"], [0.4444444444444444, \"#bd3786\"], [0.5555555555555556, \"#d8576b\"], [0.6666666666666666, \"#ed7953\"], [0.7777777777777778, \"#fb9f3a\"], [0.8888888888888888, \"#fdca26\"], [1.0, \"#f0f921\"]], \"type\": \"surface\"}], \"table\": [{\"cells\": {\"fill\": {\"color\": \"#EBF0F8\"}, \"line\": {\"color\": \"white\"}}, \"header\": {\"fill\": {\"color\": \"#C8D4E3\"}, \"line\": {\"color\": \"white\"}}, \"type\": \"table\"}]}, \"layout\": {\"annotationdefaults\": {\"arrowcolor\": \"#2a3f5f\", \"arrowhead\": 0, \"arrowwidth\": 1}, \"coloraxis\": {\"colorbar\": {\"outlinewidth\": 0, \"ticks\": \"\"}}, \"colorscale\": {\"diverging\": [[0, \"#8e0152\"], [0.1, \"#c51b7d\"], [0.2, \"#de77ae\"], [0.3, \"#f1b6da\"], [0.4, \"#fde0ef\"], [0.5, \"#f7f7f7\"], [0.6, \"#e6f5d0\"], [0.7, \"#b8e186\"], [0.8, \"#7fbc41\"], [0.9, \"#4d9221\"], [1, \"#276419\"]], \"sequential\": [[0.0, \"#0d0887\"], [0.1111111111111111, \"#46039f\"], [0.2222222222222222, \"#7201a8\"], [0.3333333333333333, \"#9c179e\"], [0.4444444444444444, \"#bd3786\"], [0.5555555555555556, \"#d8576b\"], [0.6666666666666666, \"#ed7953\"], [0.7777777777777778, \"#fb9f3a\"], [0.8888888888888888, \"#fdca26\"], [1.0, \"#f0f921\"]], \"sequentialminus\": [[0.0, \"#0d0887\"], [0.1111111111111111, \"#46039f\"], [0.2222222222222222, \"#7201a8\"], [0.3333333333333333, \"#9c179e\"], [0.4444444444444444, \"#bd3786\"], [0.5555555555555556, \"#d8576b\"], [0.6666666666666666, \"#ed7953\"], [0.7777777777777778, \"#fb9f3a\"], [0.8888888888888888, \"#fdca26\"], [1.0, \"#f0f921\"]]}, \"colorway\": [\"#636efa\", \"#EF553B\", \"#00cc96\", \"#ab63fa\", \"#FFA15A\", \"#19d3f3\", \"#FF6692\", \"#B6E880\", \"#FF97FF\", \"#FECB52\"], \"font\": {\"color\": \"#2a3f5f\"}, \"geo\": {\"bgcolor\": \"white\", \"lakecolor\": \"white\", \"landcolor\": \"#E5ECF6\", \"showlakes\": true, \"showland\": true, \"subunitcolor\": \"white\"}, \"hoverlabel\": {\"align\": \"left\"}, \"hovermode\": \"closest\", \"mapbox\": {\"style\": \"light\"}, \"paper_bgcolor\": \"white\", \"plot_bgcolor\": \"#E5ECF6\", \"polar\": {\"angularaxis\": {\"gridcolor\": \"white\", \"linecolor\": \"white\", \"ticks\": \"\"}, \"bgcolor\": \"#E5ECF6\", \"radialaxis\": {\"gridcolor\": \"white\", \"linecolor\": \"white\", \"ticks\": \"\"}}, \"scene\": {\"xaxis\": {\"backgroundcolor\": \"#E5ECF6\", \"gridcolor\": \"white\", \"gridwidth\": 2, \"linecolor\": \"white\", \"showbackground\": true, \"ticks\": \"\", \"zerolinecolor\": \"white\"}, \"yaxis\": {\"backgroundcolor\": \"#E5ECF6\", \"gridcolor\": \"white\", \"gridwidth\": 2, \"linecolor\": \"white\", \"showbackground\": true, \"ticks\": \"\", \"zerolinecolor\": \"white\"}, \"zaxis\": {\"backgroundcolor\": \"#E5ECF6\", \"gridcolor\": \"white\", \"gridwidth\": 2, \"linecolor\": \"white\", \"showbackground\": true, \"ticks\": \"\", \"zerolinecolor\": \"white\"}}, \"shapedefaults\": {\"line\": {\"color\": \"#2a3f5f\"}}, \"ternary\": {\"aaxis\": {\"gridcolor\": \"white\", \"linecolor\": \"white\", \"ticks\": \"\"}, \"baxis\": {\"gridcolor\": \"white\", \"linecolor\": \"white\", \"ticks\": \"\"}, \"bgcolor\": \"#E5ECF6\", \"caxis\": {\"gridcolor\": \"white\", \"linecolor\": \"white\", \"ticks\": \"\"}}, \"title\": {\"x\": 0.05}, \"xaxis\": {\"automargin\": true, \"gridcolor\": \"white\", \"linecolor\": \"white\", \"ticks\": \"\", \"title\": {\"standoff\": 15}, \"zerolinecolor\": \"white\", \"zerolinewidth\": 2}, \"yaxis\": {\"automargin\": true, \"gridcolor\": \"white\", \"linecolor\": \"white\", \"ticks\": \"\", \"title\": {\"standoff\": 15}, \"zerolinecolor\": \"white\", \"zerolinewidth\": 2}}}, \"title\": {\"font\": {\"color\": \"#4D5663\"}}, \"xaxis\": {\"gridcolor\": \"#E1E5ED\", \"showgrid\": true, \"tickfont\": {\"color\": \"#4D5663\"}, \"title\": {\"font\": {\"color\": \"#4D5663\"}, \"text\": \"\"}, \"zerolinecolor\": \"#E1E5ED\"}, \"xaxis2\": {\"anchor\": \"y2\", \"gridcolor\": \"#E1E5ED\", \"showgrid\": true, \"showticklabels\": false, \"tickfont\": {\"color\": \"#4D5663\"}, \"title\": {\"font\": {\"color\": \"#4D5663\"}, \"text\": \"\"}, \"zerolinecolor\": \"#E1E5ED\"}, \"yaxis\": {\"domain\": [0.3, 1], \"gridcolor\": \"#E1E5ED\", \"showgrid\": true, \"tickfont\": {\"color\": \"#4D5663\"}, \"title\": {\"font\": {\"color\": \"#4D5663\"}, \"text\": \"\"}, \"zerolinecolor\": \"#E1E5ED\"}, \"yaxis2\": {\"domain\": [0, 0.25], \"gridcolor\": \"#E1E5ED\", \"showgrid\": true, \"tickfont\": {\"color\": \"#4D5663\"}, \"title\": {\"font\": {\"color\": \"#4D5663\"}, \"text\": \"Spread\"}, \"zerolinecolor\": \"#E1E5ED\"}},\n",
       "                        {\"showLink\": true, \"linkText\": \"Export to plot.ly\", \"plotlyServerURL\": \"https://plot.ly\", \"responsive\": true}\n",
       "                    ).then(function(){\n",
       "                            \n",
       "var gd = document.getElementById('fecd1326-01af-45f9-b983-4faec1599105');\n",
       "var x = new MutationObserver(function (mutations, observer) {{\n",
       "        var display = window.getComputedStyle(gd).display;\n",
       "        if (!display || display === 'none') {{\n",
       "            console.log([gd, 'removed!']);\n",
       "            Plotly.purge(gd);\n",
       "            observer.disconnect();\n",
       "        }}\n",
       "}});\n",
       "\n",
       "// Listen for the removal of the full notebook cells\n",
       "var notebookContainer = gd.closest('#notebook-container');\n",
       "if (notebookContainer) {{\n",
       "    x.observe(notebookContainer, {childList: true});\n",
       "}}\n",
       "\n",
       "// Listen for the clearing of the current output cell\n",
       "var outputEl = gd.closest('.output');\n",
       "if (outputEl) {{\n",
       "    x.observe(outputEl, {childList: true});\n",
       "}}\n",
       "\n",
       "                        })\n",
       "                };\n",
       "                });\n",
       "            </script>\n",
       "        </div>"
      ]
     },
     "metadata": {},
     "output_type": "display_data"
    }
   ],
   "source": [
    "#Spread plot used in finances to find the spread btw 2 stocks\n",
    "df[['A','B']].iplot(kind = 'spread')"
   ]
  },
  {
   "cell_type": "code",
   "execution_count": 53,
   "metadata": {},
   "outputs": [
    {
     "data": {
      "application/vnd.plotly.v1+json": {
       "config": {
        "linkText": "Export to plot.ly",
        "plotlyServerURL": "https://plot.ly",
        "showLink": true
       },
       "data": [
        {
         "marker": {
          "color": [
           "rgb(255, 153, 51)",
           "rgb(55, 128, 191)",
           "rgb(50, 171, 96)",
           "rgb(128, 0, 128)",
           "rgb(219, 64, 82)",
           "rgb(0, 128, 128)",
           "rgb(255, 255, 51)",
           "rgb(128, 128, 0)",
           "rgb(251, 128, 114)",
           "rgb(128, 177, 211)"
          ],
          "line": {
           "width": 1.3
          },
          "size": [
           56,
           85,
           102,
           68,
           50,
           106,
           26,
           43,
           71,
           89,
           96,
           69,
           60,
           74,
           71,
           88,
           89,
           62,
           64,
           89,
           76,
           66,
           52,
           74,
           112,
           74,
           110,
           49,
           71,
           54,
           71,
           48,
           12,
           95,
           78,
           73,
           45,
           58,
           102,
           43,
           68,
           38,
           72,
           52,
           68,
           69,
           52,
           68,
           72,
           46,
           85,
           56,
           59,
           80,
           84,
           59,
           34,
           70,
           62,
           80,
           56,
           71,
           43,
           57,
           92,
           90,
           83,
           71,
           41,
           81,
           49,
           72,
           57,
           81,
           68,
           89,
           96,
           33,
           76,
           72,
           62,
           91,
           63,
           78,
           56,
           82,
           70,
           72,
           25,
           64,
           63,
           56,
           105,
           92,
           87,
           84,
           39,
           96,
           101,
           99
          ],
          "symbol": "circle"
         },
         "mode": "markers",
         "text": "",
         "type": "scatter",
         "x": [
          1.416593517660878,
          -0.14738395566749896,
          -1.7844796810424377,
          1.0916939562052876,
          0.8690310862451806,
          -0.9130881968676815,
          0.999815987739978,
          0.20249872319987558,
          0.6651541347542538,
          1.5904328259462475,
          0.9224191664291218,
          -0.18016206629497075,
          1.134944336265271,
          -0.19204911602866678,
          -0.7725701660993973,
          0.10063744605008441,
          0.10714591412949345,
          -0.42221541400028717,
          -0.8403776497203891,
          -0.34062561748689635,
          -0.9319306418128855,
          -2.7047515845412606,
          0.008464414016829484,
          -0.24679681716914537,
          -0.8891064856373092,
          -0.0976902393419508,
          2.0554795131481236,
          1.140205355254008,
          -1.3222237382657935,
          1.2972526054749431,
          1.2723501043391907,
          -1.0402921253786834,
          0.08975397544334109,
          -0.7211196617732506,
          0.46079850518443477,
          -0.0035295707984208287,
          -1.6680052301548915,
          0.39593916411591684,
          -0.036736725525066675,
          -0.18708565303207123,
          0.4090337394442913,
          -0.11516336115305838,
          -2.1023287946207225,
          0.7145964193033464,
          0.8992939935517598,
          -1.1066813776882152,
          -0.8429684555863061,
          0.8641921006942638,
          -0.5073841845450361,
          -0.8566073764635567,
          -0.26835127760692934,
          -1.2592951714357608,
          -0.880020854779105,
          1.3836949417430615,
          -0.8108977849120101,
          0.4561661807281345,
          0.004415115029279976,
          0.03828165518747515,
          -0.10676227658460166,
          1.028572156444397,
          -0.28421897250220285,
          0.8849806821994682,
          1.4380095987100332,
          -0.8877395811176105,
          1.228816832515203,
          0.7564202279095027,
          -0.2625169494179067,
          1.013996267722401,
          -0.4081800018537628,
          1.0211977886508627,
          0.7767951727052528,
          0.2911188894392512,
          -1.730474681675736,
          0.32841643489202166,
          0.07140028981004318,
          1.0689025968967223,
          -1.9049709066817657,
          -0.5405171578578922,
          -0.47397936749667924,
          -0.7220304917111585,
          -0.43499570927661463,
          -1.076760505534362,
          -2.851530141907224,
          -0.3583158919767544,
          -1.5432561099522224,
          -0.8784881122522841,
          -1.9603084686379697,
          -0.5885186370713009,
          1.5997148736849103,
          0.024734175690217294,
          0.07809005053066699,
          1.667352773288952,
          -1.287735836010282,
          -0.5990499600750134,
          0.10309793710856048,
          0.6049082987598869,
          0.22668443288025425,
          -0.4085805437783098,
          0.7047569911056685,
          -0.0058223868182907396
         ],
         "y": [
          -1.784098720340015,
          2.171244510657171,
          0.6814350497909425,
          1.6915046033363401,
          0.18481649594853616,
          1.3717132391682432,
          -1.2275847765325325,
          0.1377905244967582,
          -1.1480009457520386,
          0.26162442648712664,
          -0.3949869957178582,
          -1.4968385199265781,
          -1.2882205677288796,
          0.734932556612695,
          1.2232971975351834,
          -0.593392211027469,
          -1.0654669938822041,
          -0.3571674089948739,
          -0.13876162829474128,
          -0.2895293494986774,
          -0.48357022428835184,
          -1.3885923462518266,
          -0.5237646877578167,
          1.3060138012560842,
          0.25660307311615027,
          -0.8203047424592492,
          -0.4923162655865527,
          -0.4845844995598301,
          1.1978422826877433,
          2.0998690486150426,
          1.01936669685555,
          -0.3386138535811944,
          -1.482145713226032,
          2.2072307943488627,
          0.7211135696527582,
          -1.8947101869608063,
          -1.6555186146259382,
          0.6664471016106729,
          0.6579972725992663,
          0.26733180131832407,
          0.8914121897579306,
          -0.5502327140222424,
          -0.7035046554239406,
          -0.9461377411810604,
          -0.6001142874070964,
          0.02870046019532282,
          -1.7907167802754105,
          1.3897741383929765,
          -0.016268510422112355,
          0.5663514625633824,
          1.9999017682580833,
          1.6601667123454453,
          0.6815372328213235,
          -0.8400593255846813,
          1.11322310825198,
          0.6606722621695404,
          0.4375288477222289,
          -0.23405318147746282,
          0.5886108970417825,
          -0.33299951352436286,
          -0.40185930102225387,
          -0.6635188196620705,
          0.07704697176714438,
          -0.9213946986355144,
          -0.9831820012034149,
          0.7946699447595283,
          -0.9991701796154964,
          0.2815538007953517,
          0.174998690858209,
          0.8837798626530278,
          0.9032875954210857,
          0.24055208121983598,
          0.5922894036824274,
          -1.2661514687988389,
          -0.8809610852153962,
          -0.12528969601901807,
          0.6211367105295839,
          0.13636933563037099,
          0.5931900126435424,
          -1.4967044610569924,
          0.5340581219643343,
          0.3514056027479767,
          0.4863662132233159,
          0.24581933733395622,
          -2.059486231643359,
          -0.6300296950748387,
          0.44013425063156586,
          0.4473713899152323,
          -0.00047627043586563036,
          0.2657031815297724,
          2.201413247661273,
          -0.9173536467289062,
          -0.8332408625755586,
          -1.0151245854973656,
          0.14016786526148148,
          0.5585536889690439,
          -0.44476215618074133,
          -0.4413464723748191,
          -0.3494357165693916,
          -1.0018284495680674
         ]
        }
       ],
       "layout": {
        "legend": {
         "bgcolor": "#F5F6F9",
         "font": {
          "color": "#4D5663"
         }
        },
        "paper_bgcolor": "#F5F6F9",
        "plot_bgcolor": "#F5F6F9",
        "template": {
         "data": {
          "bar": [
           {
            "error_x": {
             "color": "#2a3f5f"
            },
            "error_y": {
             "color": "#2a3f5f"
            },
            "marker": {
             "line": {
              "color": "#E5ECF6",
              "width": 0.5
             }
            },
            "type": "bar"
           }
          ],
          "barpolar": [
           {
            "marker": {
             "line": {
              "color": "#E5ECF6",
              "width": 0.5
             }
            },
            "type": "barpolar"
           }
          ],
          "carpet": [
           {
            "aaxis": {
             "endlinecolor": "#2a3f5f",
             "gridcolor": "white",
             "linecolor": "white",
             "minorgridcolor": "white",
             "startlinecolor": "#2a3f5f"
            },
            "baxis": {
             "endlinecolor": "#2a3f5f",
             "gridcolor": "white",
             "linecolor": "white",
             "minorgridcolor": "white",
             "startlinecolor": "#2a3f5f"
            },
            "type": "carpet"
           }
          ],
          "choropleth": [
           {
            "colorbar": {
             "outlinewidth": 0,
             "ticks": ""
            },
            "type": "choropleth"
           }
          ],
          "contour": [
           {
            "colorbar": {
             "outlinewidth": 0,
             "ticks": ""
            },
            "colorscale": [
             [
              0,
              "#0d0887"
             ],
             [
              0.1111111111111111,
              "#46039f"
             ],
             [
              0.2222222222222222,
              "#7201a8"
             ],
             [
              0.3333333333333333,
              "#9c179e"
             ],
             [
              0.4444444444444444,
              "#bd3786"
             ],
             [
              0.5555555555555556,
              "#d8576b"
             ],
             [
              0.6666666666666666,
              "#ed7953"
             ],
             [
              0.7777777777777778,
              "#fb9f3a"
             ],
             [
              0.8888888888888888,
              "#fdca26"
             ],
             [
              1,
              "#f0f921"
             ]
            ],
            "type": "contour"
           }
          ],
          "contourcarpet": [
           {
            "colorbar": {
             "outlinewidth": 0,
             "ticks": ""
            },
            "type": "contourcarpet"
           }
          ],
          "heatmap": [
           {
            "colorbar": {
             "outlinewidth": 0,
             "ticks": ""
            },
            "colorscale": [
             [
              0,
              "#0d0887"
             ],
             [
              0.1111111111111111,
              "#46039f"
             ],
             [
              0.2222222222222222,
              "#7201a8"
             ],
             [
              0.3333333333333333,
              "#9c179e"
             ],
             [
              0.4444444444444444,
              "#bd3786"
             ],
             [
              0.5555555555555556,
              "#d8576b"
             ],
             [
              0.6666666666666666,
              "#ed7953"
             ],
             [
              0.7777777777777778,
              "#fb9f3a"
             ],
             [
              0.8888888888888888,
              "#fdca26"
             ],
             [
              1,
              "#f0f921"
             ]
            ],
            "type": "heatmap"
           }
          ],
          "heatmapgl": [
           {
            "colorbar": {
             "outlinewidth": 0,
             "ticks": ""
            },
            "colorscale": [
             [
              0,
              "#0d0887"
             ],
             [
              0.1111111111111111,
              "#46039f"
             ],
             [
              0.2222222222222222,
              "#7201a8"
             ],
             [
              0.3333333333333333,
              "#9c179e"
             ],
             [
              0.4444444444444444,
              "#bd3786"
             ],
             [
              0.5555555555555556,
              "#d8576b"
             ],
             [
              0.6666666666666666,
              "#ed7953"
             ],
             [
              0.7777777777777778,
              "#fb9f3a"
             ],
             [
              0.8888888888888888,
              "#fdca26"
             ],
             [
              1,
              "#f0f921"
             ]
            ],
            "type": "heatmapgl"
           }
          ],
          "histogram": [
           {
            "marker": {
             "colorbar": {
              "outlinewidth": 0,
              "ticks": ""
             }
            },
            "type": "histogram"
           }
          ],
          "histogram2d": [
           {
            "colorbar": {
             "outlinewidth": 0,
             "ticks": ""
            },
            "colorscale": [
             [
              0,
              "#0d0887"
             ],
             [
              0.1111111111111111,
              "#46039f"
             ],
             [
              0.2222222222222222,
              "#7201a8"
             ],
             [
              0.3333333333333333,
              "#9c179e"
             ],
             [
              0.4444444444444444,
              "#bd3786"
             ],
             [
              0.5555555555555556,
              "#d8576b"
             ],
             [
              0.6666666666666666,
              "#ed7953"
             ],
             [
              0.7777777777777778,
              "#fb9f3a"
             ],
             [
              0.8888888888888888,
              "#fdca26"
             ],
             [
              1,
              "#f0f921"
             ]
            ],
            "type": "histogram2d"
           }
          ],
          "histogram2dcontour": [
           {
            "colorbar": {
             "outlinewidth": 0,
             "ticks": ""
            },
            "colorscale": [
             [
              0,
              "#0d0887"
             ],
             [
              0.1111111111111111,
              "#46039f"
             ],
             [
              0.2222222222222222,
              "#7201a8"
             ],
             [
              0.3333333333333333,
              "#9c179e"
             ],
             [
              0.4444444444444444,
              "#bd3786"
             ],
             [
              0.5555555555555556,
              "#d8576b"
             ],
             [
              0.6666666666666666,
              "#ed7953"
             ],
             [
              0.7777777777777778,
              "#fb9f3a"
             ],
             [
              0.8888888888888888,
              "#fdca26"
             ],
             [
              1,
              "#f0f921"
             ]
            ],
            "type": "histogram2dcontour"
           }
          ],
          "mesh3d": [
           {
            "colorbar": {
             "outlinewidth": 0,
             "ticks": ""
            },
            "type": "mesh3d"
           }
          ],
          "parcoords": [
           {
            "line": {
             "colorbar": {
              "outlinewidth": 0,
              "ticks": ""
             }
            },
            "type": "parcoords"
           }
          ],
          "pie": [
           {
            "automargin": true,
            "type": "pie"
           }
          ],
          "scatter": [
           {
            "marker": {
             "colorbar": {
              "outlinewidth": 0,
              "ticks": ""
             }
            },
            "type": "scatter"
           }
          ],
          "scatter3d": [
           {
            "line": {
             "colorbar": {
              "outlinewidth": 0,
              "ticks": ""
             }
            },
            "marker": {
             "colorbar": {
              "outlinewidth": 0,
              "ticks": ""
             }
            },
            "type": "scatter3d"
           }
          ],
          "scattercarpet": [
           {
            "marker": {
             "colorbar": {
              "outlinewidth": 0,
              "ticks": ""
             }
            },
            "type": "scattercarpet"
           }
          ],
          "scattergeo": [
           {
            "marker": {
             "colorbar": {
              "outlinewidth": 0,
              "ticks": ""
             }
            },
            "type": "scattergeo"
           }
          ],
          "scattergl": [
           {
            "marker": {
             "colorbar": {
              "outlinewidth": 0,
              "ticks": ""
             }
            },
            "type": "scattergl"
           }
          ],
          "scattermapbox": [
           {
            "marker": {
             "colorbar": {
              "outlinewidth": 0,
              "ticks": ""
             }
            },
            "type": "scattermapbox"
           }
          ],
          "scatterpolar": [
           {
            "marker": {
             "colorbar": {
              "outlinewidth": 0,
              "ticks": ""
             }
            },
            "type": "scatterpolar"
           }
          ],
          "scatterpolargl": [
           {
            "marker": {
             "colorbar": {
              "outlinewidth": 0,
              "ticks": ""
             }
            },
            "type": "scatterpolargl"
           }
          ],
          "scatterternary": [
           {
            "marker": {
             "colorbar": {
              "outlinewidth": 0,
              "ticks": ""
             }
            },
            "type": "scatterternary"
           }
          ],
          "surface": [
           {
            "colorbar": {
             "outlinewidth": 0,
             "ticks": ""
            },
            "colorscale": [
             [
              0,
              "#0d0887"
             ],
             [
              0.1111111111111111,
              "#46039f"
             ],
             [
              0.2222222222222222,
              "#7201a8"
             ],
             [
              0.3333333333333333,
              "#9c179e"
             ],
             [
              0.4444444444444444,
              "#bd3786"
             ],
             [
              0.5555555555555556,
              "#d8576b"
             ],
             [
              0.6666666666666666,
              "#ed7953"
             ],
             [
              0.7777777777777778,
              "#fb9f3a"
             ],
             [
              0.8888888888888888,
              "#fdca26"
             ],
             [
              1,
              "#f0f921"
             ]
            ],
            "type": "surface"
           }
          ],
          "table": [
           {
            "cells": {
             "fill": {
              "color": "#EBF0F8"
             },
             "line": {
              "color": "white"
             }
            },
            "header": {
             "fill": {
              "color": "#C8D4E3"
             },
             "line": {
              "color": "white"
             }
            },
            "type": "table"
           }
          ]
         },
         "layout": {
          "annotationdefaults": {
           "arrowcolor": "#2a3f5f",
           "arrowhead": 0,
           "arrowwidth": 1
          },
          "coloraxis": {
           "colorbar": {
            "outlinewidth": 0,
            "ticks": ""
           }
          },
          "colorscale": {
           "diverging": [
            [
             0,
             "#8e0152"
            ],
            [
             0.1,
             "#c51b7d"
            ],
            [
             0.2,
             "#de77ae"
            ],
            [
             0.3,
             "#f1b6da"
            ],
            [
             0.4,
             "#fde0ef"
            ],
            [
             0.5,
             "#f7f7f7"
            ],
            [
             0.6,
             "#e6f5d0"
            ],
            [
             0.7,
             "#b8e186"
            ],
            [
             0.8,
             "#7fbc41"
            ],
            [
             0.9,
             "#4d9221"
            ],
            [
             1,
             "#276419"
            ]
           ],
           "sequential": [
            [
             0,
             "#0d0887"
            ],
            [
             0.1111111111111111,
             "#46039f"
            ],
            [
             0.2222222222222222,
             "#7201a8"
            ],
            [
             0.3333333333333333,
             "#9c179e"
            ],
            [
             0.4444444444444444,
             "#bd3786"
            ],
            [
             0.5555555555555556,
             "#d8576b"
            ],
            [
             0.6666666666666666,
             "#ed7953"
            ],
            [
             0.7777777777777778,
             "#fb9f3a"
            ],
            [
             0.8888888888888888,
             "#fdca26"
            ],
            [
             1,
             "#f0f921"
            ]
           ],
           "sequentialminus": [
            [
             0,
             "#0d0887"
            ],
            [
             0.1111111111111111,
             "#46039f"
            ],
            [
             0.2222222222222222,
             "#7201a8"
            ],
            [
             0.3333333333333333,
             "#9c179e"
            ],
            [
             0.4444444444444444,
             "#bd3786"
            ],
            [
             0.5555555555555556,
             "#d8576b"
            ],
            [
             0.6666666666666666,
             "#ed7953"
            ],
            [
             0.7777777777777778,
             "#fb9f3a"
            ],
            [
             0.8888888888888888,
             "#fdca26"
            ],
            [
             1,
             "#f0f921"
            ]
           ]
          },
          "colorway": [
           "#636efa",
           "#EF553B",
           "#00cc96",
           "#ab63fa",
           "#FFA15A",
           "#19d3f3",
           "#FF6692",
           "#B6E880",
           "#FF97FF",
           "#FECB52"
          ],
          "font": {
           "color": "#2a3f5f"
          },
          "geo": {
           "bgcolor": "white",
           "lakecolor": "white",
           "landcolor": "#E5ECF6",
           "showlakes": true,
           "showland": true,
           "subunitcolor": "white"
          },
          "hoverlabel": {
           "align": "left"
          },
          "hovermode": "closest",
          "mapbox": {
           "style": "light"
          },
          "paper_bgcolor": "white",
          "plot_bgcolor": "#E5ECF6",
          "polar": {
           "angularaxis": {
            "gridcolor": "white",
            "linecolor": "white",
            "ticks": ""
           },
           "bgcolor": "#E5ECF6",
           "radialaxis": {
            "gridcolor": "white",
            "linecolor": "white",
            "ticks": ""
           }
          },
          "scene": {
           "xaxis": {
            "backgroundcolor": "#E5ECF6",
            "gridcolor": "white",
            "gridwidth": 2,
            "linecolor": "white",
            "showbackground": true,
            "ticks": "",
            "zerolinecolor": "white"
           },
           "yaxis": {
            "backgroundcolor": "#E5ECF6",
            "gridcolor": "white",
            "gridwidth": 2,
            "linecolor": "white",
            "showbackground": true,
            "ticks": "",
            "zerolinecolor": "white"
           },
           "zaxis": {
            "backgroundcolor": "#E5ECF6",
            "gridcolor": "white",
            "gridwidth": 2,
            "linecolor": "white",
            "showbackground": true,
            "ticks": "",
            "zerolinecolor": "white"
           }
          },
          "shapedefaults": {
           "line": {
            "color": "#2a3f5f"
           }
          },
          "ternary": {
           "aaxis": {
            "gridcolor": "white",
            "linecolor": "white",
            "ticks": ""
           },
           "baxis": {
            "gridcolor": "white",
            "linecolor": "white",
            "ticks": ""
           },
           "bgcolor": "#E5ECF6",
           "caxis": {
            "gridcolor": "white",
            "linecolor": "white",
            "ticks": ""
           }
          },
          "title": {
           "x": 0.05
          },
          "xaxis": {
           "automargin": true,
           "gridcolor": "white",
           "linecolor": "white",
           "ticks": "",
           "title": {
            "standoff": 15
           },
           "zerolinecolor": "white",
           "zerolinewidth": 2
          },
          "yaxis": {
           "automargin": true,
           "gridcolor": "white",
           "linecolor": "white",
           "ticks": "",
           "title": {
            "standoff": 15
           },
           "zerolinecolor": "white",
           "zerolinewidth": 2
          }
         }
        },
        "title": {
         "font": {
          "color": "#4D5663"
         }
        },
        "xaxis": {
         "gridcolor": "#E1E5ED",
         "showgrid": true,
         "tickfont": {
          "color": "#4D5663"
         },
         "title": {
          "font": {
           "color": "#4D5663"
          },
          "text": ""
         },
         "zerolinecolor": "#E1E5ED"
        },
        "yaxis": {
         "gridcolor": "#E1E5ED",
         "showgrid": true,
         "tickfont": {
          "color": "#4D5663"
         },
         "title": {
          "font": {
           "color": "#4D5663"
          },
          "text": ""
         },
         "zerolinecolor": "#E1E5ED"
        }
       }
      },
      "text/html": [
       "<div>\n",
       "        \n",
       "        \n",
       "            <div id=\"8b448974-8034-432c-8d05-982b35208076\" class=\"plotly-graph-div\" style=\"height:525px; width:100%;\"></div>\n",
       "            <script type=\"text/javascript\">\n",
       "                require([\"plotly\"], function(Plotly) {\n",
       "                    window.PLOTLYENV=window.PLOTLYENV || {};\n",
       "                    window.PLOTLYENV.BASE_URL='https://plot.ly';\n",
       "                    \n",
       "                if (document.getElementById(\"8b448974-8034-432c-8d05-982b35208076\")) {\n",
       "                    Plotly.newPlot(\n",
       "                        '8b448974-8034-432c-8d05-982b35208076',\n",
       "                        [{\"marker\": {\"color\": [\"rgb(255, 153, 51)\", \"rgb(55, 128, 191)\", \"rgb(50, 171, 96)\", \"rgb(128, 0, 128)\", \"rgb(219, 64, 82)\", \"rgb(0, 128, 128)\", \"rgb(255, 255, 51)\", \"rgb(128, 128, 0)\", \"rgb(251, 128, 114)\", \"rgb(128, 177, 211)\"], \"line\": {\"width\": 1.3}, \"size\": [56, 85, 102, 68, 50, 106, 26, 43, 71, 89, 96, 69, 60, 74, 71, 88, 89, 62, 64, 89, 76, 66, 52, 74, 112, 74, 110, 49, 71, 54, 71, 48, 12, 95, 78, 73, 45, 58, 102, 43, 68, 38, 72, 52, 68, 69, 52, 68, 72, 46, 85, 56, 59, 80, 84, 59, 34, 70, 62, 80, 56, 71, 43, 57, 92, 90, 83, 71, 41, 81, 49, 72, 57, 81, 68, 89, 96, 33, 76, 72, 62, 91, 63, 78, 56, 82, 70, 72, 25, 64, 63, 56, 105, 92, 87, 84, 39, 96, 101, 99], \"symbol\": \"circle\"}, \"mode\": \"markers\", \"text\": \"\", \"type\": \"scatter\", \"x\": [1.416593517660878, -0.14738395566749896, -1.7844796810424377, 1.0916939562052876, 0.8690310862451806, -0.9130881968676815, 0.999815987739978, 0.20249872319987558, 0.6651541347542538, 1.5904328259462475, 0.9224191664291218, -0.18016206629497075, 1.134944336265271, -0.19204911602866678, -0.7725701660993973, 0.10063744605008441, 0.10714591412949345, -0.42221541400028717, -0.8403776497203891, -0.34062561748689635, -0.9319306418128855, -2.7047515845412606, 0.008464414016829484, -0.24679681716914537, -0.8891064856373092, -0.0976902393419508, 2.0554795131481236, 1.140205355254008, -1.3222237382657935, 1.2972526054749431, 1.2723501043391907, -1.0402921253786834, 0.08975397544334109, -0.7211196617732506, 0.46079850518443477, -0.0035295707984208287, -1.6680052301548915, 0.39593916411591684, -0.036736725525066675, -0.18708565303207123, 0.4090337394442913, -0.11516336115305838, -2.1023287946207225, 0.7145964193033464, 0.8992939935517598, -1.1066813776882152, -0.8429684555863061, 0.8641921006942638, -0.5073841845450361, -0.8566073764635567, -0.26835127760692934, -1.2592951714357608, -0.880020854779105, 1.3836949417430615, -0.8108977849120101, 0.4561661807281345, 0.004415115029279976, 0.03828165518747515, -0.10676227658460166, 1.028572156444397, -0.28421897250220285, 0.8849806821994682, 1.4380095987100332, -0.8877395811176105, 1.228816832515203, 0.7564202279095027, -0.2625169494179067, 1.013996267722401, -0.4081800018537628, 1.0211977886508627, 0.7767951727052528, 0.2911188894392512, -1.730474681675736, 0.32841643489202166, 0.07140028981004318, 1.0689025968967223, -1.9049709066817657, -0.5405171578578922, -0.47397936749667924, -0.7220304917111585, -0.43499570927661463, -1.076760505534362, -2.851530141907224, -0.3583158919767544, -1.5432561099522224, -0.8784881122522841, -1.9603084686379697, -0.5885186370713009, 1.5997148736849103, 0.024734175690217294, 0.07809005053066699, 1.667352773288952, -1.287735836010282, -0.5990499600750134, 0.10309793710856048, 0.6049082987598869, 0.22668443288025425, -0.4085805437783098, 0.7047569911056685, -0.0058223868182907396], \"y\": [-1.784098720340015, 2.171244510657171, 0.6814350497909425, 1.6915046033363401, 0.18481649594853616, 1.3717132391682432, -1.2275847765325325, 0.1377905244967582, -1.1480009457520386, 0.26162442648712664, -0.3949869957178582, -1.4968385199265781, -1.2882205677288796, 0.734932556612695, 1.2232971975351834, -0.593392211027469, -1.0654669938822041, -0.3571674089948739, -0.13876162829474128, -0.2895293494986774, -0.48357022428835184, -1.3885923462518266, -0.5237646877578167, 1.3060138012560842, 0.25660307311615027, -0.8203047424592492, -0.4923162655865527, -0.4845844995598301, 1.1978422826877433, 2.0998690486150426, 1.01936669685555, -0.3386138535811944, -1.482145713226032, 2.2072307943488627, 0.7211135696527582, -1.8947101869608063, -1.6555186146259382, 0.6664471016106729, 0.6579972725992663, 0.26733180131832407, 0.8914121897579306, -0.5502327140222424, -0.7035046554239406, -0.9461377411810604, -0.6001142874070964, 0.02870046019532282, -1.7907167802754105, 1.3897741383929765, -0.016268510422112355, 0.5663514625633824, 1.9999017682580833, 1.6601667123454453, 0.6815372328213235, -0.8400593255846813, 1.11322310825198, 0.6606722621695404, 0.4375288477222289, -0.23405318147746282, 0.5886108970417825, -0.33299951352436286, -0.40185930102225387, -0.6635188196620705, 0.07704697176714438, -0.9213946986355144, -0.9831820012034149, 0.7946699447595283, -0.9991701796154964, 0.2815538007953517, 0.174998690858209, 0.8837798626530278, 0.9032875954210857, 0.24055208121983598, 0.5922894036824274, -1.2661514687988389, -0.8809610852153962, -0.12528969601901807, 0.6211367105295839, 0.13636933563037099, 0.5931900126435424, -1.4967044610569924, 0.5340581219643343, 0.3514056027479767, 0.4863662132233159, 0.24581933733395622, -2.059486231643359, -0.6300296950748387, 0.44013425063156586, 0.4473713899152323, -0.00047627043586563036, 0.2657031815297724, 2.201413247661273, -0.9173536467289062, -0.8332408625755586, -1.0151245854973656, 0.14016786526148148, 0.5585536889690439, -0.44476215618074133, -0.4413464723748191, -0.3494357165693916, -1.0018284495680674]}],\n",
       "                        {\"legend\": {\"bgcolor\": \"#F5F6F9\", \"font\": {\"color\": \"#4D5663\"}}, \"paper_bgcolor\": \"#F5F6F9\", \"plot_bgcolor\": \"#F5F6F9\", \"template\": {\"data\": {\"bar\": [{\"error_x\": {\"color\": \"#2a3f5f\"}, \"error_y\": {\"color\": \"#2a3f5f\"}, \"marker\": {\"line\": {\"color\": \"#E5ECF6\", \"width\": 0.5}}, \"type\": \"bar\"}], \"barpolar\": [{\"marker\": {\"line\": {\"color\": \"#E5ECF6\", \"width\": 0.5}}, \"type\": \"barpolar\"}], \"carpet\": [{\"aaxis\": {\"endlinecolor\": \"#2a3f5f\", \"gridcolor\": \"white\", \"linecolor\": \"white\", \"minorgridcolor\": \"white\", \"startlinecolor\": \"#2a3f5f\"}, \"baxis\": {\"endlinecolor\": \"#2a3f5f\", \"gridcolor\": \"white\", \"linecolor\": \"white\", \"minorgridcolor\": \"white\", \"startlinecolor\": \"#2a3f5f\"}, \"type\": \"carpet\"}], \"choropleth\": [{\"colorbar\": {\"outlinewidth\": 0, \"ticks\": \"\"}, \"type\": \"choropleth\"}], \"contour\": [{\"colorbar\": {\"outlinewidth\": 0, \"ticks\": \"\"}, \"colorscale\": [[0.0, \"#0d0887\"], [0.1111111111111111, \"#46039f\"], [0.2222222222222222, \"#7201a8\"], [0.3333333333333333, \"#9c179e\"], [0.4444444444444444, \"#bd3786\"], [0.5555555555555556, \"#d8576b\"], [0.6666666666666666, \"#ed7953\"], [0.7777777777777778, \"#fb9f3a\"], [0.8888888888888888, \"#fdca26\"], [1.0, \"#f0f921\"]], \"type\": \"contour\"}], \"contourcarpet\": [{\"colorbar\": {\"outlinewidth\": 0, \"ticks\": \"\"}, \"type\": \"contourcarpet\"}], \"heatmap\": [{\"colorbar\": {\"outlinewidth\": 0, \"ticks\": \"\"}, \"colorscale\": [[0.0, \"#0d0887\"], [0.1111111111111111, \"#46039f\"], [0.2222222222222222, \"#7201a8\"], [0.3333333333333333, \"#9c179e\"], [0.4444444444444444, \"#bd3786\"], [0.5555555555555556, \"#d8576b\"], [0.6666666666666666, \"#ed7953\"], [0.7777777777777778, \"#fb9f3a\"], [0.8888888888888888, \"#fdca26\"], [1.0, \"#f0f921\"]], \"type\": \"heatmap\"}], \"heatmapgl\": [{\"colorbar\": {\"outlinewidth\": 0, \"ticks\": \"\"}, \"colorscale\": [[0.0, \"#0d0887\"], [0.1111111111111111, \"#46039f\"], [0.2222222222222222, \"#7201a8\"], [0.3333333333333333, \"#9c179e\"], [0.4444444444444444, \"#bd3786\"], [0.5555555555555556, \"#d8576b\"], [0.6666666666666666, \"#ed7953\"], [0.7777777777777778, \"#fb9f3a\"], [0.8888888888888888, \"#fdca26\"], [1.0, \"#f0f921\"]], \"type\": \"heatmapgl\"}], \"histogram\": [{\"marker\": {\"colorbar\": {\"outlinewidth\": 0, \"ticks\": \"\"}}, \"type\": \"histogram\"}], \"histogram2d\": [{\"colorbar\": {\"outlinewidth\": 0, \"ticks\": \"\"}, \"colorscale\": [[0.0, \"#0d0887\"], [0.1111111111111111, \"#46039f\"], [0.2222222222222222, \"#7201a8\"], [0.3333333333333333, \"#9c179e\"], [0.4444444444444444, \"#bd3786\"], [0.5555555555555556, \"#d8576b\"], [0.6666666666666666, \"#ed7953\"], [0.7777777777777778, \"#fb9f3a\"], [0.8888888888888888, \"#fdca26\"], [1.0, \"#f0f921\"]], \"type\": \"histogram2d\"}], \"histogram2dcontour\": [{\"colorbar\": {\"outlinewidth\": 0, \"ticks\": \"\"}, \"colorscale\": [[0.0, \"#0d0887\"], [0.1111111111111111, \"#46039f\"], [0.2222222222222222, \"#7201a8\"], [0.3333333333333333, \"#9c179e\"], [0.4444444444444444, \"#bd3786\"], [0.5555555555555556, \"#d8576b\"], [0.6666666666666666, \"#ed7953\"], [0.7777777777777778, \"#fb9f3a\"], [0.8888888888888888, \"#fdca26\"], [1.0, \"#f0f921\"]], \"type\": \"histogram2dcontour\"}], \"mesh3d\": [{\"colorbar\": {\"outlinewidth\": 0, \"ticks\": \"\"}, \"type\": \"mesh3d\"}], \"parcoords\": [{\"line\": {\"colorbar\": {\"outlinewidth\": 0, \"ticks\": \"\"}}, \"type\": \"parcoords\"}], \"pie\": [{\"automargin\": true, \"type\": \"pie\"}], \"scatter\": [{\"marker\": {\"colorbar\": {\"outlinewidth\": 0, \"ticks\": \"\"}}, \"type\": \"scatter\"}], \"scatter3d\": [{\"line\": {\"colorbar\": {\"outlinewidth\": 0, \"ticks\": \"\"}}, \"marker\": {\"colorbar\": {\"outlinewidth\": 0, \"ticks\": \"\"}}, \"type\": \"scatter3d\"}], \"scattercarpet\": [{\"marker\": {\"colorbar\": {\"outlinewidth\": 0, \"ticks\": \"\"}}, \"type\": \"scattercarpet\"}], \"scattergeo\": [{\"marker\": {\"colorbar\": {\"outlinewidth\": 0, \"ticks\": \"\"}}, \"type\": \"scattergeo\"}], \"scattergl\": [{\"marker\": {\"colorbar\": {\"outlinewidth\": 0, \"ticks\": \"\"}}, \"type\": \"scattergl\"}], \"scattermapbox\": [{\"marker\": {\"colorbar\": {\"outlinewidth\": 0, \"ticks\": \"\"}}, \"type\": \"scattermapbox\"}], \"scatterpolar\": [{\"marker\": {\"colorbar\": {\"outlinewidth\": 0, \"ticks\": \"\"}}, \"type\": \"scatterpolar\"}], \"scatterpolargl\": [{\"marker\": {\"colorbar\": {\"outlinewidth\": 0, \"ticks\": \"\"}}, \"type\": \"scatterpolargl\"}], \"scatterternary\": [{\"marker\": {\"colorbar\": {\"outlinewidth\": 0, \"ticks\": \"\"}}, \"type\": \"scatterternary\"}], \"surface\": [{\"colorbar\": {\"outlinewidth\": 0, \"ticks\": \"\"}, \"colorscale\": [[0.0, \"#0d0887\"], [0.1111111111111111, \"#46039f\"], [0.2222222222222222, \"#7201a8\"], [0.3333333333333333, \"#9c179e\"], [0.4444444444444444, \"#bd3786\"], [0.5555555555555556, \"#d8576b\"], [0.6666666666666666, \"#ed7953\"], [0.7777777777777778, \"#fb9f3a\"], [0.8888888888888888, \"#fdca26\"], [1.0, \"#f0f921\"]], \"type\": \"surface\"}], \"table\": [{\"cells\": {\"fill\": {\"color\": \"#EBF0F8\"}, \"line\": {\"color\": \"white\"}}, \"header\": {\"fill\": {\"color\": \"#C8D4E3\"}, \"line\": {\"color\": \"white\"}}, \"type\": \"table\"}]}, \"layout\": {\"annotationdefaults\": {\"arrowcolor\": \"#2a3f5f\", \"arrowhead\": 0, \"arrowwidth\": 1}, \"coloraxis\": {\"colorbar\": {\"outlinewidth\": 0, \"ticks\": \"\"}}, \"colorscale\": {\"diverging\": [[0, \"#8e0152\"], [0.1, \"#c51b7d\"], [0.2, \"#de77ae\"], [0.3, \"#f1b6da\"], [0.4, \"#fde0ef\"], [0.5, \"#f7f7f7\"], [0.6, \"#e6f5d0\"], [0.7, \"#b8e186\"], [0.8, \"#7fbc41\"], [0.9, \"#4d9221\"], [1, \"#276419\"]], \"sequential\": [[0.0, \"#0d0887\"], [0.1111111111111111, \"#46039f\"], [0.2222222222222222, \"#7201a8\"], [0.3333333333333333, \"#9c179e\"], [0.4444444444444444, \"#bd3786\"], [0.5555555555555556, \"#d8576b\"], [0.6666666666666666, \"#ed7953\"], [0.7777777777777778, \"#fb9f3a\"], [0.8888888888888888, \"#fdca26\"], [1.0, \"#f0f921\"]], \"sequentialminus\": [[0.0, \"#0d0887\"], [0.1111111111111111, \"#46039f\"], [0.2222222222222222, \"#7201a8\"], [0.3333333333333333, \"#9c179e\"], [0.4444444444444444, \"#bd3786\"], [0.5555555555555556, \"#d8576b\"], [0.6666666666666666, \"#ed7953\"], [0.7777777777777778, \"#fb9f3a\"], [0.8888888888888888, \"#fdca26\"], [1.0, \"#f0f921\"]]}, \"colorway\": [\"#636efa\", \"#EF553B\", \"#00cc96\", \"#ab63fa\", \"#FFA15A\", \"#19d3f3\", \"#FF6692\", \"#B6E880\", \"#FF97FF\", \"#FECB52\"], \"font\": {\"color\": \"#2a3f5f\"}, \"geo\": {\"bgcolor\": \"white\", \"lakecolor\": \"white\", \"landcolor\": \"#E5ECF6\", \"showlakes\": true, \"showland\": true, \"subunitcolor\": \"white\"}, \"hoverlabel\": {\"align\": \"left\"}, \"hovermode\": \"closest\", \"mapbox\": {\"style\": \"light\"}, \"paper_bgcolor\": \"white\", \"plot_bgcolor\": \"#E5ECF6\", \"polar\": {\"angularaxis\": {\"gridcolor\": \"white\", \"linecolor\": \"white\", \"ticks\": \"\"}, \"bgcolor\": \"#E5ECF6\", \"radialaxis\": {\"gridcolor\": \"white\", \"linecolor\": \"white\", \"ticks\": \"\"}}, \"scene\": {\"xaxis\": {\"backgroundcolor\": \"#E5ECF6\", \"gridcolor\": \"white\", \"gridwidth\": 2, \"linecolor\": \"white\", \"showbackground\": true, \"ticks\": \"\", \"zerolinecolor\": \"white\"}, \"yaxis\": {\"backgroundcolor\": \"#E5ECF6\", \"gridcolor\": \"white\", \"gridwidth\": 2, \"linecolor\": \"white\", \"showbackground\": true, \"ticks\": \"\", \"zerolinecolor\": \"white\"}, \"zaxis\": {\"backgroundcolor\": \"#E5ECF6\", \"gridcolor\": \"white\", \"gridwidth\": 2, \"linecolor\": \"white\", \"showbackground\": true, \"ticks\": \"\", \"zerolinecolor\": \"white\"}}, \"shapedefaults\": {\"line\": {\"color\": \"#2a3f5f\"}}, \"ternary\": {\"aaxis\": {\"gridcolor\": \"white\", \"linecolor\": \"white\", \"ticks\": \"\"}, \"baxis\": {\"gridcolor\": \"white\", \"linecolor\": \"white\", \"ticks\": \"\"}, \"bgcolor\": \"#E5ECF6\", \"caxis\": {\"gridcolor\": \"white\", \"linecolor\": \"white\", \"ticks\": \"\"}}, \"title\": {\"x\": 0.05}, \"xaxis\": {\"automargin\": true, \"gridcolor\": \"white\", \"linecolor\": \"white\", \"ticks\": \"\", \"title\": {\"standoff\": 15}, \"zerolinecolor\": \"white\", \"zerolinewidth\": 2}, \"yaxis\": {\"automargin\": true, \"gridcolor\": \"white\", \"linecolor\": \"white\", \"ticks\": \"\", \"title\": {\"standoff\": 15}, \"zerolinecolor\": \"white\", \"zerolinewidth\": 2}}}, \"title\": {\"font\": {\"color\": \"#4D5663\"}}, \"xaxis\": {\"gridcolor\": \"#E1E5ED\", \"showgrid\": true, \"tickfont\": {\"color\": \"#4D5663\"}, \"title\": {\"font\": {\"color\": \"#4D5663\"}, \"text\": \"\"}, \"zerolinecolor\": \"#E1E5ED\"}, \"yaxis\": {\"gridcolor\": \"#E1E5ED\", \"showgrid\": true, \"tickfont\": {\"color\": \"#4D5663\"}, \"title\": {\"font\": {\"color\": \"#4D5663\"}, \"text\": \"\"}, \"zerolinecolor\": \"#E1E5ED\"}},\n",
       "                        {\"showLink\": true, \"linkText\": \"Export to plot.ly\", \"plotlyServerURL\": \"https://plot.ly\", \"responsive\": true}\n",
       "                    ).then(function(){\n",
       "                            \n",
       "var gd = document.getElementById('8b448974-8034-432c-8d05-982b35208076');\n",
       "var x = new MutationObserver(function (mutations, observer) {{\n",
       "        var display = window.getComputedStyle(gd).display;\n",
       "        if (!display || display === 'none') {{\n",
       "            console.log([gd, 'removed!']);\n",
       "            Plotly.purge(gd);\n",
       "            observer.disconnect();\n",
       "        }}\n",
       "}});\n",
       "\n",
       "// Listen for the removal of the full notebook cells\n",
       "var notebookContainer = gd.closest('#notebook-container');\n",
       "if (notebookContainer) {{\n",
       "    x.observe(notebookContainer, {childList: true});\n",
       "}}\n",
       "\n",
       "// Listen for the clearing of the current output cell\n",
       "var outputEl = gd.closest('.output');\n",
       "if (outputEl) {{\n",
       "    x.observe(outputEl, {childList: true});\n",
       "}}\n",
       "\n",
       "                        })\n",
       "                };\n",
       "                });\n",
       "            </script>\n",
       "        </div>"
      ]
     },
     "metadata": {},
     "output_type": "display_data"
    }
   ],
   "source": [
    "#Bubble plot - Similar to scatter plots but size based on a variable\n",
    "#World GDP in comparison to population , Happiness factor are some of its uses\n",
    "df.iplot(kind = 'bubble', x = 'A', y = 'B', size = 'C')"
   ]
  },
  {
   "cell_type": "code",
   "execution_count": 54,
   "metadata": {},
   "outputs": [
    {
     "data": {
      "application/vnd.plotly.v1+json": {
       "config": {
        "linkText": "Export to plot.ly",
        "plotlyServerURL": "https://plot.ly",
        "showLink": true
       },
       "data": [
        {
         "histfunc": "count",
         "histnorm": "",
         "marker": {
          "color": "rgba(255, 153, 51, 1.0)",
          "line": {
           "color": "#4D5663",
           "width": 1.3
          }
         },
         "name": "A",
         "nbinsx": 10,
         "opacity": 0.8,
         "orientation": "v",
         "type": "histogram",
         "x": [
          1.416593517660878,
          -0.14738395566749896,
          -1.7844796810424377,
          1.0916939562052876,
          0.8690310862451806,
          -0.9130881968676815,
          0.999815987739978,
          0.20249872319987558,
          0.6651541347542538,
          1.5904328259462475,
          0.9224191664291218,
          -0.18016206629497075,
          1.134944336265271,
          -0.19204911602866678,
          -0.7725701660993973,
          0.10063744605008441,
          0.10714591412949345,
          -0.42221541400028717,
          -0.8403776497203891,
          -0.34062561748689635,
          -0.9319306418128855,
          -2.7047515845412606,
          0.008464414016829484,
          -0.24679681716914537,
          -0.8891064856373092,
          -0.0976902393419508,
          2.0554795131481236,
          1.140205355254008,
          -1.3222237382657935,
          1.2972526054749431,
          1.2723501043391907,
          -1.0402921253786834,
          0.08975397544334109,
          -0.7211196617732506,
          0.46079850518443477,
          -0.0035295707984208287,
          -1.6680052301548915,
          0.39593916411591684,
          -0.036736725525066675,
          -0.18708565303207123,
          0.4090337394442913,
          -0.11516336115305838,
          -2.1023287946207225,
          0.7145964193033464,
          0.8992939935517598,
          -1.1066813776882152,
          -0.8429684555863061,
          0.8641921006942638,
          -0.5073841845450361,
          -0.8566073764635567,
          -0.26835127760692934,
          -1.2592951714357608,
          -0.880020854779105,
          1.3836949417430615,
          -0.8108977849120101,
          0.4561661807281345,
          0.004415115029279976,
          0.03828165518747515,
          -0.10676227658460166,
          1.028572156444397,
          -0.28421897250220285,
          0.8849806821994682,
          1.4380095987100332,
          -0.8877395811176105,
          1.228816832515203,
          0.7564202279095027,
          -0.2625169494179067,
          1.013996267722401,
          -0.4081800018537628,
          1.0211977886508627,
          0.7767951727052528,
          0.2911188894392512,
          -1.730474681675736,
          0.32841643489202166,
          0.07140028981004318,
          1.0689025968967223,
          -1.9049709066817657,
          -0.5405171578578922,
          -0.47397936749667924,
          -0.7220304917111585,
          -0.43499570927661463,
          -1.076760505534362,
          -2.851530141907224,
          -0.3583158919767544,
          -1.5432561099522224,
          -0.8784881122522841,
          -1.9603084686379697,
          -0.5885186370713009,
          1.5997148736849103,
          0.024734175690217294,
          0.07809005053066699,
          1.667352773288952,
          -1.287735836010282,
          -0.5990499600750134,
          0.10309793710856048,
          0.6049082987598869,
          0.22668443288025425,
          -0.4085805437783098,
          0.7047569911056685,
          -0.0058223868182907396
         ],
         "xaxis": "x",
         "yaxis": "y"
        },
        {
         "line": {
          "color": "rgba(128, 128, 128, 1.0)",
          "dash": "solid",
          "shape": "linear",
          "width": 1.3
         },
         "marker": {
          "size": 2,
          "symbol": "circle"
         },
         "mode": "markers",
         "name": "A",
         "text": "",
         "type": "scatter",
         "x": [
          -1.784098720340015,
          2.171244510657171,
          0.6814350497909425,
          1.6915046033363401,
          0.18481649594853616,
          1.3717132391682432,
          -1.2275847765325325,
          0.1377905244967582,
          -1.1480009457520386,
          0.26162442648712664,
          -0.3949869957178582,
          -1.4968385199265781,
          -1.2882205677288796,
          0.734932556612695,
          1.2232971975351834,
          -0.593392211027469,
          -1.0654669938822041,
          -0.3571674089948739,
          -0.13876162829474128,
          -0.2895293494986774,
          -0.48357022428835184,
          -1.3885923462518266,
          -0.5237646877578167,
          1.3060138012560842,
          0.25660307311615027,
          -0.8203047424592492,
          -0.4923162655865527,
          -0.4845844995598301,
          1.1978422826877433,
          2.0998690486150426,
          1.01936669685555,
          -0.3386138535811944,
          -1.482145713226032,
          2.2072307943488627,
          0.7211135696527582,
          -1.8947101869608063,
          -1.6555186146259382,
          0.6664471016106729,
          0.6579972725992663,
          0.26733180131832407,
          0.8914121897579306,
          -0.5502327140222424,
          -0.7035046554239406,
          -0.9461377411810604,
          -0.6001142874070964,
          0.02870046019532282,
          -1.7907167802754105,
          1.3897741383929765,
          -0.016268510422112355,
          0.5663514625633824,
          1.9999017682580833,
          1.6601667123454453,
          0.6815372328213235,
          -0.8400593255846813,
          1.11322310825198,
          0.6606722621695404,
          0.4375288477222289,
          -0.23405318147746282,
          0.5886108970417825,
          -0.33299951352436286,
          -0.40185930102225387,
          -0.6635188196620705,
          0.07704697176714438,
          -0.9213946986355144,
          -0.9831820012034149,
          0.7946699447595283,
          -0.9991701796154964,
          0.2815538007953517,
          0.174998690858209,
          0.8837798626530278,
          0.9032875954210857,
          0.24055208121983598,
          0.5922894036824274,
          -1.2661514687988389,
          -0.8809610852153962,
          -0.12528969601901807,
          0.6211367105295839,
          0.13636933563037099,
          0.5931900126435424,
          -1.4967044610569924,
          0.5340581219643343,
          0.3514056027479767,
          0.4863662132233159,
          0.24581933733395622,
          -2.059486231643359,
          -0.6300296950748387,
          0.44013425063156586,
          0.4473713899152323,
          -0.00047627043586563036,
          0.2657031815297724,
          2.201413247661273,
          -0.9173536467289062,
          -0.8332408625755586,
          -1.0151245854973656,
          0.14016786526148148,
          0.5585536889690439,
          -0.44476215618074133,
          -0.4413464723748191,
          -0.3494357165693916,
          -1.0018284495680674
         ],
         "xaxis": "x2",
         "y": [
          1.416593517660878,
          -0.14738395566749896,
          -1.7844796810424377,
          1.0916939562052876,
          0.8690310862451806,
          -0.9130881968676815,
          0.999815987739978,
          0.20249872319987558,
          0.6651541347542538,
          1.5904328259462475,
          0.9224191664291218,
          -0.18016206629497075,
          1.134944336265271,
          -0.19204911602866678,
          -0.7725701660993973,
          0.10063744605008441,
          0.10714591412949345,
          -0.42221541400028717,
          -0.8403776497203891,
          -0.34062561748689635,
          -0.9319306418128855,
          -2.7047515845412606,
          0.008464414016829484,
          -0.24679681716914537,
          -0.8891064856373092,
          -0.0976902393419508,
          2.0554795131481236,
          1.140205355254008,
          -1.3222237382657935,
          1.2972526054749431,
          1.2723501043391907,
          -1.0402921253786834,
          0.08975397544334109,
          -0.7211196617732506,
          0.46079850518443477,
          -0.0035295707984208287,
          -1.6680052301548915,
          0.39593916411591684,
          -0.036736725525066675,
          -0.18708565303207123,
          0.4090337394442913,
          -0.11516336115305838,
          -2.1023287946207225,
          0.7145964193033464,
          0.8992939935517598,
          -1.1066813776882152,
          -0.8429684555863061,
          0.8641921006942638,
          -0.5073841845450361,
          -0.8566073764635567,
          -0.26835127760692934,
          -1.2592951714357608,
          -0.880020854779105,
          1.3836949417430615,
          -0.8108977849120101,
          0.4561661807281345,
          0.004415115029279976,
          0.03828165518747515,
          -0.10676227658460166,
          1.028572156444397,
          -0.28421897250220285,
          0.8849806821994682,
          1.4380095987100332,
          -0.8877395811176105,
          1.228816832515203,
          0.7564202279095027,
          -0.2625169494179067,
          1.013996267722401,
          -0.4081800018537628,
          1.0211977886508627,
          0.7767951727052528,
          0.2911188894392512,
          -1.730474681675736,
          0.32841643489202166,
          0.07140028981004318,
          1.0689025968967223,
          -1.9049709066817657,
          -0.5405171578578922,
          -0.47397936749667924,
          -0.7220304917111585,
          -0.43499570927661463,
          -1.076760505534362,
          -2.851530141907224,
          -0.3583158919767544,
          -1.5432561099522224,
          -0.8784881122522841,
          -1.9603084686379697,
          -0.5885186370713009,
          1.5997148736849103,
          0.024734175690217294,
          0.07809005053066699,
          1.667352773288952,
          -1.287735836010282,
          -0.5990499600750134,
          0.10309793710856048,
          0.6049082987598869,
          0.22668443288025425,
          -0.4085805437783098,
          0.7047569911056685,
          -0.0058223868182907396
         ],
         "yaxis": "y2"
        },
        {
         "line": {
          "color": "rgba(128, 128, 128, 1.0)",
          "dash": "solid",
          "shape": "linear",
          "width": 1.3
         },
         "marker": {
          "size": 2,
          "symbol": "circle"
         },
         "mode": "markers",
         "name": "A",
         "text": "",
         "type": "scatter",
         "x": [
          -0.5967119098197226,
          0.853238764026366,
          1.6672094843438492,
          -0.0037601992873524037,
          -0.9071834782154601,
          1.883690558450849,
          -2.106354563045812,
          -1.2168484036552596,
          0.17255626813792466,
          1.0582852945687178,
          1.3952429242549573,
          0.07227254577092632,
          -0.4195317892628768,
          0.3148586861350653,
          0.17138607027311709,
          0.979523061893303,
          1.0170253940983998,
          -0.31540535624226623,
          -0.1771259277074585,
          1.0509795019188313,
          0.4027836644340148,
          -0.10335933258826242,
          -0.7935237694439741,
          0.2929342298614919,
          2.156830774988516,
          0.30115733682483886,
          2.0883112687994463,
          -0.9278018279636102,
          0.1274690526763963,
          -0.7019996573220373,
          0.1499739530535481,
          -1.0036591424346843,
          -2.800423325047921,
          1.3353677753307296,
          0.5034117514155685,
          0.2570665310706626,
          -1.1518065065844245,
          -0.4729507221586094,
          1.672213002084143,
          -1.2363872849124302,
          0.012105592964178779,
          -1.493747478456467,
          0.1952640284715851,
          -0.7848860869658573,
          0.02009202740699355,
          0.07135868247529763,
          -0.7884840153246424,
          0.01814514012957843,
          0.2146823765491746,
          -1.0675674116210412,
          0.8544589019211002,
          -0.5989615235683363,
          -0.46581180378221787,
          0.6152601748855848,
          0.7692237912289807,
          -0.4420183379256885,
          -1.6959042945833291,
          0.08343248358165806,
          -0.2945583821376016,
          0.6063342583506851,
          -0.5887858952909739,
          0.13694788409010514,
          -1.2424969811602868,
          -0.5239490868519974,
          1.1956002105011092,
          1.084099517593647,
          0.7610297699914984,
          0.15656489162299303,
          -1.3256041858993401,
          0.6332892520923301,
          -0.9439011838970643,
          0.19397551161246512,
          -0.564838581449026,
          0.6443860682633141,
          -0.00950007628578957,
          1.059583505527082,
          1.3659520311143776,
          -1.7341794280109315,
          0.3817222401871636,
          0.20508286240366627,
          -0.30652983613662893,
          1.1586328857965569,
          -0.24000038468347007,
          0.5057631958197074,
          -0.6101763309802465,
          0.7182084359558547,
          0.1162004892642478,
          0.20904716578240504,
          -2.1276348152551523,
          -0.20780572655946458,
          -0.260592364108929,
          -0.580124951761244,
          1.8107866238776256,
          1.2067337473203945,
          0.9661438170829647,
          0.778797568299232,
          -1.4437124946541433,
          1.4058055726143668,
          1.6464512148069346,
          1.5567465741174473
         ],
         "xaxis": "x3",
         "y": [
          1.416593517660878,
          -0.14738395566749896,
          -1.7844796810424377,
          1.0916939562052876,
          0.8690310862451806,
          -0.9130881968676815,
          0.999815987739978,
          0.20249872319987558,
          0.6651541347542538,
          1.5904328259462475,
          0.9224191664291218,
          -0.18016206629497075,
          1.134944336265271,
          -0.19204911602866678,
          -0.7725701660993973,
          0.10063744605008441,
          0.10714591412949345,
          -0.42221541400028717,
          -0.8403776497203891,
          -0.34062561748689635,
          -0.9319306418128855,
          -2.7047515845412606,
          0.008464414016829484,
          -0.24679681716914537,
          -0.8891064856373092,
          -0.0976902393419508,
          2.0554795131481236,
          1.140205355254008,
          -1.3222237382657935,
          1.2972526054749431,
          1.2723501043391907,
          -1.0402921253786834,
          0.08975397544334109,
          -0.7211196617732506,
          0.46079850518443477,
          -0.0035295707984208287,
          -1.6680052301548915,
          0.39593916411591684,
          -0.036736725525066675,
          -0.18708565303207123,
          0.4090337394442913,
          -0.11516336115305838,
          -2.1023287946207225,
          0.7145964193033464,
          0.8992939935517598,
          -1.1066813776882152,
          -0.8429684555863061,
          0.8641921006942638,
          -0.5073841845450361,
          -0.8566073764635567,
          -0.26835127760692934,
          -1.2592951714357608,
          -0.880020854779105,
          1.3836949417430615,
          -0.8108977849120101,
          0.4561661807281345,
          0.004415115029279976,
          0.03828165518747515,
          -0.10676227658460166,
          1.028572156444397,
          -0.28421897250220285,
          0.8849806821994682,
          1.4380095987100332,
          -0.8877395811176105,
          1.228816832515203,
          0.7564202279095027,
          -0.2625169494179067,
          1.013996267722401,
          -0.4081800018537628,
          1.0211977886508627,
          0.7767951727052528,
          0.2911188894392512,
          -1.730474681675736,
          0.32841643489202166,
          0.07140028981004318,
          1.0689025968967223,
          -1.9049709066817657,
          -0.5405171578578922,
          -0.47397936749667924,
          -0.7220304917111585,
          -0.43499570927661463,
          -1.076760505534362,
          -2.851530141907224,
          -0.3583158919767544,
          -1.5432561099522224,
          -0.8784881122522841,
          -1.9603084686379697,
          -0.5885186370713009,
          1.5997148736849103,
          0.024734175690217294,
          0.07809005053066699,
          1.667352773288952,
          -1.287735836010282,
          -0.5990499600750134,
          0.10309793710856048,
          0.6049082987598869,
          0.22668443288025425,
          -0.4085805437783098,
          0.7047569911056685,
          -0.0058223868182907396
         ],
         "yaxis": "y3"
        },
        {
         "line": {
          "color": "rgba(128, 128, 128, 1.0)",
          "dash": "solid",
          "shape": "linear",
          "width": 1.3
         },
         "marker": {
          "size": 2,
          "symbol": "circle"
         },
         "mode": "markers",
         "name": "A",
         "text": "",
         "type": "scatter",
         "x": [
          0.6079252288271123,
          -0.7673086708362776,
          2.7918004888249155,
          1.5313914625222045,
          -1.4345453782854332,
          -1.0437865151846786,
          0.19847176529920577,
          1.3862446579489935,
          -0.35138062753487304,
          0.03719432201318422,
          -1.7616253778540005,
          2.3407054624379846,
          -0.2000097595989267,
          0.7669854014325037,
          0.11298294909977,
          0.046858080065504425,
          -0.18120895485222938,
          0.7695550229775915,
          0.15511077522056577,
          -0.9108953777606292,
          0.6377005270907216,
          -1.6068124460140327,
          1.845840177929854,
          -1.1052126634256259,
          -1.6451598313262024,
          1.0953926667391707,
          -2.6811855828962696,
          -0.24426026935419365,
          -0.6820128828581605,
          0.3608787094224027,
          -0.0764345595001479,
          0.3088811741935369,
          -0.329408490492265,
          1.4464185545662458,
          -2.0128086971620927,
          0.08825858728083487,
          -0.168682137332262,
          2.065928188589186,
          -1.6017962278561868,
          -1.5312993522830245,
          -0.03945107251970846,
          -0.6733129013460523,
          -0.6076787744094737,
          1.6360672041399968,
          0.48494877078027687,
          0.01323259657886119,
          1.4328584127569208,
          -1.6683257498452444,
          -0.8829926821113253,
          -0.09166483027086167,
          -3.080415218787863,
          -0.8472046953264905,
          -0.049951322488767644,
          -0.6759172855350523,
          0.2810806490503662,
          0.07703330630025013,
          1.7316185845049246,
          0.5755896592654809,
          0.7732777600729397,
          -0.5761818253061513,
          -0.5662697882027303,
          -1.284520760769256,
          0.41915185995351933,
          0.4516275355752908,
          0.10016374487909058,
          -0.589883708770861,
          -0.425278673747093,
          -0.7888957909839527,
          0.5080520587703382,
          -0.14777685657714393,
          0.19389746683109096,
          -0.1863775839392197,
          3.826662212990111,
          1.7942084045458413,
          -1.346814767384748,
          -1.1375499897392416,
          0.48098246076773254,
          -1.2442890043073742,
          0.006054537387323956,
          0.7079016296857916,
          0.9850833750736986,
          -0.3163365229351439,
          -0.4816814896722392,
          -0.04785840952576833,
          -0.5514694996254651,
          1.0549941504273481,
          1.1669241949067033,
          -0.29010413031084936,
          -0.5107131029812131,
          -0.9299722618442059,
          0.40261878264672124,
          -1.1679406337745477,
          0.5435855253429999,
          -1.19777229520187,
          1.3514454837032996,
          -0.3965259735689329,
          0.17952127104730956,
          -0.3082954895460292,
          0.2721710338721595,
          -1.1620535089156803
         ],
         "xaxis": "x4",
         "y": [
          1.416593517660878,
          -0.14738395566749896,
          -1.7844796810424377,
          1.0916939562052876,
          0.8690310862451806,
          -0.9130881968676815,
          0.999815987739978,
          0.20249872319987558,
          0.6651541347542538,
          1.5904328259462475,
          0.9224191664291218,
          -0.18016206629497075,
          1.134944336265271,
          -0.19204911602866678,
          -0.7725701660993973,
          0.10063744605008441,
          0.10714591412949345,
          -0.42221541400028717,
          -0.8403776497203891,
          -0.34062561748689635,
          -0.9319306418128855,
          -2.7047515845412606,
          0.008464414016829484,
          -0.24679681716914537,
          -0.8891064856373092,
          -0.0976902393419508,
          2.0554795131481236,
          1.140205355254008,
          -1.3222237382657935,
          1.2972526054749431,
          1.2723501043391907,
          -1.0402921253786834,
          0.08975397544334109,
          -0.7211196617732506,
          0.46079850518443477,
          -0.0035295707984208287,
          -1.6680052301548915,
          0.39593916411591684,
          -0.036736725525066675,
          -0.18708565303207123,
          0.4090337394442913,
          -0.11516336115305838,
          -2.1023287946207225,
          0.7145964193033464,
          0.8992939935517598,
          -1.1066813776882152,
          -0.8429684555863061,
          0.8641921006942638,
          -0.5073841845450361,
          -0.8566073764635567,
          -0.26835127760692934,
          -1.2592951714357608,
          -0.880020854779105,
          1.3836949417430615,
          -0.8108977849120101,
          0.4561661807281345,
          0.004415115029279976,
          0.03828165518747515,
          -0.10676227658460166,
          1.028572156444397,
          -0.28421897250220285,
          0.8849806821994682,
          1.4380095987100332,
          -0.8877395811176105,
          1.228816832515203,
          0.7564202279095027,
          -0.2625169494179067,
          1.013996267722401,
          -0.4081800018537628,
          1.0211977886508627,
          0.7767951727052528,
          0.2911188894392512,
          -1.730474681675736,
          0.32841643489202166,
          0.07140028981004318,
          1.0689025968967223,
          -1.9049709066817657,
          -0.5405171578578922,
          -0.47397936749667924,
          -0.7220304917111585,
          -0.43499570927661463,
          -1.076760505534362,
          -2.851530141907224,
          -0.3583158919767544,
          -1.5432561099522224,
          -0.8784881122522841,
          -1.9603084686379697,
          -0.5885186370713009,
          1.5997148736849103,
          0.024734175690217294,
          0.07809005053066699,
          1.667352773288952,
          -1.287735836010282,
          -0.5990499600750134,
          0.10309793710856048,
          0.6049082987598869,
          0.22668443288025425,
          -0.4085805437783098,
          0.7047569911056685,
          -0.0058223868182907396
         ],
         "yaxis": "y4"
        },
        {
         "line": {
          "color": "rgba(128, 128, 128, 1.0)",
          "dash": "solid",
          "shape": "linear",
          "width": 1.3
         },
         "marker": {
          "size": 2,
          "symbol": "circle"
         },
         "mode": "markers",
         "name": "B",
         "text": "",
         "type": "scatter",
         "x": [
          1.416593517660878,
          -0.14738395566749896,
          -1.7844796810424377,
          1.0916939562052876,
          0.8690310862451806,
          -0.9130881968676815,
          0.999815987739978,
          0.20249872319987558,
          0.6651541347542538,
          1.5904328259462475,
          0.9224191664291218,
          -0.18016206629497075,
          1.134944336265271,
          -0.19204911602866678,
          -0.7725701660993973,
          0.10063744605008441,
          0.10714591412949345,
          -0.42221541400028717,
          -0.8403776497203891,
          -0.34062561748689635,
          -0.9319306418128855,
          -2.7047515845412606,
          0.008464414016829484,
          -0.24679681716914537,
          -0.8891064856373092,
          -0.0976902393419508,
          2.0554795131481236,
          1.140205355254008,
          -1.3222237382657935,
          1.2972526054749431,
          1.2723501043391907,
          -1.0402921253786834,
          0.08975397544334109,
          -0.7211196617732506,
          0.46079850518443477,
          -0.0035295707984208287,
          -1.6680052301548915,
          0.39593916411591684,
          -0.036736725525066675,
          -0.18708565303207123,
          0.4090337394442913,
          -0.11516336115305838,
          -2.1023287946207225,
          0.7145964193033464,
          0.8992939935517598,
          -1.1066813776882152,
          -0.8429684555863061,
          0.8641921006942638,
          -0.5073841845450361,
          -0.8566073764635567,
          -0.26835127760692934,
          -1.2592951714357608,
          -0.880020854779105,
          1.3836949417430615,
          -0.8108977849120101,
          0.4561661807281345,
          0.004415115029279976,
          0.03828165518747515,
          -0.10676227658460166,
          1.028572156444397,
          -0.28421897250220285,
          0.8849806821994682,
          1.4380095987100332,
          -0.8877395811176105,
          1.228816832515203,
          0.7564202279095027,
          -0.2625169494179067,
          1.013996267722401,
          -0.4081800018537628,
          1.0211977886508627,
          0.7767951727052528,
          0.2911188894392512,
          -1.730474681675736,
          0.32841643489202166,
          0.07140028981004318,
          1.0689025968967223,
          -1.9049709066817657,
          -0.5405171578578922,
          -0.47397936749667924,
          -0.7220304917111585,
          -0.43499570927661463,
          -1.076760505534362,
          -2.851530141907224,
          -0.3583158919767544,
          -1.5432561099522224,
          -0.8784881122522841,
          -1.9603084686379697,
          -0.5885186370713009,
          1.5997148736849103,
          0.024734175690217294,
          0.07809005053066699,
          1.667352773288952,
          -1.287735836010282,
          -0.5990499600750134,
          0.10309793710856048,
          0.6049082987598869,
          0.22668443288025425,
          -0.4085805437783098,
          0.7047569911056685,
          -0.0058223868182907396
         ],
         "xaxis": "x5",
         "y": [
          -1.784098720340015,
          2.171244510657171,
          0.6814350497909425,
          1.6915046033363401,
          0.18481649594853616,
          1.3717132391682432,
          -1.2275847765325325,
          0.1377905244967582,
          -1.1480009457520386,
          0.26162442648712664,
          -0.3949869957178582,
          -1.4968385199265781,
          -1.2882205677288796,
          0.734932556612695,
          1.2232971975351834,
          -0.593392211027469,
          -1.0654669938822041,
          -0.3571674089948739,
          -0.13876162829474128,
          -0.2895293494986774,
          -0.48357022428835184,
          -1.3885923462518266,
          -0.5237646877578167,
          1.3060138012560842,
          0.25660307311615027,
          -0.8203047424592492,
          -0.4923162655865527,
          -0.4845844995598301,
          1.1978422826877433,
          2.0998690486150426,
          1.01936669685555,
          -0.3386138535811944,
          -1.482145713226032,
          2.2072307943488627,
          0.7211135696527582,
          -1.8947101869608063,
          -1.6555186146259382,
          0.6664471016106729,
          0.6579972725992663,
          0.26733180131832407,
          0.8914121897579306,
          -0.5502327140222424,
          -0.7035046554239406,
          -0.9461377411810604,
          -0.6001142874070964,
          0.02870046019532282,
          -1.7907167802754105,
          1.3897741383929765,
          -0.016268510422112355,
          0.5663514625633824,
          1.9999017682580833,
          1.6601667123454453,
          0.6815372328213235,
          -0.8400593255846813,
          1.11322310825198,
          0.6606722621695404,
          0.4375288477222289,
          -0.23405318147746282,
          0.5886108970417825,
          -0.33299951352436286,
          -0.40185930102225387,
          -0.6635188196620705,
          0.07704697176714438,
          -0.9213946986355144,
          -0.9831820012034149,
          0.7946699447595283,
          -0.9991701796154964,
          0.2815538007953517,
          0.174998690858209,
          0.8837798626530278,
          0.9032875954210857,
          0.24055208121983598,
          0.5922894036824274,
          -1.2661514687988389,
          -0.8809610852153962,
          -0.12528969601901807,
          0.6211367105295839,
          0.13636933563037099,
          0.5931900126435424,
          -1.4967044610569924,
          0.5340581219643343,
          0.3514056027479767,
          0.4863662132233159,
          0.24581933733395622,
          -2.059486231643359,
          -0.6300296950748387,
          0.44013425063156586,
          0.4473713899152323,
          -0.00047627043586563036,
          0.2657031815297724,
          2.201413247661273,
          -0.9173536467289062,
          -0.8332408625755586,
          -1.0151245854973656,
          0.14016786526148148,
          0.5585536889690439,
          -0.44476215618074133,
          -0.4413464723748191,
          -0.3494357165693916,
          -1.0018284495680674
         ],
         "yaxis": "y5"
        },
        {
         "histfunc": "count",
         "histnorm": "",
         "marker": {
          "color": "rgba(55, 128, 191, 1.0)",
          "line": {
           "color": "#4D5663",
           "width": 1.3
          }
         },
         "name": "B",
         "nbinsx": 10,
         "opacity": 0.8,
         "orientation": "v",
         "type": "histogram",
         "x": [
          -1.784098720340015,
          2.171244510657171,
          0.6814350497909425,
          1.6915046033363401,
          0.18481649594853616,
          1.3717132391682432,
          -1.2275847765325325,
          0.1377905244967582,
          -1.1480009457520386,
          0.26162442648712664,
          -0.3949869957178582,
          -1.4968385199265781,
          -1.2882205677288796,
          0.734932556612695,
          1.2232971975351834,
          -0.593392211027469,
          -1.0654669938822041,
          -0.3571674089948739,
          -0.13876162829474128,
          -0.2895293494986774,
          -0.48357022428835184,
          -1.3885923462518266,
          -0.5237646877578167,
          1.3060138012560842,
          0.25660307311615027,
          -0.8203047424592492,
          -0.4923162655865527,
          -0.4845844995598301,
          1.1978422826877433,
          2.0998690486150426,
          1.01936669685555,
          -0.3386138535811944,
          -1.482145713226032,
          2.2072307943488627,
          0.7211135696527582,
          -1.8947101869608063,
          -1.6555186146259382,
          0.6664471016106729,
          0.6579972725992663,
          0.26733180131832407,
          0.8914121897579306,
          -0.5502327140222424,
          -0.7035046554239406,
          -0.9461377411810604,
          -0.6001142874070964,
          0.02870046019532282,
          -1.7907167802754105,
          1.3897741383929765,
          -0.016268510422112355,
          0.5663514625633824,
          1.9999017682580833,
          1.6601667123454453,
          0.6815372328213235,
          -0.8400593255846813,
          1.11322310825198,
          0.6606722621695404,
          0.4375288477222289,
          -0.23405318147746282,
          0.5886108970417825,
          -0.33299951352436286,
          -0.40185930102225387,
          -0.6635188196620705,
          0.07704697176714438,
          -0.9213946986355144,
          -0.9831820012034149,
          0.7946699447595283,
          -0.9991701796154964,
          0.2815538007953517,
          0.174998690858209,
          0.8837798626530278,
          0.9032875954210857,
          0.24055208121983598,
          0.5922894036824274,
          -1.2661514687988389,
          -0.8809610852153962,
          -0.12528969601901807,
          0.6211367105295839,
          0.13636933563037099,
          0.5931900126435424,
          -1.4967044610569924,
          0.5340581219643343,
          0.3514056027479767,
          0.4863662132233159,
          0.24581933733395622,
          -2.059486231643359,
          -0.6300296950748387,
          0.44013425063156586,
          0.4473713899152323,
          -0.00047627043586563036,
          0.2657031815297724,
          2.201413247661273,
          -0.9173536467289062,
          -0.8332408625755586,
          -1.0151245854973656,
          0.14016786526148148,
          0.5585536889690439,
          -0.44476215618074133,
          -0.4413464723748191,
          -0.3494357165693916,
          -1.0018284495680674
         ],
         "xaxis": "x6",
         "yaxis": "y6"
        },
        {
         "line": {
          "color": "rgba(128, 128, 128, 1.0)",
          "dash": "solid",
          "shape": "linear",
          "width": 1.3
         },
         "marker": {
          "size": 2,
          "symbol": "circle"
         },
         "mode": "markers",
         "name": "B",
         "text": "",
         "type": "scatter",
         "x": [
          -0.5967119098197226,
          0.853238764026366,
          1.6672094843438492,
          -0.0037601992873524037,
          -0.9071834782154601,
          1.883690558450849,
          -2.106354563045812,
          -1.2168484036552596,
          0.17255626813792466,
          1.0582852945687178,
          1.3952429242549573,
          0.07227254577092632,
          -0.4195317892628768,
          0.3148586861350653,
          0.17138607027311709,
          0.979523061893303,
          1.0170253940983998,
          -0.31540535624226623,
          -0.1771259277074585,
          1.0509795019188313,
          0.4027836644340148,
          -0.10335933258826242,
          -0.7935237694439741,
          0.2929342298614919,
          2.156830774988516,
          0.30115733682483886,
          2.0883112687994463,
          -0.9278018279636102,
          0.1274690526763963,
          -0.7019996573220373,
          0.1499739530535481,
          -1.0036591424346843,
          -2.800423325047921,
          1.3353677753307296,
          0.5034117514155685,
          0.2570665310706626,
          -1.1518065065844245,
          -0.4729507221586094,
          1.672213002084143,
          -1.2363872849124302,
          0.012105592964178779,
          -1.493747478456467,
          0.1952640284715851,
          -0.7848860869658573,
          0.02009202740699355,
          0.07135868247529763,
          -0.7884840153246424,
          0.01814514012957843,
          0.2146823765491746,
          -1.0675674116210412,
          0.8544589019211002,
          -0.5989615235683363,
          -0.46581180378221787,
          0.6152601748855848,
          0.7692237912289807,
          -0.4420183379256885,
          -1.6959042945833291,
          0.08343248358165806,
          -0.2945583821376016,
          0.6063342583506851,
          -0.5887858952909739,
          0.13694788409010514,
          -1.2424969811602868,
          -0.5239490868519974,
          1.1956002105011092,
          1.084099517593647,
          0.7610297699914984,
          0.15656489162299303,
          -1.3256041858993401,
          0.6332892520923301,
          -0.9439011838970643,
          0.19397551161246512,
          -0.564838581449026,
          0.6443860682633141,
          -0.00950007628578957,
          1.059583505527082,
          1.3659520311143776,
          -1.7341794280109315,
          0.3817222401871636,
          0.20508286240366627,
          -0.30652983613662893,
          1.1586328857965569,
          -0.24000038468347007,
          0.5057631958197074,
          -0.6101763309802465,
          0.7182084359558547,
          0.1162004892642478,
          0.20904716578240504,
          -2.1276348152551523,
          -0.20780572655946458,
          -0.260592364108929,
          -0.580124951761244,
          1.8107866238776256,
          1.2067337473203945,
          0.9661438170829647,
          0.778797568299232,
          -1.4437124946541433,
          1.4058055726143668,
          1.6464512148069346,
          1.5567465741174473
         ],
         "xaxis": "x7",
         "y": [
          -1.784098720340015,
          2.171244510657171,
          0.6814350497909425,
          1.6915046033363401,
          0.18481649594853616,
          1.3717132391682432,
          -1.2275847765325325,
          0.1377905244967582,
          -1.1480009457520386,
          0.26162442648712664,
          -0.3949869957178582,
          -1.4968385199265781,
          -1.2882205677288796,
          0.734932556612695,
          1.2232971975351834,
          -0.593392211027469,
          -1.0654669938822041,
          -0.3571674089948739,
          -0.13876162829474128,
          -0.2895293494986774,
          -0.48357022428835184,
          -1.3885923462518266,
          -0.5237646877578167,
          1.3060138012560842,
          0.25660307311615027,
          -0.8203047424592492,
          -0.4923162655865527,
          -0.4845844995598301,
          1.1978422826877433,
          2.0998690486150426,
          1.01936669685555,
          -0.3386138535811944,
          -1.482145713226032,
          2.2072307943488627,
          0.7211135696527582,
          -1.8947101869608063,
          -1.6555186146259382,
          0.6664471016106729,
          0.6579972725992663,
          0.26733180131832407,
          0.8914121897579306,
          -0.5502327140222424,
          -0.7035046554239406,
          -0.9461377411810604,
          -0.6001142874070964,
          0.02870046019532282,
          -1.7907167802754105,
          1.3897741383929765,
          -0.016268510422112355,
          0.5663514625633824,
          1.9999017682580833,
          1.6601667123454453,
          0.6815372328213235,
          -0.8400593255846813,
          1.11322310825198,
          0.6606722621695404,
          0.4375288477222289,
          -0.23405318147746282,
          0.5886108970417825,
          -0.33299951352436286,
          -0.40185930102225387,
          -0.6635188196620705,
          0.07704697176714438,
          -0.9213946986355144,
          -0.9831820012034149,
          0.7946699447595283,
          -0.9991701796154964,
          0.2815538007953517,
          0.174998690858209,
          0.8837798626530278,
          0.9032875954210857,
          0.24055208121983598,
          0.5922894036824274,
          -1.2661514687988389,
          -0.8809610852153962,
          -0.12528969601901807,
          0.6211367105295839,
          0.13636933563037099,
          0.5931900126435424,
          -1.4967044610569924,
          0.5340581219643343,
          0.3514056027479767,
          0.4863662132233159,
          0.24581933733395622,
          -2.059486231643359,
          -0.6300296950748387,
          0.44013425063156586,
          0.4473713899152323,
          -0.00047627043586563036,
          0.2657031815297724,
          2.201413247661273,
          -0.9173536467289062,
          -0.8332408625755586,
          -1.0151245854973656,
          0.14016786526148148,
          0.5585536889690439,
          -0.44476215618074133,
          -0.4413464723748191,
          -0.3494357165693916,
          -1.0018284495680674
         ],
         "yaxis": "y7"
        },
        {
         "line": {
          "color": "rgba(128, 128, 128, 1.0)",
          "dash": "solid",
          "shape": "linear",
          "width": 1.3
         },
         "marker": {
          "size": 2,
          "symbol": "circle"
         },
         "mode": "markers",
         "name": "B",
         "text": "",
         "type": "scatter",
         "x": [
          0.6079252288271123,
          -0.7673086708362776,
          2.7918004888249155,
          1.5313914625222045,
          -1.4345453782854332,
          -1.0437865151846786,
          0.19847176529920577,
          1.3862446579489935,
          -0.35138062753487304,
          0.03719432201318422,
          -1.7616253778540005,
          2.3407054624379846,
          -0.2000097595989267,
          0.7669854014325037,
          0.11298294909977,
          0.046858080065504425,
          -0.18120895485222938,
          0.7695550229775915,
          0.15511077522056577,
          -0.9108953777606292,
          0.6377005270907216,
          -1.6068124460140327,
          1.845840177929854,
          -1.1052126634256259,
          -1.6451598313262024,
          1.0953926667391707,
          -2.6811855828962696,
          -0.24426026935419365,
          -0.6820128828581605,
          0.3608787094224027,
          -0.0764345595001479,
          0.3088811741935369,
          -0.329408490492265,
          1.4464185545662458,
          -2.0128086971620927,
          0.08825858728083487,
          -0.168682137332262,
          2.065928188589186,
          -1.6017962278561868,
          -1.5312993522830245,
          -0.03945107251970846,
          -0.6733129013460523,
          -0.6076787744094737,
          1.6360672041399968,
          0.48494877078027687,
          0.01323259657886119,
          1.4328584127569208,
          -1.6683257498452444,
          -0.8829926821113253,
          -0.09166483027086167,
          -3.080415218787863,
          -0.8472046953264905,
          -0.049951322488767644,
          -0.6759172855350523,
          0.2810806490503662,
          0.07703330630025013,
          1.7316185845049246,
          0.5755896592654809,
          0.7732777600729397,
          -0.5761818253061513,
          -0.5662697882027303,
          -1.284520760769256,
          0.41915185995351933,
          0.4516275355752908,
          0.10016374487909058,
          -0.589883708770861,
          -0.425278673747093,
          -0.7888957909839527,
          0.5080520587703382,
          -0.14777685657714393,
          0.19389746683109096,
          -0.1863775839392197,
          3.826662212990111,
          1.7942084045458413,
          -1.346814767384748,
          -1.1375499897392416,
          0.48098246076773254,
          -1.2442890043073742,
          0.006054537387323956,
          0.7079016296857916,
          0.9850833750736986,
          -0.3163365229351439,
          -0.4816814896722392,
          -0.04785840952576833,
          -0.5514694996254651,
          1.0549941504273481,
          1.1669241949067033,
          -0.29010413031084936,
          -0.5107131029812131,
          -0.9299722618442059,
          0.40261878264672124,
          -1.1679406337745477,
          0.5435855253429999,
          -1.19777229520187,
          1.3514454837032996,
          -0.3965259735689329,
          0.17952127104730956,
          -0.3082954895460292,
          0.2721710338721595,
          -1.1620535089156803
         ],
         "xaxis": "x8",
         "y": [
          -1.784098720340015,
          2.171244510657171,
          0.6814350497909425,
          1.6915046033363401,
          0.18481649594853616,
          1.3717132391682432,
          -1.2275847765325325,
          0.1377905244967582,
          -1.1480009457520386,
          0.26162442648712664,
          -0.3949869957178582,
          -1.4968385199265781,
          -1.2882205677288796,
          0.734932556612695,
          1.2232971975351834,
          -0.593392211027469,
          -1.0654669938822041,
          -0.3571674089948739,
          -0.13876162829474128,
          -0.2895293494986774,
          -0.48357022428835184,
          -1.3885923462518266,
          -0.5237646877578167,
          1.3060138012560842,
          0.25660307311615027,
          -0.8203047424592492,
          -0.4923162655865527,
          -0.4845844995598301,
          1.1978422826877433,
          2.0998690486150426,
          1.01936669685555,
          -0.3386138535811944,
          -1.482145713226032,
          2.2072307943488627,
          0.7211135696527582,
          -1.8947101869608063,
          -1.6555186146259382,
          0.6664471016106729,
          0.6579972725992663,
          0.26733180131832407,
          0.8914121897579306,
          -0.5502327140222424,
          -0.7035046554239406,
          -0.9461377411810604,
          -0.6001142874070964,
          0.02870046019532282,
          -1.7907167802754105,
          1.3897741383929765,
          -0.016268510422112355,
          0.5663514625633824,
          1.9999017682580833,
          1.6601667123454453,
          0.6815372328213235,
          -0.8400593255846813,
          1.11322310825198,
          0.6606722621695404,
          0.4375288477222289,
          -0.23405318147746282,
          0.5886108970417825,
          -0.33299951352436286,
          -0.40185930102225387,
          -0.6635188196620705,
          0.07704697176714438,
          -0.9213946986355144,
          -0.9831820012034149,
          0.7946699447595283,
          -0.9991701796154964,
          0.2815538007953517,
          0.174998690858209,
          0.8837798626530278,
          0.9032875954210857,
          0.24055208121983598,
          0.5922894036824274,
          -1.2661514687988389,
          -0.8809610852153962,
          -0.12528969601901807,
          0.6211367105295839,
          0.13636933563037099,
          0.5931900126435424,
          -1.4967044610569924,
          0.5340581219643343,
          0.3514056027479767,
          0.4863662132233159,
          0.24581933733395622,
          -2.059486231643359,
          -0.6300296950748387,
          0.44013425063156586,
          0.4473713899152323,
          -0.00047627043586563036,
          0.2657031815297724,
          2.201413247661273,
          -0.9173536467289062,
          -0.8332408625755586,
          -1.0151245854973656,
          0.14016786526148148,
          0.5585536889690439,
          -0.44476215618074133,
          -0.4413464723748191,
          -0.3494357165693916,
          -1.0018284495680674
         ],
         "yaxis": "y8"
        },
        {
         "line": {
          "color": "rgba(128, 128, 128, 1.0)",
          "dash": "solid",
          "shape": "linear",
          "width": 1.3
         },
         "marker": {
          "size": 2,
          "symbol": "circle"
         },
         "mode": "markers",
         "name": "C",
         "text": "",
         "type": "scatter",
         "x": [
          1.416593517660878,
          -0.14738395566749896,
          -1.7844796810424377,
          1.0916939562052876,
          0.8690310862451806,
          -0.9130881968676815,
          0.999815987739978,
          0.20249872319987558,
          0.6651541347542538,
          1.5904328259462475,
          0.9224191664291218,
          -0.18016206629497075,
          1.134944336265271,
          -0.19204911602866678,
          -0.7725701660993973,
          0.10063744605008441,
          0.10714591412949345,
          -0.42221541400028717,
          -0.8403776497203891,
          -0.34062561748689635,
          -0.9319306418128855,
          -2.7047515845412606,
          0.008464414016829484,
          -0.24679681716914537,
          -0.8891064856373092,
          -0.0976902393419508,
          2.0554795131481236,
          1.140205355254008,
          -1.3222237382657935,
          1.2972526054749431,
          1.2723501043391907,
          -1.0402921253786834,
          0.08975397544334109,
          -0.7211196617732506,
          0.46079850518443477,
          -0.0035295707984208287,
          -1.6680052301548915,
          0.39593916411591684,
          -0.036736725525066675,
          -0.18708565303207123,
          0.4090337394442913,
          -0.11516336115305838,
          -2.1023287946207225,
          0.7145964193033464,
          0.8992939935517598,
          -1.1066813776882152,
          -0.8429684555863061,
          0.8641921006942638,
          -0.5073841845450361,
          -0.8566073764635567,
          -0.26835127760692934,
          -1.2592951714357608,
          -0.880020854779105,
          1.3836949417430615,
          -0.8108977849120101,
          0.4561661807281345,
          0.004415115029279976,
          0.03828165518747515,
          -0.10676227658460166,
          1.028572156444397,
          -0.28421897250220285,
          0.8849806821994682,
          1.4380095987100332,
          -0.8877395811176105,
          1.228816832515203,
          0.7564202279095027,
          -0.2625169494179067,
          1.013996267722401,
          -0.4081800018537628,
          1.0211977886508627,
          0.7767951727052528,
          0.2911188894392512,
          -1.730474681675736,
          0.32841643489202166,
          0.07140028981004318,
          1.0689025968967223,
          -1.9049709066817657,
          -0.5405171578578922,
          -0.47397936749667924,
          -0.7220304917111585,
          -0.43499570927661463,
          -1.076760505534362,
          -2.851530141907224,
          -0.3583158919767544,
          -1.5432561099522224,
          -0.8784881122522841,
          -1.9603084686379697,
          -0.5885186370713009,
          1.5997148736849103,
          0.024734175690217294,
          0.07809005053066699,
          1.667352773288952,
          -1.287735836010282,
          -0.5990499600750134,
          0.10309793710856048,
          0.6049082987598869,
          0.22668443288025425,
          -0.4085805437783098,
          0.7047569911056685,
          -0.0058223868182907396
         ],
         "xaxis": "x9",
         "y": [
          -0.5967119098197226,
          0.853238764026366,
          1.6672094843438492,
          -0.0037601992873524037,
          -0.9071834782154601,
          1.883690558450849,
          -2.106354563045812,
          -1.2168484036552596,
          0.17255626813792466,
          1.0582852945687178,
          1.3952429242549573,
          0.07227254577092632,
          -0.4195317892628768,
          0.3148586861350653,
          0.17138607027311709,
          0.979523061893303,
          1.0170253940983998,
          -0.31540535624226623,
          -0.1771259277074585,
          1.0509795019188313,
          0.4027836644340148,
          -0.10335933258826242,
          -0.7935237694439741,
          0.2929342298614919,
          2.156830774988516,
          0.30115733682483886,
          2.0883112687994463,
          -0.9278018279636102,
          0.1274690526763963,
          -0.7019996573220373,
          0.1499739530535481,
          -1.0036591424346843,
          -2.800423325047921,
          1.3353677753307296,
          0.5034117514155685,
          0.2570665310706626,
          -1.1518065065844245,
          -0.4729507221586094,
          1.672213002084143,
          -1.2363872849124302,
          0.012105592964178779,
          -1.493747478456467,
          0.1952640284715851,
          -0.7848860869658573,
          0.02009202740699355,
          0.07135868247529763,
          -0.7884840153246424,
          0.01814514012957843,
          0.2146823765491746,
          -1.0675674116210412,
          0.8544589019211002,
          -0.5989615235683363,
          -0.46581180378221787,
          0.6152601748855848,
          0.7692237912289807,
          -0.4420183379256885,
          -1.6959042945833291,
          0.08343248358165806,
          -0.2945583821376016,
          0.6063342583506851,
          -0.5887858952909739,
          0.13694788409010514,
          -1.2424969811602868,
          -0.5239490868519974,
          1.1956002105011092,
          1.084099517593647,
          0.7610297699914984,
          0.15656489162299303,
          -1.3256041858993401,
          0.6332892520923301,
          -0.9439011838970643,
          0.19397551161246512,
          -0.564838581449026,
          0.6443860682633141,
          -0.00950007628578957,
          1.059583505527082,
          1.3659520311143776,
          -1.7341794280109315,
          0.3817222401871636,
          0.20508286240366627,
          -0.30652983613662893,
          1.1586328857965569,
          -0.24000038468347007,
          0.5057631958197074,
          -0.6101763309802465,
          0.7182084359558547,
          0.1162004892642478,
          0.20904716578240504,
          -2.1276348152551523,
          -0.20780572655946458,
          -0.260592364108929,
          -0.580124951761244,
          1.8107866238776256,
          1.2067337473203945,
          0.9661438170829647,
          0.778797568299232,
          -1.4437124946541433,
          1.4058055726143668,
          1.6464512148069346,
          1.5567465741174473
         ],
         "yaxis": "y9"
        },
        {
         "line": {
          "color": "rgba(128, 128, 128, 1.0)",
          "dash": "solid",
          "shape": "linear",
          "width": 1.3
         },
         "marker": {
          "size": 2,
          "symbol": "circle"
         },
         "mode": "markers",
         "name": "C",
         "text": "",
         "type": "scatter",
         "x": [
          -1.784098720340015,
          2.171244510657171,
          0.6814350497909425,
          1.6915046033363401,
          0.18481649594853616,
          1.3717132391682432,
          -1.2275847765325325,
          0.1377905244967582,
          -1.1480009457520386,
          0.26162442648712664,
          -0.3949869957178582,
          -1.4968385199265781,
          -1.2882205677288796,
          0.734932556612695,
          1.2232971975351834,
          -0.593392211027469,
          -1.0654669938822041,
          -0.3571674089948739,
          -0.13876162829474128,
          -0.2895293494986774,
          -0.48357022428835184,
          -1.3885923462518266,
          -0.5237646877578167,
          1.3060138012560842,
          0.25660307311615027,
          -0.8203047424592492,
          -0.4923162655865527,
          -0.4845844995598301,
          1.1978422826877433,
          2.0998690486150426,
          1.01936669685555,
          -0.3386138535811944,
          -1.482145713226032,
          2.2072307943488627,
          0.7211135696527582,
          -1.8947101869608063,
          -1.6555186146259382,
          0.6664471016106729,
          0.6579972725992663,
          0.26733180131832407,
          0.8914121897579306,
          -0.5502327140222424,
          -0.7035046554239406,
          -0.9461377411810604,
          -0.6001142874070964,
          0.02870046019532282,
          -1.7907167802754105,
          1.3897741383929765,
          -0.016268510422112355,
          0.5663514625633824,
          1.9999017682580833,
          1.6601667123454453,
          0.6815372328213235,
          -0.8400593255846813,
          1.11322310825198,
          0.6606722621695404,
          0.4375288477222289,
          -0.23405318147746282,
          0.5886108970417825,
          -0.33299951352436286,
          -0.40185930102225387,
          -0.6635188196620705,
          0.07704697176714438,
          -0.9213946986355144,
          -0.9831820012034149,
          0.7946699447595283,
          -0.9991701796154964,
          0.2815538007953517,
          0.174998690858209,
          0.8837798626530278,
          0.9032875954210857,
          0.24055208121983598,
          0.5922894036824274,
          -1.2661514687988389,
          -0.8809610852153962,
          -0.12528969601901807,
          0.6211367105295839,
          0.13636933563037099,
          0.5931900126435424,
          -1.4967044610569924,
          0.5340581219643343,
          0.3514056027479767,
          0.4863662132233159,
          0.24581933733395622,
          -2.059486231643359,
          -0.6300296950748387,
          0.44013425063156586,
          0.4473713899152323,
          -0.00047627043586563036,
          0.2657031815297724,
          2.201413247661273,
          -0.9173536467289062,
          -0.8332408625755586,
          -1.0151245854973656,
          0.14016786526148148,
          0.5585536889690439,
          -0.44476215618074133,
          -0.4413464723748191,
          -0.3494357165693916,
          -1.0018284495680674
         ],
         "xaxis": "x10",
         "y": [
          -0.5967119098197226,
          0.853238764026366,
          1.6672094843438492,
          -0.0037601992873524037,
          -0.9071834782154601,
          1.883690558450849,
          -2.106354563045812,
          -1.2168484036552596,
          0.17255626813792466,
          1.0582852945687178,
          1.3952429242549573,
          0.07227254577092632,
          -0.4195317892628768,
          0.3148586861350653,
          0.17138607027311709,
          0.979523061893303,
          1.0170253940983998,
          -0.31540535624226623,
          -0.1771259277074585,
          1.0509795019188313,
          0.4027836644340148,
          -0.10335933258826242,
          -0.7935237694439741,
          0.2929342298614919,
          2.156830774988516,
          0.30115733682483886,
          2.0883112687994463,
          -0.9278018279636102,
          0.1274690526763963,
          -0.7019996573220373,
          0.1499739530535481,
          -1.0036591424346843,
          -2.800423325047921,
          1.3353677753307296,
          0.5034117514155685,
          0.2570665310706626,
          -1.1518065065844245,
          -0.4729507221586094,
          1.672213002084143,
          -1.2363872849124302,
          0.012105592964178779,
          -1.493747478456467,
          0.1952640284715851,
          -0.7848860869658573,
          0.02009202740699355,
          0.07135868247529763,
          -0.7884840153246424,
          0.01814514012957843,
          0.2146823765491746,
          -1.0675674116210412,
          0.8544589019211002,
          -0.5989615235683363,
          -0.46581180378221787,
          0.6152601748855848,
          0.7692237912289807,
          -0.4420183379256885,
          -1.6959042945833291,
          0.08343248358165806,
          -0.2945583821376016,
          0.6063342583506851,
          -0.5887858952909739,
          0.13694788409010514,
          -1.2424969811602868,
          -0.5239490868519974,
          1.1956002105011092,
          1.084099517593647,
          0.7610297699914984,
          0.15656489162299303,
          -1.3256041858993401,
          0.6332892520923301,
          -0.9439011838970643,
          0.19397551161246512,
          -0.564838581449026,
          0.6443860682633141,
          -0.00950007628578957,
          1.059583505527082,
          1.3659520311143776,
          -1.7341794280109315,
          0.3817222401871636,
          0.20508286240366627,
          -0.30652983613662893,
          1.1586328857965569,
          -0.24000038468347007,
          0.5057631958197074,
          -0.6101763309802465,
          0.7182084359558547,
          0.1162004892642478,
          0.20904716578240504,
          -2.1276348152551523,
          -0.20780572655946458,
          -0.260592364108929,
          -0.580124951761244,
          1.8107866238776256,
          1.2067337473203945,
          0.9661438170829647,
          0.778797568299232,
          -1.4437124946541433,
          1.4058055726143668,
          1.6464512148069346,
          1.5567465741174473
         ],
         "yaxis": "y10"
        },
        {
         "histfunc": "count",
         "histnorm": "",
         "marker": {
          "color": "rgba(50, 171, 96, 1.0)",
          "line": {
           "color": "#4D5663",
           "width": 1.3
          }
         },
         "name": "C",
         "nbinsx": 10,
         "opacity": 0.8,
         "orientation": "v",
         "type": "histogram",
         "x": [
          -0.5967119098197226,
          0.853238764026366,
          1.6672094843438492,
          -0.0037601992873524037,
          -0.9071834782154601,
          1.883690558450849,
          -2.106354563045812,
          -1.2168484036552596,
          0.17255626813792466,
          1.0582852945687178,
          1.3952429242549573,
          0.07227254577092632,
          -0.4195317892628768,
          0.3148586861350653,
          0.17138607027311709,
          0.979523061893303,
          1.0170253940983998,
          -0.31540535624226623,
          -0.1771259277074585,
          1.0509795019188313,
          0.4027836644340148,
          -0.10335933258826242,
          -0.7935237694439741,
          0.2929342298614919,
          2.156830774988516,
          0.30115733682483886,
          2.0883112687994463,
          -0.9278018279636102,
          0.1274690526763963,
          -0.7019996573220373,
          0.1499739530535481,
          -1.0036591424346843,
          -2.800423325047921,
          1.3353677753307296,
          0.5034117514155685,
          0.2570665310706626,
          -1.1518065065844245,
          -0.4729507221586094,
          1.672213002084143,
          -1.2363872849124302,
          0.012105592964178779,
          -1.493747478456467,
          0.1952640284715851,
          -0.7848860869658573,
          0.02009202740699355,
          0.07135868247529763,
          -0.7884840153246424,
          0.01814514012957843,
          0.2146823765491746,
          -1.0675674116210412,
          0.8544589019211002,
          -0.5989615235683363,
          -0.46581180378221787,
          0.6152601748855848,
          0.7692237912289807,
          -0.4420183379256885,
          -1.6959042945833291,
          0.08343248358165806,
          -0.2945583821376016,
          0.6063342583506851,
          -0.5887858952909739,
          0.13694788409010514,
          -1.2424969811602868,
          -0.5239490868519974,
          1.1956002105011092,
          1.084099517593647,
          0.7610297699914984,
          0.15656489162299303,
          -1.3256041858993401,
          0.6332892520923301,
          -0.9439011838970643,
          0.19397551161246512,
          -0.564838581449026,
          0.6443860682633141,
          -0.00950007628578957,
          1.059583505527082,
          1.3659520311143776,
          -1.7341794280109315,
          0.3817222401871636,
          0.20508286240366627,
          -0.30652983613662893,
          1.1586328857965569,
          -0.24000038468347007,
          0.5057631958197074,
          -0.6101763309802465,
          0.7182084359558547,
          0.1162004892642478,
          0.20904716578240504,
          -2.1276348152551523,
          -0.20780572655946458,
          -0.260592364108929,
          -0.580124951761244,
          1.8107866238776256,
          1.2067337473203945,
          0.9661438170829647,
          0.778797568299232,
          -1.4437124946541433,
          1.4058055726143668,
          1.6464512148069346,
          1.5567465741174473
         ],
         "xaxis": "x11",
         "yaxis": "y11"
        },
        {
         "line": {
          "color": "rgba(128, 128, 128, 1.0)",
          "dash": "solid",
          "shape": "linear",
          "width": 1.3
         },
         "marker": {
          "size": 2,
          "symbol": "circle"
         },
         "mode": "markers",
         "name": "C",
         "text": "",
         "type": "scatter",
         "x": [
          0.6079252288271123,
          -0.7673086708362776,
          2.7918004888249155,
          1.5313914625222045,
          -1.4345453782854332,
          -1.0437865151846786,
          0.19847176529920577,
          1.3862446579489935,
          -0.35138062753487304,
          0.03719432201318422,
          -1.7616253778540005,
          2.3407054624379846,
          -0.2000097595989267,
          0.7669854014325037,
          0.11298294909977,
          0.046858080065504425,
          -0.18120895485222938,
          0.7695550229775915,
          0.15511077522056577,
          -0.9108953777606292,
          0.6377005270907216,
          -1.6068124460140327,
          1.845840177929854,
          -1.1052126634256259,
          -1.6451598313262024,
          1.0953926667391707,
          -2.6811855828962696,
          -0.24426026935419365,
          -0.6820128828581605,
          0.3608787094224027,
          -0.0764345595001479,
          0.3088811741935369,
          -0.329408490492265,
          1.4464185545662458,
          -2.0128086971620927,
          0.08825858728083487,
          -0.168682137332262,
          2.065928188589186,
          -1.6017962278561868,
          -1.5312993522830245,
          -0.03945107251970846,
          -0.6733129013460523,
          -0.6076787744094737,
          1.6360672041399968,
          0.48494877078027687,
          0.01323259657886119,
          1.4328584127569208,
          -1.6683257498452444,
          -0.8829926821113253,
          -0.09166483027086167,
          -3.080415218787863,
          -0.8472046953264905,
          -0.049951322488767644,
          -0.6759172855350523,
          0.2810806490503662,
          0.07703330630025013,
          1.7316185845049246,
          0.5755896592654809,
          0.7732777600729397,
          -0.5761818253061513,
          -0.5662697882027303,
          -1.284520760769256,
          0.41915185995351933,
          0.4516275355752908,
          0.10016374487909058,
          -0.589883708770861,
          -0.425278673747093,
          -0.7888957909839527,
          0.5080520587703382,
          -0.14777685657714393,
          0.19389746683109096,
          -0.1863775839392197,
          3.826662212990111,
          1.7942084045458413,
          -1.346814767384748,
          -1.1375499897392416,
          0.48098246076773254,
          -1.2442890043073742,
          0.006054537387323956,
          0.7079016296857916,
          0.9850833750736986,
          -0.3163365229351439,
          -0.4816814896722392,
          -0.04785840952576833,
          -0.5514694996254651,
          1.0549941504273481,
          1.1669241949067033,
          -0.29010413031084936,
          -0.5107131029812131,
          -0.9299722618442059,
          0.40261878264672124,
          -1.1679406337745477,
          0.5435855253429999,
          -1.19777229520187,
          1.3514454837032996,
          -0.3965259735689329,
          0.17952127104730956,
          -0.3082954895460292,
          0.2721710338721595,
          -1.1620535089156803
         ],
         "xaxis": "x12",
         "y": [
          -0.5967119098197226,
          0.853238764026366,
          1.6672094843438492,
          -0.0037601992873524037,
          -0.9071834782154601,
          1.883690558450849,
          -2.106354563045812,
          -1.2168484036552596,
          0.17255626813792466,
          1.0582852945687178,
          1.3952429242549573,
          0.07227254577092632,
          -0.4195317892628768,
          0.3148586861350653,
          0.17138607027311709,
          0.979523061893303,
          1.0170253940983998,
          -0.31540535624226623,
          -0.1771259277074585,
          1.0509795019188313,
          0.4027836644340148,
          -0.10335933258826242,
          -0.7935237694439741,
          0.2929342298614919,
          2.156830774988516,
          0.30115733682483886,
          2.0883112687994463,
          -0.9278018279636102,
          0.1274690526763963,
          -0.7019996573220373,
          0.1499739530535481,
          -1.0036591424346843,
          -2.800423325047921,
          1.3353677753307296,
          0.5034117514155685,
          0.2570665310706626,
          -1.1518065065844245,
          -0.4729507221586094,
          1.672213002084143,
          -1.2363872849124302,
          0.012105592964178779,
          -1.493747478456467,
          0.1952640284715851,
          -0.7848860869658573,
          0.02009202740699355,
          0.07135868247529763,
          -0.7884840153246424,
          0.01814514012957843,
          0.2146823765491746,
          -1.0675674116210412,
          0.8544589019211002,
          -0.5989615235683363,
          -0.46581180378221787,
          0.6152601748855848,
          0.7692237912289807,
          -0.4420183379256885,
          -1.6959042945833291,
          0.08343248358165806,
          -0.2945583821376016,
          0.6063342583506851,
          -0.5887858952909739,
          0.13694788409010514,
          -1.2424969811602868,
          -0.5239490868519974,
          1.1956002105011092,
          1.084099517593647,
          0.7610297699914984,
          0.15656489162299303,
          -1.3256041858993401,
          0.6332892520923301,
          -0.9439011838970643,
          0.19397551161246512,
          -0.564838581449026,
          0.6443860682633141,
          -0.00950007628578957,
          1.059583505527082,
          1.3659520311143776,
          -1.7341794280109315,
          0.3817222401871636,
          0.20508286240366627,
          -0.30652983613662893,
          1.1586328857965569,
          -0.24000038468347007,
          0.5057631958197074,
          -0.6101763309802465,
          0.7182084359558547,
          0.1162004892642478,
          0.20904716578240504,
          -2.1276348152551523,
          -0.20780572655946458,
          -0.260592364108929,
          -0.580124951761244,
          1.8107866238776256,
          1.2067337473203945,
          0.9661438170829647,
          0.778797568299232,
          -1.4437124946541433,
          1.4058055726143668,
          1.6464512148069346,
          1.5567465741174473
         ],
         "yaxis": "y12"
        },
        {
         "line": {
          "color": "rgba(128, 128, 128, 1.0)",
          "dash": "solid",
          "shape": "linear",
          "width": 1.3
         },
         "marker": {
          "size": 2,
          "symbol": "circle"
         },
         "mode": "markers",
         "name": "D",
         "text": "",
         "type": "scatter",
         "x": [
          1.416593517660878,
          -0.14738395566749896,
          -1.7844796810424377,
          1.0916939562052876,
          0.8690310862451806,
          -0.9130881968676815,
          0.999815987739978,
          0.20249872319987558,
          0.6651541347542538,
          1.5904328259462475,
          0.9224191664291218,
          -0.18016206629497075,
          1.134944336265271,
          -0.19204911602866678,
          -0.7725701660993973,
          0.10063744605008441,
          0.10714591412949345,
          -0.42221541400028717,
          -0.8403776497203891,
          -0.34062561748689635,
          -0.9319306418128855,
          -2.7047515845412606,
          0.008464414016829484,
          -0.24679681716914537,
          -0.8891064856373092,
          -0.0976902393419508,
          2.0554795131481236,
          1.140205355254008,
          -1.3222237382657935,
          1.2972526054749431,
          1.2723501043391907,
          -1.0402921253786834,
          0.08975397544334109,
          -0.7211196617732506,
          0.46079850518443477,
          -0.0035295707984208287,
          -1.6680052301548915,
          0.39593916411591684,
          -0.036736725525066675,
          -0.18708565303207123,
          0.4090337394442913,
          -0.11516336115305838,
          -2.1023287946207225,
          0.7145964193033464,
          0.8992939935517598,
          -1.1066813776882152,
          -0.8429684555863061,
          0.8641921006942638,
          -0.5073841845450361,
          -0.8566073764635567,
          -0.26835127760692934,
          -1.2592951714357608,
          -0.880020854779105,
          1.3836949417430615,
          -0.8108977849120101,
          0.4561661807281345,
          0.004415115029279976,
          0.03828165518747515,
          -0.10676227658460166,
          1.028572156444397,
          -0.28421897250220285,
          0.8849806821994682,
          1.4380095987100332,
          -0.8877395811176105,
          1.228816832515203,
          0.7564202279095027,
          -0.2625169494179067,
          1.013996267722401,
          -0.4081800018537628,
          1.0211977886508627,
          0.7767951727052528,
          0.2911188894392512,
          -1.730474681675736,
          0.32841643489202166,
          0.07140028981004318,
          1.0689025968967223,
          -1.9049709066817657,
          -0.5405171578578922,
          -0.47397936749667924,
          -0.7220304917111585,
          -0.43499570927661463,
          -1.076760505534362,
          -2.851530141907224,
          -0.3583158919767544,
          -1.5432561099522224,
          -0.8784881122522841,
          -1.9603084686379697,
          -0.5885186370713009,
          1.5997148736849103,
          0.024734175690217294,
          0.07809005053066699,
          1.667352773288952,
          -1.287735836010282,
          -0.5990499600750134,
          0.10309793710856048,
          0.6049082987598869,
          0.22668443288025425,
          -0.4085805437783098,
          0.7047569911056685,
          -0.0058223868182907396
         ],
         "xaxis": "x13",
         "y": [
          0.6079252288271123,
          -0.7673086708362776,
          2.7918004888249155,
          1.5313914625222045,
          -1.4345453782854332,
          -1.0437865151846786,
          0.19847176529920577,
          1.3862446579489935,
          -0.35138062753487304,
          0.03719432201318422,
          -1.7616253778540005,
          2.3407054624379846,
          -0.2000097595989267,
          0.7669854014325037,
          0.11298294909977,
          0.046858080065504425,
          -0.18120895485222938,
          0.7695550229775915,
          0.15511077522056577,
          -0.9108953777606292,
          0.6377005270907216,
          -1.6068124460140327,
          1.845840177929854,
          -1.1052126634256259,
          -1.6451598313262024,
          1.0953926667391707,
          -2.6811855828962696,
          -0.24426026935419365,
          -0.6820128828581605,
          0.3608787094224027,
          -0.0764345595001479,
          0.3088811741935369,
          -0.329408490492265,
          1.4464185545662458,
          -2.0128086971620927,
          0.08825858728083487,
          -0.168682137332262,
          2.065928188589186,
          -1.6017962278561868,
          -1.5312993522830245,
          -0.03945107251970846,
          -0.6733129013460523,
          -0.6076787744094737,
          1.6360672041399968,
          0.48494877078027687,
          0.01323259657886119,
          1.4328584127569208,
          -1.6683257498452444,
          -0.8829926821113253,
          -0.09166483027086167,
          -3.080415218787863,
          -0.8472046953264905,
          -0.049951322488767644,
          -0.6759172855350523,
          0.2810806490503662,
          0.07703330630025013,
          1.7316185845049246,
          0.5755896592654809,
          0.7732777600729397,
          -0.5761818253061513,
          -0.5662697882027303,
          -1.284520760769256,
          0.41915185995351933,
          0.4516275355752908,
          0.10016374487909058,
          -0.589883708770861,
          -0.425278673747093,
          -0.7888957909839527,
          0.5080520587703382,
          -0.14777685657714393,
          0.19389746683109096,
          -0.1863775839392197,
          3.826662212990111,
          1.7942084045458413,
          -1.346814767384748,
          -1.1375499897392416,
          0.48098246076773254,
          -1.2442890043073742,
          0.006054537387323956,
          0.7079016296857916,
          0.9850833750736986,
          -0.3163365229351439,
          -0.4816814896722392,
          -0.04785840952576833,
          -0.5514694996254651,
          1.0549941504273481,
          1.1669241949067033,
          -0.29010413031084936,
          -0.5107131029812131,
          -0.9299722618442059,
          0.40261878264672124,
          -1.1679406337745477,
          0.5435855253429999,
          -1.19777229520187,
          1.3514454837032996,
          -0.3965259735689329,
          0.17952127104730956,
          -0.3082954895460292,
          0.2721710338721595,
          -1.1620535089156803
         ],
         "yaxis": "y13"
        },
        {
         "line": {
          "color": "rgba(128, 128, 128, 1.0)",
          "dash": "solid",
          "shape": "linear",
          "width": 1.3
         },
         "marker": {
          "size": 2,
          "symbol": "circle"
         },
         "mode": "markers",
         "name": "D",
         "text": "",
         "type": "scatter",
         "x": [
          -1.784098720340015,
          2.171244510657171,
          0.6814350497909425,
          1.6915046033363401,
          0.18481649594853616,
          1.3717132391682432,
          -1.2275847765325325,
          0.1377905244967582,
          -1.1480009457520386,
          0.26162442648712664,
          -0.3949869957178582,
          -1.4968385199265781,
          -1.2882205677288796,
          0.734932556612695,
          1.2232971975351834,
          -0.593392211027469,
          -1.0654669938822041,
          -0.3571674089948739,
          -0.13876162829474128,
          -0.2895293494986774,
          -0.48357022428835184,
          -1.3885923462518266,
          -0.5237646877578167,
          1.3060138012560842,
          0.25660307311615027,
          -0.8203047424592492,
          -0.4923162655865527,
          -0.4845844995598301,
          1.1978422826877433,
          2.0998690486150426,
          1.01936669685555,
          -0.3386138535811944,
          -1.482145713226032,
          2.2072307943488627,
          0.7211135696527582,
          -1.8947101869608063,
          -1.6555186146259382,
          0.6664471016106729,
          0.6579972725992663,
          0.26733180131832407,
          0.8914121897579306,
          -0.5502327140222424,
          -0.7035046554239406,
          -0.9461377411810604,
          -0.6001142874070964,
          0.02870046019532282,
          -1.7907167802754105,
          1.3897741383929765,
          -0.016268510422112355,
          0.5663514625633824,
          1.9999017682580833,
          1.6601667123454453,
          0.6815372328213235,
          -0.8400593255846813,
          1.11322310825198,
          0.6606722621695404,
          0.4375288477222289,
          -0.23405318147746282,
          0.5886108970417825,
          -0.33299951352436286,
          -0.40185930102225387,
          -0.6635188196620705,
          0.07704697176714438,
          -0.9213946986355144,
          -0.9831820012034149,
          0.7946699447595283,
          -0.9991701796154964,
          0.2815538007953517,
          0.174998690858209,
          0.8837798626530278,
          0.9032875954210857,
          0.24055208121983598,
          0.5922894036824274,
          -1.2661514687988389,
          -0.8809610852153962,
          -0.12528969601901807,
          0.6211367105295839,
          0.13636933563037099,
          0.5931900126435424,
          -1.4967044610569924,
          0.5340581219643343,
          0.3514056027479767,
          0.4863662132233159,
          0.24581933733395622,
          -2.059486231643359,
          -0.6300296950748387,
          0.44013425063156586,
          0.4473713899152323,
          -0.00047627043586563036,
          0.2657031815297724,
          2.201413247661273,
          -0.9173536467289062,
          -0.8332408625755586,
          -1.0151245854973656,
          0.14016786526148148,
          0.5585536889690439,
          -0.44476215618074133,
          -0.4413464723748191,
          -0.3494357165693916,
          -1.0018284495680674
         ],
         "xaxis": "x14",
         "y": [
          0.6079252288271123,
          -0.7673086708362776,
          2.7918004888249155,
          1.5313914625222045,
          -1.4345453782854332,
          -1.0437865151846786,
          0.19847176529920577,
          1.3862446579489935,
          -0.35138062753487304,
          0.03719432201318422,
          -1.7616253778540005,
          2.3407054624379846,
          -0.2000097595989267,
          0.7669854014325037,
          0.11298294909977,
          0.046858080065504425,
          -0.18120895485222938,
          0.7695550229775915,
          0.15511077522056577,
          -0.9108953777606292,
          0.6377005270907216,
          -1.6068124460140327,
          1.845840177929854,
          -1.1052126634256259,
          -1.6451598313262024,
          1.0953926667391707,
          -2.6811855828962696,
          -0.24426026935419365,
          -0.6820128828581605,
          0.3608787094224027,
          -0.0764345595001479,
          0.3088811741935369,
          -0.329408490492265,
          1.4464185545662458,
          -2.0128086971620927,
          0.08825858728083487,
          -0.168682137332262,
          2.065928188589186,
          -1.6017962278561868,
          -1.5312993522830245,
          -0.03945107251970846,
          -0.6733129013460523,
          -0.6076787744094737,
          1.6360672041399968,
          0.48494877078027687,
          0.01323259657886119,
          1.4328584127569208,
          -1.6683257498452444,
          -0.8829926821113253,
          -0.09166483027086167,
          -3.080415218787863,
          -0.8472046953264905,
          -0.049951322488767644,
          -0.6759172855350523,
          0.2810806490503662,
          0.07703330630025013,
          1.7316185845049246,
          0.5755896592654809,
          0.7732777600729397,
          -0.5761818253061513,
          -0.5662697882027303,
          -1.284520760769256,
          0.41915185995351933,
          0.4516275355752908,
          0.10016374487909058,
          -0.589883708770861,
          -0.425278673747093,
          -0.7888957909839527,
          0.5080520587703382,
          -0.14777685657714393,
          0.19389746683109096,
          -0.1863775839392197,
          3.826662212990111,
          1.7942084045458413,
          -1.346814767384748,
          -1.1375499897392416,
          0.48098246076773254,
          -1.2442890043073742,
          0.006054537387323956,
          0.7079016296857916,
          0.9850833750736986,
          -0.3163365229351439,
          -0.4816814896722392,
          -0.04785840952576833,
          -0.5514694996254651,
          1.0549941504273481,
          1.1669241949067033,
          -0.29010413031084936,
          -0.5107131029812131,
          -0.9299722618442059,
          0.40261878264672124,
          -1.1679406337745477,
          0.5435855253429999,
          -1.19777229520187,
          1.3514454837032996,
          -0.3965259735689329,
          0.17952127104730956,
          -0.3082954895460292,
          0.2721710338721595,
          -1.1620535089156803
         ],
         "yaxis": "y14"
        },
        {
         "line": {
          "color": "rgba(128, 128, 128, 1.0)",
          "dash": "solid",
          "shape": "linear",
          "width": 1.3
         },
         "marker": {
          "size": 2,
          "symbol": "circle"
         },
         "mode": "markers",
         "name": "D",
         "text": "",
         "type": "scatter",
         "x": [
          -0.5967119098197226,
          0.853238764026366,
          1.6672094843438492,
          -0.0037601992873524037,
          -0.9071834782154601,
          1.883690558450849,
          -2.106354563045812,
          -1.2168484036552596,
          0.17255626813792466,
          1.0582852945687178,
          1.3952429242549573,
          0.07227254577092632,
          -0.4195317892628768,
          0.3148586861350653,
          0.17138607027311709,
          0.979523061893303,
          1.0170253940983998,
          -0.31540535624226623,
          -0.1771259277074585,
          1.0509795019188313,
          0.4027836644340148,
          -0.10335933258826242,
          -0.7935237694439741,
          0.2929342298614919,
          2.156830774988516,
          0.30115733682483886,
          2.0883112687994463,
          -0.9278018279636102,
          0.1274690526763963,
          -0.7019996573220373,
          0.1499739530535481,
          -1.0036591424346843,
          -2.800423325047921,
          1.3353677753307296,
          0.5034117514155685,
          0.2570665310706626,
          -1.1518065065844245,
          -0.4729507221586094,
          1.672213002084143,
          -1.2363872849124302,
          0.012105592964178779,
          -1.493747478456467,
          0.1952640284715851,
          -0.7848860869658573,
          0.02009202740699355,
          0.07135868247529763,
          -0.7884840153246424,
          0.01814514012957843,
          0.2146823765491746,
          -1.0675674116210412,
          0.8544589019211002,
          -0.5989615235683363,
          -0.46581180378221787,
          0.6152601748855848,
          0.7692237912289807,
          -0.4420183379256885,
          -1.6959042945833291,
          0.08343248358165806,
          -0.2945583821376016,
          0.6063342583506851,
          -0.5887858952909739,
          0.13694788409010514,
          -1.2424969811602868,
          -0.5239490868519974,
          1.1956002105011092,
          1.084099517593647,
          0.7610297699914984,
          0.15656489162299303,
          -1.3256041858993401,
          0.6332892520923301,
          -0.9439011838970643,
          0.19397551161246512,
          -0.564838581449026,
          0.6443860682633141,
          -0.00950007628578957,
          1.059583505527082,
          1.3659520311143776,
          -1.7341794280109315,
          0.3817222401871636,
          0.20508286240366627,
          -0.30652983613662893,
          1.1586328857965569,
          -0.24000038468347007,
          0.5057631958197074,
          -0.6101763309802465,
          0.7182084359558547,
          0.1162004892642478,
          0.20904716578240504,
          -2.1276348152551523,
          -0.20780572655946458,
          -0.260592364108929,
          -0.580124951761244,
          1.8107866238776256,
          1.2067337473203945,
          0.9661438170829647,
          0.778797568299232,
          -1.4437124946541433,
          1.4058055726143668,
          1.6464512148069346,
          1.5567465741174473
         ],
         "xaxis": "x15",
         "y": [
          0.6079252288271123,
          -0.7673086708362776,
          2.7918004888249155,
          1.5313914625222045,
          -1.4345453782854332,
          -1.0437865151846786,
          0.19847176529920577,
          1.3862446579489935,
          -0.35138062753487304,
          0.03719432201318422,
          -1.7616253778540005,
          2.3407054624379846,
          -0.2000097595989267,
          0.7669854014325037,
          0.11298294909977,
          0.046858080065504425,
          -0.18120895485222938,
          0.7695550229775915,
          0.15511077522056577,
          -0.9108953777606292,
          0.6377005270907216,
          -1.6068124460140327,
          1.845840177929854,
          -1.1052126634256259,
          -1.6451598313262024,
          1.0953926667391707,
          -2.6811855828962696,
          -0.24426026935419365,
          -0.6820128828581605,
          0.3608787094224027,
          -0.0764345595001479,
          0.3088811741935369,
          -0.329408490492265,
          1.4464185545662458,
          -2.0128086971620927,
          0.08825858728083487,
          -0.168682137332262,
          2.065928188589186,
          -1.6017962278561868,
          -1.5312993522830245,
          -0.03945107251970846,
          -0.6733129013460523,
          -0.6076787744094737,
          1.6360672041399968,
          0.48494877078027687,
          0.01323259657886119,
          1.4328584127569208,
          -1.6683257498452444,
          -0.8829926821113253,
          -0.09166483027086167,
          -3.080415218787863,
          -0.8472046953264905,
          -0.049951322488767644,
          -0.6759172855350523,
          0.2810806490503662,
          0.07703330630025013,
          1.7316185845049246,
          0.5755896592654809,
          0.7732777600729397,
          -0.5761818253061513,
          -0.5662697882027303,
          -1.284520760769256,
          0.41915185995351933,
          0.4516275355752908,
          0.10016374487909058,
          -0.589883708770861,
          -0.425278673747093,
          -0.7888957909839527,
          0.5080520587703382,
          -0.14777685657714393,
          0.19389746683109096,
          -0.1863775839392197,
          3.826662212990111,
          1.7942084045458413,
          -1.346814767384748,
          -1.1375499897392416,
          0.48098246076773254,
          -1.2442890043073742,
          0.006054537387323956,
          0.7079016296857916,
          0.9850833750736986,
          -0.3163365229351439,
          -0.4816814896722392,
          -0.04785840952576833,
          -0.5514694996254651,
          1.0549941504273481,
          1.1669241949067033,
          -0.29010413031084936,
          -0.5107131029812131,
          -0.9299722618442059,
          0.40261878264672124,
          -1.1679406337745477,
          0.5435855253429999,
          -1.19777229520187,
          1.3514454837032996,
          -0.3965259735689329,
          0.17952127104730956,
          -0.3082954895460292,
          0.2721710338721595,
          -1.1620535089156803
         ],
         "yaxis": "y15"
        },
        {
         "histfunc": "count",
         "histnorm": "",
         "marker": {
          "color": "rgba(128, 0, 128, 1.0)",
          "line": {
           "color": "#4D5663",
           "width": 1.3
          }
         },
         "name": "D",
         "nbinsx": 10,
         "opacity": 0.8,
         "orientation": "v",
         "type": "histogram",
         "x": [
          0.6079252288271123,
          -0.7673086708362776,
          2.7918004888249155,
          1.5313914625222045,
          -1.4345453782854332,
          -1.0437865151846786,
          0.19847176529920577,
          1.3862446579489935,
          -0.35138062753487304,
          0.03719432201318422,
          -1.7616253778540005,
          2.3407054624379846,
          -0.2000097595989267,
          0.7669854014325037,
          0.11298294909977,
          0.046858080065504425,
          -0.18120895485222938,
          0.7695550229775915,
          0.15511077522056577,
          -0.9108953777606292,
          0.6377005270907216,
          -1.6068124460140327,
          1.845840177929854,
          -1.1052126634256259,
          -1.6451598313262024,
          1.0953926667391707,
          -2.6811855828962696,
          -0.24426026935419365,
          -0.6820128828581605,
          0.3608787094224027,
          -0.0764345595001479,
          0.3088811741935369,
          -0.329408490492265,
          1.4464185545662458,
          -2.0128086971620927,
          0.08825858728083487,
          -0.168682137332262,
          2.065928188589186,
          -1.6017962278561868,
          -1.5312993522830245,
          -0.03945107251970846,
          -0.6733129013460523,
          -0.6076787744094737,
          1.6360672041399968,
          0.48494877078027687,
          0.01323259657886119,
          1.4328584127569208,
          -1.6683257498452444,
          -0.8829926821113253,
          -0.09166483027086167,
          -3.080415218787863,
          -0.8472046953264905,
          -0.049951322488767644,
          -0.6759172855350523,
          0.2810806490503662,
          0.07703330630025013,
          1.7316185845049246,
          0.5755896592654809,
          0.7732777600729397,
          -0.5761818253061513,
          -0.5662697882027303,
          -1.284520760769256,
          0.41915185995351933,
          0.4516275355752908,
          0.10016374487909058,
          -0.589883708770861,
          -0.425278673747093,
          -0.7888957909839527,
          0.5080520587703382,
          -0.14777685657714393,
          0.19389746683109096,
          -0.1863775839392197,
          3.826662212990111,
          1.7942084045458413,
          -1.346814767384748,
          -1.1375499897392416,
          0.48098246076773254,
          -1.2442890043073742,
          0.006054537387323956,
          0.7079016296857916,
          0.9850833750736986,
          -0.3163365229351439,
          -0.4816814896722392,
          -0.04785840952576833,
          -0.5514694996254651,
          1.0549941504273481,
          1.1669241949067033,
          -0.29010413031084936,
          -0.5107131029812131,
          -0.9299722618442059,
          0.40261878264672124,
          -1.1679406337745477,
          0.5435855253429999,
          -1.19777229520187,
          1.3514454837032996,
          -0.3965259735689329,
          0.17952127104730956,
          -0.3082954895460292,
          0.2721710338721595,
          -1.1620535089156803
         ],
         "xaxis": "x16",
         "yaxis": "y16"
        }
       ],
       "layout": {
        "bargap": 0.02,
        "legend": {
         "bgcolor": "#F5F6F9",
         "font": {
          "color": "#4D5663"
         }
        },
        "paper_bgcolor": "#F5F6F9",
        "plot_bgcolor": "#F5F6F9",
        "showlegend": false,
        "template": {
         "data": {
          "bar": [
           {
            "error_x": {
             "color": "#2a3f5f"
            },
            "error_y": {
             "color": "#2a3f5f"
            },
            "marker": {
             "line": {
              "color": "#E5ECF6",
              "width": 0.5
             }
            },
            "type": "bar"
           }
          ],
          "barpolar": [
           {
            "marker": {
             "line": {
              "color": "#E5ECF6",
              "width": 0.5
             }
            },
            "type": "barpolar"
           }
          ],
          "carpet": [
           {
            "aaxis": {
             "endlinecolor": "#2a3f5f",
             "gridcolor": "white",
             "linecolor": "white",
             "minorgridcolor": "white",
             "startlinecolor": "#2a3f5f"
            },
            "baxis": {
             "endlinecolor": "#2a3f5f",
             "gridcolor": "white",
             "linecolor": "white",
             "minorgridcolor": "white",
             "startlinecolor": "#2a3f5f"
            },
            "type": "carpet"
           }
          ],
          "choropleth": [
           {
            "colorbar": {
             "outlinewidth": 0,
             "ticks": ""
            },
            "type": "choropleth"
           }
          ],
          "contour": [
           {
            "colorbar": {
             "outlinewidth": 0,
             "ticks": ""
            },
            "colorscale": [
             [
              0,
              "#0d0887"
             ],
             [
              0.1111111111111111,
              "#46039f"
             ],
             [
              0.2222222222222222,
              "#7201a8"
             ],
             [
              0.3333333333333333,
              "#9c179e"
             ],
             [
              0.4444444444444444,
              "#bd3786"
             ],
             [
              0.5555555555555556,
              "#d8576b"
             ],
             [
              0.6666666666666666,
              "#ed7953"
             ],
             [
              0.7777777777777778,
              "#fb9f3a"
             ],
             [
              0.8888888888888888,
              "#fdca26"
             ],
             [
              1,
              "#f0f921"
             ]
            ],
            "type": "contour"
           }
          ],
          "contourcarpet": [
           {
            "colorbar": {
             "outlinewidth": 0,
             "ticks": ""
            },
            "type": "contourcarpet"
           }
          ],
          "heatmap": [
           {
            "colorbar": {
             "outlinewidth": 0,
             "ticks": ""
            },
            "colorscale": [
             [
              0,
              "#0d0887"
             ],
             [
              0.1111111111111111,
              "#46039f"
             ],
             [
              0.2222222222222222,
              "#7201a8"
             ],
             [
              0.3333333333333333,
              "#9c179e"
             ],
             [
              0.4444444444444444,
              "#bd3786"
             ],
             [
              0.5555555555555556,
              "#d8576b"
             ],
             [
              0.6666666666666666,
              "#ed7953"
             ],
             [
              0.7777777777777778,
              "#fb9f3a"
             ],
             [
              0.8888888888888888,
              "#fdca26"
             ],
             [
              1,
              "#f0f921"
             ]
            ],
            "type": "heatmap"
           }
          ],
          "heatmapgl": [
           {
            "colorbar": {
             "outlinewidth": 0,
             "ticks": ""
            },
            "colorscale": [
             [
              0,
              "#0d0887"
             ],
             [
              0.1111111111111111,
              "#46039f"
             ],
             [
              0.2222222222222222,
              "#7201a8"
             ],
             [
              0.3333333333333333,
              "#9c179e"
             ],
             [
              0.4444444444444444,
              "#bd3786"
             ],
             [
              0.5555555555555556,
              "#d8576b"
             ],
             [
              0.6666666666666666,
              "#ed7953"
             ],
             [
              0.7777777777777778,
              "#fb9f3a"
             ],
             [
              0.8888888888888888,
              "#fdca26"
             ],
             [
              1,
              "#f0f921"
             ]
            ],
            "type": "heatmapgl"
           }
          ],
          "histogram": [
           {
            "marker": {
             "colorbar": {
              "outlinewidth": 0,
              "ticks": ""
             }
            },
            "type": "histogram"
           }
          ],
          "histogram2d": [
           {
            "colorbar": {
             "outlinewidth": 0,
             "ticks": ""
            },
            "colorscale": [
             [
              0,
              "#0d0887"
             ],
             [
              0.1111111111111111,
              "#46039f"
             ],
             [
              0.2222222222222222,
              "#7201a8"
             ],
             [
              0.3333333333333333,
              "#9c179e"
             ],
             [
              0.4444444444444444,
              "#bd3786"
             ],
             [
              0.5555555555555556,
              "#d8576b"
             ],
             [
              0.6666666666666666,
              "#ed7953"
             ],
             [
              0.7777777777777778,
              "#fb9f3a"
             ],
             [
              0.8888888888888888,
              "#fdca26"
             ],
             [
              1,
              "#f0f921"
             ]
            ],
            "type": "histogram2d"
           }
          ],
          "histogram2dcontour": [
           {
            "colorbar": {
             "outlinewidth": 0,
             "ticks": ""
            },
            "colorscale": [
             [
              0,
              "#0d0887"
             ],
             [
              0.1111111111111111,
              "#46039f"
             ],
             [
              0.2222222222222222,
              "#7201a8"
             ],
             [
              0.3333333333333333,
              "#9c179e"
             ],
             [
              0.4444444444444444,
              "#bd3786"
             ],
             [
              0.5555555555555556,
              "#d8576b"
             ],
             [
              0.6666666666666666,
              "#ed7953"
             ],
             [
              0.7777777777777778,
              "#fb9f3a"
             ],
             [
              0.8888888888888888,
              "#fdca26"
             ],
             [
              1,
              "#f0f921"
             ]
            ],
            "type": "histogram2dcontour"
           }
          ],
          "mesh3d": [
           {
            "colorbar": {
             "outlinewidth": 0,
             "ticks": ""
            },
            "type": "mesh3d"
           }
          ],
          "parcoords": [
           {
            "line": {
             "colorbar": {
              "outlinewidth": 0,
              "ticks": ""
             }
            },
            "type": "parcoords"
           }
          ],
          "pie": [
           {
            "automargin": true,
            "type": "pie"
           }
          ],
          "scatter": [
           {
            "marker": {
             "colorbar": {
              "outlinewidth": 0,
              "ticks": ""
             }
            },
            "type": "scatter"
           }
          ],
          "scatter3d": [
           {
            "line": {
             "colorbar": {
              "outlinewidth": 0,
              "ticks": ""
             }
            },
            "marker": {
             "colorbar": {
              "outlinewidth": 0,
              "ticks": ""
             }
            },
            "type": "scatter3d"
           }
          ],
          "scattercarpet": [
           {
            "marker": {
             "colorbar": {
              "outlinewidth": 0,
              "ticks": ""
             }
            },
            "type": "scattercarpet"
           }
          ],
          "scattergeo": [
           {
            "marker": {
             "colorbar": {
              "outlinewidth": 0,
              "ticks": ""
             }
            },
            "type": "scattergeo"
           }
          ],
          "scattergl": [
           {
            "marker": {
             "colorbar": {
              "outlinewidth": 0,
              "ticks": ""
             }
            },
            "type": "scattergl"
           }
          ],
          "scattermapbox": [
           {
            "marker": {
             "colorbar": {
              "outlinewidth": 0,
              "ticks": ""
             }
            },
            "type": "scattermapbox"
           }
          ],
          "scatterpolar": [
           {
            "marker": {
             "colorbar": {
              "outlinewidth": 0,
              "ticks": ""
             }
            },
            "type": "scatterpolar"
           }
          ],
          "scatterpolargl": [
           {
            "marker": {
             "colorbar": {
              "outlinewidth": 0,
              "ticks": ""
             }
            },
            "type": "scatterpolargl"
           }
          ],
          "scatterternary": [
           {
            "marker": {
             "colorbar": {
              "outlinewidth": 0,
              "ticks": ""
             }
            },
            "type": "scatterternary"
           }
          ],
          "surface": [
           {
            "colorbar": {
             "outlinewidth": 0,
             "ticks": ""
            },
            "colorscale": [
             [
              0,
              "#0d0887"
             ],
             [
              0.1111111111111111,
              "#46039f"
             ],
             [
              0.2222222222222222,
              "#7201a8"
             ],
             [
              0.3333333333333333,
              "#9c179e"
             ],
             [
              0.4444444444444444,
              "#bd3786"
             ],
             [
              0.5555555555555556,
              "#d8576b"
             ],
             [
              0.6666666666666666,
              "#ed7953"
             ],
             [
              0.7777777777777778,
              "#fb9f3a"
             ],
             [
              0.8888888888888888,
              "#fdca26"
             ],
             [
              1,
              "#f0f921"
             ]
            ],
            "type": "surface"
           }
          ],
          "table": [
           {
            "cells": {
             "fill": {
              "color": "#EBF0F8"
             },
             "line": {
              "color": "white"
             }
            },
            "header": {
             "fill": {
              "color": "#C8D4E3"
             },
             "line": {
              "color": "white"
             }
            },
            "type": "table"
           }
          ]
         },
         "layout": {
          "annotationdefaults": {
           "arrowcolor": "#2a3f5f",
           "arrowhead": 0,
           "arrowwidth": 1
          },
          "coloraxis": {
           "colorbar": {
            "outlinewidth": 0,
            "ticks": ""
           }
          },
          "colorscale": {
           "diverging": [
            [
             0,
             "#8e0152"
            ],
            [
             0.1,
             "#c51b7d"
            ],
            [
             0.2,
             "#de77ae"
            ],
            [
             0.3,
             "#f1b6da"
            ],
            [
             0.4,
             "#fde0ef"
            ],
            [
             0.5,
             "#f7f7f7"
            ],
            [
             0.6,
             "#e6f5d0"
            ],
            [
             0.7,
             "#b8e186"
            ],
            [
             0.8,
             "#7fbc41"
            ],
            [
             0.9,
             "#4d9221"
            ],
            [
             1,
             "#276419"
            ]
           ],
           "sequential": [
            [
             0,
             "#0d0887"
            ],
            [
             0.1111111111111111,
             "#46039f"
            ],
            [
             0.2222222222222222,
             "#7201a8"
            ],
            [
             0.3333333333333333,
             "#9c179e"
            ],
            [
             0.4444444444444444,
             "#bd3786"
            ],
            [
             0.5555555555555556,
             "#d8576b"
            ],
            [
             0.6666666666666666,
             "#ed7953"
            ],
            [
             0.7777777777777778,
             "#fb9f3a"
            ],
            [
             0.8888888888888888,
             "#fdca26"
            ],
            [
             1,
             "#f0f921"
            ]
           ],
           "sequentialminus": [
            [
             0,
             "#0d0887"
            ],
            [
             0.1111111111111111,
             "#46039f"
            ],
            [
             0.2222222222222222,
             "#7201a8"
            ],
            [
             0.3333333333333333,
             "#9c179e"
            ],
            [
             0.4444444444444444,
             "#bd3786"
            ],
            [
             0.5555555555555556,
             "#d8576b"
            ],
            [
             0.6666666666666666,
             "#ed7953"
            ],
            [
             0.7777777777777778,
             "#fb9f3a"
            ],
            [
             0.8888888888888888,
             "#fdca26"
            ],
            [
             1,
             "#f0f921"
            ]
           ]
          },
          "colorway": [
           "#636efa",
           "#EF553B",
           "#00cc96",
           "#ab63fa",
           "#FFA15A",
           "#19d3f3",
           "#FF6692",
           "#B6E880",
           "#FF97FF",
           "#FECB52"
          ],
          "font": {
           "color": "#2a3f5f"
          },
          "geo": {
           "bgcolor": "white",
           "lakecolor": "white",
           "landcolor": "#E5ECF6",
           "showlakes": true,
           "showland": true,
           "subunitcolor": "white"
          },
          "hoverlabel": {
           "align": "left"
          },
          "hovermode": "closest",
          "mapbox": {
           "style": "light"
          },
          "paper_bgcolor": "white",
          "plot_bgcolor": "#E5ECF6",
          "polar": {
           "angularaxis": {
            "gridcolor": "white",
            "linecolor": "white",
            "ticks": ""
           },
           "bgcolor": "#E5ECF6",
           "radialaxis": {
            "gridcolor": "white",
            "linecolor": "white",
            "ticks": ""
           }
          },
          "scene": {
           "xaxis": {
            "backgroundcolor": "#E5ECF6",
            "gridcolor": "white",
            "gridwidth": 2,
            "linecolor": "white",
            "showbackground": true,
            "ticks": "",
            "zerolinecolor": "white"
           },
           "yaxis": {
            "backgroundcolor": "#E5ECF6",
            "gridcolor": "white",
            "gridwidth": 2,
            "linecolor": "white",
            "showbackground": true,
            "ticks": "",
            "zerolinecolor": "white"
           },
           "zaxis": {
            "backgroundcolor": "#E5ECF6",
            "gridcolor": "white",
            "gridwidth": 2,
            "linecolor": "white",
            "showbackground": true,
            "ticks": "",
            "zerolinecolor": "white"
           }
          },
          "shapedefaults": {
           "line": {
            "color": "#2a3f5f"
           }
          },
          "ternary": {
           "aaxis": {
            "gridcolor": "white",
            "linecolor": "white",
            "ticks": ""
           },
           "baxis": {
            "gridcolor": "white",
            "linecolor": "white",
            "ticks": ""
           },
           "bgcolor": "#E5ECF6",
           "caxis": {
            "gridcolor": "white",
            "linecolor": "white",
            "ticks": ""
           }
          },
          "title": {
           "x": 0.05
          },
          "xaxis": {
           "automargin": true,
           "gridcolor": "white",
           "linecolor": "white",
           "ticks": "",
           "title": {
            "standoff": 15
           },
           "zerolinecolor": "white",
           "zerolinewidth": 2
          },
          "yaxis": {
           "automargin": true,
           "gridcolor": "white",
           "linecolor": "white",
           "ticks": "",
           "title": {
            "standoff": 15
           },
           "zerolinecolor": "white",
           "zerolinewidth": 2
          }
         }
        },
        "title": {
         "font": {
          "color": "#4D5663"
         }
        },
        "xaxis": {
         "anchor": "y",
         "domain": [
          0,
          0.2125
         ],
         "gridcolor": "#E1E5ED",
         "showgrid": false,
         "tickfont": {
          "color": "#4D5663"
         },
         "title": {
          "font": {
           "color": "#4D5663"
          },
          "text": ""
         },
         "zerolinecolor": "#E1E5ED"
        },
        "xaxis10": {
         "anchor": "y10",
         "domain": [
          0.2625,
          0.475
         ],
         "gridcolor": "#E1E5ED",
         "showgrid": false,
         "tickfont": {
          "color": "#4D5663"
         },
         "title": {
          "font": {
           "color": "#4D5663"
          },
          "text": ""
         },
         "zerolinecolor": "#E1E5ED"
        },
        "xaxis11": {
         "anchor": "y11",
         "domain": [
          0.525,
          0.7375
         ],
         "gridcolor": "#E1E5ED",
         "showgrid": false,
         "tickfont": {
          "color": "#4D5663"
         },
         "title": {
          "font": {
           "color": "#4D5663"
          },
          "text": ""
         },
         "zerolinecolor": "#E1E5ED"
        },
        "xaxis12": {
         "anchor": "y12",
         "domain": [
          0.7875,
          1
         ],
         "gridcolor": "#E1E5ED",
         "showgrid": false,
         "tickfont": {
          "color": "#4D5663"
         },
         "title": {
          "font": {
           "color": "#4D5663"
          },
          "text": ""
         },
         "zerolinecolor": "#E1E5ED"
        },
        "xaxis13": {
         "anchor": "y13",
         "domain": [
          0,
          0.2125
         ],
         "gridcolor": "#E1E5ED",
         "showgrid": false,
         "tickfont": {
          "color": "#4D5663"
         },
         "title": {
          "font": {
           "color": "#4D5663"
          },
          "text": ""
         },
         "zerolinecolor": "#E1E5ED"
        },
        "xaxis14": {
         "anchor": "y14",
         "domain": [
          0.2625,
          0.475
         ],
         "gridcolor": "#E1E5ED",
         "showgrid": false,
         "tickfont": {
          "color": "#4D5663"
         },
         "title": {
          "font": {
           "color": "#4D5663"
          },
          "text": ""
         },
         "zerolinecolor": "#E1E5ED"
        },
        "xaxis15": {
         "anchor": "y15",
         "domain": [
          0.525,
          0.7375
         ],
         "gridcolor": "#E1E5ED",
         "showgrid": false,
         "tickfont": {
          "color": "#4D5663"
         },
         "title": {
          "font": {
           "color": "#4D5663"
          },
          "text": ""
         },
         "zerolinecolor": "#E1E5ED"
        },
        "xaxis16": {
         "anchor": "y16",
         "domain": [
          0.7875,
          1
         ],
         "gridcolor": "#E1E5ED",
         "showgrid": false,
         "tickfont": {
          "color": "#4D5663"
         },
         "title": {
          "font": {
           "color": "#4D5663"
          },
          "text": ""
         },
         "zerolinecolor": "#E1E5ED"
        },
        "xaxis2": {
         "anchor": "y2",
         "domain": [
          0.2625,
          0.475
         ],
         "gridcolor": "#E1E5ED",
         "showgrid": false,
         "tickfont": {
          "color": "#4D5663"
         },
         "title": {
          "font": {
           "color": "#4D5663"
          },
          "text": ""
         },
         "zerolinecolor": "#E1E5ED"
        },
        "xaxis3": {
         "anchor": "y3",
         "domain": [
          0.525,
          0.7375
         ],
         "gridcolor": "#E1E5ED",
         "showgrid": false,
         "tickfont": {
          "color": "#4D5663"
         },
         "title": {
          "font": {
           "color": "#4D5663"
          },
          "text": ""
         },
         "zerolinecolor": "#E1E5ED"
        },
        "xaxis4": {
         "anchor": "y4",
         "domain": [
          0.7875,
          1
         ],
         "gridcolor": "#E1E5ED",
         "showgrid": false,
         "tickfont": {
          "color": "#4D5663"
         },
         "title": {
          "font": {
           "color": "#4D5663"
          },
          "text": ""
         },
         "zerolinecolor": "#E1E5ED"
        },
        "xaxis5": {
         "anchor": "y5",
         "domain": [
          0,
          0.2125
         ],
         "gridcolor": "#E1E5ED",
         "showgrid": false,
         "tickfont": {
          "color": "#4D5663"
         },
         "title": {
          "font": {
           "color": "#4D5663"
          },
          "text": ""
         },
         "zerolinecolor": "#E1E5ED"
        },
        "xaxis6": {
         "anchor": "y6",
         "domain": [
          0.2625,
          0.475
         ],
         "gridcolor": "#E1E5ED",
         "showgrid": false,
         "tickfont": {
          "color": "#4D5663"
         },
         "title": {
          "font": {
           "color": "#4D5663"
          },
          "text": ""
         },
         "zerolinecolor": "#E1E5ED"
        },
        "xaxis7": {
         "anchor": "y7",
         "domain": [
          0.525,
          0.7375
         ],
         "gridcolor": "#E1E5ED",
         "showgrid": false,
         "tickfont": {
          "color": "#4D5663"
         },
         "title": {
          "font": {
           "color": "#4D5663"
          },
          "text": ""
         },
         "zerolinecolor": "#E1E5ED"
        },
        "xaxis8": {
         "anchor": "y8",
         "domain": [
          0.7875,
          1
         ],
         "gridcolor": "#E1E5ED",
         "showgrid": false,
         "tickfont": {
          "color": "#4D5663"
         },
         "title": {
          "font": {
           "color": "#4D5663"
          },
          "text": ""
         },
         "zerolinecolor": "#E1E5ED"
        },
        "xaxis9": {
         "anchor": "y9",
         "domain": [
          0,
          0.2125
         ],
         "gridcolor": "#E1E5ED",
         "showgrid": false,
         "tickfont": {
          "color": "#4D5663"
         },
         "title": {
          "font": {
           "color": "#4D5663"
          },
          "text": ""
         },
         "zerolinecolor": "#E1E5ED"
        },
        "yaxis": {
         "anchor": "x",
         "domain": [
          0.8025,
          1
         ],
         "gridcolor": "#E1E5ED",
         "showgrid": false,
         "tickfont": {
          "color": "#4D5663"
         },
         "title": {
          "font": {
           "color": "#4D5663"
          },
          "text": ""
         },
         "zerolinecolor": "#E1E5ED"
        },
        "yaxis10": {
         "anchor": "x10",
         "domain": [
          0.2675,
          0.465
         ],
         "gridcolor": "#E1E5ED",
         "showgrid": false,
         "tickfont": {
          "color": "#4D5663"
         },
         "title": {
          "font": {
           "color": "#4D5663"
          },
          "text": ""
         },
         "zerolinecolor": "#E1E5ED"
        },
        "yaxis11": {
         "anchor": "x11",
         "domain": [
          0.2675,
          0.465
         ],
         "gridcolor": "#E1E5ED",
         "showgrid": false,
         "tickfont": {
          "color": "#4D5663"
         },
         "title": {
          "font": {
           "color": "#4D5663"
          },
          "text": ""
         },
         "zerolinecolor": "#E1E5ED"
        },
        "yaxis12": {
         "anchor": "x12",
         "domain": [
          0.2675,
          0.465
         ],
         "gridcolor": "#E1E5ED",
         "showgrid": false,
         "tickfont": {
          "color": "#4D5663"
         },
         "title": {
          "font": {
           "color": "#4D5663"
          },
          "text": ""
         },
         "zerolinecolor": "#E1E5ED"
        },
        "yaxis13": {
         "anchor": "x13",
         "domain": [
          0,
          0.1975
         ],
         "gridcolor": "#E1E5ED",
         "showgrid": false,
         "tickfont": {
          "color": "#4D5663"
         },
         "title": {
          "font": {
           "color": "#4D5663"
          },
          "text": ""
         },
         "zerolinecolor": "#E1E5ED"
        },
        "yaxis14": {
         "anchor": "x14",
         "domain": [
          0,
          0.1975
         ],
         "gridcolor": "#E1E5ED",
         "showgrid": false,
         "tickfont": {
          "color": "#4D5663"
         },
         "title": {
          "font": {
           "color": "#4D5663"
          },
          "text": ""
         },
         "zerolinecolor": "#E1E5ED"
        },
        "yaxis15": {
         "anchor": "x15",
         "domain": [
          0,
          0.1975
         ],
         "gridcolor": "#E1E5ED",
         "showgrid": false,
         "tickfont": {
          "color": "#4D5663"
         },
         "title": {
          "font": {
           "color": "#4D5663"
          },
          "text": ""
         },
         "zerolinecolor": "#E1E5ED"
        },
        "yaxis16": {
         "anchor": "x16",
         "domain": [
          0,
          0.1975
         ],
         "gridcolor": "#E1E5ED",
         "showgrid": false,
         "tickfont": {
          "color": "#4D5663"
         },
         "title": {
          "font": {
           "color": "#4D5663"
          },
          "text": ""
         },
         "zerolinecolor": "#E1E5ED"
        },
        "yaxis2": {
         "anchor": "x2",
         "domain": [
          0.8025,
          1
         ],
         "gridcolor": "#E1E5ED",
         "showgrid": false,
         "tickfont": {
          "color": "#4D5663"
         },
         "title": {
          "font": {
           "color": "#4D5663"
          },
          "text": ""
         },
         "zerolinecolor": "#E1E5ED"
        },
        "yaxis3": {
         "anchor": "x3",
         "domain": [
          0.8025,
          1
         ],
         "gridcolor": "#E1E5ED",
         "showgrid": false,
         "tickfont": {
          "color": "#4D5663"
         },
         "title": {
          "font": {
           "color": "#4D5663"
          },
          "text": ""
         },
         "zerolinecolor": "#E1E5ED"
        },
        "yaxis4": {
         "anchor": "x4",
         "domain": [
          0.8025,
          1
         ],
         "gridcolor": "#E1E5ED",
         "showgrid": false,
         "tickfont": {
          "color": "#4D5663"
         },
         "title": {
          "font": {
           "color": "#4D5663"
          },
          "text": ""
         },
         "zerolinecolor": "#E1E5ED"
        },
        "yaxis5": {
         "anchor": "x5",
         "domain": [
          0.535,
          0.7325
         ],
         "gridcolor": "#E1E5ED",
         "showgrid": false,
         "tickfont": {
          "color": "#4D5663"
         },
         "title": {
          "font": {
           "color": "#4D5663"
          },
          "text": ""
         },
         "zerolinecolor": "#E1E5ED"
        },
        "yaxis6": {
         "anchor": "x6",
         "domain": [
          0.535,
          0.7325
         ],
         "gridcolor": "#E1E5ED",
         "showgrid": false,
         "tickfont": {
          "color": "#4D5663"
         },
         "title": {
          "font": {
           "color": "#4D5663"
          },
          "text": ""
         },
         "zerolinecolor": "#E1E5ED"
        },
        "yaxis7": {
         "anchor": "x7",
         "domain": [
          0.535,
          0.7325
         ],
         "gridcolor": "#E1E5ED",
         "showgrid": false,
         "tickfont": {
          "color": "#4D5663"
         },
         "title": {
          "font": {
           "color": "#4D5663"
          },
          "text": ""
         },
         "zerolinecolor": "#E1E5ED"
        },
        "yaxis8": {
         "anchor": "x8",
         "domain": [
          0.535,
          0.7325
         ],
         "gridcolor": "#E1E5ED",
         "showgrid": false,
         "tickfont": {
          "color": "#4D5663"
         },
         "title": {
          "font": {
           "color": "#4D5663"
          },
          "text": ""
         },
         "zerolinecolor": "#E1E5ED"
        },
        "yaxis9": {
         "anchor": "x9",
         "domain": [
          0.2675,
          0.465
         ],
         "gridcolor": "#E1E5ED",
         "showgrid": false,
         "tickfont": {
          "color": "#4D5663"
         },
         "title": {
          "font": {
           "color": "#4D5663"
          },
          "text": ""
         },
         "zerolinecolor": "#E1E5ED"
        }
       }
      },
      "text/html": [
       "<div>\n",
       "        \n",
       "        \n",
       "            <div id=\"03b011dd-34bf-43a9-9b53-665e37a6c44f\" class=\"plotly-graph-div\" style=\"height:525px; width:100%;\"></div>\n",
       "            <script type=\"text/javascript\">\n",
       "                require([\"plotly\"], function(Plotly) {\n",
       "                    window.PLOTLYENV=window.PLOTLYENV || {};\n",
       "                    window.PLOTLYENV.BASE_URL='https://plot.ly';\n",
       "                    \n",
       "                if (document.getElementById(\"03b011dd-34bf-43a9-9b53-665e37a6c44f\")) {\n",
       "                    Plotly.newPlot(\n",
       "                        '03b011dd-34bf-43a9-9b53-665e37a6c44f',\n",
       "                        [{\"histfunc\": \"count\", \"histnorm\": \"\", \"marker\": {\"color\": \"rgba(255, 153, 51, 1.0)\", \"line\": {\"color\": \"#4D5663\", \"width\": 1.3}}, \"name\": \"A\", \"nbinsx\": 10, \"opacity\": 0.8, \"orientation\": \"v\", \"type\": \"histogram\", \"x\": [1.416593517660878, -0.14738395566749896, -1.7844796810424377, 1.0916939562052876, 0.8690310862451806, -0.9130881968676815, 0.999815987739978, 0.20249872319987558, 0.6651541347542538, 1.5904328259462475, 0.9224191664291218, -0.18016206629497075, 1.134944336265271, -0.19204911602866678, -0.7725701660993973, 0.10063744605008441, 0.10714591412949345, -0.42221541400028717, -0.8403776497203891, -0.34062561748689635, -0.9319306418128855, -2.7047515845412606, 0.008464414016829484, -0.24679681716914537, -0.8891064856373092, -0.0976902393419508, 2.0554795131481236, 1.140205355254008, -1.3222237382657935, 1.2972526054749431, 1.2723501043391907, -1.0402921253786834, 0.08975397544334109, -0.7211196617732506, 0.46079850518443477, -0.0035295707984208287, -1.6680052301548915, 0.39593916411591684, -0.036736725525066675, -0.18708565303207123, 0.4090337394442913, -0.11516336115305838, -2.1023287946207225, 0.7145964193033464, 0.8992939935517598, -1.1066813776882152, -0.8429684555863061, 0.8641921006942638, -0.5073841845450361, -0.8566073764635567, -0.26835127760692934, -1.2592951714357608, -0.880020854779105, 1.3836949417430615, -0.8108977849120101, 0.4561661807281345, 0.004415115029279976, 0.03828165518747515, -0.10676227658460166, 1.028572156444397, -0.28421897250220285, 0.8849806821994682, 1.4380095987100332, -0.8877395811176105, 1.228816832515203, 0.7564202279095027, -0.2625169494179067, 1.013996267722401, -0.4081800018537628, 1.0211977886508627, 0.7767951727052528, 0.2911188894392512, -1.730474681675736, 0.32841643489202166, 0.07140028981004318, 1.0689025968967223, -1.9049709066817657, -0.5405171578578922, -0.47397936749667924, -0.7220304917111585, -0.43499570927661463, -1.076760505534362, -2.851530141907224, -0.3583158919767544, -1.5432561099522224, -0.8784881122522841, -1.9603084686379697, -0.5885186370713009, 1.5997148736849103, 0.024734175690217294, 0.07809005053066699, 1.667352773288952, -1.287735836010282, -0.5990499600750134, 0.10309793710856048, 0.6049082987598869, 0.22668443288025425, -0.4085805437783098, 0.7047569911056685, -0.0058223868182907396], \"xaxis\": \"x\", \"yaxis\": \"y\"}, {\"line\": {\"color\": \"rgba(128, 128, 128, 1.0)\", \"dash\": \"solid\", \"shape\": \"linear\", \"width\": 1.3}, \"marker\": {\"size\": 2, \"symbol\": \"circle\"}, \"mode\": \"markers\", \"name\": \"A\", \"text\": \"\", \"type\": \"scatter\", \"x\": [-1.784098720340015, 2.171244510657171, 0.6814350497909425, 1.6915046033363401, 0.18481649594853616, 1.3717132391682432, -1.2275847765325325, 0.1377905244967582, -1.1480009457520386, 0.26162442648712664, -0.3949869957178582, -1.4968385199265781, -1.2882205677288796, 0.734932556612695, 1.2232971975351834, -0.593392211027469, -1.0654669938822041, -0.3571674089948739, -0.13876162829474128, -0.2895293494986774, -0.48357022428835184, -1.3885923462518266, -0.5237646877578167, 1.3060138012560842, 0.25660307311615027, -0.8203047424592492, -0.4923162655865527, -0.4845844995598301, 1.1978422826877433, 2.0998690486150426, 1.01936669685555, -0.3386138535811944, -1.482145713226032, 2.2072307943488627, 0.7211135696527582, -1.8947101869608063, -1.6555186146259382, 0.6664471016106729, 0.6579972725992663, 0.26733180131832407, 0.8914121897579306, -0.5502327140222424, -0.7035046554239406, -0.9461377411810604, -0.6001142874070964, 0.02870046019532282, -1.7907167802754105, 1.3897741383929765, -0.016268510422112355, 0.5663514625633824, 1.9999017682580833, 1.6601667123454453, 0.6815372328213235, -0.8400593255846813, 1.11322310825198, 0.6606722621695404, 0.4375288477222289, -0.23405318147746282, 0.5886108970417825, -0.33299951352436286, -0.40185930102225387, -0.6635188196620705, 0.07704697176714438, -0.9213946986355144, -0.9831820012034149, 0.7946699447595283, -0.9991701796154964, 0.2815538007953517, 0.174998690858209, 0.8837798626530278, 0.9032875954210857, 0.24055208121983598, 0.5922894036824274, -1.2661514687988389, -0.8809610852153962, -0.12528969601901807, 0.6211367105295839, 0.13636933563037099, 0.5931900126435424, -1.4967044610569924, 0.5340581219643343, 0.3514056027479767, 0.4863662132233159, 0.24581933733395622, -2.059486231643359, -0.6300296950748387, 0.44013425063156586, 0.4473713899152323, -0.00047627043586563036, 0.2657031815297724, 2.201413247661273, -0.9173536467289062, -0.8332408625755586, -1.0151245854973656, 0.14016786526148148, 0.5585536889690439, -0.44476215618074133, -0.4413464723748191, -0.3494357165693916, -1.0018284495680674], \"xaxis\": \"x2\", \"y\": [1.416593517660878, -0.14738395566749896, -1.7844796810424377, 1.0916939562052876, 0.8690310862451806, -0.9130881968676815, 0.999815987739978, 0.20249872319987558, 0.6651541347542538, 1.5904328259462475, 0.9224191664291218, -0.18016206629497075, 1.134944336265271, -0.19204911602866678, -0.7725701660993973, 0.10063744605008441, 0.10714591412949345, -0.42221541400028717, -0.8403776497203891, -0.34062561748689635, -0.9319306418128855, -2.7047515845412606, 0.008464414016829484, -0.24679681716914537, -0.8891064856373092, -0.0976902393419508, 2.0554795131481236, 1.140205355254008, -1.3222237382657935, 1.2972526054749431, 1.2723501043391907, -1.0402921253786834, 0.08975397544334109, -0.7211196617732506, 0.46079850518443477, -0.0035295707984208287, -1.6680052301548915, 0.39593916411591684, -0.036736725525066675, -0.18708565303207123, 0.4090337394442913, -0.11516336115305838, -2.1023287946207225, 0.7145964193033464, 0.8992939935517598, -1.1066813776882152, -0.8429684555863061, 0.8641921006942638, -0.5073841845450361, -0.8566073764635567, -0.26835127760692934, -1.2592951714357608, -0.880020854779105, 1.3836949417430615, -0.8108977849120101, 0.4561661807281345, 0.004415115029279976, 0.03828165518747515, -0.10676227658460166, 1.028572156444397, -0.28421897250220285, 0.8849806821994682, 1.4380095987100332, -0.8877395811176105, 1.228816832515203, 0.7564202279095027, -0.2625169494179067, 1.013996267722401, -0.4081800018537628, 1.0211977886508627, 0.7767951727052528, 0.2911188894392512, -1.730474681675736, 0.32841643489202166, 0.07140028981004318, 1.0689025968967223, -1.9049709066817657, -0.5405171578578922, -0.47397936749667924, -0.7220304917111585, -0.43499570927661463, -1.076760505534362, -2.851530141907224, -0.3583158919767544, -1.5432561099522224, -0.8784881122522841, -1.9603084686379697, -0.5885186370713009, 1.5997148736849103, 0.024734175690217294, 0.07809005053066699, 1.667352773288952, -1.287735836010282, -0.5990499600750134, 0.10309793710856048, 0.6049082987598869, 0.22668443288025425, -0.4085805437783098, 0.7047569911056685, -0.0058223868182907396], \"yaxis\": \"y2\"}, {\"line\": {\"color\": \"rgba(128, 128, 128, 1.0)\", \"dash\": \"solid\", \"shape\": \"linear\", \"width\": 1.3}, \"marker\": {\"size\": 2, \"symbol\": \"circle\"}, \"mode\": \"markers\", \"name\": \"A\", \"text\": \"\", \"type\": \"scatter\", \"x\": [-0.5967119098197226, 0.853238764026366, 1.6672094843438492, -0.0037601992873524037, -0.9071834782154601, 1.883690558450849, -2.106354563045812, -1.2168484036552596, 0.17255626813792466, 1.0582852945687178, 1.3952429242549573, 0.07227254577092632, -0.4195317892628768, 0.3148586861350653, 0.17138607027311709, 0.979523061893303, 1.0170253940983998, -0.31540535624226623, -0.1771259277074585, 1.0509795019188313, 0.4027836644340148, -0.10335933258826242, -0.7935237694439741, 0.2929342298614919, 2.156830774988516, 0.30115733682483886, 2.0883112687994463, -0.9278018279636102, 0.1274690526763963, -0.7019996573220373, 0.1499739530535481, -1.0036591424346843, -2.800423325047921, 1.3353677753307296, 0.5034117514155685, 0.2570665310706626, -1.1518065065844245, -0.4729507221586094, 1.672213002084143, -1.2363872849124302, 0.012105592964178779, -1.493747478456467, 0.1952640284715851, -0.7848860869658573, 0.02009202740699355, 0.07135868247529763, -0.7884840153246424, 0.01814514012957843, 0.2146823765491746, -1.0675674116210412, 0.8544589019211002, -0.5989615235683363, -0.46581180378221787, 0.6152601748855848, 0.7692237912289807, -0.4420183379256885, -1.6959042945833291, 0.08343248358165806, -0.2945583821376016, 0.6063342583506851, -0.5887858952909739, 0.13694788409010514, -1.2424969811602868, -0.5239490868519974, 1.1956002105011092, 1.084099517593647, 0.7610297699914984, 0.15656489162299303, -1.3256041858993401, 0.6332892520923301, -0.9439011838970643, 0.19397551161246512, -0.564838581449026, 0.6443860682633141, -0.00950007628578957, 1.059583505527082, 1.3659520311143776, -1.7341794280109315, 0.3817222401871636, 0.20508286240366627, -0.30652983613662893, 1.1586328857965569, -0.24000038468347007, 0.5057631958197074, -0.6101763309802465, 0.7182084359558547, 0.1162004892642478, 0.20904716578240504, -2.1276348152551523, -0.20780572655946458, -0.260592364108929, -0.580124951761244, 1.8107866238776256, 1.2067337473203945, 0.9661438170829647, 0.778797568299232, -1.4437124946541433, 1.4058055726143668, 1.6464512148069346, 1.5567465741174473], \"xaxis\": \"x3\", \"y\": [1.416593517660878, -0.14738395566749896, -1.7844796810424377, 1.0916939562052876, 0.8690310862451806, -0.9130881968676815, 0.999815987739978, 0.20249872319987558, 0.6651541347542538, 1.5904328259462475, 0.9224191664291218, -0.18016206629497075, 1.134944336265271, -0.19204911602866678, -0.7725701660993973, 0.10063744605008441, 0.10714591412949345, -0.42221541400028717, -0.8403776497203891, -0.34062561748689635, -0.9319306418128855, -2.7047515845412606, 0.008464414016829484, -0.24679681716914537, -0.8891064856373092, -0.0976902393419508, 2.0554795131481236, 1.140205355254008, -1.3222237382657935, 1.2972526054749431, 1.2723501043391907, -1.0402921253786834, 0.08975397544334109, -0.7211196617732506, 0.46079850518443477, -0.0035295707984208287, -1.6680052301548915, 0.39593916411591684, -0.036736725525066675, -0.18708565303207123, 0.4090337394442913, -0.11516336115305838, -2.1023287946207225, 0.7145964193033464, 0.8992939935517598, -1.1066813776882152, -0.8429684555863061, 0.8641921006942638, -0.5073841845450361, -0.8566073764635567, -0.26835127760692934, -1.2592951714357608, -0.880020854779105, 1.3836949417430615, -0.8108977849120101, 0.4561661807281345, 0.004415115029279976, 0.03828165518747515, -0.10676227658460166, 1.028572156444397, -0.28421897250220285, 0.8849806821994682, 1.4380095987100332, -0.8877395811176105, 1.228816832515203, 0.7564202279095027, -0.2625169494179067, 1.013996267722401, -0.4081800018537628, 1.0211977886508627, 0.7767951727052528, 0.2911188894392512, -1.730474681675736, 0.32841643489202166, 0.07140028981004318, 1.0689025968967223, -1.9049709066817657, -0.5405171578578922, -0.47397936749667924, -0.7220304917111585, -0.43499570927661463, -1.076760505534362, -2.851530141907224, -0.3583158919767544, -1.5432561099522224, -0.8784881122522841, -1.9603084686379697, -0.5885186370713009, 1.5997148736849103, 0.024734175690217294, 0.07809005053066699, 1.667352773288952, -1.287735836010282, -0.5990499600750134, 0.10309793710856048, 0.6049082987598869, 0.22668443288025425, -0.4085805437783098, 0.7047569911056685, -0.0058223868182907396], \"yaxis\": \"y3\"}, {\"line\": {\"color\": \"rgba(128, 128, 128, 1.0)\", \"dash\": \"solid\", \"shape\": \"linear\", \"width\": 1.3}, \"marker\": {\"size\": 2, \"symbol\": \"circle\"}, \"mode\": \"markers\", \"name\": \"A\", \"text\": \"\", \"type\": \"scatter\", \"x\": [0.6079252288271123, -0.7673086708362776, 2.7918004888249155, 1.5313914625222045, -1.4345453782854332, -1.0437865151846786, 0.19847176529920577, 1.3862446579489935, -0.35138062753487304, 0.03719432201318422, -1.7616253778540005, 2.3407054624379846, -0.2000097595989267, 0.7669854014325037, 0.11298294909977, 0.046858080065504425, -0.18120895485222938, 0.7695550229775915, 0.15511077522056577, -0.9108953777606292, 0.6377005270907216, -1.6068124460140327, 1.845840177929854, -1.1052126634256259, -1.6451598313262024, 1.0953926667391707, -2.6811855828962696, -0.24426026935419365, -0.6820128828581605, 0.3608787094224027, -0.0764345595001479, 0.3088811741935369, -0.329408490492265, 1.4464185545662458, -2.0128086971620927, 0.08825858728083487, -0.168682137332262, 2.065928188589186, -1.6017962278561868, -1.5312993522830245, -0.03945107251970846, -0.6733129013460523, -0.6076787744094737, 1.6360672041399968, 0.48494877078027687, 0.01323259657886119, 1.4328584127569208, -1.6683257498452444, -0.8829926821113253, -0.09166483027086167, -3.080415218787863, -0.8472046953264905, -0.049951322488767644, -0.6759172855350523, 0.2810806490503662, 0.07703330630025013, 1.7316185845049246, 0.5755896592654809, 0.7732777600729397, -0.5761818253061513, -0.5662697882027303, -1.284520760769256, 0.41915185995351933, 0.4516275355752908, 0.10016374487909058, -0.589883708770861, -0.425278673747093, -0.7888957909839527, 0.5080520587703382, -0.14777685657714393, 0.19389746683109096, -0.1863775839392197, 3.826662212990111, 1.7942084045458413, -1.346814767384748, -1.1375499897392416, 0.48098246076773254, -1.2442890043073742, 0.006054537387323956, 0.7079016296857916, 0.9850833750736986, -0.3163365229351439, -0.4816814896722392, -0.04785840952576833, -0.5514694996254651, 1.0549941504273481, 1.1669241949067033, -0.29010413031084936, -0.5107131029812131, -0.9299722618442059, 0.40261878264672124, -1.1679406337745477, 0.5435855253429999, -1.19777229520187, 1.3514454837032996, -0.3965259735689329, 0.17952127104730956, -0.3082954895460292, 0.2721710338721595, -1.1620535089156803], \"xaxis\": \"x4\", \"y\": [1.416593517660878, -0.14738395566749896, -1.7844796810424377, 1.0916939562052876, 0.8690310862451806, -0.9130881968676815, 0.999815987739978, 0.20249872319987558, 0.6651541347542538, 1.5904328259462475, 0.9224191664291218, -0.18016206629497075, 1.134944336265271, -0.19204911602866678, -0.7725701660993973, 0.10063744605008441, 0.10714591412949345, -0.42221541400028717, -0.8403776497203891, -0.34062561748689635, -0.9319306418128855, -2.7047515845412606, 0.008464414016829484, -0.24679681716914537, -0.8891064856373092, -0.0976902393419508, 2.0554795131481236, 1.140205355254008, -1.3222237382657935, 1.2972526054749431, 1.2723501043391907, -1.0402921253786834, 0.08975397544334109, -0.7211196617732506, 0.46079850518443477, -0.0035295707984208287, -1.6680052301548915, 0.39593916411591684, -0.036736725525066675, -0.18708565303207123, 0.4090337394442913, -0.11516336115305838, -2.1023287946207225, 0.7145964193033464, 0.8992939935517598, -1.1066813776882152, -0.8429684555863061, 0.8641921006942638, -0.5073841845450361, -0.8566073764635567, -0.26835127760692934, -1.2592951714357608, -0.880020854779105, 1.3836949417430615, -0.8108977849120101, 0.4561661807281345, 0.004415115029279976, 0.03828165518747515, -0.10676227658460166, 1.028572156444397, -0.28421897250220285, 0.8849806821994682, 1.4380095987100332, -0.8877395811176105, 1.228816832515203, 0.7564202279095027, -0.2625169494179067, 1.013996267722401, -0.4081800018537628, 1.0211977886508627, 0.7767951727052528, 0.2911188894392512, -1.730474681675736, 0.32841643489202166, 0.07140028981004318, 1.0689025968967223, -1.9049709066817657, -0.5405171578578922, -0.47397936749667924, -0.7220304917111585, -0.43499570927661463, -1.076760505534362, -2.851530141907224, -0.3583158919767544, -1.5432561099522224, -0.8784881122522841, -1.9603084686379697, -0.5885186370713009, 1.5997148736849103, 0.024734175690217294, 0.07809005053066699, 1.667352773288952, -1.287735836010282, -0.5990499600750134, 0.10309793710856048, 0.6049082987598869, 0.22668443288025425, -0.4085805437783098, 0.7047569911056685, -0.0058223868182907396], \"yaxis\": \"y4\"}, {\"line\": {\"color\": \"rgba(128, 128, 128, 1.0)\", \"dash\": \"solid\", \"shape\": \"linear\", \"width\": 1.3}, \"marker\": {\"size\": 2, \"symbol\": \"circle\"}, \"mode\": \"markers\", \"name\": \"B\", \"text\": \"\", \"type\": \"scatter\", \"x\": [1.416593517660878, -0.14738395566749896, -1.7844796810424377, 1.0916939562052876, 0.8690310862451806, -0.9130881968676815, 0.999815987739978, 0.20249872319987558, 0.6651541347542538, 1.5904328259462475, 0.9224191664291218, -0.18016206629497075, 1.134944336265271, -0.19204911602866678, -0.7725701660993973, 0.10063744605008441, 0.10714591412949345, -0.42221541400028717, -0.8403776497203891, -0.34062561748689635, -0.9319306418128855, -2.7047515845412606, 0.008464414016829484, -0.24679681716914537, -0.8891064856373092, -0.0976902393419508, 2.0554795131481236, 1.140205355254008, -1.3222237382657935, 1.2972526054749431, 1.2723501043391907, -1.0402921253786834, 0.08975397544334109, -0.7211196617732506, 0.46079850518443477, -0.0035295707984208287, -1.6680052301548915, 0.39593916411591684, -0.036736725525066675, -0.18708565303207123, 0.4090337394442913, -0.11516336115305838, -2.1023287946207225, 0.7145964193033464, 0.8992939935517598, -1.1066813776882152, -0.8429684555863061, 0.8641921006942638, -0.5073841845450361, -0.8566073764635567, -0.26835127760692934, -1.2592951714357608, -0.880020854779105, 1.3836949417430615, -0.8108977849120101, 0.4561661807281345, 0.004415115029279976, 0.03828165518747515, -0.10676227658460166, 1.028572156444397, -0.28421897250220285, 0.8849806821994682, 1.4380095987100332, -0.8877395811176105, 1.228816832515203, 0.7564202279095027, -0.2625169494179067, 1.013996267722401, -0.4081800018537628, 1.0211977886508627, 0.7767951727052528, 0.2911188894392512, -1.730474681675736, 0.32841643489202166, 0.07140028981004318, 1.0689025968967223, -1.9049709066817657, -0.5405171578578922, -0.47397936749667924, -0.7220304917111585, -0.43499570927661463, -1.076760505534362, -2.851530141907224, -0.3583158919767544, -1.5432561099522224, -0.8784881122522841, -1.9603084686379697, -0.5885186370713009, 1.5997148736849103, 0.024734175690217294, 0.07809005053066699, 1.667352773288952, -1.287735836010282, -0.5990499600750134, 0.10309793710856048, 0.6049082987598869, 0.22668443288025425, -0.4085805437783098, 0.7047569911056685, -0.0058223868182907396], \"xaxis\": \"x5\", \"y\": [-1.784098720340015, 2.171244510657171, 0.6814350497909425, 1.6915046033363401, 0.18481649594853616, 1.3717132391682432, -1.2275847765325325, 0.1377905244967582, -1.1480009457520386, 0.26162442648712664, -0.3949869957178582, -1.4968385199265781, -1.2882205677288796, 0.734932556612695, 1.2232971975351834, -0.593392211027469, -1.0654669938822041, -0.3571674089948739, -0.13876162829474128, -0.2895293494986774, -0.48357022428835184, -1.3885923462518266, -0.5237646877578167, 1.3060138012560842, 0.25660307311615027, -0.8203047424592492, -0.4923162655865527, -0.4845844995598301, 1.1978422826877433, 2.0998690486150426, 1.01936669685555, -0.3386138535811944, -1.482145713226032, 2.2072307943488627, 0.7211135696527582, -1.8947101869608063, -1.6555186146259382, 0.6664471016106729, 0.6579972725992663, 0.26733180131832407, 0.8914121897579306, -0.5502327140222424, -0.7035046554239406, -0.9461377411810604, -0.6001142874070964, 0.02870046019532282, -1.7907167802754105, 1.3897741383929765, -0.016268510422112355, 0.5663514625633824, 1.9999017682580833, 1.6601667123454453, 0.6815372328213235, -0.8400593255846813, 1.11322310825198, 0.6606722621695404, 0.4375288477222289, -0.23405318147746282, 0.5886108970417825, -0.33299951352436286, -0.40185930102225387, -0.6635188196620705, 0.07704697176714438, -0.9213946986355144, -0.9831820012034149, 0.7946699447595283, -0.9991701796154964, 0.2815538007953517, 0.174998690858209, 0.8837798626530278, 0.9032875954210857, 0.24055208121983598, 0.5922894036824274, -1.2661514687988389, -0.8809610852153962, -0.12528969601901807, 0.6211367105295839, 0.13636933563037099, 0.5931900126435424, -1.4967044610569924, 0.5340581219643343, 0.3514056027479767, 0.4863662132233159, 0.24581933733395622, -2.059486231643359, -0.6300296950748387, 0.44013425063156586, 0.4473713899152323, -0.00047627043586563036, 0.2657031815297724, 2.201413247661273, -0.9173536467289062, -0.8332408625755586, -1.0151245854973656, 0.14016786526148148, 0.5585536889690439, -0.44476215618074133, -0.4413464723748191, -0.3494357165693916, -1.0018284495680674], \"yaxis\": \"y5\"}, {\"histfunc\": \"count\", \"histnorm\": \"\", \"marker\": {\"color\": \"rgba(55, 128, 191, 1.0)\", \"line\": {\"color\": \"#4D5663\", \"width\": 1.3}}, \"name\": \"B\", \"nbinsx\": 10, \"opacity\": 0.8, \"orientation\": \"v\", \"type\": \"histogram\", \"x\": [-1.784098720340015, 2.171244510657171, 0.6814350497909425, 1.6915046033363401, 0.18481649594853616, 1.3717132391682432, -1.2275847765325325, 0.1377905244967582, -1.1480009457520386, 0.26162442648712664, -0.3949869957178582, -1.4968385199265781, -1.2882205677288796, 0.734932556612695, 1.2232971975351834, -0.593392211027469, -1.0654669938822041, -0.3571674089948739, -0.13876162829474128, -0.2895293494986774, -0.48357022428835184, -1.3885923462518266, -0.5237646877578167, 1.3060138012560842, 0.25660307311615027, -0.8203047424592492, -0.4923162655865527, -0.4845844995598301, 1.1978422826877433, 2.0998690486150426, 1.01936669685555, -0.3386138535811944, -1.482145713226032, 2.2072307943488627, 0.7211135696527582, -1.8947101869608063, -1.6555186146259382, 0.6664471016106729, 0.6579972725992663, 0.26733180131832407, 0.8914121897579306, -0.5502327140222424, -0.7035046554239406, -0.9461377411810604, -0.6001142874070964, 0.02870046019532282, -1.7907167802754105, 1.3897741383929765, -0.016268510422112355, 0.5663514625633824, 1.9999017682580833, 1.6601667123454453, 0.6815372328213235, -0.8400593255846813, 1.11322310825198, 0.6606722621695404, 0.4375288477222289, -0.23405318147746282, 0.5886108970417825, -0.33299951352436286, -0.40185930102225387, -0.6635188196620705, 0.07704697176714438, -0.9213946986355144, -0.9831820012034149, 0.7946699447595283, -0.9991701796154964, 0.2815538007953517, 0.174998690858209, 0.8837798626530278, 0.9032875954210857, 0.24055208121983598, 0.5922894036824274, -1.2661514687988389, -0.8809610852153962, -0.12528969601901807, 0.6211367105295839, 0.13636933563037099, 0.5931900126435424, -1.4967044610569924, 0.5340581219643343, 0.3514056027479767, 0.4863662132233159, 0.24581933733395622, -2.059486231643359, -0.6300296950748387, 0.44013425063156586, 0.4473713899152323, -0.00047627043586563036, 0.2657031815297724, 2.201413247661273, -0.9173536467289062, -0.8332408625755586, -1.0151245854973656, 0.14016786526148148, 0.5585536889690439, -0.44476215618074133, -0.4413464723748191, -0.3494357165693916, -1.0018284495680674], \"xaxis\": \"x6\", \"yaxis\": \"y6\"}, {\"line\": {\"color\": \"rgba(128, 128, 128, 1.0)\", \"dash\": \"solid\", \"shape\": \"linear\", \"width\": 1.3}, \"marker\": {\"size\": 2, \"symbol\": \"circle\"}, \"mode\": \"markers\", \"name\": \"B\", \"text\": \"\", \"type\": \"scatter\", \"x\": [-0.5967119098197226, 0.853238764026366, 1.6672094843438492, -0.0037601992873524037, -0.9071834782154601, 1.883690558450849, -2.106354563045812, -1.2168484036552596, 0.17255626813792466, 1.0582852945687178, 1.3952429242549573, 0.07227254577092632, -0.4195317892628768, 0.3148586861350653, 0.17138607027311709, 0.979523061893303, 1.0170253940983998, -0.31540535624226623, -0.1771259277074585, 1.0509795019188313, 0.4027836644340148, -0.10335933258826242, -0.7935237694439741, 0.2929342298614919, 2.156830774988516, 0.30115733682483886, 2.0883112687994463, -0.9278018279636102, 0.1274690526763963, -0.7019996573220373, 0.1499739530535481, -1.0036591424346843, -2.800423325047921, 1.3353677753307296, 0.5034117514155685, 0.2570665310706626, -1.1518065065844245, -0.4729507221586094, 1.672213002084143, -1.2363872849124302, 0.012105592964178779, -1.493747478456467, 0.1952640284715851, -0.7848860869658573, 0.02009202740699355, 0.07135868247529763, -0.7884840153246424, 0.01814514012957843, 0.2146823765491746, -1.0675674116210412, 0.8544589019211002, -0.5989615235683363, -0.46581180378221787, 0.6152601748855848, 0.7692237912289807, -0.4420183379256885, -1.6959042945833291, 0.08343248358165806, -0.2945583821376016, 0.6063342583506851, -0.5887858952909739, 0.13694788409010514, -1.2424969811602868, -0.5239490868519974, 1.1956002105011092, 1.084099517593647, 0.7610297699914984, 0.15656489162299303, -1.3256041858993401, 0.6332892520923301, -0.9439011838970643, 0.19397551161246512, -0.564838581449026, 0.6443860682633141, -0.00950007628578957, 1.059583505527082, 1.3659520311143776, -1.7341794280109315, 0.3817222401871636, 0.20508286240366627, -0.30652983613662893, 1.1586328857965569, -0.24000038468347007, 0.5057631958197074, -0.6101763309802465, 0.7182084359558547, 0.1162004892642478, 0.20904716578240504, -2.1276348152551523, -0.20780572655946458, -0.260592364108929, -0.580124951761244, 1.8107866238776256, 1.2067337473203945, 0.9661438170829647, 0.778797568299232, -1.4437124946541433, 1.4058055726143668, 1.6464512148069346, 1.5567465741174473], \"xaxis\": \"x7\", \"y\": [-1.784098720340015, 2.171244510657171, 0.6814350497909425, 1.6915046033363401, 0.18481649594853616, 1.3717132391682432, -1.2275847765325325, 0.1377905244967582, -1.1480009457520386, 0.26162442648712664, -0.3949869957178582, -1.4968385199265781, -1.2882205677288796, 0.734932556612695, 1.2232971975351834, -0.593392211027469, -1.0654669938822041, -0.3571674089948739, -0.13876162829474128, -0.2895293494986774, -0.48357022428835184, -1.3885923462518266, -0.5237646877578167, 1.3060138012560842, 0.25660307311615027, -0.8203047424592492, -0.4923162655865527, -0.4845844995598301, 1.1978422826877433, 2.0998690486150426, 1.01936669685555, -0.3386138535811944, -1.482145713226032, 2.2072307943488627, 0.7211135696527582, -1.8947101869608063, -1.6555186146259382, 0.6664471016106729, 0.6579972725992663, 0.26733180131832407, 0.8914121897579306, -0.5502327140222424, -0.7035046554239406, -0.9461377411810604, -0.6001142874070964, 0.02870046019532282, -1.7907167802754105, 1.3897741383929765, -0.016268510422112355, 0.5663514625633824, 1.9999017682580833, 1.6601667123454453, 0.6815372328213235, -0.8400593255846813, 1.11322310825198, 0.6606722621695404, 0.4375288477222289, -0.23405318147746282, 0.5886108970417825, -0.33299951352436286, -0.40185930102225387, -0.6635188196620705, 0.07704697176714438, -0.9213946986355144, -0.9831820012034149, 0.7946699447595283, -0.9991701796154964, 0.2815538007953517, 0.174998690858209, 0.8837798626530278, 0.9032875954210857, 0.24055208121983598, 0.5922894036824274, -1.2661514687988389, -0.8809610852153962, -0.12528969601901807, 0.6211367105295839, 0.13636933563037099, 0.5931900126435424, -1.4967044610569924, 0.5340581219643343, 0.3514056027479767, 0.4863662132233159, 0.24581933733395622, -2.059486231643359, -0.6300296950748387, 0.44013425063156586, 0.4473713899152323, -0.00047627043586563036, 0.2657031815297724, 2.201413247661273, -0.9173536467289062, -0.8332408625755586, -1.0151245854973656, 0.14016786526148148, 0.5585536889690439, -0.44476215618074133, -0.4413464723748191, -0.3494357165693916, -1.0018284495680674], \"yaxis\": \"y7\"}, {\"line\": {\"color\": \"rgba(128, 128, 128, 1.0)\", \"dash\": \"solid\", \"shape\": \"linear\", \"width\": 1.3}, \"marker\": {\"size\": 2, \"symbol\": \"circle\"}, \"mode\": \"markers\", \"name\": \"B\", \"text\": \"\", \"type\": \"scatter\", \"x\": [0.6079252288271123, -0.7673086708362776, 2.7918004888249155, 1.5313914625222045, -1.4345453782854332, -1.0437865151846786, 0.19847176529920577, 1.3862446579489935, -0.35138062753487304, 0.03719432201318422, -1.7616253778540005, 2.3407054624379846, -0.2000097595989267, 0.7669854014325037, 0.11298294909977, 0.046858080065504425, -0.18120895485222938, 0.7695550229775915, 0.15511077522056577, -0.9108953777606292, 0.6377005270907216, -1.6068124460140327, 1.845840177929854, -1.1052126634256259, -1.6451598313262024, 1.0953926667391707, -2.6811855828962696, -0.24426026935419365, -0.6820128828581605, 0.3608787094224027, -0.0764345595001479, 0.3088811741935369, -0.329408490492265, 1.4464185545662458, -2.0128086971620927, 0.08825858728083487, -0.168682137332262, 2.065928188589186, -1.6017962278561868, -1.5312993522830245, -0.03945107251970846, -0.6733129013460523, -0.6076787744094737, 1.6360672041399968, 0.48494877078027687, 0.01323259657886119, 1.4328584127569208, -1.6683257498452444, -0.8829926821113253, -0.09166483027086167, -3.080415218787863, -0.8472046953264905, -0.049951322488767644, -0.6759172855350523, 0.2810806490503662, 0.07703330630025013, 1.7316185845049246, 0.5755896592654809, 0.7732777600729397, -0.5761818253061513, -0.5662697882027303, -1.284520760769256, 0.41915185995351933, 0.4516275355752908, 0.10016374487909058, -0.589883708770861, -0.425278673747093, -0.7888957909839527, 0.5080520587703382, -0.14777685657714393, 0.19389746683109096, -0.1863775839392197, 3.826662212990111, 1.7942084045458413, -1.346814767384748, -1.1375499897392416, 0.48098246076773254, -1.2442890043073742, 0.006054537387323956, 0.7079016296857916, 0.9850833750736986, -0.3163365229351439, -0.4816814896722392, -0.04785840952576833, -0.5514694996254651, 1.0549941504273481, 1.1669241949067033, -0.29010413031084936, -0.5107131029812131, -0.9299722618442059, 0.40261878264672124, -1.1679406337745477, 0.5435855253429999, -1.19777229520187, 1.3514454837032996, -0.3965259735689329, 0.17952127104730956, -0.3082954895460292, 0.2721710338721595, -1.1620535089156803], \"xaxis\": \"x8\", \"y\": [-1.784098720340015, 2.171244510657171, 0.6814350497909425, 1.6915046033363401, 0.18481649594853616, 1.3717132391682432, -1.2275847765325325, 0.1377905244967582, -1.1480009457520386, 0.26162442648712664, -0.3949869957178582, -1.4968385199265781, -1.2882205677288796, 0.734932556612695, 1.2232971975351834, -0.593392211027469, -1.0654669938822041, -0.3571674089948739, -0.13876162829474128, -0.2895293494986774, -0.48357022428835184, -1.3885923462518266, -0.5237646877578167, 1.3060138012560842, 0.25660307311615027, -0.8203047424592492, -0.4923162655865527, -0.4845844995598301, 1.1978422826877433, 2.0998690486150426, 1.01936669685555, -0.3386138535811944, -1.482145713226032, 2.2072307943488627, 0.7211135696527582, -1.8947101869608063, -1.6555186146259382, 0.6664471016106729, 0.6579972725992663, 0.26733180131832407, 0.8914121897579306, -0.5502327140222424, -0.7035046554239406, -0.9461377411810604, -0.6001142874070964, 0.02870046019532282, -1.7907167802754105, 1.3897741383929765, -0.016268510422112355, 0.5663514625633824, 1.9999017682580833, 1.6601667123454453, 0.6815372328213235, -0.8400593255846813, 1.11322310825198, 0.6606722621695404, 0.4375288477222289, -0.23405318147746282, 0.5886108970417825, -0.33299951352436286, -0.40185930102225387, -0.6635188196620705, 0.07704697176714438, -0.9213946986355144, -0.9831820012034149, 0.7946699447595283, -0.9991701796154964, 0.2815538007953517, 0.174998690858209, 0.8837798626530278, 0.9032875954210857, 0.24055208121983598, 0.5922894036824274, -1.2661514687988389, -0.8809610852153962, -0.12528969601901807, 0.6211367105295839, 0.13636933563037099, 0.5931900126435424, -1.4967044610569924, 0.5340581219643343, 0.3514056027479767, 0.4863662132233159, 0.24581933733395622, -2.059486231643359, -0.6300296950748387, 0.44013425063156586, 0.4473713899152323, -0.00047627043586563036, 0.2657031815297724, 2.201413247661273, -0.9173536467289062, -0.8332408625755586, -1.0151245854973656, 0.14016786526148148, 0.5585536889690439, -0.44476215618074133, -0.4413464723748191, -0.3494357165693916, -1.0018284495680674], \"yaxis\": \"y8\"}, {\"line\": {\"color\": \"rgba(128, 128, 128, 1.0)\", \"dash\": \"solid\", \"shape\": \"linear\", \"width\": 1.3}, \"marker\": {\"size\": 2, \"symbol\": \"circle\"}, \"mode\": \"markers\", \"name\": \"C\", \"text\": \"\", \"type\": \"scatter\", \"x\": [1.416593517660878, -0.14738395566749896, -1.7844796810424377, 1.0916939562052876, 0.8690310862451806, -0.9130881968676815, 0.999815987739978, 0.20249872319987558, 0.6651541347542538, 1.5904328259462475, 0.9224191664291218, -0.18016206629497075, 1.134944336265271, -0.19204911602866678, -0.7725701660993973, 0.10063744605008441, 0.10714591412949345, -0.42221541400028717, -0.8403776497203891, -0.34062561748689635, -0.9319306418128855, -2.7047515845412606, 0.008464414016829484, -0.24679681716914537, -0.8891064856373092, -0.0976902393419508, 2.0554795131481236, 1.140205355254008, -1.3222237382657935, 1.2972526054749431, 1.2723501043391907, -1.0402921253786834, 0.08975397544334109, -0.7211196617732506, 0.46079850518443477, -0.0035295707984208287, -1.6680052301548915, 0.39593916411591684, -0.036736725525066675, -0.18708565303207123, 0.4090337394442913, -0.11516336115305838, -2.1023287946207225, 0.7145964193033464, 0.8992939935517598, -1.1066813776882152, -0.8429684555863061, 0.8641921006942638, -0.5073841845450361, -0.8566073764635567, -0.26835127760692934, -1.2592951714357608, -0.880020854779105, 1.3836949417430615, -0.8108977849120101, 0.4561661807281345, 0.004415115029279976, 0.03828165518747515, -0.10676227658460166, 1.028572156444397, -0.28421897250220285, 0.8849806821994682, 1.4380095987100332, -0.8877395811176105, 1.228816832515203, 0.7564202279095027, -0.2625169494179067, 1.013996267722401, -0.4081800018537628, 1.0211977886508627, 0.7767951727052528, 0.2911188894392512, -1.730474681675736, 0.32841643489202166, 0.07140028981004318, 1.0689025968967223, -1.9049709066817657, -0.5405171578578922, -0.47397936749667924, -0.7220304917111585, -0.43499570927661463, -1.076760505534362, -2.851530141907224, -0.3583158919767544, -1.5432561099522224, -0.8784881122522841, -1.9603084686379697, -0.5885186370713009, 1.5997148736849103, 0.024734175690217294, 0.07809005053066699, 1.667352773288952, -1.287735836010282, -0.5990499600750134, 0.10309793710856048, 0.6049082987598869, 0.22668443288025425, -0.4085805437783098, 0.7047569911056685, -0.0058223868182907396], \"xaxis\": \"x9\", \"y\": [-0.5967119098197226, 0.853238764026366, 1.6672094843438492, -0.0037601992873524037, -0.9071834782154601, 1.883690558450849, -2.106354563045812, -1.2168484036552596, 0.17255626813792466, 1.0582852945687178, 1.3952429242549573, 0.07227254577092632, -0.4195317892628768, 0.3148586861350653, 0.17138607027311709, 0.979523061893303, 1.0170253940983998, -0.31540535624226623, -0.1771259277074585, 1.0509795019188313, 0.4027836644340148, -0.10335933258826242, -0.7935237694439741, 0.2929342298614919, 2.156830774988516, 0.30115733682483886, 2.0883112687994463, -0.9278018279636102, 0.1274690526763963, -0.7019996573220373, 0.1499739530535481, -1.0036591424346843, -2.800423325047921, 1.3353677753307296, 0.5034117514155685, 0.2570665310706626, -1.1518065065844245, -0.4729507221586094, 1.672213002084143, -1.2363872849124302, 0.012105592964178779, -1.493747478456467, 0.1952640284715851, -0.7848860869658573, 0.02009202740699355, 0.07135868247529763, -0.7884840153246424, 0.01814514012957843, 0.2146823765491746, -1.0675674116210412, 0.8544589019211002, -0.5989615235683363, -0.46581180378221787, 0.6152601748855848, 0.7692237912289807, -0.4420183379256885, -1.6959042945833291, 0.08343248358165806, -0.2945583821376016, 0.6063342583506851, -0.5887858952909739, 0.13694788409010514, -1.2424969811602868, -0.5239490868519974, 1.1956002105011092, 1.084099517593647, 0.7610297699914984, 0.15656489162299303, -1.3256041858993401, 0.6332892520923301, -0.9439011838970643, 0.19397551161246512, -0.564838581449026, 0.6443860682633141, -0.00950007628578957, 1.059583505527082, 1.3659520311143776, -1.7341794280109315, 0.3817222401871636, 0.20508286240366627, -0.30652983613662893, 1.1586328857965569, -0.24000038468347007, 0.5057631958197074, -0.6101763309802465, 0.7182084359558547, 0.1162004892642478, 0.20904716578240504, -2.1276348152551523, -0.20780572655946458, -0.260592364108929, -0.580124951761244, 1.8107866238776256, 1.2067337473203945, 0.9661438170829647, 0.778797568299232, -1.4437124946541433, 1.4058055726143668, 1.6464512148069346, 1.5567465741174473], \"yaxis\": \"y9\"}, {\"line\": {\"color\": \"rgba(128, 128, 128, 1.0)\", \"dash\": \"solid\", \"shape\": \"linear\", \"width\": 1.3}, \"marker\": {\"size\": 2, \"symbol\": \"circle\"}, \"mode\": \"markers\", \"name\": \"C\", \"text\": \"\", \"type\": \"scatter\", \"x\": [-1.784098720340015, 2.171244510657171, 0.6814350497909425, 1.6915046033363401, 0.18481649594853616, 1.3717132391682432, -1.2275847765325325, 0.1377905244967582, -1.1480009457520386, 0.26162442648712664, -0.3949869957178582, -1.4968385199265781, -1.2882205677288796, 0.734932556612695, 1.2232971975351834, -0.593392211027469, -1.0654669938822041, -0.3571674089948739, -0.13876162829474128, -0.2895293494986774, -0.48357022428835184, -1.3885923462518266, -0.5237646877578167, 1.3060138012560842, 0.25660307311615027, -0.8203047424592492, -0.4923162655865527, -0.4845844995598301, 1.1978422826877433, 2.0998690486150426, 1.01936669685555, -0.3386138535811944, -1.482145713226032, 2.2072307943488627, 0.7211135696527582, -1.8947101869608063, -1.6555186146259382, 0.6664471016106729, 0.6579972725992663, 0.26733180131832407, 0.8914121897579306, -0.5502327140222424, -0.7035046554239406, -0.9461377411810604, -0.6001142874070964, 0.02870046019532282, -1.7907167802754105, 1.3897741383929765, -0.016268510422112355, 0.5663514625633824, 1.9999017682580833, 1.6601667123454453, 0.6815372328213235, -0.8400593255846813, 1.11322310825198, 0.6606722621695404, 0.4375288477222289, -0.23405318147746282, 0.5886108970417825, -0.33299951352436286, -0.40185930102225387, -0.6635188196620705, 0.07704697176714438, -0.9213946986355144, -0.9831820012034149, 0.7946699447595283, -0.9991701796154964, 0.2815538007953517, 0.174998690858209, 0.8837798626530278, 0.9032875954210857, 0.24055208121983598, 0.5922894036824274, -1.2661514687988389, -0.8809610852153962, -0.12528969601901807, 0.6211367105295839, 0.13636933563037099, 0.5931900126435424, -1.4967044610569924, 0.5340581219643343, 0.3514056027479767, 0.4863662132233159, 0.24581933733395622, -2.059486231643359, -0.6300296950748387, 0.44013425063156586, 0.4473713899152323, -0.00047627043586563036, 0.2657031815297724, 2.201413247661273, -0.9173536467289062, -0.8332408625755586, -1.0151245854973656, 0.14016786526148148, 0.5585536889690439, -0.44476215618074133, -0.4413464723748191, -0.3494357165693916, -1.0018284495680674], \"xaxis\": \"x10\", \"y\": [-0.5967119098197226, 0.853238764026366, 1.6672094843438492, -0.0037601992873524037, -0.9071834782154601, 1.883690558450849, -2.106354563045812, -1.2168484036552596, 0.17255626813792466, 1.0582852945687178, 1.3952429242549573, 0.07227254577092632, -0.4195317892628768, 0.3148586861350653, 0.17138607027311709, 0.979523061893303, 1.0170253940983998, -0.31540535624226623, -0.1771259277074585, 1.0509795019188313, 0.4027836644340148, -0.10335933258826242, -0.7935237694439741, 0.2929342298614919, 2.156830774988516, 0.30115733682483886, 2.0883112687994463, -0.9278018279636102, 0.1274690526763963, -0.7019996573220373, 0.1499739530535481, -1.0036591424346843, -2.800423325047921, 1.3353677753307296, 0.5034117514155685, 0.2570665310706626, -1.1518065065844245, -0.4729507221586094, 1.672213002084143, -1.2363872849124302, 0.012105592964178779, -1.493747478456467, 0.1952640284715851, -0.7848860869658573, 0.02009202740699355, 0.07135868247529763, -0.7884840153246424, 0.01814514012957843, 0.2146823765491746, -1.0675674116210412, 0.8544589019211002, -0.5989615235683363, -0.46581180378221787, 0.6152601748855848, 0.7692237912289807, -0.4420183379256885, -1.6959042945833291, 0.08343248358165806, -0.2945583821376016, 0.6063342583506851, -0.5887858952909739, 0.13694788409010514, -1.2424969811602868, -0.5239490868519974, 1.1956002105011092, 1.084099517593647, 0.7610297699914984, 0.15656489162299303, -1.3256041858993401, 0.6332892520923301, -0.9439011838970643, 0.19397551161246512, -0.564838581449026, 0.6443860682633141, -0.00950007628578957, 1.059583505527082, 1.3659520311143776, -1.7341794280109315, 0.3817222401871636, 0.20508286240366627, -0.30652983613662893, 1.1586328857965569, -0.24000038468347007, 0.5057631958197074, -0.6101763309802465, 0.7182084359558547, 0.1162004892642478, 0.20904716578240504, -2.1276348152551523, -0.20780572655946458, -0.260592364108929, -0.580124951761244, 1.8107866238776256, 1.2067337473203945, 0.9661438170829647, 0.778797568299232, -1.4437124946541433, 1.4058055726143668, 1.6464512148069346, 1.5567465741174473], \"yaxis\": \"y10\"}, {\"histfunc\": \"count\", \"histnorm\": \"\", \"marker\": {\"color\": \"rgba(50, 171, 96, 1.0)\", \"line\": {\"color\": \"#4D5663\", \"width\": 1.3}}, \"name\": \"C\", \"nbinsx\": 10, \"opacity\": 0.8, \"orientation\": \"v\", \"type\": \"histogram\", \"x\": [-0.5967119098197226, 0.853238764026366, 1.6672094843438492, -0.0037601992873524037, -0.9071834782154601, 1.883690558450849, -2.106354563045812, -1.2168484036552596, 0.17255626813792466, 1.0582852945687178, 1.3952429242549573, 0.07227254577092632, -0.4195317892628768, 0.3148586861350653, 0.17138607027311709, 0.979523061893303, 1.0170253940983998, -0.31540535624226623, -0.1771259277074585, 1.0509795019188313, 0.4027836644340148, -0.10335933258826242, -0.7935237694439741, 0.2929342298614919, 2.156830774988516, 0.30115733682483886, 2.0883112687994463, -0.9278018279636102, 0.1274690526763963, -0.7019996573220373, 0.1499739530535481, -1.0036591424346843, -2.800423325047921, 1.3353677753307296, 0.5034117514155685, 0.2570665310706626, -1.1518065065844245, -0.4729507221586094, 1.672213002084143, -1.2363872849124302, 0.012105592964178779, -1.493747478456467, 0.1952640284715851, -0.7848860869658573, 0.02009202740699355, 0.07135868247529763, -0.7884840153246424, 0.01814514012957843, 0.2146823765491746, -1.0675674116210412, 0.8544589019211002, -0.5989615235683363, -0.46581180378221787, 0.6152601748855848, 0.7692237912289807, -0.4420183379256885, -1.6959042945833291, 0.08343248358165806, -0.2945583821376016, 0.6063342583506851, -0.5887858952909739, 0.13694788409010514, -1.2424969811602868, -0.5239490868519974, 1.1956002105011092, 1.084099517593647, 0.7610297699914984, 0.15656489162299303, -1.3256041858993401, 0.6332892520923301, -0.9439011838970643, 0.19397551161246512, -0.564838581449026, 0.6443860682633141, -0.00950007628578957, 1.059583505527082, 1.3659520311143776, -1.7341794280109315, 0.3817222401871636, 0.20508286240366627, -0.30652983613662893, 1.1586328857965569, -0.24000038468347007, 0.5057631958197074, -0.6101763309802465, 0.7182084359558547, 0.1162004892642478, 0.20904716578240504, -2.1276348152551523, -0.20780572655946458, -0.260592364108929, -0.580124951761244, 1.8107866238776256, 1.2067337473203945, 0.9661438170829647, 0.778797568299232, -1.4437124946541433, 1.4058055726143668, 1.6464512148069346, 1.5567465741174473], \"xaxis\": \"x11\", \"yaxis\": \"y11\"}, {\"line\": {\"color\": \"rgba(128, 128, 128, 1.0)\", \"dash\": \"solid\", \"shape\": \"linear\", \"width\": 1.3}, \"marker\": {\"size\": 2, \"symbol\": \"circle\"}, \"mode\": \"markers\", \"name\": \"C\", \"text\": \"\", \"type\": \"scatter\", \"x\": [0.6079252288271123, -0.7673086708362776, 2.7918004888249155, 1.5313914625222045, -1.4345453782854332, -1.0437865151846786, 0.19847176529920577, 1.3862446579489935, -0.35138062753487304, 0.03719432201318422, -1.7616253778540005, 2.3407054624379846, -0.2000097595989267, 0.7669854014325037, 0.11298294909977, 0.046858080065504425, -0.18120895485222938, 0.7695550229775915, 0.15511077522056577, -0.9108953777606292, 0.6377005270907216, -1.6068124460140327, 1.845840177929854, -1.1052126634256259, -1.6451598313262024, 1.0953926667391707, -2.6811855828962696, -0.24426026935419365, -0.6820128828581605, 0.3608787094224027, -0.0764345595001479, 0.3088811741935369, -0.329408490492265, 1.4464185545662458, -2.0128086971620927, 0.08825858728083487, -0.168682137332262, 2.065928188589186, -1.6017962278561868, -1.5312993522830245, -0.03945107251970846, -0.6733129013460523, -0.6076787744094737, 1.6360672041399968, 0.48494877078027687, 0.01323259657886119, 1.4328584127569208, -1.6683257498452444, -0.8829926821113253, -0.09166483027086167, -3.080415218787863, -0.8472046953264905, -0.049951322488767644, -0.6759172855350523, 0.2810806490503662, 0.07703330630025013, 1.7316185845049246, 0.5755896592654809, 0.7732777600729397, -0.5761818253061513, -0.5662697882027303, -1.284520760769256, 0.41915185995351933, 0.4516275355752908, 0.10016374487909058, -0.589883708770861, -0.425278673747093, -0.7888957909839527, 0.5080520587703382, -0.14777685657714393, 0.19389746683109096, -0.1863775839392197, 3.826662212990111, 1.7942084045458413, -1.346814767384748, -1.1375499897392416, 0.48098246076773254, -1.2442890043073742, 0.006054537387323956, 0.7079016296857916, 0.9850833750736986, -0.3163365229351439, -0.4816814896722392, -0.04785840952576833, -0.5514694996254651, 1.0549941504273481, 1.1669241949067033, -0.29010413031084936, -0.5107131029812131, -0.9299722618442059, 0.40261878264672124, -1.1679406337745477, 0.5435855253429999, -1.19777229520187, 1.3514454837032996, -0.3965259735689329, 0.17952127104730956, -0.3082954895460292, 0.2721710338721595, -1.1620535089156803], \"xaxis\": \"x12\", \"y\": [-0.5967119098197226, 0.853238764026366, 1.6672094843438492, -0.0037601992873524037, -0.9071834782154601, 1.883690558450849, -2.106354563045812, -1.2168484036552596, 0.17255626813792466, 1.0582852945687178, 1.3952429242549573, 0.07227254577092632, -0.4195317892628768, 0.3148586861350653, 0.17138607027311709, 0.979523061893303, 1.0170253940983998, -0.31540535624226623, -0.1771259277074585, 1.0509795019188313, 0.4027836644340148, -0.10335933258826242, -0.7935237694439741, 0.2929342298614919, 2.156830774988516, 0.30115733682483886, 2.0883112687994463, -0.9278018279636102, 0.1274690526763963, -0.7019996573220373, 0.1499739530535481, -1.0036591424346843, -2.800423325047921, 1.3353677753307296, 0.5034117514155685, 0.2570665310706626, -1.1518065065844245, -0.4729507221586094, 1.672213002084143, -1.2363872849124302, 0.012105592964178779, -1.493747478456467, 0.1952640284715851, -0.7848860869658573, 0.02009202740699355, 0.07135868247529763, -0.7884840153246424, 0.01814514012957843, 0.2146823765491746, -1.0675674116210412, 0.8544589019211002, -0.5989615235683363, -0.46581180378221787, 0.6152601748855848, 0.7692237912289807, -0.4420183379256885, -1.6959042945833291, 0.08343248358165806, -0.2945583821376016, 0.6063342583506851, -0.5887858952909739, 0.13694788409010514, -1.2424969811602868, -0.5239490868519974, 1.1956002105011092, 1.084099517593647, 0.7610297699914984, 0.15656489162299303, -1.3256041858993401, 0.6332892520923301, -0.9439011838970643, 0.19397551161246512, -0.564838581449026, 0.6443860682633141, -0.00950007628578957, 1.059583505527082, 1.3659520311143776, -1.7341794280109315, 0.3817222401871636, 0.20508286240366627, -0.30652983613662893, 1.1586328857965569, -0.24000038468347007, 0.5057631958197074, -0.6101763309802465, 0.7182084359558547, 0.1162004892642478, 0.20904716578240504, -2.1276348152551523, -0.20780572655946458, -0.260592364108929, -0.580124951761244, 1.8107866238776256, 1.2067337473203945, 0.9661438170829647, 0.778797568299232, -1.4437124946541433, 1.4058055726143668, 1.6464512148069346, 1.5567465741174473], \"yaxis\": \"y12\"}, {\"line\": {\"color\": \"rgba(128, 128, 128, 1.0)\", \"dash\": \"solid\", \"shape\": \"linear\", \"width\": 1.3}, \"marker\": {\"size\": 2, \"symbol\": \"circle\"}, \"mode\": \"markers\", \"name\": \"D\", \"text\": \"\", \"type\": \"scatter\", \"x\": [1.416593517660878, -0.14738395566749896, -1.7844796810424377, 1.0916939562052876, 0.8690310862451806, -0.9130881968676815, 0.999815987739978, 0.20249872319987558, 0.6651541347542538, 1.5904328259462475, 0.9224191664291218, -0.18016206629497075, 1.134944336265271, -0.19204911602866678, -0.7725701660993973, 0.10063744605008441, 0.10714591412949345, -0.42221541400028717, -0.8403776497203891, -0.34062561748689635, -0.9319306418128855, -2.7047515845412606, 0.008464414016829484, -0.24679681716914537, -0.8891064856373092, -0.0976902393419508, 2.0554795131481236, 1.140205355254008, -1.3222237382657935, 1.2972526054749431, 1.2723501043391907, -1.0402921253786834, 0.08975397544334109, -0.7211196617732506, 0.46079850518443477, -0.0035295707984208287, -1.6680052301548915, 0.39593916411591684, -0.036736725525066675, -0.18708565303207123, 0.4090337394442913, -0.11516336115305838, -2.1023287946207225, 0.7145964193033464, 0.8992939935517598, -1.1066813776882152, -0.8429684555863061, 0.8641921006942638, -0.5073841845450361, -0.8566073764635567, -0.26835127760692934, -1.2592951714357608, -0.880020854779105, 1.3836949417430615, -0.8108977849120101, 0.4561661807281345, 0.004415115029279976, 0.03828165518747515, -0.10676227658460166, 1.028572156444397, -0.28421897250220285, 0.8849806821994682, 1.4380095987100332, -0.8877395811176105, 1.228816832515203, 0.7564202279095027, -0.2625169494179067, 1.013996267722401, -0.4081800018537628, 1.0211977886508627, 0.7767951727052528, 0.2911188894392512, -1.730474681675736, 0.32841643489202166, 0.07140028981004318, 1.0689025968967223, -1.9049709066817657, -0.5405171578578922, -0.47397936749667924, -0.7220304917111585, -0.43499570927661463, -1.076760505534362, -2.851530141907224, -0.3583158919767544, -1.5432561099522224, -0.8784881122522841, -1.9603084686379697, -0.5885186370713009, 1.5997148736849103, 0.024734175690217294, 0.07809005053066699, 1.667352773288952, -1.287735836010282, -0.5990499600750134, 0.10309793710856048, 0.6049082987598869, 0.22668443288025425, -0.4085805437783098, 0.7047569911056685, -0.0058223868182907396], \"xaxis\": \"x13\", \"y\": [0.6079252288271123, -0.7673086708362776, 2.7918004888249155, 1.5313914625222045, -1.4345453782854332, -1.0437865151846786, 0.19847176529920577, 1.3862446579489935, -0.35138062753487304, 0.03719432201318422, -1.7616253778540005, 2.3407054624379846, -0.2000097595989267, 0.7669854014325037, 0.11298294909977, 0.046858080065504425, -0.18120895485222938, 0.7695550229775915, 0.15511077522056577, -0.9108953777606292, 0.6377005270907216, -1.6068124460140327, 1.845840177929854, -1.1052126634256259, -1.6451598313262024, 1.0953926667391707, -2.6811855828962696, -0.24426026935419365, -0.6820128828581605, 0.3608787094224027, -0.0764345595001479, 0.3088811741935369, -0.329408490492265, 1.4464185545662458, -2.0128086971620927, 0.08825858728083487, -0.168682137332262, 2.065928188589186, -1.6017962278561868, -1.5312993522830245, -0.03945107251970846, -0.6733129013460523, -0.6076787744094737, 1.6360672041399968, 0.48494877078027687, 0.01323259657886119, 1.4328584127569208, -1.6683257498452444, -0.8829926821113253, -0.09166483027086167, -3.080415218787863, -0.8472046953264905, -0.049951322488767644, -0.6759172855350523, 0.2810806490503662, 0.07703330630025013, 1.7316185845049246, 0.5755896592654809, 0.7732777600729397, -0.5761818253061513, -0.5662697882027303, -1.284520760769256, 0.41915185995351933, 0.4516275355752908, 0.10016374487909058, -0.589883708770861, -0.425278673747093, -0.7888957909839527, 0.5080520587703382, -0.14777685657714393, 0.19389746683109096, -0.1863775839392197, 3.826662212990111, 1.7942084045458413, -1.346814767384748, -1.1375499897392416, 0.48098246076773254, -1.2442890043073742, 0.006054537387323956, 0.7079016296857916, 0.9850833750736986, -0.3163365229351439, -0.4816814896722392, -0.04785840952576833, -0.5514694996254651, 1.0549941504273481, 1.1669241949067033, -0.29010413031084936, -0.5107131029812131, -0.9299722618442059, 0.40261878264672124, -1.1679406337745477, 0.5435855253429999, -1.19777229520187, 1.3514454837032996, -0.3965259735689329, 0.17952127104730956, -0.3082954895460292, 0.2721710338721595, -1.1620535089156803], \"yaxis\": \"y13\"}, {\"line\": {\"color\": \"rgba(128, 128, 128, 1.0)\", \"dash\": \"solid\", \"shape\": \"linear\", \"width\": 1.3}, \"marker\": {\"size\": 2, \"symbol\": \"circle\"}, \"mode\": \"markers\", \"name\": \"D\", \"text\": \"\", \"type\": \"scatter\", \"x\": [-1.784098720340015, 2.171244510657171, 0.6814350497909425, 1.6915046033363401, 0.18481649594853616, 1.3717132391682432, -1.2275847765325325, 0.1377905244967582, -1.1480009457520386, 0.26162442648712664, -0.3949869957178582, -1.4968385199265781, -1.2882205677288796, 0.734932556612695, 1.2232971975351834, -0.593392211027469, -1.0654669938822041, -0.3571674089948739, -0.13876162829474128, -0.2895293494986774, -0.48357022428835184, -1.3885923462518266, -0.5237646877578167, 1.3060138012560842, 0.25660307311615027, -0.8203047424592492, -0.4923162655865527, -0.4845844995598301, 1.1978422826877433, 2.0998690486150426, 1.01936669685555, -0.3386138535811944, -1.482145713226032, 2.2072307943488627, 0.7211135696527582, -1.8947101869608063, -1.6555186146259382, 0.6664471016106729, 0.6579972725992663, 0.26733180131832407, 0.8914121897579306, -0.5502327140222424, -0.7035046554239406, -0.9461377411810604, -0.6001142874070964, 0.02870046019532282, -1.7907167802754105, 1.3897741383929765, -0.016268510422112355, 0.5663514625633824, 1.9999017682580833, 1.6601667123454453, 0.6815372328213235, -0.8400593255846813, 1.11322310825198, 0.6606722621695404, 0.4375288477222289, -0.23405318147746282, 0.5886108970417825, -0.33299951352436286, -0.40185930102225387, -0.6635188196620705, 0.07704697176714438, -0.9213946986355144, -0.9831820012034149, 0.7946699447595283, -0.9991701796154964, 0.2815538007953517, 0.174998690858209, 0.8837798626530278, 0.9032875954210857, 0.24055208121983598, 0.5922894036824274, -1.2661514687988389, -0.8809610852153962, -0.12528969601901807, 0.6211367105295839, 0.13636933563037099, 0.5931900126435424, -1.4967044610569924, 0.5340581219643343, 0.3514056027479767, 0.4863662132233159, 0.24581933733395622, -2.059486231643359, -0.6300296950748387, 0.44013425063156586, 0.4473713899152323, -0.00047627043586563036, 0.2657031815297724, 2.201413247661273, -0.9173536467289062, -0.8332408625755586, -1.0151245854973656, 0.14016786526148148, 0.5585536889690439, -0.44476215618074133, -0.4413464723748191, -0.3494357165693916, -1.0018284495680674], \"xaxis\": \"x14\", \"y\": [0.6079252288271123, -0.7673086708362776, 2.7918004888249155, 1.5313914625222045, -1.4345453782854332, -1.0437865151846786, 0.19847176529920577, 1.3862446579489935, -0.35138062753487304, 0.03719432201318422, -1.7616253778540005, 2.3407054624379846, -0.2000097595989267, 0.7669854014325037, 0.11298294909977, 0.046858080065504425, -0.18120895485222938, 0.7695550229775915, 0.15511077522056577, -0.9108953777606292, 0.6377005270907216, -1.6068124460140327, 1.845840177929854, -1.1052126634256259, -1.6451598313262024, 1.0953926667391707, -2.6811855828962696, -0.24426026935419365, -0.6820128828581605, 0.3608787094224027, -0.0764345595001479, 0.3088811741935369, -0.329408490492265, 1.4464185545662458, -2.0128086971620927, 0.08825858728083487, -0.168682137332262, 2.065928188589186, -1.6017962278561868, -1.5312993522830245, -0.03945107251970846, -0.6733129013460523, -0.6076787744094737, 1.6360672041399968, 0.48494877078027687, 0.01323259657886119, 1.4328584127569208, -1.6683257498452444, -0.8829926821113253, -0.09166483027086167, -3.080415218787863, -0.8472046953264905, -0.049951322488767644, -0.6759172855350523, 0.2810806490503662, 0.07703330630025013, 1.7316185845049246, 0.5755896592654809, 0.7732777600729397, -0.5761818253061513, -0.5662697882027303, -1.284520760769256, 0.41915185995351933, 0.4516275355752908, 0.10016374487909058, -0.589883708770861, -0.425278673747093, -0.7888957909839527, 0.5080520587703382, -0.14777685657714393, 0.19389746683109096, -0.1863775839392197, 3.826662212990111, 1.7942084045458413, -1.346814767384748, -1.1375499897392416, 0.48098246076773254, -1.2442890043073742, 0.006054537387323956, 0.7079016296857916, 0.9850833750736986, -0.3163365229351439, -0.4816814896722392, -0.04785840952576833, -0.5514694996254651, 1.0549941504273481, 1.1669241949067033, -0.29010413031084936, -0.5107131029812131, -0.9299722618442059, 0.40261878264672124, -1.1679406337745477, 0.5435855253429999, -1.19777229520187, 1.3514454837032996, -0.3965259735689329, 0.17952127104730956, -0.3082954895460292, 0.2721710338721595, -1.1620535089156803], \"yaxis\": \"y14\"}, {\"line\": {\"color\": \"rgba(128, 128, 128, 1.0)\", \"dash\": \"solid\", \"shape\": \"linear\", \"width\": 1.3}, \"marker\": {\"size\": 2, \"symbol\": \"circle\"}, \"mode\": \"markers\", \"name\": \"D\", \"text\": \"\", \"type\": \"scatter\", \"x\": [-0.5967119098197226, 0.853238764026366, 1.6672094843438492, -0.0037601992873524037, -0.9071834782154601, 1.883690558450849, -2.106354563045812, -1.2168484036552596, 0.17255626813792466, 1.0582852945687178, 1.3952429242549573, 0.07227254577092632, -0.4195317892628768, 0.3148586861350653, 0.17138607027311709, 0.979523061893303, 1.0170253940983998, -0.31540535624226623, -0.1771259277074585, 1.0509795019188313, 0.4027836644340148, -0.10335933258826242, -0.7935237694439741, 0.2929342298614919, 2.156830774988516, 0.30115733682483886, 2.0883112687994463, -0.9278018279636102, 0.1274690526763963, -0.7019996573220373, 0.1499739530535481, -1.0036591424346843, -2.800423325047921, 1.3353677753307296, 0.5034117514155685, 0.2570665310706626, -1.1518065065844245, -0.4729507221586094, 1.672213002084143, -1.2363872849124302, 0.012105592964178779, -1.493747478456467, 0.1952640284715851, -0.7848860869658573, 0.02009202740699355, 0.07135868247529763, -0.7884840153246424, 0.01814514012957843, 0.2146823765491746, -1.0675674116210412, 0.8544589019211002, -0.5989615235683363, -0.46581180378221787, 0.6152601748855848, 0.7692237912289807, -0.4420183379256885, -1.6959042945833291, 0.08343248358165806, -0.2945583821376016, 0.6063342583506851, -0.5887858952909739, 0.13694788409010514, -1.2424969811602868, -0.5239490868519974, 1.1956002105011092, 1.084099517593647, 0.7610297699914984, 0.15656489162299303, -1.3256041858993401, 0.6332892520923301, -0.9439011838970643, 0.19397551161246512, -0.564838581449026, 0.6443860682633141, -0.00950007628578957, 1.059583505527082, 1.3659520311143776, -1.7341794280109315, 0.3817222401871636, 0.20508286240366627, -0.30652983613662893, 1.1586328857965569, -0.24000038468347007, 0.5057631958197074, -0.6101763309802465, 0.7182084359558547, 0.1162004892642478, 0.20904716578240504, -2.1276348152551523, -0.20780572655946458, -0.260592364108929, -0.580124951761244, 1.8107866238776256, 1.2067337473203945, 0.9661438170829647, 0.778797568299232, -1.4437124946541433, 1.4058055726143668, 1.6464512148069346, 1.5567465741174473], \"xaxis\": \"x15\", \"y\": [0.6079252288271123, -0.7673086708362776, 2.7918004888249155, 1.5313914625222045, -1.4345453782854332, -1.0437865151846786, 0.19847176529920577, 1.3862446579489935, -0.35138062753487304, 0.03719432201318422, -1.7616253778540005, 2.3407054624379846, -0.2000097595989267, 0.7669854014325037, 0.11298294909977, 0.046858080065504425, -0.18120895485222938, 0.7695550229775915, 0.15511077522056577, -0.9108953777606292, 0.6377005270907216, -1.6068124460140327, 1.845840177929854, -1.1052126634256259, -1.6451598313262024, 1.0953926667391707, -2.6811855828962696, -0.24426026935419365, -0.6820128828581605, 0.3608787094224027, -0.0764345595001479, 0.3088811741935369, -0.329408490492265, 1.4464185545662458, -2.0128086971620927, 0.08825858728083487, -0.168682137332262, 2.065928188589186, -1.6017962278561868, -1.5312993522830245, -0.03945107251970846, -0.6733129013460523, -0.6076787744094737, 1.6360672041399968, 0.48494877078027687, 0.01323259657886119, 1.4328584127569208, -1.6683257498452444, -0.8829926821113253, -0.09166483027086167, -3.080415218787863, -0.8472046953264905, -0.049951322488767644, -0.6759172855350523, 0.2810806490503662, 0.07703330630025013, 1.7316185845049246, 0.5755896592654809, 0.7732777600729397, -0.5761818253061513, -0.5662697882027303, -1.284520760769256, 0.41915185995351933, 0.4516275355752908, 0.10016374487909058, -0.589883708770861, -0.425278673747093, -0.7888957909839527, 0.5080520587703382, -0.14777685657714393, 0.19389746683109096, -0.1863775839392197, 3.826662212990111, 1.7942084045458413, -1.346814767384748, -1.1375499897392416, 0.48098246076773254, -1.2442890043073742, 0.006054537387323956, 0.7079016296857916, 0.9850833750736986, -0.3163365229351439, -0.4816814896722392, -0.04785840952576833, -0.5514694996254651, 1.0549941504273481, 1.1669241949067033, -0.29010413031084936, -0.5107131029812131, -0.9299722618442059, 0.40261878264672124, -1.1679406337745477, 0.5435855253429999, -1.19777229520187, 1.3514454837032996, -0.3965259735689329, 0.17952127104730956, -0.3082954895460292, 0.2721710338721595, -1.1620535089156803], \"yaxis\": \"y15\"}, {\"histfunc\": \"count\", \"histnorm\": \"\", \"marker\": {\"color\": \"rgba(128, 0, 128, 1.0)\", \"line\": {\"color\": \"#4D5663\", \"width\": 1.3}}, \"name\": \"D\", \"nbinsx\": 10, \"opacity\": 0.8, \"orientation\": \"v\", \"type\": \"histogram\", \"x\": [0.6079252288271123, -0.7673086708362776, 2.7918004888249155, 1.5313914625222045, -1.4345453782854332, -1.0437865151846786, 0.19847176529920577, 1.3862446579489935, -0.35138062753487304, 0.03719432201318422, -1.7616253778540005, 2.3407054624379846, -0.2000097595989267, 0.7669854014325037, 0.11298294909977, 0.046858080065504425, -0.18120895485222938, 0.7695550229775915, 0.15511077522056577, -0.9108953777606292, 0.6377005270907216, -1.6068124460140327, 1.845840177929854, -1.1052126634256259, -1.6451598313262024, 1.0953926667391707, -2.6811855828962696, -0.24426026935419365, -0.6820128828581605, 0.3608787094224027, -0.0764345595001479, 0.3088811741935369, -0.329408490492265, 1.4464185545662458, -2.0128086971620927, 0.08825858728083487, -0.168682137332262, 2.065928188589186, -1.6017962278561868, -1.5312993522830245, -0.03945107251970846, -0.6733129013460523, -0.6076787744094737, 1.6360672041399968, 0.48494877078027687, 0.01323259657886119, 1.4328584127569208, -1.6683257498452444, -0.8829926821113253, -0.09166483027086167, -3.080415218787863, -0.8472046953264905, -0.049951322488767644, -0.6759172855350523, 0.2810806490503662, 0.07703330630025013, 1.7316185845049246, 0.5755896592654809, 0.7732777600729397, -0.5761818253061513, -0.5662697882027303, -1.284520760769256, 0.41915185995351933, 0.4516275355752908, 0.10016374487909058, -0.589883708770861, -0.425278673747093, -0.7888957909839527, 0.5080520587703382, -0.14777685657714393, 0.19389746683109096, -0.1863775839392197, 3.826662212990111, 1.7942084045458413, -1.346814767384748, -1.1375499897392416, 0.48098246076773254, -1.2442890043073742, 0.006054537387323956, 0.7079016296857916, 0.9850833750736986, -0.3163365229351439, -0.4816814896722392, -0.04785840952576833, -0.5514694996254651, 1.0549941504273481, 1.1669241949067033, -0.29010413031084936, -0.5107131029812131, -0.9299722618442059, 0.40261878264672124, -1.1679406337745477, 0.5435855253429999, -1.19777229520187, 1.3514454837032996, -0.3965259735689329, 0.17952127104730956, -0.3082954895460292, 0.2721710338721595, -1.1620535089156803], \"xaxis\": \"x16\", \"yaxis\": \"y16\"}],\n",
       "                        {\"bargap\": 0.02, \"legend\": {\"bgcolor\": \"#F5F6F9\", \"font\": {\"color\": \"#4D5663\"}}, \"paper_bgcolor\": \"#F5F6F9\", \"plot_bgcolor\": \"#F5F6F9\", \"showlegend\": false, \"template\": {\"data\": {\"bar\": [{\"error_x\": {\"color\": \"#2a3f5f\"}, \"error_y\": {\"color\": \"#2a3f5f\"}, \"marker\": {\"line\": {\"color\": \"#E5ECF6\", \"width\": 0.5}}, \"type\": \"bar\"}], \"barpolar\": [{\"marker\": {\"line\": {\"color\": \"#E5ECF6\", \"width\": 0.5}}, \"type\": \"barpolar\"}], \"carpet\": [{\"aaxis\": {\"endlinecolor\": \"#2a3f5f\", \"gridcolor\": \"white\", \"linecolor\": \"white\", \"minorgridcolor\": \"white\", \"startlinecolor\": \"#2a3f5f\"}, \"baxis\": {\"endlinecolor\": \"#2a3f5f\", \"gridcolor\": \"white\", \"linecolor\": \"white\", \"minorgridcolor\": \"white\", \"startlinecolor\": \"#2a3f5f\"}, \"type\": \"carpet\"}], \"choropleth\": [{\"colorbar\": {\"outlinewidth\": 0, \"ticks\": \"\"}, \"type\": \"choropleth\"}], \"contour\": [{\"colorbar\": {\"outlinewidth\": 0, \"ticks\": \"\"}, \"colorscale\": [[0.0, \"#0d0887\"], [0.1111111111111111, \"#46039f\"], [0.2222222222222222, \"#7201a8\"], [0.3333333333333333, \"#9c179e\"], [0.4444444444444444, \"#bd3786\"], [0.5555555555555556, \"#d8576b\"], [0.6666666666666666, \"#ed7953\"], [0.7777777777777778, \"#fb9f3a\"], [0.8888888888888888, \"#fdca26\"], [1.0, \"#f0f921\"]], \"type\": \"contour\"}], \"contourcarpet\": [{\"colorbar\": {\"outlinewidth\": 0, \"ticks\": \"\"}, \"type\": \"contourcarpet\"}], \"heatmap\": [{\"colorbar\": {\"outlinewidth\": 0, \"ticks\": \"\"}, \"colorscale\": [[0.0, \"#0d0887\"], [0.1111111111111111, \"#46039f\"], [0.2222222222222222, \"#7201a8\"], [0.3333333333333333, \"#9c179e\"], [0.4444444444444444, \"#bd3786\"], [0.5555555555555556, \"#d8576b\"], [0.6666666666666666, \"#ed7953\"], [0.7777777777777778, \"#fb9f3a\"], [0.8888888888888888, \"#fdca26\"], [1.0, \"#f0f921\"]], \"type\": \"heatmap\"}], \"heatmapgl\": [{\"colorbar\": {\"outlinewidth\": 0, \"ticks\": \"\"}, \"colorscale\": [[0.0, \"#0d0887\"], [0.1111111111111111, \"#46039f\"], [0.2222222222222222, \"#7201a8\"], [0.3333333333333333, \"#9c179e\"], [0.4444444444444444, \"#bd3786\"], [0.5555555555555556, \"#d8576b\"], [0.6666666666666666, \"#ed7953\"], [0.7777777777777778, \"#fb9f3a\"], [0.8888888888888888, \"#fdca26\"], [1.0, \"#f0f921\"]], \"type\": \"heatmapgl\"}], \"histogram\": [{\"marker\": {\"colorbar\": {\"outlinewidth\": 0, \"ticks\": \"\"}}, \"type\": \"histogram\"}], \"histogram2d\": [{\"colorbar\": {\"outlinewidth\": 0, \"ticks\": \"\"}, \"colorscale\": [[0.0, \"#0d0887\"], [0.1111111111111111, \"#46039f\"], [0.2222222222222222, \"#7201a8\"], [0.3333333333333333, \"#9c179e\"], [0.4444444444444444, \"#bd3786\"], [0.5555555555555556, \"#d8576b\"], [0.6666666666666666, \"#ed7953\"], [0.7777777777777778, \"#fb9f3a\"], [0.8888888888888888, \"#fdca26\"], [1.0, \"#f0f921\"]], \"type\": \"histogram2d\"}], \"histogram2dcontour\": [{\"colorbar\": {\"outlinewidth\": 0, \"ticks\": \"\"}, \"colorscale\": [[0.0, \"#0d0887\"], [0.1111111111111111, \"#46039f\"], [0.2222222222222222, \"#7201a8\"], [0.3333333333333333, \"#9c179e\"], [0.4444444444444444, \"#bd3786\"], [0.5555555555555556, \"#d8576b\"], [0.6666666666666666, \"#ed7953\"], [0.7777777777777778, \"#fb9f3a\"], [0.8888888888888888, \"#fdca26\"], [1.0, \"#f0f921\"]], \"type\": \"histogram2dcontour\"}], \"mesh3d\": [{\"colorbar\": {\"outlinewidth\": 0, \"ticks\": \"\"}, \"type\": \"mesh3d\"}], \"parcoords\": [{\"line\": {\"colorbar\": {\"outlinewidth\": 0, \"ticks\": \"\"}}, \"type\": \"parcoords\"}], \"pie\": [{\"automargin\": true, \"type\": \"pie\"}], \"scatter\": [{\"marker\": {\"colorbar\": {\"outlinewidth\": 0, \"ticks\": \"\"}}, \"type\": \"scatter\"}], \"scatter3d\": [{\"line\": {\"colorbar\": {\"outlinewidth\": 0, \"ticks\": \"\"}}, \"marker\": {\"colorbar\": {\"outlinewidth\": 0, \"ticks\": \"\"}}, \"type\": \"scatter3d\"}], \"scattercarpet\": [{\"marker\": {\"colorbar\": {\"outlinewidth\": 0, \"ticks\": \"\"}}, \"type\": \"scattercarpet\"}], \"scattergeo\": [{\"marker\": {\"colorbar\": {\"outlinewidth\": 0, \"ticks\": \"\"}}, \"type\": \"scattergeo\"}], \"scattergl\": [{\"marker\": {\"colorbar\": {\"outlinewidth\": 0, \"ticks\": \"\"}}, \"type\": \"scattergl\"}], \"scattermapbox\": [{\"marker\": {\"colorbar\": {\"outlinewidth\": 0, \"ticks\": \"\"}}, \"type\": \"scattermapbox\"}], \"scatterpolar\": [{\"marker\": {\"colorbar\": {\"outlinewidth\": 0, \"ticks\": \"\"}}, \"type\": \"scatterpolar\"}], \"scatterpolargl\": [{\"marker\": {\"colorbar\": {\"outlinewidth\": 0, \"ticks\": \"\"}}, \"type\": \"scatterpolargl\"}], \"scatterternary\": [{\"marker\": {\"colorbar\": {\"outlinewidth\": 0, \"ticks\": \"\"}}, \"type\": \"scatterternary\"}], \"surface\": [{\"colorbar\": {\"outlinewidth\": 0, \"ticks\": \"\"}, \"colorscale\": [[0.0, \"#0d0887\"], [0.1111111111111111, \"#46039f\"], [0.2222222222222222, \"#7201a8\"], [0.3333333333333333, \"#9c179e\"], [0.4444444444444444, \"#bd3786\"], [0.5555555555555556, \"#d8576b\"], [0.6666666666666666, \"#ed7953\"], [0.7777777777777778, \"#fb9f3a\"], [0.8888888888888888, \"#fdca26\"], [1.0, \"#f0f921\"]], \"type\": \"surface\"}], \"table\": [{\"cells\": {\"fill\": {\"color\": \"#EBF0F8\"}, \"line\": {\"color\": \"white\"}}, \"header\": {\"fill\": {\"color\": \"#C8D4E3\"}, \"line\": {\"color\": \"white\"}}, \"type\": \"table\"}]}, \"layout\": {\"annotationdefaults\": {\"arrowcolor\": \"#2a3f5f\", \"arrowhead\": 0, \"arrowwidth\": 1}, \"coloraxis\": {\"colorbar\": {\"outlinewidth\": 0, \"ticks\": \"\"}}, \"colorscale\": {\"diverging\": [[0, \"#8e0152\"], [0.1, \"#c51b7d\"], [0.2, \"#de77ae\"], [0.3, \"#f1b6da\"], [0.4, \"#fde0ef\"], [0.5, \"#f7f7f7\"], [0.6, \"#e6f5d0\"], [0.7, \"#b8e186\"], [0.8, \"#7fbc41\"], [0.9, \"#4d9221\"], [1, \"#276419\"]], \"sequential\": [[0.0, \"#0d0887\"], [0.1111111111111111, \"#46039f\"], [0.2222222222222222, \"#7201a8\"], [0.3333333333333333, \"#9c179e\"], [0.4444444444444444, \"#bd3786\"], [0.5555555555555556, \"#d8576b\"], [0.6666666666666666, \"#ed7953\"], [0.7777777777777778, \"#fb9f3a\"], [0.8888888888888888, \"#fdca26\"], [1.0, \"#f0f921\"]], \"sequentialminus\": [[0.0, \"#0d0887\"], [0.1111111111111111, \"#46039f\"], [0.2222222222222222, \"#7201a8\"], [0.3333333333333333, \"#9c179e\"], [0.4444444444444444, \"#bd3786\"], [0.5555555555555556, \"#d8576b\"], [0.6666666666666666, \"#ed7953\"], [0.7777777777777778, \"#fb9f3a\"], [0.8888888888888888, \"#fdca26\"], [1.0, \"#f0f921\"]]}, \"colorway\": [\"#636efa\", \"#EF553B\", \"#00cc96\", \"#ab63fa\", \"#FFA15A\", \"#19d3f3\", \"#FF6692\", \"#B6E880\", \"#FF97FF\", \"#FECB52\"], \"font\": {\"color\": \"#2a3f5f\"}, \"geo\": {\"bgcolor\": \"white\", \"lakecolor\": \"white\", \"landcolor\": \"#E5ECF6\", \"showlakes\": true, \"showland\": true, \"subunitcolor\": \"white\"}, \"hoverlabel\": {\"align\": \"left\"}, \"hovermode\": \"closest\", \"mapbox\": {\"style\": \"light\"}, \"paper_bgcolor\": \"white\", \"plot_bgcolor\": \"#E5ECF6\", \"polar\": {\"angularaxis\": {\"gridcolor\": \"white\", \"linecolor\": \"white\", \"ticks\": \"\"}, \"bgcolor\": \"#E5ECF6\", \"radialaxis\": {\"gridcolor\": \"white\", \"linecolor\": \"white\", \"ticks\": \"\"}}, \"scene\": {\"xaxis\": {\"backgroundcolor\": \"#E5ECF6\", \"gridcolor\": \"white\", \"gridwidth\": 2, \"linecolor\": \"white\", \"showbackground\": true, \"ticks\": \"\", \"zerolinecolor\": \"white\"}, \"yaxis\": {\"backgroundcolor\": \"#E5ECF6\", \"gridcolor\": \"white\", \"gridwidth\": 2, \"linecolor\": \"white\", \"showbackground\": true, \"ticks\": \"\", \"zerolinecolor\": \"white\"}, \"zaxis\": {\"backgroundcolor\": \"#E5ECF6\", \"gridcolor\": \"white\", \"gridwidth\": 2, \"linecolor\": \"white\", \"showbackground\": true, \"ticks\": \"\", \"zerolinecolor\": \"white\"}}, \"shapedefaults\": {\"line\": {\"color\": \"#2a3f5f\"}}, \"ternary\": {\"aaxis\": {\"gridcolor\": \"white\", \"linecolor\": \"white\", \"ticks\": \"\"}, \"baxis\": {\"gridcolor\": \"white\", \"linecolor\": \"white\", \"ticks\": \"\"}, \"bgcolor\": \"#E5ECF6\", \"caxis\": {\"gridcolor\": \"white\", \"linecolor\": \"white\", \"ticks\": \"\"}}, \"title\": {\"x\": 0.05}, \"xaxis\": {\"automargin\": true, \"gridcolor\": \"white\", \"linecolor\": \"white\", \"ticks\": \"\", \"title\": {\"standoff\": 15}, \"zerolinecolor\": \"white\", \"zerolinewidth\": 2}, \"yaxis\": {\"automargin\": true, \"gridcolor\": \"white\", \"linecolor\": \"white\", \"ticks\": \"\", \"title\": {\"standoff\": 15}, \"zerolinecolor\": \"white\", \"zerolinewidth\": 2}}}, \"title\": {\"font\": {\"color\": \"#4D5663\"}}, \"xaxis\": {\"anchor\": \"y\", \"domain\": [0.0, 0.2125], \"gridcolor\": \"#E1E5ED\", \"showgrid\": false, \"tickfont\": {\"color\": \"#4D5663\"}, \"title\": {\"font\": {\"color\": \"#4D5663\"}, \"text\": \"\"}, \"zerolinecolor\": \"#E1E5ED\"}, \"xaxis10\": {\"anchor\": \"y10\", \"domain\": [0.2625, 0.475], \"gridcolor\": \"#E1E5ED\", \"showgrid\": false, \"tickfont\": {\"color\": \"#4D5663\"}, \"title\": {\"font\": {\"color\": \"#4D5663\"}, \"text\": \"\"}, \"zerolinecolor\": \"#E1E5ED\"}, \"xaxis11\": {\"anchor\": \"y11\", \"domain\": [0.525, 0.7375], \"gridcolor\": \"#E1E5ED\", \"showgrid\": false, \"tickfont\": {\"color\": \"#4D5663\"}, \"title\": {\"font\": {\"color\": \"#4D5663\"}, \"text\": \"\"}, \"zerolinecolor\": \"#E1E5ED\"}, \"xaxis12\": {\"anchor\": \"y12\", \"domain\": [0.7875, 1.0], \"gridcolor\": \"#E1E5ED\", \"showgrid\": false, \"tickfont\": {\"color\": \"#4D5663\"}, \"title\": {\"font\": {\"color\": \"#4D5663\"}, \"text\": \"\"}, \"zerolinecolor\": \"#E1E5ED\"}, \"xaxis13\": {\"anchor\": \"y13\", \"domain\": [0.0, 0.2125], \"gridcolor\": \"#E1E5ED\", \"showgrid\": false, \"tickfont\": {\"color\": \"#4D5663\"}, \"title\": {\"font\": {\"color\": \"#4D5663\"}, \"text\": \"\"}, \"zerolinecolor\": \"#E1E5ED\"}, \"xaxis14\": {\"anchor\": \"y14\", \"domain\": [0.2625, 0.475], \"gridcolor\": \"#E1E5ED\", \"showgrid\": false, \"tickfont\": {\"color\": \"#4D5663\"}, \"title\": {\"font\": {\"color\": \"#4D5663\"}, \"text\": \"\"}, \"zerolinecolor\": \"#E1E5ED\"}, \"xaxis15\": {\"anchor\": \"y15\", \"domain\": [0.525, 0.7375], \"gridcolor\": \"#E1E5ED\", \"showgrid\": false, \"tickfont\": {\"color\": \"#4D5663\"}, \"title\": {\"font\": {\"color\": \"#4D5663\"}, \"text\": \"\"}, \"zerolinecolor\": \"#E1E5ED\"}, \"xaxis16\": {\"anchor\": \"y16\", \"domain\": [0.7875, 1.0], \"gridcolor\": \"#E1E5ED\", \"showgrid\": false, \"tickfont\": {\"color\": \"#4D5663\"}, \"title\": {\"font\": {\"color\": \"#4D5663\"}, \"text\": \"\"}, \"zerolinecolor\": \"#E1E5ED\"}, \"xaxis2\": {\"anchor\": \"y2\", \"domain\": [0.2625, 0.475], \"gridcolor\": \"#E1E5ED\", \"showgrid\": false, \"tickfont\": {\"color\": \"#4D5663\"}, \"title\": {\"font\": {\"color\": \"#4D5663\"}, \"text\": \"\"}, \"zerolinecolor\": \"#E1E5ED\"}, \"xaxis3\": {\"anchor\": \"y3\", \"domain\": [0.525, 0.7375], \"gridcolor\": \"#E1E5ED\", \"showgrid\": false, \"tickfont\": {\"color\": \"#4D5663\"}, \"title\": {\"font\": {\"color\": \"#4D5663\"}, \"text\": \"\"}, \"zerolinecolor\": \"#E1E5ED\"}, \"xaxis4\": {\"anchor\": \"y4\", \"domain\": [0.7875, 1.0], \"gridcolor\": \"#E1E5ED\", \"showgrid\": false, \"tickfont\": {\"color\": \"#4D5663\"}, \"title\": {\"font\": {\"color\": \"#4D5663\"}, \"text\": \"\"}, \"zerolinecolor\": \"#E1E5ED\"}, \"xaxis5\": {\"anchor\": \"y5\", \"domain\": [0.0, 0.2125], \"gridcolor\": \"#E1E5ED\", \"showgrid\": false, \"tickfont\": {\"color\": \"#4D5663\"}, \"title\": {\"font\": {\"color\": \"#4D5663\"}, \"text\": \"\"}, \"zerolinecolor\": \"#E1E5ED\"}, \"xaxis6\": {\"anchor\": \"y6\", \"domain\": [0.2625, 0.475], \"gridcolor\": \"#E1E5ED\", \"showgrid\": false, \"tickfont\": {\"color\": \"#4D5663\"}, \"title\": {\"font\": {\"color\": \"#4D5663\"}, \"text\": \"\"}, \"zerolinecolor\": \"#E1E5ED\"}, \"xaxis7\": {\"anchor\": \"y7\", \"domain\": [0.525, 0.7375], \"gridcolor\": \"#E1E5ED\", \"showgrid\": false, \"tickfont\": {\"color\": \"#4D5663\"}, \"title\": {\"font\": {\"color\": \"#4D5663\"}, \"text\": \"\"}, \"zerolinecolor\": \"#E1E5ED\"}, \"xaxis8\": {\"anchor\": \"y8\", \"domain\": [0.7875, 1.0], \"gridcolor\": \"#E1E5ED\", \"showgrid\": false, \"tickfont\": {\"color\": \"#4D5663\"}, \"title\": {\"font\": {\"color\": \"#4D5663\"}, \"text\": \"\"}, \"zerolinecolor\": \"#E1E5ED\"}, \"xaxis9\": {\"anchor\": \"y9\", \"domain\": [0.0, 0.2125], \"gridcolor\": \"#E1E5ED\", \"showgrid\": false, \"tickfont\": {\"color\": \"#4D5663\"}, \"title\": {\"font\": {\"color\": \"#4D5663\"}, \"text\": \"\"}, \"zerolinecolor\": \"#E1E5ED\"}, \"yaxis\": {\"anchor\": \"x\", \"domain\": [0.8025, 1.0], \"gridcolor\": \"#E1E5ED\", \"showgrid\": false, \"tickfont\": {\"color\": \"#4D5663\"}, \"title\": {\"font\": {\"color\": \"#4D5663\"}, \"text\": \"\"}, \"zerolinecolor\": \"#E1E5ED\"}, \"yaxis10\": {\"anchor\": \"x10\", \"domain\": [0.2675, 0.465], \"gridcolor\": \"#E1E5ED\", \"showgrid\": false, \"tickfont\": {\"color\": \"#4D5663\"}, \"title\": {\"font\": {\"color\": \"#4D5663\"}, \"text\": \"\"}, \"zerolinecolor\": \"#E1E5ED\"}, \"yaxis11\": {\"anchor\": \"x11\", \"domain\": [0.2675, 0.465], \"gridcolor\": \"#E1E5ED\", \"showgrid\": false, \"tickfont\": {\"color\": \"#4D5663\"}, \"title\": {\"font\": {\"color\": \"#4D5663\"}, \"text\": \"\"}, \"zerolinecolor\": \"#E1E5ED\"}, \"yaxis12\": {\"anchor\": \"x12\", \"domain\": [0.2675, 0.465], \"gridcolor\": \"#E1E5ED\", \"showgrid\": false, \"tickfont\": {\"color\": \"#4D5663\"}, \"title\": {\"font\": {\"color\": \"#4D5663\"}, \"text\": \"\"}, \"zerolinecolor\": \"#E1E5ED\"}, \"yaxis13\": {\"anchor\": \"x13\", \"domain\": [0.0, 0.1975], \"gridcolor\": \"#E1E5ED\", \"showgrid\": false, \"tickfont\": {\"color\": \"#4D5663\"}, \"title\": {\"font\": {\"color\": \"#4D5663\"}, \"text\": \"\"}, \"zerolinecolor\": \"#E1E5ED\"}, \"yaxis14\": {\"anchor\": \"x14\", \"domain\": [0.0, 0.1975], \"gridcolor\": \"#E1E5ED\", \"showgrid\": false, \"tickfont\": {\"color\": \"#4D5663\"}, \"title\": {\"font\": {\"color\": \"#4D5663\"}, \"text\": \"\"}, \"zerolinecolor\": \"#E1E5ED\"}, \"yaxis15\": {\"anchor\": \"x15\", \"domain\": [0.0, 0.1975], \"gridcolor\": \"#E1E5ED\", \"showgrid\": false, \"tickfont\": {\"color\": \"#4D5663\"}, \"title\": {\"font\": {\"color\": \"#4D5663\"}, \"text\": \"\"}, \"zerolinecolor\": \"#E1E5ED\"}, \"yaxis16\": {\"anchor\": \"x16\", \"domain\": [0.0, 0.1975], \"gridcolor\": \"#E1E5ED\", \"showgrid\": false, \"tickfont\": {\"color\": \"#4D5663\"}, \"title\": {\"font\": {\"color\": \"#4D5663\"}, \"text\": \"\"}, \"zerolinecolor\": \"#E1E5ED\"}, \"yaxis2\": {\"anchor\": \"x2\", \"domain\": [0.8025, 1.0], \"gridcolor\": \"#E1E5ED\", \"showgrid\": false, \"tickfont\": {\"color\": \"#4D5663\"}, \"title\": {\"font\": {\"color\": \"#4D5663\"}, \"text\": \"\"}, \"zerolinecolor\": \"#E1E5ED\"}, \"yaxis3\": {\"anchor\": \"x3\", \"domain\": [0.8025, 1.0], \"gridcolor\": \"#E1E5ED\", \"showgrid\": false, \"tickfont\": {\"color\": \"#4D5663\"}, \"title\": {\"font\": {\"color\": \"#4D5663\"}, \"text\": \"\"}, \"zerolinecolor\": \"#E1E5ED\"}, \"yaxis4\": {\"anchor\": \"x4\", \"domain\": [0.8025, 1.0], \"gridcolor\": \"#E1E5ED\", \"showgrid\": false, \"tickfont\": {\"color\": \"#4D5663\"}, \"title\": {\"font\": {\"color\": \"#4D5663\"}, \"text\": \"\"}, \"zerolinecolor\": \"#E1E5ED\"}, \"yaxis5\": {\"anchor\": \"x5\", \"domain\": [0.535, 0.7325], \"gridcolor\": \"#E1E5ED\", \"showgrid\": false, \"tickfont\": {\"color\": \"#4D5663\"}, \"title\": {\"font\": {\"color\": \"#4D5663\"}, \"text\": \"\"}, \"zerolinecolor\": \"#E1E5ED\"}, \"yaxis6\": {\"anchor\": \"x6\", \"domain\": [0.535, 0.7325], \"gridcolor\": \"#E1E5ED\", \"showgrid\": false, \"tickfont\": {\"color\": \"#4D5663\"}, \"title\": {\"font\": {\"color\": \"#4D5663\"}, \"text\": \"\"}, \"zerolinecolor\": \"#E1E5ED\"}, \"yaxis7\": {\"anchor\": \"x7\", \"domain\": [0.535, 0.7325], \"gridcolor\": \"#E1E5ED\", \"showgrid\": false, \"tickfont\": {\"color\": \"#4D5663\"}, \"title\": {\"font\": {\"color\": \"#4D5663\"}, \"text\": \"\"}, \"zerolinecolor\": \"#E1E5ED\"}, \"yaxis8\": {\"anchor\": \"x8\", \"domain\": [0.535, 0.7325], \"gridcolor\": \"#E1E5ED\", \"showgrid\": false, \"tickfont\": {\"color\": \"#4D5663\"}, \"title\": {\"font\": {\"color\": \"#4D5663\"}, \"text\": \"\"}, \"zerolinecolor\": \"#E1E5ED\"}, \"yaxis9\": {\"anchor\": \"x9\", \"domain\": [0.2675, 0.465], \"gridcolor\": \"#E1E5ED\", \"showgrid\": false, \"tickfont\": {\"color\": \"#4D5663\"}, \"title\": {\"font\": {\"color\": \"#4D5663\"}, \"text\": \"\"}, \"zerolinecolor\": \"#E1E5ED\"}},\n",
       "                        {\"showLink\": true, \"linkText\": \"Export to plot.ly\", \"plotlyServerURL\": \"https://plot.ly\", \"responsive\": true}\n",
       "                    ).then(function(){\n",
       "                            \n",
       "var gd = document.getElementById('03b011dd-34bf-43a9-9b53-665e37a6c44f');\n",
       "var x = new MutationObserver(function (mutations, observer) {{\n",
       "        var display = window.getComputedStyle(gd).display;\n",
       "        if (!display || display === 'none') {{\n",
       "            console.log([gd, 'removed!']);\n",
       "            Plotly.purge(gd);\n",
       "            observer.disconnect();\n",
       "        }}\n",
       "}});\n",
       "\n",
       "// Listen for the removal of the full notebook cells\n",
       "var notebookContainer = gd.closest('#notebook-container');\n",
       "if (notebookContainer) {{\n",
       "    x.observe(notebookContainer, {childList: true});\n",
       "}}\n",
       "\n",
       "// Listen for the clearing of the current output cell\n",
       "var outputEl = gd.closest('.output');\n",
       "if (outputEl) {{\n",
       "    x.observe(outputEl, {childList: true});\n",
       "}}\n",
       "\n",
       "                        })\n",
       "                };\n",
       "                });\n",
       "            </script>\n",
       "        </div>"
      ]
     },
     "metadata": {},
     "output_type": "display_data"
    }
   ],
   "source": [
    "#Scatter matrix plots similar to Seaborn PairPlots\n",
    "#Columns must be numerical\n",
    "df.scatter_matrix()"
   ]
  },
  {
   "cell_type": "code",
   "execution_count": null,
   "metadata": {},
   "outputs": [],
   "source": []
  },
  {
   "cell_type": "code",
   "execution_count": null,
   "metadata": {},
   "outputs": [],
   "source": []
  },
  {
   "cell_type": "code",
   "execution_count": null,
   "metadata": {},
   "outputs": [],
   "source": []
  }
 ],
 "metadata": {
  "kernelspec": {
   "display_name": "Python 3",
   "language": "python",
   "name": "python3"
  },
  "language_info": {
   "codemirror_mode": {
    "name": "ipython",
    "version": 3
   },
   "file_extension": ".py",
   "mimetype": "text/x-python",
   "name": "python",
   "nbconvert_exporter": "python",
   "pygments_lexer": "ipython3",
   "version": "3.7.4"
  }
 },
 "nbformat": 4,
 "nbformat_minor": 2
}
